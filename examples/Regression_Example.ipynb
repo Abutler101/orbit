{
 "cells": [
  {
   "cell_type": "markdown",
   "metadata": {},
   "source": [
    "# Regressorion with Orbit"
   ]
  },
  {
   "cell_type": "markdown",
   "metadata": {},
   "source": [
    "In this demo, we want to demonstartate how to use the different arguments in the model classes (LGT or DLT) to realize different setups for the regressors. Those could be very useful in practice when tuning the models."
   ]
  },
  {
   "cell_type": "code",
   "execution_count": 2,
   "metadata": {
    "ExecuteTime": {
     "end_time": "2020-02-26T06:36:53.430179Z",
     "start_time": "2020-02-26T06:36:51.529046Z"
    }
   },
   "outputs": [],
   "source": [
    "import pandas as pd\n",
    "import numpy as np\n",
    "from orbit.lgt import LGT\n",
    "from orbit.utils.plot import plot_predicted_data\n",
    "from orbit.utils.plot import plot_predicted_components"
   ]
  },
  {
   "cell_type": "code",
   "execution_count": 3,
   "metadata": {},
   "outputs": [
    {
     "name": "stdout",
     "output_type": "stream",
     "text": [
      "1.18.2\n"
     ]
    }
   ],
   "source": [
    "print(np.__version__)"
   ]
  },
  {
   "cell_type": "markdown",
   "metadata": {},
   "source": [
    "## Simulate Regressions"
   ]
  },
  {
   "cell_type": "code",
   "execution_count": 20,
   "metadata": {},
   "outputs": [],
   "source": [
    "SERIES_LEN = 300\n",
    "CYCLE_LEN = 52"
   ]
  },
  {
   "cell_type": "code",
   "execution_count": 21,
   "metadata": {},
   "outputs": [],
   "source": [
    "COEFS_MU, COEFS_SIGMA = 0.01, 0.03\n",
    "NUM_COEFS = 10"
   ]
  },
  {
   "cell_type": "code",
   "execution_count": 22,
   "metadata": {},
   "outputs": [],
   "source": [
    "COEFS = np.random.default_rng().normal(COEFS_MU, COEFS_MU, NUM_COEFS)"
   ]
  },
  {
   "cell_type": "code",
   "execution_count": 29,
   "metadata": {},
   "outputs": [],
   "source": [
    "OBBS_REG_PROB = .5\n",
    "OBS_REG_LOG_LOC = np.log(100)\n",
    "OBS_REG_LOG_SCALE = np.log(10)\n",
    "OBS_LOG_SCALE = np.log(100)"
   ]
  },
  {
   "cell_type": "code",
   "execution_count": 34,
   "metadata": {},
   "outputs": [],
   "source": [
    "X = np.exp(np.random.default_rng().normal(\n",
    "    OBS_REG_LOG_LOC, OBS_REG_LOG_SCALE, SERIES_LEN * NUM_COEFS)).reshape(SERIES_LEN, -1)\n",
    "Z = np.random.default_rng().binomial(1, 0.5, SERIES_LEN * NUM_COEFS).reshape(SERIES_LEN, -1)\n",
    "X = X * Z\n",
    "NOISE =  np.random.default_rng().normal(0, OBS_LOG_SCALE, SERIES_LEN)\n",
    "Y = np.matmul(X, COEFS) + NOISE"
   ]
  },
  {
   "cell_type": "code",
   "execution_count": 41,
   "metadata": {},
   "outputs": [
    {
     "name": "stdout",
     "output_type": "stream",
     "text": [
      "(300, 10) (10,) (300,) (300,)\n"
     ]
    }
   ],
   "source": [
    "print(X.shape, COEFS.shape, NOISE.shape, Y.shape) "
   ]
  },
  {
   "cell_type": "markdown",
   "metadata": {},
   "source": [
    "## Simulate Random Walk"
   ]
  },
  {
   "cell_type": "code",
   "execution_count": null,
   "metadata": {},
   "outputs": [],
   "source": []
  },
  {
   "cell_type": "markdown",
   "metadata": {},
   "source": [
    "## load data"
   ]
  },
  {
   "cell_type": "code",
   "execution_count": 5,
   "metadata": {},
   "outputs": [],
   "source": [
    "x = simulate_seasonal_term(periodicity=52, total_cycles=3, noise_std=.1)"
   ]
  },
  {
   "cell_type": "code",
   "execution_count": 6,
   "metadata": {},
   "outputs": [
    {
     "data": {
      "text/plain": [
       "array([ -53.10050505,   70.7361681 ,    7.62218668,   80.02691934,\n",
       "         -1.81383886,   44.9931839 ,   49.6354467 ,   62.20835997,\n",
       "        -34.04515083,   78.40813572,  -73.58858178,  -63.60792255,\n",
       "         62.48874301,  -27.03546529,  -13.56171563,   33.85175525,\n",
       "        -40.02128493,   31.8835865 ,  -33.50208007,  -37.76527625,\n",
       "         15.25614042,  114.43526237,  -38.82027586,  -91.83970707,\n",
       "         77.52998744,   20.45353617,   58.14408148,   50.5528106 ,\n",
       "        -31.21139065,    9.58691162,   35.4563511 ,   38.32069734,\n",
       "         38.89042428,  -42.36190623,  -31.52009024,   -8.81342001,\n",
       "        -29.5024374 ,    6.09869338,  -34.75919007,   -1.97169924,\n",
       "        -52.32229734,    5.31323622,  -37.02783143,   21.19296602,\n",
       "        -37.29383493,   66.0971052 ,   75.07076214,   12.84289229,\n",
       "         46.09243304, -180.13246653, -172.06303607,  -42.94273364,\n",
       "        -47.32622845,   73.17509569,    7.51016724,   76.75832875,\n",
       "          1.17580032,   52.09741581,   43.6349905 ,   63.98079552,\n",
       "        -40.4252245 ,   79.0645877 ,  -71.11884793,  -66.93737513,\n",
       "         53.88911523,  -20.41176378,  -17.16443503,   33.32149768,\n",
       "        -39.4285495 ,   35.69671348,  -33.09625811,  -38.23770303,\n",
       "         14.61472947,  118.00707421,  -44.15684175,  -91.00990254,\n",
       "         75.43079944,   23.37728309,   55.92506677,   47.92909128,\n",
       "        -32.95054656,    5.75558435,   44.0013911 ,   43.43867318,\n",
       "         35.66913052,  -37.35173235,  -38.24027366,   -3.94667242,\n",
       "        -30.96707484,    7.03409615,  -36.70502774,   -5.78167077,\n",
       "        -52.73783025,   11.86439341,  -40.1420623 ,   21.52392647,\n",
       "        -31.61546558,   71.88153031,   75.2176962 ,   15.64927381,\n",
       "         42.02066336, -178.10620109, -172.71558912,  -44.61081495,\n",
       "        -53.63282839,   70.51885282,    5.03983257,   72.52792094,\n",
       "          1.51728356,   55.26594792,   43.85399872,   62.04185204,\n",
       "        -43.2375219 ,   79.89832533,  -68.9802951 ,  -64.34845188,\n",
       "         51.70278074,  -19.9656166 ,  -14.86769848,   33.31829796,\n",
       "        -38.76241403,   32.46660592,  -38.28710522,  -38.20340514,\n",
       "         18.75522856,  112.79747154,  -43.47275812,  -96.69903767,\n",
       "         71.55572719,   21.1181577 ,   55.89569295,   38.27005227,\n",
       "        -26.75341166,    9.45575476,   45.05948493,   45.83988791,\n",
       "         46.15720814,  -40.79855154,  -36.81294209,   -3.4223146 ,\n",
       "        -29.47466235,    4.11462423,  -36.02235703,   -5.39752489,\n",
       "        -52.54384444,   15.01335577,  -34.29039068,   13.81684204,\n",
       "        -31.9890401 ,   76.18673607,   71.092408  ,   12.13187286,\n",
       "         46.29134078, -173.61174357, -170.07562839,  -47.61239398])"
      ]
     },
     "execution_count": 6,
     "metadata": {},
     "output_type": "execute_result"
    }
   ],
   "source": []
  },
  {
   "cell_type": "code",
   "execution_count": 2,
   "metadata": {
    "ExecuteTime": {
     "end_time": "2020-02-26T06:36:53.434780Z",
     "start_time": "2020-02-26T06:36:53.432412Z"
    }
   },
   "outputs": [
    {
     "data": {
      "text/plain": [
       "week              datetime64[ns]\n",
       "claims                     int64\n",
       "trend.unemploy           float64\n",
       "trend.filling            float64\n",
       "trend.job                float64\n",
       "dtype: object"
      ]
     },
     "execution_count": 2,
     "metadata": {},
     "output_type": "execute_result"
    }
   ],
   "source": [
    "DATA_FILE = \"./data/iclaims.example.csv\"\n",
    "\n",
    "raw_df = pd.read_csv(DATA_FILE, parse_dates=['week'])\n",
    "\n",
    "raw_df.dtypes"
   ]
  },
  {
   "cell_type": "code",
   "execution_count": 3,
   "metadata": {
    "ExecuteTime": {
     "end_time": "2020-02-26T06:36:53.483821Z",
     "start_time": "2020-02-26T06:36:53.466079Z"
    }
   },
   "outputs": [
    {
     "data": {
      "text/html": [
       "<div>\n",
       "<style scoped>\n",
       "    .dataframe tbody tr th:only-of-type {\n",
       "        vertical-align: middle;\n",
       "    }\n",
       "\n",
       "    .dataframe tbody tr th {\n",
       "        vertical-align: top;\n",
       "    }\n",
       "\n",
       "    .dataframe thead th {\n",
       "        text-align: right;\n",
       "    }\n",
       "</style>\n",
       "<table border=\"1\" class=\"dataframe\">\n",
       "  <thead>\n",
       "    <tr style=\"text-align: right;\">\n",
       "      <th></th>\n",
       "      <th>week</th>\n",
       "      <th>claims</th>\n",
       "      <th>trend.unemploy</th>\n",
       "      <th>trend.filling</th>\n",
       "      <th>trend.job</th>\n",
       "    </tr>\n",
       "  </thead>\n",
       "  <tbody>\n",
       "    <tr>\n",
       "      <th>0</th>\n",
       "      <td>2010-01-03</td>\n",
       "      <td>651215</td>\n",
       "      <td>1.183973</td>\n",
       "      <td>0.720140</td>\n",
       "      <td>1.119669</td>\n",
       "    </tr>\n",
       "    <tr>\n",
       "      <th>1</th>\n",
       "      <td>2010-01-10</td>\n",
       "      <td>825891</td>\n",
       "      <td>1.183973</td>\n",
       "      <td>0.814896</td>\n",
       "      <td>1.178599</td>\n",
       "    </tr>\n",
       "    <tr>\n",
       "      <th>2</th>\n",
       "      <td>2010-01-17</td>\n",
       "      <td>659173</td>\n",
       "      <td>1.203382</td>\n",
       "      <td>0.739091</td>\n",
       "      <td>1.119669</td>\n",
       "    </tr>\n",
       "    <tr>\n",
       "      <th>3</th>\n",
       "      <td>2010-01-24</td>\n",
       "      <td>507651</td>\n",
       "      <td>1.164564</td>\n",
       "      <td>0.814896</td>\n",
       "      <td>1.107883</td>\n",
       "    </tr>\n",
       "    <tr>\n",
       "      <th>4</th>\n",
       "      <td>2010-01-31</td>\n",
       "      <td>538617</td>\n",
       "      <td>1.086926</td>\n",
       "      <td>0.776993</td>\n",
       "      <td>1.072525</td>\n",
       "    </tr>\n",
       "  </tbody>\n",
       "</table>\n",
       "</div>"
      ],
      "text/plain": [
       "        week  claims  trend.unemploy  trend.filling  trend.job\n",
       "0 2010-01-03  651215        1.183973       0.720140   1.119669\n",
       "1 2010-01-10  825891        1.183973       0.814896   1.178599\n",
       "2 2010-01-17  659173        1.203382       0.739091   1.119669\n",
       "3 2010-01-24  507651        1.164564       0.814896   1.107883\n",
       "4 2010-01-31  538617        1.086926       0.776993   1.072525"
      ]
     },
     "execution_count": 3,
     "metadata": {},
     "output_type": "execute_result"
    }
   ],
   "source": [
    "raw_df.head(5)"
   ]
  },
  {
   "cell_type": "code",
   "execution_count": 4,
   "metadata": {
    "ExecuteTime": {
     "end_time": "2020-02-26T06:36:53.490218Z",
     "start_time": "2020-02-26T06:36:53.486020Z"
    }
   },
   "outputs": [],
   "source": [
    "df=raw_df.copy()\n",
    "test_size=52\n",
    "train_df=df[:-test_size]\n",
    "test_df=df[-test_size:]"
   ]
  },
  {
   "cell_type": "markdown",
   "metadata": {},
   "source": [
    "## Use regressors and specify their signs"
   ]
  },
  {
   "cell_type": "markdown",
   "metadata": {},
   "source": [
    "The regressor columns can be supplied via argument `regressor_col`. Their signs can be specified via `regressor_sign`, with values either '=' (regular, no restriction) or '+' (positive). These two lists should be of the same lenght. The default values of `regressor_sign` is all '='."
   ]
  },
  {
   "cell_type": "code",
   "execution_count": 5,
   "metadata": {},
   "outputs": [],
   "source": [
    "DATE_COL=\"week\"\n",
    "RESPONSE_COL=\"claims\"\n",
    "REGRESSOR_COL=['trend.unemploy', 'trend.filling', 'trend.job']"
   ]
  },
  {
   "cell_type": "code",
   "execution_count": 6,
   "metadata": {},
   "outputs": [],
   "source": [
    "lgt_map=LGT(\n",
    "    response_col=RESPONSE_COL,\n",
    "    date_col=DATE_COL,\n",
    "    regressor_col=REGRESSOR_COL,\n",
    "    regressor_sign=[\"+\", '+', '='], \n",
    "    seasonality=52,\n",
    "    seed=1,\n",
    "    predict_method='map',\n",
    "    sample_method='map',\n",
    "    is_multiplicative=True,\n",
    "    auto_scale=False\n",
    ")"
   ]
  },
  {
   "cell_type": "code",
   "execution_count": 7,
   "metadata": {
    "ExecuteTime": {
     "end_time": "2020-02-26T06:36:53.916107Z",
     "start_time": "2020-02-26T06:36:53.520942Z"
    }
   },
   "outputs": [],
   "source": [
    "lgt_map.fit(df=train_df)\n",
    "_ = lgt_map.predict(df=test_df)"
   ]
  },
  {
   "cell_type": "markdown",
   "metadata": {},
   "source": [
    "The estimated regressor coefficients can be retrieved via `.aggregated_posteriors`."
   ]
  },
  {
   "cell_type": "code",
   "execution_count": 12,
   "metadata": {},
   "outputs": [
    {
     "data": {
      "text/html": [
       "<div>\n",
       "<style scoped>\n",
       "    .dataframe tbody tr th:only-of-type {\n",
       "        vertical-align: middle;\n",
       "    }\n",
       "\n",
       "    .dataframe tbody tr th {\n",
       "        vertical-align: top;\n",
       "    }\n",
       "\n",
       "    .dataframe thead th {\n",
       "        text-align: right;\n",
       "    }\n",
       "</style>\n",
       "<table border=\"1\" class=\"dataframe\">\n",
       "  <thead>\n",
       "    <tr style=\"text-align: right;\">\n",
       "      <th></th>\n",
       "      <th>regressor</th>\n",
       "      <th>regressor_sign</th>\n",
       "      <th>coefficient</th>\n",
       "    </tr>\n",
       "  </thead>\n",
       "  <tbody>\n",
       "    <tr>\n",
       "      <th>0</th>\n",
       "      <td>trend.unemploy</td>\n",
       "      <td>Positive</td>\n",
       "      <td>0.041533</td>\n",
       "    </tr>\n",
       "    <tr>\n",
       "      <th>1</th>\n",
       "      <td>trend.filling</td>\n",
       "      <td>Positive</td>\n",
       "      <td>0.000011</td>\n",
       "    </tr>\n",
       "    <tr>\n",
       "      <th>2</th>\n",
       "      <td>trend.job</td>\n",
       "      <td>Regular</td>\n",
       "      <td>-0.070758</td>\n",
       "    </tr>\n",
       "  </tbody>\n",
       "</table>\n",
       "</div>"
      ],
      "text/plain": [
       "        regressor regressor_sign  coefficient\n",
       "0  trend.unemploy       Positive     0.041533\n",
       "1   trend.filling       Positive     0.000011\n",
       "2       trend.job        Regular    -0.070758"
      ]
     },
     "execution_count": 12,
     "metadata": {},
     "output_type": "execute_result"
    }
   ],
   "source": [
    "lgt_map.get_regression_coefs(aggregation_method='map')"
   ]
  },
  {
   "cell_type": "code",
   "execution_count": null,
   "metadata": {},
   "outputs": [],
   "source": []
  },
  {
   "cell_type": "markdown",
   "metadata": {},
   "source": [
    "## Adjust pirors for regressor beta and regressor standard deviation"
   ]
  },
  {
   "cell_type": "markdown",
   "metadata": {},
   "source": [
    "In the model, it is assumed $$\\beta \\sim Gaussian(\\beta_{prior}, \\sigma_{prior})$$\n",
    "\n",
    "The default values for $\\beta_{prior}$ and $\\sigma_{prior}$ are 0 and 1, respectively.\n",
    "\n",
    "Users could adjust them via arguments `regressor_beta_prior` and `regressor_sigma_prior`. These two lists should be of the same lenght as `regressor_col`."
   ]
  },
  {
   "cell_type": "code",
   "execution_count": 11,
   "metadata": {},
   "outputs": [],
   "source": [
    "lgt_map=LGT(\n",
    "    response_col=RESPONSE_COL,\n",
    "    date_col=DATE_COL,\n",
    "    regressor_col=REGRESSOR_COL,\n",
    "    regressor_sign=[\"+\", '+', '='], \n",
    "    regressor_beta_prior=[0.05, 0.05, 0],\n",
    "    regressor_sigma_prior=[0.1, 0.1, 0.1],\n",
    "    seasonality=52,\n",
    "    seed=1,\n",
    "    predict_method='map',\n",
    "    is_multiplicative=True\n",
    ")"
   ]
  },
  {
   "cell_type": "code",
   "execution_count": 12,
   "metadata": {},
   "outputs": [],
   "source": [
    "lgt_map.fit(df=train_df)\n",
    "_ = lgt_map.predict(df=test_df)"
   ]
  },
  {
   "cell_type": "markdown",
   "metadata": {},
   "source": [
    "One can notice the significant changes in the estimted coefficients by using different priors."
   ]
  },
  {
   "cell_type": "code",
   "execution_count": 13,
   "metadata": {},
   "outputs": [
    {
     "data": {
      "text/plain": [
       "array([[0.04529929, 0.06795404]])"
      ]
     },
     "execution_count": 13,
     "metadata": {},
     "output_type": "execute_result"
    }
   ],
   "source": [
    "lgt_map.aggregated_posteriors['map']['pr_beta']"
   ]
  },
  {
   "cell_type": "code",
   "execution_count": 14,
   "metadata": {},
   "outputs": [
    {
     "data": {
      "text/plain": [
       "array([-0.03710713])"
      ]
     },
     "execution_count": 14,
     "metadata": {},
     "output_type": "execute_result"
    }
   ],
   "source": [
    "lgt_map.aggregated_posteriors['map']['rr_beta']"
   ]
  },
  {
   "cell_type": "markdown",
   "metadata": {},
   "source": [
    "## Use Cauchy prior on regressor standard deviation instead of fixed"
   ]
  },
  {
   "cell_type": "markdown",
   "metadata": {},
   "source": [
    "Instead of using fixed standard deviations for regressors, a hyperprior can be assigned to them, i.e.\n",
    "$$\\sigma_\\beta \\sim \\text{Half-Cauchy}(\\sigma_{\\beta_{prior}}, \\sigma_{sd})$$\n",
    "\n",
    "This can be done by setting `fix_regression_coef_sd = 0`, and $\\sigma_{sd}$ can be changed via `regressor_sigma_sd`."
   ]
  },
  {
   "cell_type": "code",
   "execution_count": 15,
   "metadata": {},
   "outputs": [],
   "source": [
    "lgt_map=LGT(\n",
    "    response_col=RESPONSE_COL,\n",
    "    date_col=DATE_COL,\n",
    "    regressor_col=REGRESSOR_COL,\n",
    "    regressor_sign=[\"+\", '+', '='],\n",
    "    fix_regression_coef_sd=0,\n",
    "    regressor_sigma_sd=0.5,\n",
    "    seasonality=52,\n",
    "    seed=1,\n",
    "    predict_method='map',\n",
    "    is_multiplicative=True\n",
    ")"
   ]
  },
  {
   "cell_type": "code",
   "execution_count": 16,
   "metadata": {},
   "outputs": [],
   "source": [
    "lgt_map.fit(df=train_df)\n",
    "_ = lgt_map.predict(df=test_df)"
   ]
  },
  {
   "cell_type": "code",
   "execution_count": 17,
   "metadata": {},
   "outputs": [
    {
     "data": {
      "text/plain": [
       "array([[4.14571092e-02, 1.00000000e-15]])"
      ]
     },
     "execution_count": 17,
     "metadata": {},
     "output_type": "execute_result"
    }
   ],
   "source": [
    "lgt_map.aggregated_posteriors['map']['pr_beta']"
   ]
  },
  {
   "cell_type": "code",
   "execution_count": 18,
   "metadata": {},
   "outputs": [
    {
     "data": {
      "text/plain": [
       "array([-0.07121057])"
      ]
     },
     "execution_count": 18,
     "metadata": {},
     "output_type": "execute_result"
    }
   ],
   "source": [
    "lgt_map.aggregated_posteriors['map']['rr_beta']"
   ]
  },
  {
   "cell_type": "code",
   "execution_count": null,
   "metadata": {},
   "outputs": [],
   "source": []
  },
  {
   "cell_type": "markdown",
   "metadata": {},
   "source": [
    "## Set max value threshold for regressor coef"
   ]
  },
  {
   "cell_type": "markdown",
   "metadata": {},
   "source": [
    "In some cases, the users may want to tune the maximum threshold on the regressor coefficients. This can be done by using `regression_coef_max`, whose default value is 1."
   ]
  },
  {
   "cell_type": "code",
   "execution_count": 19,
   "metadata": {},
   "outputs": [],
   "source": [
    "lgt_map=LGT(\n",
    "    response_col=RESPONSE_COL,\n",
    "    date_col=DATE_COL,\n",
    "    regressor_col=REGRESSOR_COL,\n",
    "    regressor_sign=[\"+\", '+', '='],\n",
    "    regression_coef_max=0.03,\n",
    "    seasonality=52,\n",
    "    seed=1,\n",
    "    predict_method='map',\n",
    "    is_multiplicative=True\n",
    ")\n",
    "\n",
    "\n",
    "lgt_map.fit(df=train_df)\n",
    "_ = lgt_map.predict(df=test_df)"
   ]
  },
  {
   "cell_type": "markdown",
   "metadata": {},
   "source": [
    "One can notice the impacts on the estimated coefficients."
   ]
  },
  {
   "cell_type": "code",
   "execution_count": 20,
   "metadata": {},
   "outputs": [
    {
     "data": {
      "text/plain": [
       "array([[0.02995537, 0.02953037]])"
      ]
     },
     "execution_count": 20,
     "metadata": {},
     "output_type": "execute_result"
    }
   ],
   "source": [
    "lgt_map.aggregated_posteriors['map']['pr_beta']"
   ]
  },
  {
   "cell_type": "code",
   "execution_count": 21,
   "metadata": {},
   "outputs": [
    {
     "data": {
      "text/plain": [
       "array([-0.02876044])"
      ]
     },
     "execution_count": 21,
     "metadata": {},
     "output_type": "execute_result"
    }
   ],
   "source": [
    "lgt_map.aggregated_posteriors['map']['rr_beta']"
   ]
  },
  {
   "cell_type": "code",
   "execution_count": null,
   "metadata": {},
   "outputs": [],
   "source": []
  }
 ],
 "metadata": {
  "kernelspec": {
   "display_name": "orbit",
   "language": "python",
   "name": "orbit"
  },
  "language_info": {
   "codemirror_mode": {
    "name": "ipython",
    "version": 3
   },
   "file_extension": ".py",
   "mimetype": "text/x-python",
   "name": "python",
   "nbconvert_exporter": "python",
   "pygments_lexer": "ipython3",
   "version": "3.6.8"
  },
  "toc": {
   "base_numbering": 1,
   "nav_menu": {},
   "number_sections": true,
   "sideBar": true,
   "skip_h1_title": true,
   "title_cell": "Table of Contents",
   "title_sidebar": "Contents",
   "toc_cell": false,
   "toc_position": {},
   "toc_section_display": true,
   "toc_window_display": true
  }
 },
 "nbformat": 4,
 "nbformat_minor": 4
}
