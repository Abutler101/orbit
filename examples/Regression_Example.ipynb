{
 "cells": [
  {
   "cell_type": "markdown",
   "metadata": {},
   "source": [
    "# Regressorion with Orbit"
   ]
  },
  {
   "cell_type": "markdown",
   "metadata": {},
   "source": [
    "In this demo, we want to demonstartate how to use the different arguments in the model classes (LGT or DLT) to realize different setups for the regressors. Those could be very useful in practice when tuning the models."
   ]
  },
  {
   "cell_type": "code",
   "execution_count": 1,
   "metadata": {
    "ExecuteTime": {
     "end_time": "2020-02-26T06:36:53.430179Z",
     "start_time": "2020-02-26T06:36:51.529046Z"
    }
   },
   "outputs": [],
   "source": [
    "import pandas as pd\n",
    "import numpy as np\n",
    "\n",
    "# from statsmodels.tsa.arima_process import ArmaProcess\n",
    "import statsmodels.api as sm\n",
    "import matplotlib.pyplot as plt\n",
    "%matplotlib inline\n",
    "\n",
    "from orbit.dlt import DLT\n",
    "from orbit.lgt import LGT\n",
    "\n",
    "from orbit.utils.plot import plot_posterior_params\n",
    "from orbit.constants.palette import QualitativePalette\n",
    "from orbit.utils.simulation import make_ts_multiplicative_regression"
   ]
  },
  {
   "cell_type": "code",
   "execution_count": 2,
   "metadata": {},
   "outputs": [
    {
     "name": "stdout",
     "output_type": "stream",
     "text": [
      "1.18.2\n"
     ]
    }
   ],
   "source": [
    "print(np.__version__)"
   ]
  },
  {
   "cell_type": "markdown",
   "metadata": {},
   "source": [
    "## Simulation of Regression with Trend"
   ]
  },
  {
   "cell_type": "code",
   "execution_count": 3,
   "metadata": {},
   "outputs": [],
   "source": [
    "# To scale regressor values in a nicer way\n",
    "REG_BASE = 1000\n",
    "NUM_OF_REGRESSORS = 10\n",
    "SEED = 2020"
   ]
  },
  {
   "cell_type": "code",
   "execution_count": 4,
   "metadata": {},
   "outputs": [],
   "source": [
    "raw_df, coefs, trend, seas = make_ts_multiplicative_regression(\n",
    "    series_len=200, seasonality=52, num_of_regressors=NUM_OF_REGRESSORS, coef_mean=.1, coef_sd=.1,\n",
    "    regressor_log_loc=0.0, regressor_log_scale=0.2, noise_to_signal_ratio=2.0,\n",
    "    regression_prob=0.5, obs_val_base=1000, regresspr_val_base=REG_BASE, trend_type='rw',\n",
    "    seas_scale=.1, response_col='response', seed=SEED\n",
    ")"
   ]
  },
  {
   "cell_type": "code",
   "execution_count": 5,
   "metadata": {},
   "outputs": [
    {
     "data": {
      "text/html": [
       "<div>\n",
       "<style scoped>\n",
       "    .dataframe tbody tr th:only-of-type {\n",
       "        vertical-align: middle;\n",
       "    }\n",
       "\n",
       "    .dataframe tbody tr th {\n",
       "        vertical-align: top;\n",
       "    }\n",
       "\n",
       "    .dataframe thead th {\n",
       "        text-align: right;\n",
       "    }\n",
       "</style>\n",
       "<table border=\"1\" class=\"dataframe\">\n",
       "  <thead>\n",
       "    <tr style=\"text-align: right;\">\n",
       "      <th></th>\n",
       "      <th>response</th>\n",
       "      <th>regressor_1</th>\n",
       "      <th>regressor_2</th>\n",
       "      <th>regressor_3</th>\n",
       "      <th>regressor_4</th>\n",
       "      <th>regressor_5</th>\n",
       "      <th>regressor_6</th>\n",
       "      <th>regressor_7</th>\n",
       "      <th>regressor_8</th>\n",
       "      <th>regressor_9</th>\n",
       "      <th>regressor_10</th>\n",
       "      <th>date</th>\n",
       "    </tr>\n",
       "  </thead>\n",
       "  <tbody>\n",
       "    <tr>\n",
       "      <th>0</th>\n",
       "      <td>3189.0</td>\n",
       "      <td>0.0</td>\n",
       "      <td>1842.0</td>\n",
       "      <td>2548.0</td>\n",
       "      <td>1047.0</td>\n",
       "      <td>0.0</td>\n",
       "      <td>1755.0</td>\n",
       "      <td>1858.0</td>\n",
       "      <td>1871.0</td>\n",
       "      <td>912.0</td>\n",
       "      <td>0.0</td>\n",
       "      <td>2016-01-04</td>\n",
       "    </tr>\n",
       "    <tr>\n",
       "      <th>1</th>\n",
       "      <td>3709.0</td>\n",
       "      <td>1429.0</td>\n",
       "      <td>2055.0</td>\n",
       "      <td>1936.0</td>\n",
       "      <td>1974.0</td>\n",
       "      <td>1765.0</td>\n",
       "      <td>0.0</td>\n",
       "      <td>1272.0</td>\n",
       "      <td>1469.0</td>\n",
       "      <td>0.0</td>\n",
       "      <td>3932.0</td>\n",
       "      <td>2016-02-25</td>\n",
       "    </tr>\n",
       "    <tr>\n",
       "      <th>2</th>\n",
       "      <td>2935.0</td>\n",
       "      <td>2447.0</td>\n",
       "      <td>0.0</td>\n",
       "      <td>819.0</td>\n",
       "      <td>1753.0</td>\n",
       "      <td>2383.0</td>\n",
       "      <td>0.0</td>\n",
       "      <td>0.0</td>\n",
       "      <td>1685.0</td>\n",
       "      <td>1146.0</td>\n",
       "      <td>0.0</td>\n",
       "      <td>2016-04-17</td>\n",
       "    </tr>\n",
       "    <tr>\n",
       "      <th>3</th>\n",
       "      <td>896.0</td>\n",
       "      <td>1315.0</td>\n",
       "      <td>1771.0</td>\n",
       "      <td>0.0</td>\n",
       "      <td>0.0</td>\n",
       "      <td>0.0</td>\n",
       "      <td>0.0</td>\n",
       "      <td>0.0</td>\n",
       "      <td>0.0</td>\n",
       "      <td>1612.0</td>\n",
       "      <td>0.0</td>\n",
       "      <td>2016-06-08</td>\n",
       "    </tr>\n",
       "    <tr>\n",
       "      <th>4</th>\n",
       "      <td>2634.0</td>\n",
       "      <td>0.0</td>\n",
       "      <td>1352.0</td>\n",
       "      <td>2183.0</td>\n",
       "      <td>1198.0</td>\n",
       "      <td>1432.0</td>\n",
       "      <td>1030.0</td>\n",
       "      <td>1262.0</td>\n",
       "      <td>1887.0</td>\n",
       "      <td>0.0</td>\n",
       "      <td>2649.0</td>\n",
       "      <td>2016-07-30</td>\n",
       "    </tr>\n",
       "  </tbody>\n",
       "</table>\n",
       "</div>"
      ],
      "text/plain": [
       "   response  regressor_1  regressor_2  regressor_3  regressor_4  regressor_5  \\\n",
       "0    3189.0          0.0       1842.0       2548.0       1047.0          0.0   \n",
       "1    3709.0       1429.0       2055.0       1936.0       1974.0       1765.0   \n",
       "2    2935.0       2447.0          0.0        819.0       1753.0       2383.0   \n",
       "3     896.0       1315.0       1771.0          0.0          0.0          0.0   \n",
       "4    2634.0          0.0       1352.0       2183.0       1198.0       1432.0   \n",
       "\n",
       "   regressor_6  regressor_7  regressor_8  regressor_9  regressor_10       date  \n",
       "0       1755.0       1858.0       1871.0        912.0           0.0 2016-01-04  \n",
       "1          0.0       1272.0       1469.0          0.0        3932.0 2016-02-25  \n",
       "2          0.0          0.0       1685.0       1146.0           0.0 2016-04-17  \n",
       "3          0.0          0.0          0.0       1612.0           0.0 2016-06-08  \n",
       "4       1030.0       1262.0       1887.0          0.0        2649.0 2016-07-30  "
      ]
     },
     "execution_count": 5,
     "metadata": {},
     "output_type": "execute_result"
    }
   ],
   "source": [
    "raw_df.head(5)"
   ]
  },
  {
   "cell_type": "code",
   "execution_count": 6,
   "metadata": {},
   "outputs": [
    {
     "name": "stdout",
     "output_type": "stream",
     "text": [
      "[ 0.22602066  0.12231785  0.23325487 -0.04182046  0.0727203   0.1066778\n",
      "  0.12510171  0.12726848 -0.07605049  0.20879701]\n"
     ]
    }
   ],
   "source": [
    "print(coefs)"
   ]
  },
  {
   "cell_type": "code",
   "execution_count": 7,
   "metadata": {},
   "outputs": [
    {
     "data": {
      "text/plain": [
       "[<matplotlib.lines.Line2D at 0x141381f98>]"
      ]
     },
     "execution_count": 7,
     "metadata": {},
     "output_type": "execute_result"
    },
    {
     "data": {
      "image/png": "[encoded data removed]",
      "text/plain": [
       "<Figure size 432x288 with 1 Axes>"
      ]
     },
     "metadata": {
      "needs_background": "light"
     },
     "output_type": "display_data"
    }
   ],
   "source": [
    "plt.plot(trend)"
   ]
  },
  {
   "cell_type": "code",
   "execution_count": 8,
   "metadata": {},
   "outputs": [
    {
     "data": {
      "text/plain": [
       "[<matplotlib.lines.Line2D at 0x14147ee80>]"
      ]
     },
     "execution_count": 8,
     "metadata": {},
     "output_type": "execute_result"
    },
    {
     "data": {
      "image/png": "[encoded data removed]",
      "text/plain": [
       "<Figure size 432x288 with 1 Axes>"
      ]
     },
     "metadata": {
      "needs_background": "light"
     },
     "output_type": "display_data"
    }
   ],
   "source": [
    "plt.plot(seas)"
   ]
  },
  {
   "cell_type": "code",
   "execution_count": 9,
   "metadata": {},
   "outputs": [
    {
     "data": {
      "text/plain": [
       "[<matplotlib.lines.Line2D at 0x1415935f8>]"
      ]
     },
     "execution_count": 9,
     "metadata": {},
     "output_type": "execute_result"
    },
    {
     "data": {
      "image/png": "[encoded data removed]",
      "text/plain": [
       "<Figure size 432x288 with 1 Axes>"
      ]
     },
     "metadata": {
      "needs_background": "light"
     },
     "output_type": "display_data"
    }
   ],
   "source": [
    "plt.plot(raw_df['response'])"
   ]
  },
  {
   "cell_type": "markdown",
   "metadata": {},
   "source": [
    "## Estimating Coefficients I - full relevance"
   ]
  },
  {
   "cell_type": "markdown",
   "metadata": {},
   "source": [
    "Assume we observe the data frame `df` and the scaler `REG_BASE`"
   ]
  },
  {
   "cell_type": "code",
   "execution_count": 10,
   "metadata": {},
   "outputs": [],
   "source": [
    "df = raw_df.copy()\n",
    "regressor_cols = [f\"regressor_{x}\" for x in range(1, NUM_OF_REGRESSORS + 1)]\n",
    "response_col = \"response\"\n",
    "df[regressor_cols] = df[regressor_cols]/REG_BASE\n",
    "df[regressor_cols] = df[regressor_cols].apply(np.log1p)\n",
    "df[response_col] = np.log(df[response_col])"
   ]
  },
  {
   "cell_type": "code",
   "execution_count": null,
   "metadata": {},
   "outputs": [
    {
     "name": "stderr",
     "output_type": "stream",
     "text": [
      "INFO:pystan:COMPILING THE C++ CODE FOR MODEL anon_model_2ca0c67519bd35a633062bf2038529c4 NOW.\n"
     ]
    }
   ],
   "source": [
    "mod_lasso = LGT(\n",
    "    response_col=response_col,\n",
    "    date_col=\"date\",\n",
    "    regressor_col=regressor_cols,\n",
    "    seasonality=52,\n",
    "    seed=SEED,\n",
    "    predict_method='full',\n",
    "    sample_method='mcmc',\n",
    "    is_multiplicative=False,\n",
    "    regression_penalty='lasso',\n",
    "    num_warmup=4000,\n",
    "    num_sample=1000,\n",
    ")\n",
    "mod_lasso.fit(df=df)"
   ]
  },
  {
   "cell_type": "code",
   "execution_count": null,
   "metadata": {
    "ExecuteTime": {
     "end_time": "2020-02-26T06:36:53.916107Z",
     "start_time": "2020-02-26T06:36:53.520942Z"
    }
   },
   "outputs": [],
   "source": [
    "mod_auto_ridge = LGT(\n",
    "    response_col=response_col,\n",
    "    date_col=\"date\",\n",
    "    regressor_col=regressor_cols,\n",
    "    seasonality=52,\n",
    "    seed=SEED,\n",
    "    predict_method='full',\n",
    "    sample_method='mcmc',\n",
    "    is_multiplicative=False,\n",
    "    regression_penalty='auto_ridge',\n",
    "    num_warmup=4000,\n",
    "    num_sample=1000,\n",
    ")\n",
    "mod_auto_ridge.fit(df=df)"
   ]
  },
  {
   "cell_type": "code",
   "execution_count": null,
   "metadata": {},
   "outputs": [],
   "source": [
    "mod_fixed_ridge1 = LGT(\n",
    "    response_col=response_col,\n",
    "    date_col=\"date\",\n",
    "    regressor_col=regressor_cols,\n",
    "    seasonality=52,\n",
    "    seed=SEED,\n",
    "    predict_method='full',\n",
    "    sample_method='mcmc',\n",
    "    is_multiplicative=False,\n",
    "    regression_penalty='fixed_ridge',\n",
    "    num_warmup=4000,\n",
    "    num_sample=1000,\n",
    ")\n",
    "mod_fixed_ridge1.fit(df=df)"
   ]
  },
  {
   "cell_type": "code",
   "execution_count": null,
   "metadata": {},
   "outputs": [],
   "source": [
    "mod_fixed_ridge2 = LGT(\n",
    "    response_col=response_col,\n",
    "    date_col=\"date\",\n",
    "    regressor_col=regressor_cols,\n",
    "    seasonality=52,\n",
    "    seed=SEED,\n",
    "    predict_method='full',\n",
    "    sample_method='mcmc',\n",
    "    is_multiplicative=False,\n",
    "    regression_penalty='fixed_ridge',\n",
    "    regressor_sigma_prior=[0.1] * NUM_OF_REGRESSORS,\n",
    "    num_warmup=4000,\n",
    "    num_sample=1000,\n",
    ")\n",
    "mod_fixed_ridge2.fit(df=df)"
   ]
  },
  {
   "cell_type": "code",
   "execution_count": null,
   "metadata": {},
   "outputs": [],
   "source": [
    "coef_lasso = np.median(mod_lasso.posterior_samples['rr_beta'], axis=0)\n",
    "coef_auto_ridge = np.median(mod_auto_ridge.posterior_samples['rr_beta'], axis=0)\n",
    "coef_fixed_ridge1 =np.median(mod_fixed_ridge1.posterior_samples['rr_beta'], axis=0)\n",
    "coef_fixed_ridge2 =np.median(mod_fixed_ridge2.posterior_samples['rr_beta'], axis=0)"
   ]
  },
  {
   "cell_type": "code",
   "execution_count": null,
   "metadata": {},
   "outputs": [],
   "source": [
    "lw=2\n",
    "plt.figure(figsize=(16, 8))\n",
    "plt.title(\"Weights of the model\")\n",
    "plt.plot(coef_lasso, color=QualitativePalette.Line4.value[0], linewidth=lw, label=\"Lasso\", alpha=0.8, linestyle='--')\n",
    "plt.plot(coef_auto_ridge, color=QualitativePalette.Line4.value[1], linewidth=lw, label=\"Auto Ridge\", alpha=0.8, linestyle='--')\n",
    "plt.plot(coef_fixed_ridge1, color=QualitativePalette.Line4.value[2], linewidth=lw, label=\"Fixed Ridge1\", alpha=0.8, linestyle='--')\n",
    "plt.plot(coef_fixed_ridge2, color=QualitativePalette.Line4.value[3], linewidth=lw, label=\"Fixed Ridge2\", alpha=0.8, linestyle='--')\n",
    "plt.plot(coefs, color=\"black\", linewidth=lw, label=\"Ground truth\")\n",
    "plt.legend()\n",
    "plt.grid()"
   ]
  },
  {
   "cell_type": "markdown",
   "metadata": {},
   "source": [
    "## Estimating Coefficients II - high sparsity"
   ]
  },
  {
   "cell_type": "code",
   "execution_count": null,
   "metadata": {},
   "outputs": [],
   "source": [
    "NUM_OF_REGRESSORS = 25\n",
    "REGRESSOR_SPARSITY = 0.8"
   ]
  },
  {
   "cell_type": "code",
   "execution_count": null,
   "metadata": {},
   "outputs": [],
   "source": [
    "raw_df, coefs, trend, seas = make_ts_multiplicative_regression(\n",
    "    series_len=200, seasonality=52, num_of_regressors=NUM_OF_REGRESSORS, regressor_sparsity=REGRESSOR_SPARSITY,\n",
    "    coef_mean=.1, coef_sd=.1,\n",
    "    regressor_log_loc=0.0, regressor_log_scale=0.2, noise_to_signal_ratio=2.0,\n",
    "    regression_prob=0.5, obs_val_base=1000, regresspr_val_base=REG_BASE, trend_type='rw',\n",
    "    seas_scale=.1, response_col='response', seed=SEED\n",
    ")\n",
    "raw_df.head(5)"
   ]
  },
  {
   "cell_type": "code",
   "execution_count": null,
   "metadata": {},
   "outputs": [],
   "source": [
    "print(coefs)"
   ]
  },
  {
   "cell_type": "code",
   "execution_count": null,
   "metadata": {},
   "outputs": [],
   "source": [
    "df = raw_df.copy()\n",
    "regressor_cols = [f\"regressor_{x}\" for x in range(1, NUM_OF_REGRESSORS + 1)]\n",
    "response_col = \"response\"\n",
    "df[regressor_cols] = df[regressor_cols]/REG_BASE\n",
    "df[regressor_cols] = df[regressor_cols].apply(np.log1p)\n",
    "df[response_col] = np.log(df[response_col])"
   ]
  },
  {
   "cell_type": "code",
   "execution_count": null,
   "metadata": {},
   "outputs": [],
   "source": [
    "mod_lasso = LGT(\n",
    "    response_col=response_col,\n",
    "    date_col=\"date\",\n",
    "    regressor_col=regressor_cols,\n",
    "    seasonality=52,\n",
    "    seed=SEED,\n",
    "    predict_method='full',\n",
    "    sample_method='mcmc',\n",
    "    is_multiplicative=False,\n",
    "    regression_penalty='lasso',\n",
    "    num_warmup=4000,\n",
    "    num_sample=1000,\n",
    ")\n",
    "mod_lasso.fit(df=df)"
   ]
  },
  {
   "cell_type": "code",
   "execution_count": null,
   "metadata": {
    "ExecuteTime": {
     "end_time": "2020-02-26T06:36:53.916107Z",
     "start_time": "2020-02-26T06:36:53.520942Z"
    }
   },
   "outputs": [],
   "source": [
    "mod_auto_ridge = LGT(\n",
    "    response_col=response_col,\n",
    "    date_col=\"date\",\n",
    "    regressor_col=regressor_cols,\n",
    "    seasonality=52,\n",
    "    seed=SEED,\n",
    "    predict_method='full',\n",
    "    sample_method='mcmc',\n",
    "    is_multiplicative=False,\n",
    "    regression_penalty='auto_ridge',\n",
    "    num_warmup=4000,\n",
    "    num_sample=1000,\n",
    ")\n",
    "mod_auto_ridge.fit(df=df)"
   ]
  },
  {
   "cell_type": "code",
   "execution_count": null,
   "metadata": {},
   "outputs": [],
   "source": [
    "mod_fixed_ridge1 = LGT(\n",
    "    response_col=response_col,\n",
    "    date_col=\"date\",\n",
    "    regressor_col=regressor_cols,\n",
    "    seasonality=52,\n",
    "    seed=SEED,\n",
    "    predict_method='full',\n",
    "    sample_method='mcmc',\n",
    "    is_multiplicative=False,\n",
    "    regression_penalty='fixed_ridge',\n",
    "    num_warmup=4000,\n",
    "    num_sample=1000,\n",
    ")\n",
    "mod_fixed_ridge1.fit(df=df)"
   ]
  },
  {
   "cell_type": "code",
   "execution_count": null,
   "metadata": {},
   "outputs": [],
   "source": [
    "mod_fixed_ridge2 = LGT(\n",
    "    response_col=response_col,\n",
    "    date_col=\"date\",\n",
    "    regressor_col=regressor_cols,\n",
    "    seasonality=52,\n",
    "    seed=SEED,\n",
    "    predict_method='full',\n",
    "    sample_method='mcmc',\n",
    "    is_multiplicative=False,\n",
    "    regression_penalty='fixed_ridge',\n",
    "    regressor_sigma_prior=[0.1] * NUM_OF_REGRESSORS,\n",
    "    num_warmup=4000,\n",
    "    num_sample=1000,\n",
    ")\n",
    "mod_fixed_ridge2.fit(df=df)"
   ]
  },
  {
   "cell_type": "code",
   "execution_count": null,
   "metadata": {},
   "outputs": [],
   "source": [
    "coef_lasso = np.median(mod_lasso.posterior_samples['rr_beta'], axis=0)\n",
    "coef_auto_ridge = np.median(mod_auto_ridge.posterior_samples['rr_beta'], axis=0)\n",
    "coef_fixed_ridge1 =np.median(mod_fixed_ridge1.posterior_samples['rr_beta'], axis=0)\n",
    "coef_fixed_ridge2 =np.median(mod_fixed_ridge2.posterior_samples['rr_beta'], axis=0)"
   ]
  },
  {
   "cell_type": "code",
   "execution_count": null,
   "metadata": {},
   "outputs": [],
   "source": [
    "lw=2\n",
    "plt.figure(figsize=(16, 8))\n",
    "plt.title(\"Weights of the model\")\n",
    "plt.plot(coef_lasso, color=QualitativePalette.Line4.value[0], linewidth=lw, label=\"Lasso\", alpha=0.8, linestyle='--')\n",
    "plt.plot(coef_auto_ridge, color=QualitativePalette.Line4.value[1], linewidth=lw, label=\"Auto Ridge\", alpha=0.8, linestyle='--')\n",
    "plt.plot(coef_fixed_ridge1, color=QualitativePalette.Line4.value[2], linewidth=lw, label=\"Fixed Ridge1\", alpha=0.8, linestyle='--')\n",
    "plt.plot(coef_fixed_ridge2, color=QualitativePalette.Line4.value[3], linewidth=lw, label=\"Fixed Ridge2\", alpha=0.8, linestyle='--')\n",
    "plt.plot(coefs, color=\"black\", linewidth=lw, label=\"Ground truth\")\n",
    "plt.legend()\n",
    "plt.grid()"
   ]
  },
  {
   "cell_type": "markdown",
   "metadata": {},
   "source": [
    "## Checking Model Convergence and Posterior Distribution"
   ]
  },
  {
   "cell_type": "code",
   "execution_count": null,
   "metadata": {},
   "outputs": [],
   "source": [
    "_ = mod_lasso.predict(df)\n",
    "_ = plot_posterior_params(mod_lasso, kind='density')\n",
    "_ = plot_posterior_params(mod_lasso, kind='trace')"
   ]
  },
  {
   "cell_type": "markdown",
   "metadata": {},
   "source": [
    "# Appendix"
   ]
  },
  {
   "cell_type": "markdown",
   "metadata": {},
   "source": [
    "## Simulate Regressions"
   ]
  },
  {
   "cell_type": "code",
   "execution_count": null,
   "metadata": {},
   "outputs": [],
   "source": [
    "SERIES_LEN = 200\n",
    "CYCLE_LEN = 52\n",
    "COEFS_MU, COEFS_SIGMA = 0.08, 0.03\n",
    "NUM_COEFS = 5\n",
    "SEED = 2020\n",
    "SPARSITY = 0.2"
   ]
  },
  {
   "cell_type": "code",
   "execution_count": null,
   "metadata": {},
   "outputs": [],
   "source": [
    "RELEVANT_FEATURES = int(NUM_COEFS * SPARSITY)\n",
    "RELEVANT_FEATURES_IDX = np.random.choice(NUM_COEFS, RELEVANT_FEATURES)\n",
    "RELEVANT_FEATURES_IDX"
   ]
  },
  {
   "cell_type": "code",
   "execution_count": null,
   "metadata": {},
   "outputs": [],
   "source": [
    "COEFS = np.random.default_rng(SEED).normal(COEFS_MU, COEFS_MU, NUM_COEFS)\n",
    "COEFS[RELEVANT_FEATURES_IDX] = 0.0\n",
    "COEFS"
   ]
  },
  {
   "cell_type": "code",
   "execution_count": null,
   "metadata": {},
   "outputs": [],
   "source": [
    "NOISE_TO_SIGNAL_RATIO = 0.5"
   ]
  },
  {
   "cell_type": "code",
   "execution_count": null,
   "metadata": {},
   "outputs": [],
   "source": [
    "# probabily of a signal appear\n",
    "OBS_REG_PROB = 0.5\n",
    "# scale and location parms of regressor values in log-scale\n",
    "OBS_REG_LOG_LOC = 0.0\n",
    "OBS_REG_LOG_SCALE = 0.2\n",
    "# noise scale in log-scale\n",
    "OBS_LOG_SCALE = NOISE_TO_SIGNAL_RATIO * OBS_REG_LOG_SCALE\n",
    "# observation scale adjustment\n",
    "OBS_BASE = 1000\n",
    "REG_BASE = 1000"
   ]
  },
  {
   "cell_type": "code",
   "execution_count": null,
   "metadata": {},
   "outputs": [],
   "source": [
    "X_LOG1P = np.random.default_rng(SEED).normal(OBS_REG_LOG_LOC, OBS_REG_LOG_SCALE, SERIES_LEN * NUM_COEFS).reshape(SERIES_LEN, -1) + 1\n",
    "Z = np.random.default_rng(SEED).binomial(1, OBS_REG_PROB, SERIES_LEN * NUM_COEFS).reshape(SERIES_LEN, -1)\n",
    "X_OBS = X_LOG1P * Z\n",
    "NOISE =  np.random.default_rng(SEED).normal(0, OBS_LOG_SCALE, SERIES_LEN)"
   ]
  },
  {
   "cell_type": "code",
   "execution_count": null,
   "metadata": {},
   "outputs": [],
   "source": [
    "print(X_LOG1P.shape, X_OBS.shape, COEFS.shape, NOISE.shape) "
   ]
  },
  {
   "cell_type": "markdown",
   "metadata": {},
   "source": [
    "## Simulate Trend"
   ]
  },
  {
   "cell_type": "markdown",
   "metadata": {},
   "source": [
    "### Random Walk"
   ]
  },
  {
   "cell_type": "code",
   "execution_count": null,
   "metadata": {},
   "outputs": [],
   "source": [
    "RW = np.random.default_rng(SEED).normal(0.001, 0.05, SERIES_LEN)\n",
    "RW_LEVS = np.cumsum(RW)\n",
    "print(RW_LEVS.shape)\n",
    "plt.plot(RW_LEVS)"
   ]
  },
  {
   "cell_type": "markdown",
   "metadata": {},
   "source": [
    "## Simulate Seasonality"
   ]
  },
  {
   "cell_type": "code",
   "execution_count": null,
   "metadata": {},
   "outputs": [],
   "source": [
    "INIT_SEAS = np.zeros(CYCLE_LEN)\n",
    "INIT_SEAS[:-1] = np.random.default_rng(SEED).normal(0, 0.1, CYCLE_LEN - 1)\n",
    "INIT_SEAS[CYCLE_LEN - 1] = -1 * np.sum(INIT_SEAS)\n",
    "SEAS = np.zeros(SERIES_LEN)\n",
    "for idx in range(SERIES_LEN):\n",
    "    SEAS[idx] = INIT_SEAS[idx % CYCLE_LEN]\n",
    "print(SEAS.shape)\n",
    "plt.plot(SEAS)"
   ]
  },
  {
   "cell_type": "code",
   "execution_count": null,
   "metadata": {},
   "outputs": [],
   "source": [
    "Y = np.round(OBS_BASE * np.exp(RW_LEVS + np.matmul(X_OBS, COEFS) + SEAS + NOISE))"
   ]
  },
  {
   "cell_type": "code",
   "execution_count": null,
   "metadata": {},
   "outputs": [],
   "source": [
    "X = np.round(np.expm1(X_LOG1P) * REG_BASE) "
   ]
  },
  {
   "cell_type": "code",
   "execution_count": null,
   "metadata": {},
   "outputs": [],
   "source": [
    "plt.plot(Y)"
   ]
  },
  {
   "cell_type": "markdown",
   "metadata": {},
   "source": [
    "## Data Setup"
   ]
  },
  {
   "cell_type": "markdown",
   "metadata": {},
   "source": [
    "Package response and signals into data frame"
   ]
  },
  {
   "cell_type": "code",
   "execution_count": null,
   "metadata": {},
   "outputs": [],
   "source": [
    "Y = Y.reshape(-1, 1)\n",
    "print(Y.shape)"
   ]
  },
  {
   "cell_type": "code",
   "execution_count": null,
   "metadata": {},
   "outputs": [],
   "source": [
    "# datetime index\n",
    "dt = pd.date_range(start='2016-01-04', periods=SERIES_LEN, freq='7D')\n",
    "response_col = \"response\"\n",
    "regressor_cols = [f\"regressor_{x}\" for x in range(1, NUM_COEFS + 1)]\n",
    "raw_df = pd.DataFrame(np.concatenate([Y, X], axis=1), columns = [response_col] + regressor_cols)\n",
    "raw_df['week'] = dt \n",
    "raw_df.head(3)"
   ]
  }
 ],
 "metadata": {
  "kernelspec": {
   "display_name": "orbit",
   "language": "python",
   "name": "orbit"
  },
  "language_info": {
   "codemirror_mode": {
    "name": "ipython",
    "version": 3
   },
   "file_extension": ".py",
   "mimetype": "text/x-python",
   "name": "python",
   "nbconvert_exporter": "python",
   "pygments_lexer": "ipython3",
   "version": "3.6.8"
  },
  "toc": {
   "base_numbering": 1,
   "nav_menu": {},
   "number_sections": true,
   "sideBar": true,
   "skip_h1_title": true,
   "title_cell": "Table of Contents",
   "title_sidebar": "Contents",
   "toc_cell": false,
   "toc_position": {},
   "toc_section_display": true,
   "toc_window_display": true
  }
 },
 "nbformat": 4,
 "nbformat_minor": 4
}
