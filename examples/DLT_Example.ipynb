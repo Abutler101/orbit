{
 "cells": [
  {
   "cell_type": "markdown",
   "metadata": {},
   "source": [
    "# Damped-Local-Trend(DLT) Example"
   ]
  },
  {
   "cell_type": "code",
   "execution_count": 2,
   "metadata": {
    "ExecuteTime": {
     "end_time": "2020-05-15T08:42:02.489422Z",
     "start_time": "2020-05-15T08:42:00.734176Z"
    }
   },
   "outputs": [
    {
     "ename": "ImportError",
     "evalue": "cannot import name 'DLTException'",
     "output_type": "error",
     "traceback": [
      "\u001b[0;31m---------------------------------------------------------------------------\u001b[0m",
      "\u001b[0;31mImportError\u001b[0m                               Traceback (most recent call last)",
      "\u001b[0;32m<ipython-input-2-97c352ed848d>\u001b[0m in \u001b[0;36m<module>\u001b[0;34m\u001b[0m\n\u001b[1;32m      1\u001b[0m \u001b[0;32mimport\u001b[0m \u001b[0mpandas\u001b[0m \u001b[0;32mas\u001b[0m \u001b[0mpd\u001b[0m\u001b[0;34m\u001b[0m\u001b[0;34m\u001b[0m\u001b[0m\n\u001b[1;32m      2\u001b[0m \u001b[0;32mimport\u001b[0m \u001b[0mnumpy\u001b[0m \u001b[0;32mas\u001b[0m \u001b[0mnp\u001b[0m\u001b[0;34m\u001b[0m\u001b[0;34m\u001b[0m\u001b[0m\n\u001b[0;32m----> 3\u001b[0;31m \u001b[0;32mfrom\u001b[0m \u001b[0morbit\u001b[0m\u001b[0;34m.\u001b[0m\u001b[0mmodels\u001b[0m\u001b[0;34m.\u001b[0m\u001b[0mdlt\u001b[0m \u001b[0;32mimport\u001b[0m \u001b[0mDLTMAP\u001b[0m\u001b[0;34m\u001b[0m\u001b[0;34m\u001b[0m\u001b[0m\n\u001b[0m\u001b[1;32m      4\u001b[0m \u001b[0;31m# from orbit.utils.plot import plot_predicted_data\u001b[0m\u001b[0;34m\u001b[0m\u001b[0;34m\u001b[0m\u001b[0;34m\u001b[0m\u001b[0m\n\u001b[1;32m      5\u001b[0m \u001b[0;31m# from orbit.utils.plot import plot_predicted_components\u001b[0m\u001b[0;34m\u001b[0m\u001b[0;34m\u001b[0m\u001b[0;34m\u001b[0m\u001b[0m\n",
      "\u001b[0;32m~/work/orbit-super/orbit/orbit/models/dlt.py\u001b[0m in \u001b[0;36m<module>\u001b[0;34m\u001b[0m\n\u001b[1;32m     14\u001b[0m )\n\u001b[1;32m     15\u001b[0m \u001b[0;32mfrom\u001b[0m \u001b[0;34m.\u001b[0m\u001b[0;34m.\u001b[0m\u001b[0mestimators\u001b[0m\u001b[0;34m.\u001b[0m\u001b[0mstan_estimator\u001b[0m \u001b[0;32mimport\u001b[0m \u001b[0mStanEstimatorMCMC\u001b[0m\u001b[0;34m,\u001b[0m \u001b[0mStanEstimatorVI\u001b[0m\u001b[0;34m,\u001b[0m \u001b[0mStanEstimatorMAP\u001b[0m\u001b[0;34m\u001b[0m\u001b[0;34m\u001b[0m\u001b[0m\n\u001b[0;32m---> 16\u001b[0;31m \u001b[0;32mfrom\u001b[0m \u001b[0;34m.\u001b[0m\u001b[0;34m.\u001b[0m\u001b[0mexceptions\u001b[0m \u001b[0;32mimport\u001b[0m \u001b[0mIllegalArgument\u001b[0m\u001b[0;34m,\u001b[0m \u001b[0mDLTException\u001b[0m\u001b[0;34m,\u001b[0m \u001b[0mPredictionException\u001b[0m\u001b[0;34m\u001b[0m\u001b[0;34m\u001b[0m\u001b[0m\n\u001b[0m\u001b[1;32m     17\u001b[0m \u001b[0;32mfrom\u001b[0m \u001b[0;34m.\u001b[0m\u001b[0mbase_model\u001b[0m \u001b[0;32mimport\u001b[0m \u001b[0mBaseModel\u001b[0m\u001b[0;34m\u001b[0m\u001b[0;34m\u001b[0m\u001b[0m\n\u001b[1;32m     18\u001b[0m \u001b[0;32mfrom\u001b[0m \u001b[0;34m.\u001b[0m\u001b[0;34m.\u001b[0m\u001b[0mutils\u001b[0m\u001b[0;34m.\u001b[0m\u001b[0mgeneral\u001b[0m \u001b[0;32mimport\u001b[0m \u001b[0mis_ordered_datetime\u001b[0m\u001b[0;34m\u001b[0m\u001b[0;34m\u001b[0m\u001b[0m\n",
      "\u001b[0;31mImportError\u001b[0m: cannot import name 'DLTException'"
     ]
    }
   ],
   "source": [
    "import pandas as pd\n",
    "import numpy as np\n",
    "from orbit.models.dlt import DLTMAP\n",
    "# from orbit.utils.plot import plot_predicted_data\n",
    "# from orbit.utils.plot import plot_predicted_components"
   ]
  },
  {
   "cell_type": "markdown",
   "metadata": {},
   "source": [
    "## Data"
   ]
  },
  {
   "cell_type": "code",
   "execution_count": null,
   "metadata": {
    "ExecuteTime": {
     "end_time": "2020-05-15T08:42:02.540649Z",
     "start_time": "2020-05-15T08:42:02.516869Z"
    }
   },
   "outputs": [],
   "source": [
    "DATA_FILE = \"./data/iclaims_example.csv\""
   ]
  },
  {
   "cell_type": "code",
   "execution_count": null,
   "metadata": {
    "ExecuteTime": {
     "end_time": "2020-05-15T08:42:02.603115Z",
     "start_time": "2020-05-15T08:42:02.542903Z"
    }
   },
   "outputs": [],
   "source": [
    "df = pd.read_csv(DATA_FILE, parse_dates=['week'])"
   ]
  },
  {
   "cell_type": "code",
   "execution_count": null,
   "metadata": {
    "ExecuteTime": {
     "end_time": "2020-05-15T08:42:02.638576Z",
     "start_time": "2020-05-15T08:42:02.605025Z"
    }
   },
   "outputs": [],
   "source": [
    "df.head(5)"
   ]
  },
  {
   "cell_type": "markdown",
   "metadata": {},
   "source": [
    "## The DLT Model"
   ]
  },
  {
   "cell_type": "markdown",
   "metadata": {},
   "source": [
    "Just like `orbit.lgt.LGT` it is a variation of traditional exponential smoothing models.  The difference between `DLT` and `LGT` are mainly:\n",
    "\n",
    "- It introduces a damped factor on local trend\n",
    "- It models global trend as a determinstic projection\n",
    "\n",
    "There are four options in modeling the `global trend` with the `global_trend_option` arguemnt:\n",
    "\n",
    "1. `linear`\n",
    "2. `loglinear`\n",
    "3. `logistic`\n",
    "4. `flat`\n",
    "\n",
    "The behavior of these three options will depend on the condition of `is_multiplicative` as well.  Below, we only show cases with condition when `is_multiplicative` as `True` since it is the default."
   ]
  },
  {
   "cell_type": "markdown",
   "metadata": {},
   "source": [
    "## Linear Trend"
   ]
  },
  {
   "cell_type": "markdown",
   "metadata": {},
   "source": [
    "In multiplicative model, the linear trend as default will be transformed as exponential growh/decay."
   ]
  },
  {
   "cell_type": "code",
   "execution_count": null,
   "metadata": {
    "ExecuteTime": {
     "end_time": "2020-05-15T08:42:02.665696Z",
     "start_time": "2020-05-15T08:42:02.640611Z"
    }
   },
   "outputs": [],
   "source": [
    "dlt = DLTMAP(\n",
    "    response_col='claims',\n",
    "    date_col='week',\n",
    "    seasonality=52,\n",
    "    seed=2020,\n",
    "    is_multiplicative=True,\n",
    ")"
   ]
  },
  {
   "cell_type": "code",
   "execution_count": null,
   "metadata": {
    "ExecuteTime": {
     "end_time": "2020-05-15T08:42:50.721611Z",
     "start_time": "2020-05-15T08:42:02.667647Z"
    },
    "scrolled": true
   },
   "outputs": [],
   "source": [
    "dlt.fit(df)"
   ]
  },
  {
   "cell_type": "code",
   "execution_count": null,
   "metadata": {
    "ExecuteTime": {
     "end_time": "2020-05-15T08:42:50.761333Z",
     "start_time": "2020-05-15T08:42:50.726742Z"
    }
   },
   "outputs": [],
   "source": [
    "from datetime import timedelta\n",
    "num_periods = 52 * 4\n",
    "freq = 7\n",
    "date_col = dlt.date_col\n",
    "last_dt = (df[date_col].dt.to_pydatetime())[-1]\n",
    "dts = [last_dt + timedelta(days=x * freq) for x in range(1, num_periods + 1)]\n",
    "future_df = pd.DataFrame(dts, columns=[date_col])"
   ]
  },
  {
   "cell_type": "code",
   "execution_count": null,
   "metadata": {
    "ExecuteTime": {
     "end_time": "2020-05-15T08:42:50.826069Z",
     "start_time": "2020-05-15T08:42:50.764619Z"
    }
   },
   "outputs": [],
   "source": [
    "predicted_df = dlt.predict(df=future_df, decompose=True)"
   ]
  },
  {
   "cell_type": "code",
   "execution_count": 9,
   "metadata": {
    "ExecuteTime": {
     "end_time": "2020-05-15T08:42:51.209899Z",
     "start_time": "2020-05-15T08:42:50.827968Z"
    }
   },
   "outputs": [],
   "source": [
    "# plot_predicted_data(training_actual_df=df, predicted_df=predicted_df, \n",
    "#                     date_col=dlt.date_col, actual_col=dlt.response_col, pred_col='prediction')"
   ]
  },
  {
   "cell_type": "markdown",
   "metadata": {},
   "source": [
    "## Log-Linear Trend"
   ]
  },
  {
   "cell_type": "markdown",
   "metadata": {},
   "source": [
    "For users who want to maintain linear trend assumption in the multiplicative model, they can switch to `loglinear` global trend.  "
   ]
  },
  {
   "cell_type": "code",
   "execution_count": 10,
   "metadata": {
    "ExecuteTime": {
     "end_time": "2020-05-15T08:42:51.238801Z",
     "start_time": "2020-05-15T08:42:51.212059Z"
    }
   },
   "outputs": [],
   "source": [
    "dlt_log = DLT(\n",
    "    response_col='claims',\n",
    "    date_col='week',\n",
    "    seasonality=52,\n",
    "    seed=2020,\n",
    "    is_multiplicative=True,\n",
    "    global_trend_option='loglinear',\n",
    ")"
   ]
  },
  {
   "cell_type": "code",
   "execution_count": 11,
   "metadata": {
    "ExecuteTime": {
     "end_time": "2020-05-15T08:42:51.344693Z",
     "start_time": "2020-05-15T08:42:51.240633Z"
    }
   },
   "outputs": [],
   "source": [
    "dlt_log.fit(df=df)"
   ]
  },
  {
   "cell_type": "code",
   "execution_count": 12,
   "metadata": {
    "ExecuteTime": {
     "end_time": "2020-05-15T08:42:51.407863Z",
     "start_time": "2020-05-15T08:42:51.346451Z"
    }
   },
   "outputs": [],
   "source": [
    "predicted_df_dlt_log = dlt_log.predict(df=future_df, decompose=True)"
   ]
  },
  {
   "cell_type": "code",
   "execution_count": 10,
   "metadata": {
    "ExecuteTime": {
     "end_time": "2020-05-15T08:42:51.807844Z",
     "start_time": "2020-05-15T08:42:51.409490Z"
    }
   },
   "outputs": [],
   "source": [
    "# plot_predicted_data(training_actual_df=df, predicted_df=predicted_df_dlt_log, \n",
    "#                     date_col=dlt_log.date_col, actual_col=dlt_log.response_col, pred_col='prediction')"
   ]
  },
  {
   "cell_type": "markdown",
   "metadata": {},
   "source": [
    "## Logistic Global Trend"
   ]
  },
  {
   "cell_type": "markdown",
   "metadata": {},
   "source": [
    "In case of modeling logistic growth/decay, user can switch to `logistic` in the `global_trend_option`. "
   ]
  },
  {
   "cell_type": "code",
   "execution_count": 14,
   "metadata": {
    "ExecuteTime": {
     "end_time": "2020-05-15T08:42:51.835075Z",
     "start_time": "2020-05-15T08:42:51.809874Z"
    }
   },
   "outputs": [],
   "source": [
    "dlt_logit = DLT(\n",
    "    response_col='claims',\n",
    "    date_col='week',\n",
    "    seasonality=52,\n",
    "    seed=2020,\n",
    "    infer_method='map',\n",
    "    predict_method='map',\n",
    "    is_multiplicative=True,\n",
    "    global_trend_option='logistic',\n",
    "    damped_factor_fixed=0.99\n",
    ")"
   ]
  },
  {
   "cell_type": "code",
   "execution_count": 15,
   "metadata": {
    "ExecuteTime": {
     "end_time": "2020-05-15T08:42:52.323913Z",
     "start_time": "2020-05-15T08:42:51.836702Z"
    }
   },
   "outputs": [],
   "source": [
    "dlt_logit.fit(df=df)"
   ]
  },
  {
   "cell_type": "code",
   "execution_count": 16,
   "metadata": {
    "ExecuteTime": {
     "end_time": "2020-05-15T08:42:52.381958Z",
     "start_time": "2020-05-15T08:42:52.325718Z"
    }
   },
   "outputs": [],
   "source": [
    "predicted_df_dlt_logit = dlt_logit.predict(df=future_df, decompose=True)"
   ]
  },
  {
   "cell_type": "code",
   "execution_count": 11,
   "metadata": {
    "ExecuteTime": {
     "end_time": "2020-05-15T08:42:52.696169Z",
     "start_time": "2020-05-15T08:42:52.383444Z"
    }
   },
   "outputs": [],
   "source": [
    "# plot_predicted_data(training_actual_df=df, predicted_df=predicted_df_dlt_logit, \n",
    "#                     date_col=dlt_log.date_col, actual_col=dlt_log.response_col, pred_col='prediction')"
   ]
  },
  {
   "cell_type": "markdown",
   "metadata": {},
   "source": [
    "## Flat Global Trend"
   ]
  },
  {
   "cell_type": "code",
   "execution_count": 18,
   "metadata": {
    "ExecuteTime": {
     "end_time": "2020-05-15T08:42:52.725394Z",
     "start_time": "2020-05-15T08:42:52.697856Z"
    }
   },
   "outputs": [],
   "source": [
    "dlt_logit = DLT(\n",
    "    response_col='claims',\n",
    "    date_col='week',\n",
    "    seasonality=52,\n",
    "    seed=2020,\n",
    "    infer_method='map',\n",
    "    predict_method='map',\n",
    "    is_multiplicative=True,\n",
    "    global_trend_option='flat',\n",
    "    damped_factor_fixed=0.99\n",
    ")"
   ]
  },
  {
   "cell_type": "code",
   "execution_count": 19,
   "metadata": {
    "ExecuteTime": {
     "end_time": "2020-05-15T08:42:52.890274Z",
     "start_time": "2020-05-15T08:42:52.727653Z"
    }
   },
   "outputs": [],
   "source": [
    "dlt_logit.fit(df=df)"
   ]
  },
  {
   "cell_type": "code",
   "execution_count": 20,
   "metadata": {
    "ExecuteTime": {
     "end_time": "2020-05-15T08:42:52.941345Z",
     "start_time": "2020-05-15T08:42:52.891949Z"
    }
   },
   "outputs": [],
   "source": [
    "predicted_df_dlt_logit = dlt_logit.predict(df=future_df, decompose=True)"
   ]
  },
  {
   "cell_type": "code",
   "execution_count": 21,
   "metadata": {
    "ExecuteTime": {
     "end_time": "2020-05-15T08:42:53.259514Z",
     "start_time": "2020-05-15T08:42:52.942964Z"
    }
   },
   "outputs": [
    {
     "data": {
      "image/png": "[encoded data removed]",
      "text/plain": [
       "<Figure size 1152x576 with 1 Axes>"
      ]
     },
     "metadata": {},
     "output_type": "display_data"
    }
   ],
   "source": [
    "plot_predicted_data(training_actual_df=df, predicted_df=predicted_df_dlt_logit, \n",
    "                    date_col=dlt_log.date_col, actual_col=dlt_log.response_col, pred_col='prediction')"
   ]
  }
 ],
 "metadata": {
  "kernelspec": {
   "display_name": "orbit",
   "language": "python",
   "name": "orbit"
  },
  "language_info": {
   "codemirror_mode": {
    "name": "ipython",
    "version": 3
   },
   "file_extension": ".py",
   "mimetype": "text/x-python",
   "name": "python",
   "nbconvert_exporter": "python",
   "pygments_lexer": "ipython3",
   "version": "3.6.8"
  },
  "toc": {
   "base_numbering": 1,
   "nav_menu": {},
   "number_sections": true,
   "sideBar": true,
   "skip_h1_title": true,
   "title_cell": "Table of Contents",
   "title_sidebar": "Contents",
   "toc_cell": false,
   "toc_position": {},
   "toc_section_display": true,
   "toc_window_display": true
  }
 },
 "nbformat": 4,
 "nbformat_minor": 4
}
