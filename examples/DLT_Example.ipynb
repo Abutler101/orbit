{
 "cells": [
  {
   "cell_type": "markdown",
   "metadata": {},
   "source": [
    "# Damped-Local-Trend(DLT) Example"
   ]
  },
  {
   "cell_type": "code",
   "execution_count": 1,
   "metadata": {
    "ExecuteTime": {
     "end_time": "2020-01-27T14:25:09.481795Z",
     "start_time": "2020-01-27T14:25:07.786132Z"
    }
   },
   "outputs": [],
   "source": [
    "import pandas as pd\n",
    "import numpy as np\n",
    "from orbit.dlt import LGT, DLT\n",
    "from orbit.utils.utils import plot_predicted_data"
   ]
  },
  {
   "cell_type": "markdown",
   "metadata": {},
   "source": [
    "## Data"
   ]
  },
  {
   "cell_type": "code",
   "execution_count": 2,
   "metadata": {
    "ExecuteTime": {
     "end_time": "2020-01-27T14:25:09.487715Z",
     "start_time": "2020-01-27T14:25:09.484303Z"
    }
   },
   "outputs": [],
   "source": [
    "DATA_FILE = \"./data/iclaims.example.csv\"\n",
    "DATA_FILE = \"./data/DLT_prediction_explode.csv\""
   ]
  },
  {
   "cell_type": "code",
   "execution_count": 3,
   "metadata": {
    "ExecuteTime": {
     "end_time": "2020-01-27T14:25:09.562633Z",
     "start_time": "2020-01-27T14:25:09.490204Z"
    }
   },
   "outputs": [],
   "source": [
    "# raw_df = pd.read_csv(DATA_FILE, parse_dates=['week'])\n",
    " raw_df = pd.read_csv(DATA_FILE, parse_dates=['date'])"
   ]
  },
  {
   "cell_type": "code",
   "execution_count": 4,
   "metadata": {
    "ExecuteTime": {
     "end_time": "2020-01-27T14:25:09.572847Z",
     "start_time": "2020-01-27T14:25:09.564840Z"
    }
   },
   "outputs": [
    {
     "data": {
      "text/plain": [
       "key                  object\n",
       "month_num             int64\n",
       "value               float64\n",
       "date         datetime64[ns]\n",
       "dtype: object"
      ]
     },
     "execution_count": 4,
     "metadata": {},
     "output_type": "execute_result"
    }
   ],
   "source": [
    "raw_df.dtypes"
   ]
  },
  {
   "cell_type": "code",
   "execution_count": 5,
   "metadata": {
    "ExecuteTime": {
     "end_time": "2020-01-27T14:25:09.591613Z",
     "start_time": "2020-01-27T14:25:09.575246Z"
    }
   },
   "outputs": [
    {
     "data": {
      "text/html": [
       "<div>\n",
       "<style scoped>\n",
       "    .dataframe tbody tr th:only-of-type {\n",
       "        vertical-align: middle;\n",
       "    }\n",
       "\n",
       "    .dataframe tbody tr th {\n",
       "        vertical-align: top;\n",
       "    }\n",
       "\n",
       "    .dataframe thead th {\n",
       "        text-align: right;\n",
       "    }\n",
       "</style>\n",
       "<table border=\"1\" class=\"dataframe\">\n",
       "  <thead>\n",
       "    <tr style=\"text-align: right;\">\n",
       "      <th></th>\n",
       "      <th>key</th>\n",
       "      <th>month_num</th>\n",
       "      <th>value</th>\n",
       "      <th>date</th>\n",
       "    </tr>\n",
       "  </thead>\n",
       "  <tbody>\n",
       "    <tr>\n",
       "      <th>0</th>\n",
       "      <td>M6392</td>\n",
       "      <td>2</td>\n",
       "      <td>7251.1500</td>\n",
       "      <td>1970-01-31</td>\n",
       "    </tr>\n",
       "    <tr>\n",
       "      <th>1</th>\n",
       "      <td>M6392</td>\n",
       "      <td>3</td>\n",
       "      <td>6682.9500</td>\n",
       "      <td>1970-02-28</td>\n",
       "    </tr>\n",
       "    <tr>\n",
       "      <th>2</th>\n",
       "      <td>M6392</td>\n",
       "      <td>4</td>\n",
       "      <td>6671.2875</td>\n",
       "      <td>1970-03-31</td>\n",
       "    </tr>\n",
       "    <tr>\n",
       "      <th>3</th>\n",
       "      <td>M6392</td>\n",
       "      <td>5</td>\n",
       "      <td>5970.2000</td>\n",
       "      <td>1970-04-30</td>\n",
       "    </tr>\n",
       "    <tr>\n",
       "      <th>4</th>\n",
       "      <td>M6392</td>\n",
       "      <td>6</td>\n",
       "      <td>6442.5000</td>\n",
       "      <td>1970-05-31</td>\n",
       "    </tr>\n",
       "  </tbody>\n",
       "</table>\n",
       "</div>"
      ],
      "text/plain": [
       "     key  month_num      value       date\n",
       "0  M6392          2  7251.1500 1970-01-31\n",
       "1  M6392          3  6682.9500 1970-02-28\n",
       "2  M6392          4  6671.2875 1970-03-31\n",
       "3  M6392          5  5970.2000 1970-04-30\n",
       "4  M6392          6  6442.5000 1970-05-31"
      ]
     },
     "execution_count": 5,
     "metadata": {},
     "output_type": "execute_result"
    }
   ],
   "source": [
    "raw_df.head(5)"
   ]
  },
  {
   "cell_type": "markdown",
   "metadata": {},
   "source": [
    "### Data Transformation"
   ]
  },
  {
   "cell_type": "code",
   "execution_count": 6,
   "metadata": {
    "ExecuteTime": {
     "end_time": "2020-01-27T14:25:09.607283Z",
     "start_time": "2020-01-27T14:25:09.593505Z"
    }
   },
   "outputs": [
    {
     "data": {
      "text/html": [
       "<div>\n",
       "<style scoped>\n",
       "    .dataframe tbody tr th:only-of-type {\n",
       "        vertical-align: middle;\n",
       "    }\n",
       "\n",
       "    .dataframe tbody tr th {\n",
       "        vertical-align: top;\n",
       "    }\n",
       "\n",
       "    .dataframe thead th {\n",
       "        text-align: right;\n",
       "    }\n",
       "</style>\n",
       "<table border=\"1\" class=\"dataframe\">\n",
       "  <thead>\n",
       "    <tr style=\"text-align: right;\">\n",
       "      <th></th>\n",
       "      <th>key</th>\n",
       "      <th>month_num</th>\n",
       "      <th>value</th>\n",
       "      <th>date</th>\n",
       "    </tr>\n",
       "  </thead>\n",
       "  <tbody>\n",
       "    <tr>\n",
       "      <th>0</th>\n",
       "      <td>M6392</td>\n",
       "      <td>2</td>\n",
       "      <td>7251.1500</td>\n",
       "      <td>1970-01-31</td>\n",
       "    </tr>\n",
       "    <tr>\n",
       "      <th>1</th>\n",
       "      <td>M6392</td>\n",
       "      <td>3</td>\n",
       "      <td>6682.9500</td>\n",
       "      <td>1970-02-28</td>\n",
       "    </tr>\n",
       "    <tr>\n",
       "      <th>2</th>\n",
       "      <td>M6392</td>\n",
       "      <td>4</td>\n",
       "      <td>6671.2875</td>\n",
       "      <td>1970-03-31</td>\n",
       "    </tr>\n",
       "    <tr>\n",
       "      <th>3</th>\n",
       "      <td>M6392</td>\n",
       "      <td>5</td>\n",
       "      <td>5970.2000</td>\n",
       "      <td>1970-04-30</td>\n",
       "    </tr>\n",
       "    <tr>\n",
       "      <th>4</th>\n",
       "      <td>M6392</td>\n",
       "      <td>6</td>\n",
       "      <td>6442.5000</td>\n",
       "      <td>1970-05-31</td>\n",
       "    </tr>\n",
       "  </tbody>\n",
       "</table>\n",
       "</div>"
      ],
      "text/plain": [
       "     key  month_num      value       date\n",
       "0  M6392          2  7251.1500 1970-01-31\n",
       "1  M6392          3  6682.9500 1970-02-28\n",
       "2  M6392          4  6671.2875 1970-03-31\n",
       "3  M6392          5  5970.2000 1970-04-30\n",
       "4  M6392          6  6442.5000 1970-05-31"
      ]
     },
     "execution_count": 6,
     "metadata": {},
     "output_type": "execute_result"
    }
   ],
   "source": [
    "df=raw_df.copy()\n",
    "# df[['claims', 'trend.unemploy', 'trend.filling', 'trend.job']] = \\\n",
    "#     df[['claims', 'trend.unemploy', 'trend.filling', 'trend.job']].apply(np.log, axis=1)\n",
    "df.head(5)"
   ]
  },
  {
   "cell_type": "markdown",
   "metadata": {},
   "source": [
    "### Train / Test Split"
   ]
  },
  {
   "cell_type": "code",
   "execution_count": 7,
   "metadata": {
    "ExecuteTime": {
     "end_time": "2020-01-27T14:25:09.613973Z",
     "start_time": "2020-01-27T14:25:09.609322Z"
    }
   },
   "outputs": [],
   "source": [
    "test_size=52\n",
    "train_df=df[:-test_size]\n",
    "\n",
    "# in uTS we make assertion that test dates need to be between train start/end\n",
    "test_df=df[-test_size:]"
   ]
  },
  {
   "cell_type": "markdown",
   "metadata": {},
   "source": [
    "## MAP Fit and Predict"
   ]
  },
  {
   "cell_type": "code",
   "execution_count": 8,
   "metadata": {
    "ExecuteTime": {
     "end_time": "2020-01-27T14:25:09.961975Z",
     "start_time": "2020-01-27T14:25:09.957650Z"
    }
   },
   "outputs": [],
   "source": [
    "# dlt_map=DLT(\n",
    "#     response_col='claims',\n",
    "#     date_col='week',\n",
    "#     seasonality=52,\n",
    "#     seed=8888,\n",
    "#     predict_method='map'\n",
    "# )\n",
    "dlt_map=LGT(\n",
    "    response_col='value',\n",
    "    date_col='date',\n",
    "    seasonality=12,\n",
    "    seed=2019,\n",
    "    is_rescale=False,\n",
    "    predict_method='map'\n",
    ")"
   ]
  },
  {
   "cell_type": "code",
   "execution_count": 9,
   "metadata": {
    "ExecuteTime": {
     "end_time": "2020-01-27T14:25:10.351724Z",
     "start_time": "2020-01-27T14:25:10.265246Z"
    },
    "scrolled": true
   },
   "outputs": [],
   "source": [
    "dlt_map.fit(df=train_df)"
   ]
  },
  {
   "cell_type": "code",
   "execution_count": 10,
   "metadata": {
    "ExecuteTime": {
     "end_time": "2020-01-27T14:25:10.588920Z",
     "start_time": "2020-01-27T14:25:10.571342Z"
    }
   },
   "outputs": [
    {
     "data": {
      "text/plain": [
       "{'mean': None,\n",
       " 'median': None,\n",
       " 'map': {'l': array([[8.45212333, 8.53441919, 8.43863083, 8.18958447, 8.32146861,\n",
       "          8.2630222 , 8.24358615, 8.37881881, 8.34150007, 8.33553179,\n",
       "          8.55506298, 8.26406209, 8.15244075, 8.06038459, 8.02390716,\n",
       "          8.02574486, 8.01826339, 8.03332463, 8.12894045, 8.1330512 ,\n",
       "          8.06211117, 8.18211894, 8.28154658, 8.2179728 , 8.21881414,\n",
       "          7.9780892 , 8.01418407, 8.02698714, 7.80604093, 7.76608476,\n",
       "          7.85362919, 7.83283942, 7.84938238, 7.94204097, 7.77937112,\n",
       "          8.04045811, 8.21192818, 8.19894029, 8.24667596, 8.23586908,\n",
       "          8.10004014, 8.17459149, 8.16363903, 8.10120965, 8.19510654,\n",
       "          8.16586098, 8.44629121, 8.49303619, 8.52848356, 8.6258866 ,\n",
       "          8.48439893, 8.46699234, 8.36326392, 8.4540519 , 8.39858062,\n",
       "          8.38123535, 8.42397249, 8.33156983, 8.40790782, 8.39897863,\n",
       "          8.39069184, 8.59123425, 8.62807654, 8.51368477, 8.54720486,\n",
       "          8.51569606, 8.39988713, 8.43384418, 8.44834537, 8.39311068,\n",
       "          8.49024751, 8.38526402, 8.43537841, 8.60994371, 8.56649266,\n",
       "          8.40992875, 8.41856118, 8.3671035 , 8.24085006, 8.28298192,\n",
       "          8.27065841, 8.27022157, 8.30123493, 8.18108437, 8.1521607 ,\n",
       "          8.26351951, 8.15806867, 8.11347238, 8.00019073, 7.85630433,\n",
       "          7.8034584 , 7.64451017, 7.85533791, 7.91168577, 7.85549294,\n",
       "          7.93711367, 7.98551472, 7.67233069, 7.62773595, 7.46998289,\n",
       "          7.51032455, 7.63534475, 7.61169102, 7.40121663, 7.46368549,\n",
       "          7.48845747, 7.36344577, 7.44237844, 7.38455826, 7.05202115,\n",
       "          7.28931747, 7.57193626, 7.31990245, 7.10682647, 7.09531894,\n",
       "          7.03363896, 7.02963319, 6.98162481, 6.90242404, 6.97518459,\n",
       "          6.72986961, 2.81308797, 5.79584146, 6.41281843, 6.72745288,\n",
       "          7.02202275, 7.11883571, 7.24849909, 7.29179017, 7.08510465,\n",
       "          7.13324195, 7.32235329, 7.43309854, 7.11740407, 7.29082571,\n",
       "          7.3266276 , 7.44665543, 7.39202774, 7.37790136, 7.47456944,\n",
       "          7.2280636 , 7.26269071, 7.20855376, 6.97401314, 7.13186219,\n",
       "          7.06085752, 7.04444158, 7.17292235, 7.32453356, 7.2373484 ,\n",
       "          7.27393548, 7.39125729, 7.1036529 , 7.27671153, 7.13711889,\n",
       "          7.2392289 , 7.18157332, 7.07959131, 7.26368   , 7.37703924,\n",
       "          7.49387914, 7.45746235, 7.54778317, 7.57372628, 7.46214132,\n",
       "          7.51235892, 7.42211208, 7.39986229, 7.33662933, 7.37817178,\n",
       "          7.30352054, 7.51348789, 7.51394293, 7.63009539, 7.731832  ,\n",
       "          7.54717809, 7.62770774, 7.60144036, 7.45599176, 7.43318951,\n",
       "          7.44700743, 7.73293245, 7.66901907, 7.61000848, 7.55631413,\n",
       "          7.65799056, 7.62934384, 7.69782498]]),\n",
       "  'b': array([[ 0.00000000e+00,  2.64343989e-07, -6.97746623e-08,\n",
       "          -8.62763188e-07, -3.52857009e-07, -5.05307036e-07,\n",
       "          -5.17205744e-07, -3.11004562e-08, -1.47862510e-07,\n",
       "          -1.52246660e-07,  5.68138452e-07, -4.23406108e-07,\n",
       "          -7.39605134e-07, -9.61337686e-07, -9.82370946e-07,\n",
       "          -8.78228095e-07, -8.14434102e-07, -6.84609871e-07,\n",
       "          -3.09017653e-07, -2.64910766e-07, -4.66286654e-07,\n",
       "          -3.41775851e-08,  2.88613547e-07,  5.55448917e-08,\n",
       "           5.26927428e-08, -7.25813489e-07, -5.37289075e-07,\n",
       "          -4.42433643e-07, -1.10789420e-06, -1.12544552e-06,\n",
       "          -7.31694690e-07, -7.25302301e-07, -5.99632037e-07,\n",
       "          -2.42036810e-07, -7.40347120e-07,  1.72331842e-07,\n",
       "           7.05880166e-07,  5.93571504e-07,  6.87545200e-07,\n",
       "           5.84075728e-07,  8.93679410e-08,  3.19898606e-07,\n",
       "           2.52727213e-07,  2.69232605e-08,  3.25838702e-07,\n",
       "           1.99313721e-07,  1.08015663e-06,  1.12228821e-06,\n",
       "           1.12391728e-06,  1.32439230e-06,  7.37474234e-07,\n",
       "           6.07812654e-07,  2.13841747e-07,  4.84078621e-07,\n",
       "           2.57489089e-07,  1.76024393e-07,  2.95698168e-07,\n",
       "          -3.06807099e-08,  2.17594038e-07,  1.67152417e-07,\n",
       "           1.23818538e-07,  7.55602132e-07,  7.98381495e-07,\n",
       "           3.51101200e-07,  4.23660538e-07,  2.80083289e-07,\n",
       "          -1.19917728e-07,  1.14843116e-09,  4.76131063e-08,\n",
       "          -1.34568676e-07,  1.90903515e-07, -1.65406704e-07,\n",
       "           1.21077607e-08,  5.71621221e-07,  3.74887543e-07,\n",
       "          -1.65503981e-07, -1.21224714e-07, -2.74389999e-07,\n",
       "          -6.52491109e-07, -4.51907623e-07, -4.46300129e-07,\n",
       "          -4.03071996e-07, -2.63145082e-07, -6.22767511e-07,\n",
       "          -6.53395198e-07, -2.30356206e-07, -5.46040404e-07,\n",
       "          -6.34683308e-07, -9.35087146e-07, -1.30375575e-06,\n",
       "          -1.34312375e-06, -1.71936789e-06, -8.70222637e-07,\n",
       "          -6.02201893e-07, -7.22477951e-07, -3.88052674e-07,\n",
       "          -1.93776452e-07, -1.18038216e-06, -1.20558406e-06,\n",
       "          -1.59174356e-06, -1.30298245e-06, -7.71100842e-07,\n",
       "          -7.69967094e-07, -1.36903666e-06, -1.03147171e-06,\n",
       "          -8.48751024e-07, -1.16542575e-06, -7.95338799e-07,\n",
       "          -9.01527831e-07, -1.87952075e-06, -9.29339543e-07,\n",
       "           7.14018523e-08, -7.45300736e-07, -1.35519361e-06,\n",
       "          -1.25663388e-06, -1.32909022e-06, -1.20904434e-06,\n",
       "          -1.24234497e-06, -1.37250907e-06, -1.00153876e-06,\n",
       "          -1.68936255e-06, -1.41015845e-05, -3.11043040e-06,\n",
       "          -8.17575803e-07,  2.74826970e-07,  1.19353654e-06,\n",
       "           1.38515404e-06,  1.66312863e-06,  1.63586700e-06,\n",
       "           8.08377406e-07,  8.82159973e-07,  1.40138929e-06,\n",
       "           1.61697308e-06,  4.41223338e-07,  9.54150420e-07,\n",
       "           9.73732501e-07,  1.26189995e-06,  9.60235729e-07,\n",
       "           8.18833796e-07,  1.04745729e-06,  1.50902800e-07,\n",
       "           2.47038434e-07,  4.84396283e-08, -7.09776518e-07,\n",
       "          -1.31767121e-07, -3.46665379e-07, -3.64727769e-07,\n",
       "           8.44414086e-08,  5.62990038e-07,  2.26640437e-07,\n",
       "           3.21497742e-07,  6.66198481e-07, -3.24242394e-07,\n",
       "           2.64067445e-07, -2.10728054e-07,  1.38334721e-07,\n",
       "          -6.06956535e-08, -3.82204124e-07,  2.47331910e-07,\n",
       "           5.86721222e-07,  9.03350890e-07,  6.96038185e-07,\n",
       "           9.16553450e-07,  9.08227756e-07,  4.58978349e-07,\n",
       "           5.74384043e-07,  2.27060508e-07,  1.32884861e-07,\n",
       "          -8.35157194e-08,  5.82753297e-08, -1.87340939e-07,\n",
       "           5.05833531e-07,  4.56710360e-07,  7.84133361e-07,\n",
       "           1.03250768e-06,  3.36123865e-07,  5.61181228e-07,\n",
       "           4.20687577e-07, -8.85804113e-08, -1.52965610e-07,\n",
       "          -9.32838501e-08,  8.34469604e-07,  5.45722948e-07,\n",
       "           3.01600097e-07,  9.89666676e-08,  4.15666372e-07,\n",
       "           2.82081898e-07,  4.73842369e-07]]),\n",
       "  'obs_sigma': array([0.16809559]),\n",
       "  'nu': array([5.00003779]),\n",
       "  'lev_sm': array([0.65807967]),\n",
       "  'slp_sm': array([3.21211756e-06]),\n",
       "  'lt_sum': array([[8.45212333, 8.45212333, 8.53441943, 8.43863077, 8.18958369,\n",
       "          8.32146829, 8.26302174, 8.24358568, 8.37881878, 8.34149994,\n",
       "          8.33553165, 8.55506349, 8.26406171, 8.15244009, 8.06038373,\n",
       "          8.02390627, 8.02574407, 8.01826266, 8.03332401, 8.12894017,\n",
       "          8.13305097, 8.06211075, 8.18211891, 8.28154684, 8.21797285,\n",
       "          8.21881419, 7.97808855, 8.01418359, 8.02698675, 7.80603994,\n",
       "          7.76608374, 7.85362853, 7.83283877, 7.84938184, 7.94204076,\n",
       "          7.77937045, 8.04045827, 8.21192881, 8.19894083, 8.24667658,\n",
       "          8.2358696 , 8.10004022, 8.17459178, 8.16363925, 8.10120967,\n",
       "          8.19510683, 8.16586116, 8.44629218, 8.4930372 , 8.52848457,\n",
       "          8.62588779, 8.4843996 , 8.46699289, 8.36326411, 8.45405233,\n",
       "          8.39858085, 8.38123551, 8.42397276, 8.3315698 , 8.40790801,\n",
       "          8.39897879, 8.39069195, 8.59123493, 8.62807726, 8.51368508,\n",
       "          8.54720524, 8.51569631, 8.39988702, 8.43384418, 8.44834541,\n",
       "          8.39311055, 8.49024768, 8.38526387, 8.43537842, 8.60994423,\n",
       "          8.56649299, 8.4099286 , 8.41856107, 8.36710326, 8.24084947,\n",
       "          8.28298151, 8.270658  , 8.27022121, 8.30123469, 8.18108381,\n",
       "          8.15216011, 8.2635193 , 8.15806818, 8.11347181, 8.00018988,\n",
       "          7.85630315, 7.80345719, 7.64450862, 7.85533713, 7.91168523,\n",
       "          7.85549229, 7.93711333, 7.98551454, 7.67232962, 7.62773487,\n",
       "          7.46998146, 7.51032338, 7.63534406, 7.61169033, 7.40121539,\n",
       "          7.46368456, 7.48845671, 7.36344472, 7.44237772, 7.38455745,\n",
       "          7.05201945, 7.28931664, 7.57193632, 7.31990178, 7.10682525,\n",
       "          7.09531781, 7.03363776, 7.0296321 , 6.98162369, 6.9024228 ,\n",
       "          6.97518369, 6.72986809, 2.81307528, 5.79583866, 6.4128177 ,\n",
       "          6.72745313, 7.02202383, 7.11883696, 7.24850058, 7.29179164,\n",
       "          7.08510538, 7.13324274, 7.32235455, 7.4331    , 7.11740447,\n",
       "          7.29082657, 7.32662848, 7.44665657, 7.3920286 , 7.3779021 ,\n",
       "          7.47457039, 7.22806374, 7.26269094, 7.20855381, 6.97401251,\n",
       "          7.13186207, 7.06085721, 7.04444125, 7.17292243, 7.32453406,\n",
       "          7.2373486 , 7.27393577, 7.39125789, 7.10365261, 7.27671177,\n",
       "          7.1371187 , 7.23922902, 7.18157326, 7.07959096, 7.26368022,\n",
       "          7.37703977, 7.49387995, 7.45746298, 7.547784  , 7.57372709,\n",
       "          7.46214173, 7.51235944, 7.42211228, 7.39986241, 7.33662925,\n",
       "          7.37817183, 7.30352037, 7.51348835, 7.51394334, 7.6300961 ,\n",
       "          7.73183292, 7.54717839, 7.62770825, 7.60144074, 7.45599168,\n",
       "          7.43318938, 7.44700734, 7.7329332 , 7.66901957, 7.61000875,\n",
       "          7.55631422, 7.65799094, 7.6293441 ]]),\n",
       "  'gt_sum': array([[-1.11409874e-01, -1.07425005e-01, -1.03440136e-01,\n",
       "          -9.94552675e-02, -9.54703986e-02, -9.14855296e-02,\n",
       "          -8.75006607e-02, -8.35157918e-02, -7.95309229e-02,\n",
       "          -7.55460540e-02, -7.15611851e-02, -6.75763162e-02,\n",
       "          -6.35914473e-02, -5.96065784e-02, -5.56217094e-02,\n",
       "          -5.16368405e-02, -4.76519716e-02, -4.36671027e-02,\n",
       "          -3.96822338e-02, -3.56973649e-02, -3.17124960e-02,\n",
       "          -2.77276271e-02, -2.37427582e-02, -1.97578892e-02,\n",
       "          -1.57730203e-02, -1.17881514e-02, -7.80328251e-03,\n",
       "          -3.81841360e-03,  1.66455308e-04,  4.15132422e-03,\n",
       "           8.13619313e-03,  1.21210620e-02,  1.61059310e-02,\n",
       "           2.00907999e-02,  2.40756688e-02,  2.80605377e-02,\n",
       "           3.20454066e-02,  3.60302755e-02,  4.00151444e-02,\n",
       "           4.40000133e-02,  4.79848822e-02,  5.19697512e-02,\n",
       "           5.59546201e-02,  5.99394890e-02,  6.39243579e-02,\n",
       "           6.79092268e-02,  7.18940957e-02,  7.58789646e-02,\n",
       "           7.98638335e-02,  8.38487024e-02,  8.78335714e-02,\n",
       "           9.18184403e-02,  9.58033092e-02,  9.97881781e-02,\n",
       "           1.03773047e-01,  1.07757916e-01,  1.11742785e-01,\n",
       "           1.15727654e-01,  1.19712523e-01,  1.23697392e-01,\n",
       "           1.27682260e-01,  1.31667129e-01,  1.35651998e-01,\n",
       "           1.39636867e-01,  1.43621736e-01,  1.47606605e-01,\n",
       "           1.51591474e-01,  1.55576343e-01,  1.59561212e-01,\n",
       "           1.63546081e-01,  1.67530950e-01,  1.71515818e-01,\n",
       "           1.75500687e-01,  1.79485556e-01,  1.83470425e-01,\n",
       "           1.87455294e-01,  1.91440163e-01,  1.95425032e-01,\n",
       "           1.99409901e-01,  2.03394770e-01,  2.07379639e-01,\n",
       "           2.11364508e-01,  2.15349377e-01,  2.19334245e-01,\n",
       "           2.23319114e-01,  2.27303983e-01,  2.31288852e-01,\n",
       "           2.35273721e-01,  2.39258590e-01,  2.43243459e-01,\n",
       "           2.47228328e-01,  2.51213197e-01,  2.55198066e-01,\n",
       "           2.59182935e-01,  2.63167803e-01,  2.67152672e-01,\n",
       "           2.71137541e-01,  2.75122410e-01,  2.79107279e-01,\n",
       "           2.83092148e-01,  2.87077017e-01,  2.91061886e-01,\n",
       "           2.95046755e-01,  2.99031624e-01,  3.03016493e-01,\n",
       "           3.07001361e-01,  3.10986230e-01,  3.14971099e-01,\n",
       "           3.18955968e-01,  3.22940837e-01,  3.26925706e-01,\n",
       "           3.30910575e-01,  3.34895444e-01,  3.38880313e-01,\n",
       "           3.42865182e-01,  3.46850051e-01,  3.50834919e-01,\n",
       "           3.54819788e-01,  3.58804657e-01,  3.62789526e-01,\n",
       "           3.66774395e-01,  3.70759264e-01,  3.74744133e-01,\n",
       "           3.78729002e-01,  3.82713871e-01,  3.86698740e-01,\n",
       "           3.90683609e-01,  3.94668478e-01,  3.98653346e-01,\n",
       "           4.02638215e-01,  4.06623084e-01,  4.10607953e-01,\n",
       "           4.14592822e-01,  4.18577691e-01,  4.22562560e-01,\n",
       "           4.26547429e-01,  4.30532298e-01,  4.34517167e-01,\n",
       "           4.38502036e-01,  4.42486904e-01,  4.46471773e-01,\n",
       "           4.50456642e-01,  4.54441511e-01,  4.58426380e-01,\n",
       "           4.62411249e-01,  4.66396118e-01,  4.70380987e-01,\n",
       "           4.74365856e-01,  4.78350725e-01,  4.82335594e-01,\n",
       "           4.86320462e-01,  4.90305331e-01,  4.94290200e-01,\n",
       "           4.98275069e-01,  5.02259938e-01,  5.06244807e-01,\n",
       "           5.10229676e-01,  5.14214545e-01,  5.18199414e-01,\n",
       "           5.22184283e-01,  5.26169152e-01,  5.30154020e-01,\n",
       "           5.34138889e-01,  5.38123758e-01,  5.42108627e-01,\n",
       "           5.46093496e-01,  5.50078365e-01,  5.54063234e-01,\n",
       "           5.58048103e-01,  5.62032972e-01,  5.66017841e-01,\n",
       "           5.70002710e-01,  5.73987579e-01,  5.77972447e-01,\n",
       "           5.81957316e-01,  5.85942185e-01,  5.89927054e-01,\n",
       "           5.93911923e-01,  5.97896792e-01,  6.01881661e-01,\n",
       "           6.05866530e-01,  6.09851399e-01,  6.13836268e-01,\n",
       "           6.17821137e-01,  6.21806005e-01,  6.25790874e-01,\n",
       "           6.29775743e-01,  6.33760612e-01]]),\n",
       "  'gb': array([0.00398487]),\n",
       "  'gl': array([-0.11140987]),\n",
       "  's': array([[ 0.34365871, -0.10535949,  0.07120167, -0.23695422, -0.10398212,\n",
       "          -0.18243453, -0.03616694,  0.06174567, -0.22055923,  0.09610326,\n",
       "          -0.07877311,  0.39152034,  0.34365871, -0.1018646 ,  0.06713378,\n",
       "          -0.24753057, -0.09838131, -0.18491658, -0.03699232,  0.06748867,\n",
       "          -0.22214406,  0.09584981, -0.06945018,  0.37916226,  0.33891846,\n",
       "          -0.10577396,  0.06558471, -0.24745249, -0.098699  , -0.18427694,\n",
       "          -0.03293174,  0.06766325, -0.22515669,  0.10094624, -0.06522774,\n",
       "           0.37646244,  0.33895419, -0.11599693,  0.0671176 , -0.24690876,\n",
       "          -0.10808199, -0.18597373, -0.02921391,  0.0667804 , -0.22445413,\n",
       "           0.10488123, -0.0721359 ,  0.38755015,  0.34623607, -0.11654851,\n",
       "           0.06914478, -0.24736772, -0.11385032, -0.18280773, -0.02967905,\n",
       "           0.06412917, -0.22046657,  0.10363924, -0.06022677,  0.38953525,\n",
       "           0.34774138, -0.1124121 ,  0.06313612, -0.24810696, -0.11825542,\n",
       "          -0.17895221, -0.03203479,  0.06339255, -0.21865164,  0.09971513,\n",
       "          -0.05698489,  0.38915604,  0.34738946, -0.10389559,  0.06470069,\n",
       "          -0.25296492, -0.11683192, -0.18029032, -0.0369529 ,  0.06483463,\n",
       "          -0.21803581,  0.09736945, -0.05285973,  0.38469766,  0.34951769,\n",
       "          -0.09648226,  0.06285541, -0.25961379, -0.11646532, -0.18247559,\n",
       "          -0.04231455,  0.06662388, -0.21855914,  0.09735092, -0.05154266,\n",
       "           0.37959519,  0.3482894 , -0.09175311,  0.0583772 , -0.26150766,\n",
       "          -0.12127607, -0.18858604, -0.04455873,  0.05987381, -0.20960577,\n",
       "           0.0997439 , -0.053929  ,  0.38306144,  0.35034488, -0.10505322,\n",
       "           0.05648342, -0.26820698, -0.11956281, -0.18327671, -0.04556321,\n",
       "           0.05093554, -0.20695283,  0.10079594, -0.05923789,  0.38641355,\n",
       "           0.34788944, -0.11917517,  0.06656085, -0.25620486, -0.13026603,\n",
       "          -0.19232546, -0.04605185,  0.0483162 , -0.20712289,  0.09875719,\n",
       "          -0.0626013 ,  0.38950355,  0.33747159, -0.28551065,  0.19323118,\n",
       "          -0.23000333, -0.11690429, -0.17981585, -0.0419405 ,  0.05382262,\n",
       "          -0.2052845 ,  0.08997973, -0.06055706,  0.39753458,  0.3421746 ,\n",
       "          -0.29891744,  0.20059593, -0.22848295, -0.11180706, -0.1821358 ,\n",
       "          -0.04254045,  0.05792783, -0.215753  ,  0.09145025, -0.06285613,\n",
       "           0.38757425,  0.34887807, -0.30193282,  0.19989881, -0.22302669,\n",
       "          -0.10536853, -0.18583835, -0.0409867 ,  0.06291017, -0.22796684,\n",
       "           0.09879961, -0.06878427,  0.39191061,  0.34642958, -0.30626373,\n",
       "           0.20771659, -0.21821263, -0.10040666, -0.18738491, -0.03715104,\n",
       "           0.06401187, -0.23270559,  0.10093221, -0.07261684,  0.39096571,\n",
       "           0.34374423, -0.30449952,  0.20454634, -0.20929585, -0.10038736,\n",
       "          -0.18245223, -0.03283058,  0.05617006, -0.22928572,  0.09981668,\n",
       "          -0.07879369,  0.38999736,  0.34433105, -0.29235703,  0.20183207,\n",
       "          -0.2118019 , -0.10266763, -0.1781343 , -0.03404714,  0.05907826]]),\n",
       "  'sea_sm': array([0.08173522])}}"
      ]
     },
     "execution_count": 10,
     "metadata": {},
     "output_type": "execute_result"
    }
   ],
   "source": [
    "dlt_map.aggregated_posteriors"
   ]
  },
  {
   "cell_type": "code",
   "execution_count": 11,
   "metadata": {
    "ExecuteTime": {
     "end_time": "2020-01-27T14:25:10.893400Z",
     "start_time": "2020-01-27T14:25:10.875077Z"
    }
   },
   "outputs": [],
   "source": [
    "predicted_df = dlt_map.predict(df=test_df)"
   ]
  },
  {
   "cell_type": "code",
   "execution_count": 12,
   "metadata": {
    "ExecuteTime": {
     "end_time": "2020-01-27T14:25:11.352814Z",
     "start_time": "2020-01-27T14:25:11.342189Z"
    },
    "scrolled": true
   },
   "outputs": [
    {
     "data": {
      "text/html": [
       "<div>\n",
       "<style scoped>\n",
       "    .dataframe tbody tr th:only-of-type {\n",
       "        vertical-align: middle;\n",
       "    }\n",
       "\n",
       "    .dataframe tbody tr th {\n",
       "        vertical-align: top;\n",
       "    }\n",
       "\n",
       "    .dataframe thead th {\n",
       "        text-align: right;\n",
       "    }\n",
       "</style>\n",
       "<table border=\"1\" class=\"dataframe\">\n",
       "  <thead>\n",
       "    <tr style=\"text-align: right;\">\n",
       "      <th></th>\n",
       "      <th>date</th>\n",
       "      <th>prediction</th>\n",
       "    </tr>\n",
       "  </thead>\n",
       "  <tbody>\n",
       "    <tr>\n",
       "      <th>0</th>\n",
       "      <td>1985-09-30</td>\n",
       "      <td>3660.671430</td>\n",
       "    </tr>\n",
       "    <tr>\n",
       "      <th>1</th>\n",
       "      <td>1985-10-31</td>\n",
       "      <td>5108.439320</td>\n",
       "    </tr>\n",
       "    <tr>\n",
       "      <th>2</th>\n",
       "      <td>1985-11-30</td>\n",
       "      <td>4289.592338</td>\n",
       "    </tr>\n",
       "    <tr>\n",
       "      <th>3</th>\n",
       "      <td>1985-12-31</td>\n",
       "      <td>6883.650906</td>\n",
       "    </tr>\n",
       "    <tr>\n",
       "      <th>4</th>\n",
       "      <td>1986-01-31</td>\n",
       "      <td>6602.545426</td>\n",
       "    </tr>\n",
       "  </tbody>\n",
       "</table>\n",
       "</div>"
      ],
      "text/plain": [
       "        date   prediction\n",
       "0 1985-09-30  3660.671430\n",
       "1 1985-10-31  5108.439320\n",
       "2 1985-11-30  4289.592338\n",
       "3 1985-12-31  6883.650906\n",
       "4 1986-01-31  6602.545426"
      ]
     },
     "execution_count": 12,
     "metadata": {},
     "output_type": "execute_result"
    }
   ],
   "source": [
    "predicted_df.head(5)"
   ]
  },
  {
   "cell_type": "code",
   "execution_count": 13,
   "metadata": {
    "ExecuteTime": {
     "end_time": "2020-01-27T14:25:11.995488Z",
     "start_time": "2020-01-27T14:25:11.696571Z"
    }
   },
   "outputs": [
    {
     "data": {
      "image/png": "[encoded data removed]",
      "text/plain": [
       "<Figure size 1152x576 with 1 Axes>"
      ]
     },
     "metadata": {
      "needs_background": "light"
     },
     "output_type": "display_data"
    }
   ],
   "source": [
    "plot_predicted_data(training_actual_df=train_df, predicted_df=predicted_df, \n",
    "                    date_col=dlt_map.date_col, actual_col=dlt_map.response_col, pred_col='prediction', \n",
    "                    test_actual_df=test_df)"
   ]
  },
  {
   "cell_type": "markdown",
   "metadata": {},
   "source": [
    "## MCMC Fit and Predict"
   ]
  },
  {
   "cell_type": "code",
   "execution_count": null,
   "metadata": {
    "ExecuteTime": {
     "end_time": "2020-01-24T04:08:23.182856Z",
     "start_time": "2020-01-24T04:08:23.178844Z"
    }
   },
   "outputs": [],
   "source": [
    "dlt_mcmc = DLT(\n",
    "    response_col='claims',\n",
    "    date_col='week',\n",
    "    seasonality=52,\n",
    "    num_warmup=4000, \n",
    "    num_sample=500,\n",
    "    sample_method='mcmc',\n",
    "    predict_method='full',\n",
    "    n_bootstrap_draws=500\n",
    ")"
   ]
  },
  {
   "cell_type": "code",
   "execution_count": null,
   "metadata": {
    "ExecuteTime": {
     "end_time": "2020-01-24T04:09:00.435577Z",
     "start_time": "2020-01-24T04:08:24.028472Z"
    }
   },
   "outputs": [],
   "source": [
    "dlt_mcmc.fit(df=train_df)"
   ]
  },
  {
   "cell_type": "code",
   "execution_count": null,
   "metadata": {
    "ExecuteTime": {
     "end_time": "2020-01-24T04:09:00.497212Z",
     "start_time": "2020-01-24T04:09:00.437901Z"
    }
   },
   "outputs": [],
   "source": [
    "predicted_df = dlt_mcmc.predict(df=test_df)"
   ]
  },
  {
   "cell_type": "code",
   "execution_count": null,
   "metadata": {
    "ExecuteTime": {
     "end_time": "2020-01-24T04:09:00.511490Z",
     "start_time": "2020-01-24T04:09:00.499456Z"
    },
    "scrolled": true
   },
   "outputs": [],
   "source": [
    "predicted_df.tail(5)"
   ]
  },
  {
   "cell_type": "code",
   "execution_count": null,
   "metadata": {
    "ExecuteTime": {
     "end_time": "2020-01-24T04:09:00.852298Z",
     "start_time": "2020-01-24T04:09:00.514641Z"
    }
   },
   "outputs": [],
   "source": [
    "plot_predicted_data(training_actual_df=train_df, predicted_df=predicted_df, \n",
    "                    date_col=dlt_mcmc.date_col, actual_col=dlt_mcmc.response_col, pred_col=50, \n",
    "                    pred_quantiles_col=[5,95], test_actual_df=test_df)"
   ]
  },
  {
   "cell_type": "markdown",
   "metadata": {},
   "source": [
    "## Mean Fit and Predict Decomp"
   ]
  },
  {
   "cell_type": "code",
   "execution_count": null,
   "metadata": {
    "ExecuteTime": {
     "end_time": "2020-01-24T04:09:00.856976Z",
     "start_time": "2020-01-24T04:09:00.853636Z"
    }
   },
   "outputs": [],
   "source": [
    "dlt_mean=DLT(\n",
    "    response_col='claims',\n",
    "    date_col='week',\n",
    "    seasonality=52,\n",
    "    seed=8888,\n",
    "    predict_method='mean'\n",
    ")"
   ]
  },
  {
   "cell_type": "code",
   "execution_count": null,
   "metadata": {
    "ExecuteTime": {
     "end_time": "2020-01-24T04:09:24.151504Z",
     "start_time": "2020-01-24T04:09:00.858841Z"
    }
   },
   "outputs": [],
   "source": [
    "dlt_mean.fit(df=train_df)"
   ]
  },
  {
   "cell_type": "code",
   "execution_count": null,
   "metadata": {
    "ExecuteTime": {
     "end_time": "2020-01-24T04:09:24.177855Z",
     "start_time": "2020-01-24T04:09:24.153590Z"
    }
   },
   "outputs": [],
   "source": [
    "predicted_df = dlt_mean.predict(df=test_df, decompose=True)"
   ]
  },
  {
   "cell_type": "code",
   "execution_count": null,
   "metadata": {
    "ExecuteTime": {
     "end_time": "2020-01-24T04:09:24.198420Z",
     "start_time": "2020-01-24T04:09:24.182149Z"
    },
    "scrolled": true
   },
   "outputs": [],
   "source": [
    "predicted_df.head(5)"
   ]
  },
  {
   "cell_type": "code",
   "execution_count": null,
   "metadata": {
    "ExecuteTime": {
     "end_time": "2020-01-24T04:09:24.537836Z",
     "start_time": "2020-01-24T04:09:24.200932Z"
    }
   },
   "outputs": [],
   "source": [
    "plot_predicted_data(training_actual_df=train_df, predicted_df=predicted_df, \n",
    "                    date_col=dlt_mean.date_col, actual_col=dlt_mean.response_col, pred_col='prediction', \n",
    "                    test_actual_df=test_df)"
   ]
  },
  {
   "cell_type": "markdown",
   "metadata": {},
   "source": [
    "## MAP Fit and Decomp with Regression"
   ]
  },
  {
   "cell_type": "code",
   "execution_count": null,
   "metadata": {
    "ExecuteTime": {
     "end_time": "2020-01-24T04:09:24.543674Z",
     "start_time": "2020-01-24T04:09:24.539455Z"
    }
   },
   "outputs": [],
   "source": [
    "dlt_reg=DLT(\n",
    "    response_col='claims',\n",
    "    regressor_col=['trend.unemploy', 'trend.filling'],\n",
    "    date_col='week',\n",
    "    seasonality=52,\n",
    "    seed=8888,\n",
    "    predict_method='map'\n",
    ")"
   ]
  },
  {
   "cell_type": "code",
   "execution_count": null,
   "metadata": {
    "ExecuteTime": {
     "end_time": "2020-01-24T04:09:25.007653Z",
     "start_time": "2020-01-24T04:09:24.545857Z"
    }
   },
   "outputs": [],
   "source": [
    "dlt_reg.fit(df=train_df)"
   ]
  },
  {
   "cell_type": "code",
   "execution_count": null,
   "metadata": {
    "ExecuteTime": {
     "end_time": "2020-01-24T04:09:25.020884Z",
     "start_time": "2020-01-24T04:09:25.009184Z"
    }
   },
   "outputs": [],
   "source": [
    "predicted_df = dlt_reg.predict(df=test_df, decompose=True)"
   ]
  },
  {
   "cell_type": "code",
   "execution_count": null,
   "metadata": {
    "ExecuteTime": {
     "end_time": "2020-01-24T04:09:25.032482Z",
     "start_time": "2020-01-24T04:09:25.022298Z"
    },
    "scrolled": true
   },
   "outputs": [],
   "source": [
    "predicted_df.head(5)"
   ]
  },
  {
   "cell_type": "code",
   "execution_count": null,
   "metadata": {},
   "outputs": [],
   "source": []
  }
 ],
 "metadata": {
  "kernelspec": {
   "display_name": "Python 3",
   "language": "python",
   "name": "python3"
  },
  "language_info": {
   "codemirror_mode": {
    "name": "ipython",
    "version": 3
   },
   "file_extension": ".py",
   "mimetype": "text/x-python",
   "name": "python",
   "nbconvert_exporter": "python",
   "pygments_lexer": "ipython3",
   "version": "3.6.8"
  },
  "toc": {
   "base_numbering": 1,
   "nav_menu": {},
   "number_sections": true,
   "sideBar": true,
   "skip_h1_title": true,
   "title_cell": "Table of Contents",
   "title_sidebar": "Contents",
   "toc_cell": false,
   "toc_position": {},
   "toc_section_display": true,
   "toc_window_display": true
  }
 },
 "nbformat": 4,
 "nbformat_minor": 2
}
