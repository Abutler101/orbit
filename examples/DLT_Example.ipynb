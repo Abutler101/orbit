{
 "cells": [
  {
   "cell_type": "markdown",
   "metadata": {},
   "source": [
    "# Damped-Local-Trend(DLT) Example"
   ]
  },
  {
   "cell_type": "code",
   "execution_count": 1,
   "metadata": {
    "ExecuteTime": {
     "end_time": "2020-05-15T08:42:02.489422Z",
     "start_time": "2020-05-15T08:42:00.734176Z"
    }
   },
   "outputs": [],
   "source": [
    "import pandas as pd\n",
    "import numpy as np\n",
    "from orbit.models.dlt import DLTMAP\n",
    "# from orbit.utils.plot import plot_predicted_data\n",
    "# from orbit.utils.plot import plot_predicted_components"
   ]
  },
  {
   "cell_type": "markdown",
   "metadata": {},
   "source": [
    "## Data"
   ]
  },
  {
   "cell_type": "code",
   "execution_count": 2,
   "metadata": {
    "ExecuteTime": {
     "end_time": "2020-05-15T08:42:02.540649Z",
     "start_time": "2020-05-15T08:42:02.516869Z"
    }
   },
   "outputs": [],
   "source": [
    "DATA_FILE = \"./data/iclaims_example.csv\""
   ]
  },
  {
   "cell_type": "code",
   "execution_count": 3,
   "metadata": {
    "ExecuteTime": {
     "end_time": "2020-05-15T08:42:02.603115Z",
     "start_time": "2020-05-15T08:42:02.542903Z"
    }
   },
   "outputs": [],
   "source": [
    "df = pd.read_csv(DATA_FILE, parse_dates=['week'])"
   ]
  },
  {
   "cell_type": "code",
   "execution_count": 4,
   "metadata": {
    "ExecuteTime": {
     "end_time": "2020-05-15T08:42:02.638576Z",
     "start_time": "2020-05-15T08:42:02.605025Z"
    }
   },
   "outputs": [
    {
     "data": {
      "text/html": [
       "<div>\n",
       "<style scoped>\n",
       "    .dataframe tbody tr th:only-of-type {\n",
       "        vertical-align: middle;\n",
       "    }\n",
       "\n",
       "    .dataframe tbody tr th {\n",
       "        vertical-align: top;\n",
       "    }\n",
       "\n",
       "    .dataframe thead th {\n",
       "        text-align: right;\n",
       "    }\n",
       "</style>\n",
       "<table border=\"1\" class=\"dataframe\">\n",
       "  <thead>\n",
       "    <tr style=\"text-align: right;\">\n",
       "      <th></th>\n",
       "      <th>week</th>\n",
       "      <th>claims</th>\n",
       "      <th>trend.unemploy</th>\n",
       "      <th>trend.filling</th>\n",
       "      <th>trend.job</th>\n",
       "    </tr>\n",
       "  </thead>\n",
       "  <tbody>\n",
       "    <tr>\n",
       "      <th>0</th>\n",
       "      <td>2010-01-03</td>\n",
       "      <td>651215</td>\n",
       "      <td>1.183973</td>\n",
       "      <td>0.720140</td>\n",
       "      <td>1.119669</td>\n",
       "    </tr>\n",
       "    <tr>\n",
       "      <th>1</th>\n",
       "      <td>2010-01-10</td>\n",
       "      <td>825891</td>\n",
       "      <td>1.183973</td>\n",
       "      <td>0.814896</td>\n",
       "      <td>1.178599</td>\n",
       "    </tr>\n",
       "    <tr>\n",
       "      <th>2</th>\n",
       "      <td>2010-01-17</td>\n",
       "      <td>659173</td>\n",
       "      <td>1.203382</td>\n",
       "      <td>0.739091</td>\n",
       "      <td>1.119669</td>\n",
       "    </tr>\n",
       "    <tr>\n",
       "      <th>3</th>\n",
       "      <td>2010-01-24</td>\n",
       "      <td>507651</td>\n",
       "      <td>1.164564</td>\n",
       "      <td>0.814896</td>\n",
       "      <td>1.107883</td>\n",
       "    </tr>\n",
       "    <tr>\n",
       "      <th>4</th>\n",
       "      <td>2010-01-31</td>\n",
       "      <td>538617</td>\n",
       "      <td>1.086926</td>\n",
       "      <td>0.776993</td>\n",
       "      <td>1.072525</td>\n",
       "    </tr>\n",
       "  </tbody>\n",
       "</table>\n",
       "</div>"
      ],
      "text/plain": [
       "        week  claims  trend.unemploy  trend.filling  trend.job\n",
       "0 2010-01-03  651215        1.183973       0.720140   1.119669\n",
       "1 2010-01-10  825891        1.183973       0.814896   1.178599\n",
       "2 2010-01-17  659173        1.203382       0.739091   1.119669\n",
       "3 2010-01-24  507651        1.164564       0.814896   1.107883\n",
       "4 2010-01-31  538617        1.086926       0.776993   1.072525"
      ]
     },
     "execution_count": 4,
     "metadata": {},
     "output_type": "execute_result"
    }
   ],
   "source": [
    "df.head(5)"
   ]
  },
  {
   "cell_type": "markdown",
   "metadata": {},
   "source": [
    "## The DLT Model"
   ]
  },
  {
   "cell_type": "markdown",
   "metadata": {},
   "source": [
    "Just like `orbit.lgt.LGT` it is a variation of traditional exponential smoothing models.  The difference between `DLT` and `LGT` are mainly:\n",
    "\n",
    "- It introduces a damped factor on local trend\n",
    "- It models global trend as a determinstic projection\n",
    "\n",
    "There are four options in modeling the `global trend` with the `global_trend_option` arguemnt:\n",
    "\n",
    "1. `linear`\n",
    "2. `loglinear`\n",
    "3. `logistic`\n",
    "4. `flat`\n",
    "\n",
    "The behavior of these three options will depend on the condition of `is_multiplicative` as well.  Below, we only show cases with condition when `is_multiplicative` as `True` since it is the default."
   ]
  },
  {
   "cell_type": "markdown",
   "metadata": {},
   "source": [
    "## Linear Trend"
   ]
  },
  {
   "cell_type": "markdown",
   "metadata": {},
   "source": [
    "In multiplicative model, the linear trend as default will be transformed as exponential growh/decay."
   ]
  },
  {
   "cell_type": "code",
   "execution_count": 5,
   "metadata": {
    "ExecuteTime": {
     "end_time": "2020-05-15T08:42:02.665696Z",
     "start_time": "2020-05-15T08:42:02.640611Z"
    }
   },
   "outputs": [],
   "source": [
    "dlt = DLTMAP(\n",
    "    response_col='claims',\n",
    "    date_col='week',\n",
    "    seasonality=52,\n",
    "    seed=2020,\n",
    "    is_multiplicative=True,\n",
    ")"
   ]
  },
  {
   "cell_type": "code",
   "execution_count": 6,
   "metadata": {
    "ExecuteTime": {
     "end_time": "2020-05-15T08:42:50.721611Z",
     "start_time": "2020-05-15T08:42:02.667647Z"
    },
    "scrolled": true
   },
   "outputs": [],
   "source": [
    "dlt.fit(df)"
   ]
  },
  {
   "cell_type": "code",
   "execution_count": 7,
   "metadata": {
    "ExecuteTime": {
     "end_time": "2020-05-15T08:42:50.761333Z",
     "start_time": "2020-05-15T08:42:50.726742Z"
    }
   },
   "outputs": [],
   "source": [
    "from datetime import timedelta\n",
    "num_periods = 52 * 4\n",
    "freq = 7\n",
    "date_col = dlt.date_col\n",
    "last_dt = (df[date_col].dt.to_pydatetime())[-1]\n",
    "dts = [last_dt + timedelta(days=x * freq) for x in range(1, num_periods + 1)]\n",
    "future_df = pd.DataFrame(dts, columns=[date_col])"
   ]
  },
  {
   "cell_type": "code",
   "execution_count": 9,
   "metadata": {
    "ExecuteTime": {
     "end_time": "2020-05-15T08:42:50.826069Z",
     "start_time": "2020-05-15T08:42:50.764619Z"
    }
   },
   "outputs": [],
   "source": [
    "predicted_df = dlt.predict(df=future_df, decompose=True)"
   ]
  },
  {
   "cell_type": "code",
   "execution_count": 10,
   "metadata": {},
   "outputs": [
    {
     "data": {
      "text/html": [
       "<div>\n",
       "<style scoped>\n",
       "    .dataframe tbody tr th:only-of-type {\n",
       "        vertical-align: middle;\n",
       "    }\n",
       "\n",
       "    .dataframe tbody tr th {\n",
       "        vertical-align: top;\n",
       "    }\n",
       "\n",
       "    .dataframe thead th {\n",
       "        text-align: right;\n",
       "    }\n",
       "</style>\n",
       "<table border=\"1\" class=\"dataframe\">\n",
       "  <thead>\n",
       "    <tr style=\"text-align: right;\">\n",
       "      <th></th>\n",
       "      <th>week</th>\n",
       "      <th>prediction</th>\n",
       "      <th>trend</th>\n",
       "      <th>seasonality</th>\n",
       "      <th>regression</th>\n",
       "    </tr>\n",
       "  </thead>\n",
       "  <tbody>\n",
       "    <tr>\n",
       "      <th>205</th>\n",
       "      <td>2022-06-05</td>\n",
       "      <td>136794.189601</td>\n",
       "      <td>135409.462247</td>\n",
       "      <td>1.010226</td>\n",
       "      <td>1.0</td>\n",
       "    </tr>\n",
       "    <tr>\n",
       "      <th>206</th>\n",
       "      <td>2022-06-12</td>\n",
       "      <td>130714.395636</td>\n",
       "      <td>135110.071910</td>\n",
       "      <td>0.967466</td>\n",
       "      <td>1.0</td>\n",
       "    </tr>\n",
       "    <tr>\n",
       "      <th>207</th>\n",
       "      <td>2022-06-19</td>\n",
       "      <td>139609.251617</td>\n",
       "      <td>134811.343525</td>\n",
       "      <td>1.035590</td>\n",
       "      <td>1.0</td>\n",
       "    </tr>\n",
       "  </tbody>\n",
       "</table>\n",
       "</div>"
      ],
      "text/plain": [
       "          week     prediction          trend  seasonality  regression\n",
       "205 2022-06-05  136794.189601  135409.462247     1.010226         1.0\n",
       "206 2022-06-12  130714.395636  135110.071910     0.967466         1.0\n",
       "207 2022-06-19  139609.251617  134811.343525     1.035590         1.0"
      ]
     },
     "execution_count": 10,
     "metadata": {},
     "output_type": "execute_result"
    }
   ],
   "source": [
    "predicted_df.tail(3)"
   ]
  },
  {
   "cell_type": "code",
   "execution_count": 9,
   "metadata": {
    "ExecuteTime": {
     "end_time": "2020-05-15T08:42:51.209899Z",
     "start_time": "2020-05-15T08:42:50.827968Z"
    }
   },
   "outputs": [],
   "source": [
    "# plot_predicted_data(training_actual_df=df, predicted_df=predicted_df, \n",
    "#                     date_col=dlt.date_col, actual_col=dlt.response_col, pred_col='prediction')"
   ]
  },
  {
   "cell_type": "markdown",
   "metadata": {},
   "source": [
    "## Log-Linear Trend"
   ]
  },
  {
   "cell_type": "markdown",
   "metadata": {},
   "source": [
    "For users who want to maintain linear trend assumption in the multiplicative model, they can switch to `loglinear` global trend.  "
   ]
  },
  {
   "cell_type": "code",
   "execution_count": 11,
   "metadata": {
    "ExecuteTime": {
     "end_time": "2020-05-15T08:42:51.238801Z",
     "start_time": "2020-05-15T08:42:51.212059Z"
    }
   },
   "outputs": [],
   "source": [
    "dlt_log = DLTMAP(\n",
    "    response_col='claims',\n",
    "    date_col='week',\n",
    "    seasonality=52,\n",
    "    seed=2020,\n",
    "    is_multiplicative=True,\n",
    "    global_trend_option='loglinear',\n",
    ")"
   ]
  },
  {
   "cell_type": "code",
   "execution_count": 12,
   "metadata": {
    "ExecuteTime": {
     "end_time": "2020-05-15T08:42:51.344693Z",
     "start_time": "2020-05-15T08:42:51.240633Z"
    }
   },
   "outputs": [],
   "source": [
    "dlt_log.fit(df=df)"
   ]
  },
  {
   "cell_type": "code",
   "execution_count": 13,
   "metadata": {
    "ExecuteTime": {
     "end_time": "2020-05-15T08:42:51.407863Z",
     "start_time": "2020-05-15T08:42:51.346451Z"
    }
   },
   "outputs": [],
   "source": [
    "predicted_df_dlt_log = dlt_log.predict(df=future_df, decompose=True)"
   ]
  },
  {
   "cell_type": "code",
   "execution_count": 14,
   "metadata": {
    "ExecuteTime": {
     "end_time": "2020-05-15T08:42:51.807844Z",
     "start_time": "2020-05-15T08:42:51.409490Z"
    }
   },
   "outputs": [],
   "source": [
    "# plot_predicted_data(training_actual_df=df, predicted_df=predicted_df_dlt_log, \n",
    "#                     date_col=dlt_log.date_col, actual_col=dlt_log.response_col, pred_col='prediction')"
   ]
  },
  {
   "cell_type": "markdown",
   "metadata": {},
   "source": [
    "## Logistic Global Trend"
   ]
  },
  {
   "cell_type": "markdown",
   "metadata": {},
   "source": [
    "In case of modeling logistic growth/decay, user can switch to `logistic` in the `global_trend_option`. "
   ]
  },
  {
   "cell_type": "code",
   "execution_count": 17,
   "metadata": {
    "ExecuteTime": {
     "end_time": "2020-05-15T08:42:51.835075Z",
     "start_time": "2020-05-15T08:42:51.809874Z"
    }
   },
   "outputs": [],
   "source": [
    "dlt_logit = DLTMAP(\n",
    "    response_col='claims',\n",
    "    date_col='week',\n",
    "    seasonality=52,\n",
    "    seed=2020,\n",
    "    is_multiplicative=True,\n",
    "    global_trend_option='logistic',\n",
    ")"
   ]
  },
  {
   "cell_type": "code",
   "execution_count": 18,
   "metadata": {
    "ExecuteTime": {
     "end_time": "2020-05-15T08:42:52.323913Z",
     "start_time": "2020-05-15T08:42:51.836702Z"
    }
   },
   "outputs": [],
   "source": [
    "dlt_logit.fit(df=df)"
   ]
  },
  {
   "cell_type": "code",
   "execution_count": 19,
   "metadata": {
    "ExecuteTime": {
     "end_time": "2020-05-15T08:42:52.381958Z",
     "start_time": "2020-05-15T08:42:52.325718Z"
    }
   },
   "outputs": [],
   "source": [
    "predicted_df_dlt_logit = dlt_logit.predict(df=future_df, decompose=True)"
   ]
  },
  {
   "cell_type": "code",
   "execution_count": 11,
   "metadata": {
    "ExecuteTime": {
     "end_time": "2020-05-15T08:42:52.696169Z",
     "start_time": "2020-05-15T08:42:52.383444Z"
    }
   },
   "outputs": [],
   "source": [
    "# plot_predicted_data(training_actual_df=df, predicted_df=predicted_df_dlt_logit, \n",
    "#                     date_col=dlt_log.date_col, actual_col=dlt_log.response_col, pred_col='prediction')"
   ]
  },
  {
   "cell_type": "markdown",
   "metadata": {},
   "source": [
    "## Flat Global Trend"
   ]
  },
  {
   "cell_type": "code",
   "execution_count": 21,
   "metadata": {
    "ExecuteTime": {
     "end_time": "2020-05-15T08:42:52.725394Z",
     "start_time": "2020-05-15T08:42:52.697856Z"
    }
   },
   "outputs": [],
   "source": [
    "dlt_logit = DLTMAP(\n",
    "    response_col='claims',\n",
    "    date_col='week',\n",
    "    seasonality=52,\n",
    "    seed=2020,\n",
    "    is_multiplicative=True,\n",
    "    global_trend_option='flat',\n",
    ")"
   ]
  },
  {
   "cell_type": "code",
   "execution_count": 22,
   "metadata": {
    "ExecuteTime": {
     "end_time": "2020-05-15T08:42:52.890274Z",
     "start_time": "2020-05-15T08:42:52.727653Z"
    }
   },
   "outputs": [],
   "source": [
    "dlt_logit.fit(df=df)"
   ]
  },
  {
   "cell_type": "code",
   "execution_count": 23,
   "metadata": {
    "ExecuteTime": {
     "end_time": "2020-05-15T08:42:52.941345Z",
     "start_time": "2020-05-15T08:42:52.891949Z"
    }
   },
   "outputs": [],
   "source": [
    "predicted_df_dlt_logit = dlt_logit.predict(df=future_df, decompose=True)"
   ]
  },
  {
   "cell_type": "code",
   "execution_count": 25,
   "metadata": {
    "ExecuteTime": {
     "end_time": "2020-05-15T08:42:53.259514Z",
     "start_time": "2020-05-15T08:42:52.942964Z"
    }
   },
   "outputs": [],
   "source": [
    "# plot_predicted_data(training_actual_df=df, predicted_df=predicted_df_dlt_logit, \n",
    "#                     date_col=dlt_log.date_col, actual_col=dlt_log.response_col, pred_col='prediction')"
   ]
  }
 ],
 "metadata": {
  "kernelspec": {
   "display_name": "orbit",
   "language": "python",
   "name": "orbit"
  },
  "language_info": {
   "codemirror_mode": {
    "name": "ipython",
    "version": 3
   },
   "file_extension": ".py",
   "mimetype": "text/x-python",
   "name": "python",
   "nbconvert_exporter": "python",
   "pygments_lexer": "ipython3",
   "version": "3.6.8"
  },
  "toc": {
   "base_numbering": 1,
   "nav_menu": {},
   "number_sections": true,
   "sideBar": true,
   "skip_h1_title": true,
   "title_cell": "Table of Contents",
   "title_sidebar": "Contents",
   "toc_cell": false,
   "toc_position": {},
   "toc_section_display": true,
   "toc_window_display": true
  }
 },
 "nbformat": 4,
 "nbformat_minor": 4
}
