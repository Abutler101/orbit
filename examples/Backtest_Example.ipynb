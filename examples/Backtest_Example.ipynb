{
 "cells": [
  {
   "cell_type": "markdown",
   "metadata": {},
   "source": [
    "**BacktestEngine notebook**\n",
    "\n",
    "The purpose of this notebook is to illustrate how to use the `BacktestEngine` class to do the back-testing. To have the greatest flexibility, this engine is designed to work for any model objects which have a `fit` method and a `predict` method, by writing some call back functions. The default settings work for **Orbit** model object automatically. Currently, there are two schemes supported for the back-testing engine: expanding window and rolling window.\n",
    "\n",
    "* expanding window: for each back-testing model training, the train start date is fixed, while the train end date is extended forward.\n",
    "* rolling window: for each back-testing model training, the training window length is fixed but the window is moving forward."
   ]
  },
  {
   "cell_type": "code",
   "execution_count": 1,
   "metadata": {
    "ExecuteTime": {
     "end_time": "2020-01-17T23:40:28.517513Z",
     "start_time": "2020-01-17T23:40:26.788833Z"
    }
   },
   "outputs": [],
   "source": [
    "import pandas as pd\n",
    "import numpy as np\n",
    "\n",
    "import matplotlib.pyplot as plt\n",
    "import seaborn as sns\n",
    "\n",
    "%matplotlib inline\n",
    "plt.style.use('ggplot')\n",
    "\n",
    "import sys\n",
    "\n",
    "sys.path.append(\"../../orbit\")\n",
    "from orbit.lgt import LGT\n",
    "from orbit.dlt import DLT\n",
    "from orbit.backtest import BacktestEngine\n",
    "from orbit.utils.metrics import mape, smape, wmape\n",
    "from orbit.backtest import run_group_backtest, get_scores"
   ]
  },
  {
   "cell_type": "markdown",
   "metadata": {},
   "source": [
    "## Load data"
   ]
  },
  {
   "cell_type": "code",
   "execution_count": 2,
   "metadata": {
    "ExecuteTime": {
     "end_time": "2020-01-17T23:40:28.548722Z",
     "start_time": "2020-01-17T23:40:28.518962Z"
    }
   },
   "outputs": [
    {
     "name": "stdout",
     "output_type": "stream",
     "text": [
      "(443, 5)\n"
     ]
    },
    {
     "data": {
      "text/html": [
       "<div>\n",
       "<style scoped>\n",
       "    .dataframe tbody tr th:only-of-type {\n",
       "        vertical-align: middle;\n",
       "    }\n",
       "\n",
       "    .dataframe tbody tr th {\n",
       "        vertical-align: top;\n",
       "    }\n",
       "\n",
       "    .dataframe thead th {\n",
       "        text-align: right;\n",
       "    }\n",
       "</style>\n",
       "<table border=\"1\" class=\"dataframe\">\n",
       "  <thead>\n",
       "    <tr style=\"text-align: right;\">\n",
       "      <th></th>\n",
       "      <th>week</th>\n",
       "      <th>claims</th>\n",
       "      <th>trend.unemploy</th>\n",
       "      <th>trend.filling</th>\n",
       "      <th>trend.job</th>\n",
       "    </tr>\n",
       "  </thead>\n",
       "  <tbody>\n",
       "    <tr>\n",
       "      <th>0</th>\n",
       "      <td>2010-01-03</td>\n",
       "      <td>13.386595</td>\n",
       "      <td>0.168876</td>\n",
       "      <td>-0.328309</td>\n",
       "      <td>0.113033</td>\n",
       "    </tr>\n",
       "    <tr>\n",
       "      <th>1</th>\n",
       "      <td>2010-01-10</td>\n",
       "      <td>13.624218</td>\n",
       "      <td>0.168876</td>\n",
       "      <td>-0.204695</td>\n",
       "      <td>0.164326</td>\n",
       "    </tr>\n",
       "    <tr>\n",
       "      <th>2</th>\n",
       "      <td>2010-01-17</td>\n",
       "      <td>13.398741</td>\n",
       "      <td>0.185136</td>\n",
       "      <td>-0.302334</td>\n",
       "      <td>0.113033</td>\n",
       "    </tr>\n",
       "    <tr>\n",
       "      <th>3</th>\n",
       "      <td>2010-01-24</td>\n",
       "      <td>13.137549</td>\n",
       "      <td>0.152346</td>\n",
       "      <td>-0.204695</td>\n",
       "      <td>0.102451</td>\n",
       "    </tr>\n",
       "    <tr>\n",
       "      <th>4</th>\n",
       "      <td>2010-01-31</td>\n",
       "      <td>13.196760</td>\n",
       "      <td>0.083354</td>\n",
       "      <td>-0.252323</td>\n",
       "      <td>0.070016</td>\n",
       "    </tr>\n",
       "  </tbody>\n",
       "</table>\n",
       "</div>"
      ],
      "text/plain": [
       "        week     claims  trend.unemploy  trend.filling  trend.job\n",
       "0 2010-01-03  13.386595        0.168876      -0.328309   0.113033\n",
       "1 2010-01-10  13.624218        0.168876      -0.204695   0.164326\n",
       "2 2010-01-17  13.398741        0.185136      -0.302334   0.113033\n",
       "3 2010-01-24  13.137549        0.152346      -0.204695   0.102451\n",
       "4 2010-01-31  13.196760        0.083354      -0.252323   0.070016"
      ]
     },
     "execution_count": 2,
     "metadata": {},
     "output_type": "execute_result"
    }
   ],
   "source": [
    "data_path = \"../examples/data/iclaims.example.csv\"\n",
    "raw_data = pd.read_csv(data_path, parse_dates=['week'])\n",
    "\n",
    "## log transformation\n",
    "data = raw_data.copy()\n",
    "data[['claims', 'trend.unemploy', 'trend.filling', 'trend.job']] = \\\n",
    "    data[['claims', 'trend.unemploy', 'trend.filling', 'trend.job']].apply(np.log, axis=1)\n",
    "\n",
    "print(data.shape)\n",
    "data.head(5)"
   ]
  },
  {
   "cell_type": "markdown",
   "metadata": {},
   "source": [
    "## Orbit model object"
   ]
  },
  {
   "cell_type": "markdown",
   "metadata": {},
   "source": [
    "###  expanding window"
   ]
  },
  {
   "cell_type": "code",
   "execution_count": 3,
   "metadata": {
    "ExecuteTime": {
     "end_time": "2020-01-17T23:40:28.557154Z",
     "start_time": "2020-01-17T23:40:28.551274Z"
    }
   },
   "outputs": [],
   "source": [
    "date_col = 'week'\n",
    "response_col = 'claims'\n",
    "regressor_col = ['trend.unemploy', 'trend.filling', 'trend.job']\n",
    "\n",
    "min_train_len = 300\n",
    "forecast_len = 20\n",
    "incremental_len = 20\n",
    "\n",
    "mod = LGT(date_col = date_col,\n",
    "    response_col = response_col,\n",
    "    regressor_col = regressor_col,\n",
    "    seasonality = 52,\n",
    "    seed = 8888,\n",
    "    predict_method = 'map'\n",
    ")"
   ]
  },
  {
   "cell_type": "markdown",
   "metadata": {},
   "source": [
    "#### initialization and create meta data"
   ]
  },
  {
   "cell_type": "code",
   "execution_count": 4,
   "metadata": {
    "ExecuteTime": {
     "end_time": "2020-01-17T23:40:28.564197Z",
     "start_time": "2020-01-17T23:40:28.560214Z"
    }
   },
   "outputs": [],
   "source": [
    "bt_expand = BacktestEngine(mod, data)"
   ]
  },
  {
   "cell_type": "code",
   "execution_count": 5,
   "metadata": {
    "ExecuteTime": {
     "end_time": "2020-01-17T23:40:28.585093Z",
     "start_time": "2020-01-17T23:40:28.566417Z"
    }
   },
   "outputs": [],
   "source": [
    "bt_expand.create_meta(min_train_len, incremental_len, forecast_len, \n",
    "                           start_date=None, end_date=None, keep_cols=None,\n",
    "                           scheme='expanding')"
   ]
  },
  {
   "cell_type": "code",
   "execution_count": 6,
   "metadata": {
    "ExecuteTime": {
     "end_time": "2020-01-17T23:40:28.590708Z",
     "start_time": "2020-01-17T23:40:28.586899Z"
    }
   },
   "outputs": [
    {
     "name": "stdout",
     "output_type": "stream",
     "text": [
      "dict_keys([0, 1, 2, 3, 4, 5, 6])\n"
     ]
    }
   ],
   "source": [
    "print(bt_expand.bt_meta.keys())"
   ]
  },
  {
   "cell_type": "code",
   "execution_count": 7,
   "metadata": {
    "ExecuteTime": {
     "end_time": "2020-01-17T23:40:28.598777Z",
     "start_time": "2020-01-17T23:40:28.592625Z"
    }
   },
   "outputs": [
    {
     "data": {
      "text/plain": [
       "{'model': <orbit.lgt.LGT at 0x1297b9518>,\n",
       " 'train_start_date': Timestamp('2010-01-03 00:00:00'),\n",
       " 'train_end_date': Timestamp('2015-09-27 00:00:00'),\n",
       " 'train_idx': range(0, 300),\n",
       " 'test_idx': range(300, 320),\n",
       " 'forecast_dates': 300   2015-10-04\n",
       " 301   2015-10-11\n",
       " 302   2015-10-18\n",
       " 303   2015-10-25\n",
       " 304   2015-11-01\n",
       " 305   2015-11-08\n",
       " 306   2015-11-15\n",
       " 307   2015-11-22\n",
       " 308   2015-11-29\n",
       " 309   2015-12-06\n",
       " 310   2015-12-13\n",
       " 311   2015-12-20\n",
       " 312   2015-12-27\n",
       " 313   2016-01-03\n",
       " 314   2016-01-10\n",
       " 315   2016-01-17\n",
       " 316   2016-01-24\n",
       " 317   2016-01-31\n",
       " 318   2016-02-07\n",
       " 319   2016-02-14\n",
       " Name: week, dtype: datetime64[ns]}"
      ]
     },
     "execution_count": 7,
     "metadata": {},
     "output_type": "execute_result"
    }
   ],
   "source": [
    "bt_expand.bt_meta[0]"
   ]
  },
  {
   "cell_type": "markdown",
   "metadata": {},
   "source": [
    "#### run back-testing"
   ]
  },
  {
   "cell_type": "code",
   "execution_count": 8,
   "metadata": {
    "ExecuteTime": {
     "end_time": "2020-01-17T23:40:29.964693Z",
     "start_time": "2020-01-17T23:40:28.602052Z"
    }
   },
   "outputs": [
    {
     "name": "stderr",
     "output_type": "stream",
     "text": [
      "\r",
      "  0%|          | 0/7 [00:00<?, ?it/s]"
     ]
    },
    {
     "name": "stdout",
     "output_type": "stream",
     "text": [
      "run expanding window back-testing:\n",
      "training and forcasting for horizon 10/04/2015 -- 02/14/2016\n"
     ]
    },
    {
     "name": "stderr",
     "output_type": "stream",
     "text": [
      " 29%|██▊       | 2/7 [00:00<00:00,  5.12it/s]"
     ]
    },
    {
     "name": "stdout",
     "output_type": "stream",
     "text": [
      "training and forcasting for horizon 02/21/2016 -- 07/03/2016\n",
      "training and forcasting for horizon 07/10/2016 -- 11/20/2016\n"
     ]
    },
    {
     "name": "stderr",
     "output_type": "stream",
     "text": [
      " 57%|█████▋    | 4/7 [00:00<00:00,  5.55it/s]"
     ]
    },
    {
     "name": "stdout",
     "output_type": "stream",
     "text": [
      "training and forcasting for horizon 11/27/2016 -- 04/09/2017\n",
      "training and forcasting for horizon 04/16/2017 -- 08/27/2017\n"
     ]
    },
    {
     "name": "stderr",
     "output_type": "stream",
     "text": [
      " 86%|████████▌ | 6/7 [00:01<00:00,  5.19it/s]"
     ]
    },
    {
     "name": "stdout",
     "output_type": "stream",
     "text": [
      "training and forcasting for horizon 09/03/2017 -- 01/14/2018\n",
      "training and forcasting for horizon 01/21/2018 -- 06/03/2018\n"
     ]
    },
    {
     "name": "stderr",
     "output_type": "stream",
     "text": [
      "100%|██████████| 7/7 [00:01<00:00,  5.18it/s]\n"
     ]
    }
   ],
   "source": [
    "bt_expand.run(verbose=True, save_results=False, pred_col='prediction')"
   ]
  },
  {
   "cell_type": "code",
   "execution_count": 9,
   "metadata": {
    "ExecuteTime": {
     "end_time": "2020-01-17T23:40:29.977685Z",
     "start_time": "2020-01-17T23:40:29.966806Z"
    }
   },
   "outputs": [
    {
     "data": {
      "text/html": [
       "<div>\n",
       "<style scoped>\n",
       "    .dataframe tbody tr th:only-of-type {\n",
       "        vertical-align: middle;\n",
       "    }\n",
       "\n",
       "    .dataframe tbody tr th {\n",
       "        vertical-align: top;\n",
       "    }\n",
       "\n",
       "    .dataframe thead th {\n",
       "        text-align: right;\n",
       "    }\n",
       "</style>\n",
       "<table border=\"1\" class=\"dataframe\">\n",
       "  <thead>\n",
       "    <tr style=\"text-align: right;\">\n",
       "      <th></th>\n",
       "      <th>train_start_date</th>\n",
       "      <th>train_end_date</th>\n",
       "      <th>forecast_dates</th>\n",
       "      <th>actual</th>\n",
       "      <th>pred</th>\n",
       "      <th>pred_horizon</th>\n",
       "    </tr>\n",
       "  </thead>\n",
       "  <tbody>\n",
       "    <tr>\n",
       "      <th>0</th>\n",
       "      <td>2010-01-03</td>\n",
       "      <td>2015-09-27</td>\n",
       "      <td>2015-10-04</td>\n",
       "      <td>12.333480</td>\n",
       "      <td>12.416718</td>\n",
       "      <td>1</td>\n",
       "    </tr>\n",
       "    <tr>\n",
       "      <th>1</th>\n",
       "      <td>2010-01-03</td>\n",
       "      <td>2015-09-27</td>\n",
       "      <td>2015-10-11</td>\n",
       "      <td>12.454970</td>\n",
       "      <td>12.489585</td>\n",
       "      <td>2</td>\n",
       "    </tr>\n",
       "    <tr>\n",
       "      <th>2</th>\n",
       "      <td>2010-01-03</td>\n",
       "      <td>2015-09-27</td>\n",
       "      <td>2015-10-18</td>\n",
       "      <td>12.358193</td>\n",
       "      <td>12.414058</td>\n",
       "      <td>3</td>\n",
       "    </tr>\n",
       "    <tr>\n",
       "      <th>3</th>\n",
       "      <td>2010-01-03</td>\n",
       "      <td>2015-09-27</td>\n",
       "      <td>2015-10-25</td>\n",
       "      <td>12.410502</td>\n",
       "      <td>12.457153</td>\n",
       "      <td>4</td>\n",
       "    </tr>\n",
       "    <tr>\n",
       "      <th>4</th>\n",
       "      <td>2010-01-03</td>\n",
       "      <td>2015-09-27</td>\n",
       "      <td>2015-11-01</td>\n",
       "      <td>12.462419</td>\n",
       "      <td>12.455492</td>\n",
       "      <td>5</td>\n",
       "    </tr>\n",
       "  </tbody>\n",
       "</table>\n",
       "</div>"
      ],
      "text/plain": [
       "  train_start_date train_end_date forecast_dates     actual       pred  \\\n",
       "0       2010-01-03     2015-09-27     2015-10-04  12.333480  12.416718   \n",
       "1       2010-01-03     2015-09-27     2015-10-11  12.454970  12.489585   \n",
       "2       2010-01-03     2015-09-27     2015-10-18  12.358193  12.414058   \n",
       "3       2010-01-03     2015-09-27     2015-10-25  12.410502  12.457153   \n",
       "4       2010-01-03     2015-09-27     2015-11-01  12.462419  12.455492   \n",
       "\n",
       "  pred_horizon  \n",
       "0            1  \n",
       "1            2  \n",
       "2            3  \n",
       "3            4  \n",
       "4            5  "
      ]
     },
     "execution_count": 9,
     "metadata": {},
     "output_type": "execute_result"
    }
   ],
   "source": [
    "bt_expand.bt_res.head()"
   ]
  },
  {
   "cell_type": "markdown",
   "metadata": {},
   "source": [
    "### rolling window"
   ]
  },
  {
   "cell_type": "code",
   "execution_count": 10,
   "metadata": {
    "ExecuteTime": {
     "end_time": "2020-01-17T23:40:31.194635Z",
     "start_time": "2020-01-17T23:40:29.979962Z"
    }
   },
   "outputs": [
    {
     "name": "stderr",
     "output_type": "stream",
     "text": [
      " 14%|█▍        | 1/7 [00:00<00:01,  5.42it/s]"
     ]
    },
    {
     "name": "stdout",
     "output_type": "stream",
     "text": [
      "run rolling window back-testing:\n",
      "training and forcasting for horizon 10/04/2015 -- 02/14/2016\n",
      "training and forcasting for horizon 02/21/2016 -- 07/03/2016\n"
     ]
    },
    {
     "name": "stderr",
     "output_type": "stream",
     "text": [
      " 43%|████▎     | 3/7 [00:00<00:00,  5.42it/s]"
     ]
    },
    {
     "name": "stdout",
     "output_type": "stream",
     "text": [
      "training and forcasting for horizon 07/10/2016 -- 11/20/2016\n",
      "training and forcasting for horizon 11/27/2016 -- 04/09/2017\n"
     ]
    },
    {
     "name": "stderr",
     "output_type": "stream",
     "text": [
      " 71%|███████▏  | 5/7 [00:00<00:00,  5.28it/s]"
     ]
    },
    {
     "name": "stdout",
     "output_type": "stream",
     "text": [
      "training and forcasting for horizon 04/16/2017 -- 08/27/2017\n",
      "training and forcasting for horizon 09/03/2017 -- 01/14/2018\n"
     ]
    },
    {
     "name": "stderr",
     "output_type": "stream",
     "text": [
      "100%|██████████| 7/7 [00:01<00:00,  5.92it/s]"
     ]
    },
    {
     "name": "stdout",
     "output_type": "stream",
     "text": [
      "training and forcasting for horizon 01/21/2018 -- 06/03/2018\n"
     ]
    },
    {
     "name": "stderr",
     "output_type": "stream",
     "text": [
      "\n"
     ]
    },
    {
     "data": {
      "text/html": [
       "<div>\n",
       "<style scoped>\n",
       "    .dataframe tbody tr th:only-of-type {\n",
       "        vertical-align: middle;\n",
       "    }\n",
       "\n",
       "    .dataframe tbody tr th {\n",
       "        vertical-align: top;\n",
       "    }\n",
       "\n",
       "    .dataframe thead th {\n",
       "        text-align: right;\n",
       "    }\n",
       "</style>\n",
       "<table border=\"1\" class=\"dataframe\">\n",
       "  <thead>\n",
       "    <tr style=\"text-align: right;\">\n",
       "      <th></th>\n",
       "      <th>train_start_date</th>\n",
       "      <th>train_end_date</th>\n",
       "      <th>forecast_dates</th>\n",
       "      <th>actual</th>\n",
       "      <th>pred</th>\n",
       "      <th>pred_horizon</th>\n",
       "    </tr>\n",
       "  </thead>\n",
       "  <tbody>\n",
       "    <tr>\n",
       "      <th>0</th>\n",
       "      <td>2010-01-03</td>\n",
       "      <td>2015-09-27</td>\n",
       "      <td>2015-10-04</td>\n",
       "      <td>12.333480</td>\n",
       "      <td>12.416718</td>\n",
       "      <td>1</td>\n",
       "    </tr>\n",
       "    <tr>\n",
       "      <th>1</th>\n",
       "      <td>2010-01-03</td>\n",
       "      <td>2015-09-27</td>\n",
       "      <td>2015-10-11</td>\n",
       "      <td>12.454970</td>\n",
       "      <td>12.489585</td>\n",
       "      <td>2</td>\n",
       "    </tr>\n",
       "    <tr>\n",
       "      <th>2</th>\n",
       "      <td>2010-01-03</td>\n",
       "      <td>2015-09-27</td>\n",
       "      <td>2015-10-18</td>\n",
       "      <td>12.358193</td>\n",
       "      <td>12.414058</td>\n",
       "      <td>3</td>\n",
       "    </tr>\n",
       "    <tr>\n",
       "      <th>3</th>\n",
       "      <td>2010-01-03</td>\n",
       "      <td>2015-09-27</td>\n",
       "      <td>2015-10-25</td>\n",
       "      <td>12.410502</td>\n",
       "      <td>12.457153</td>\n",
       "      <td>4</td>\n",
       "    </tr>\n",
       "    <tr>\n",
       "      <th>4</th>\n",
       "      <td>2010-01-03</td>\n",
       "      <td>2015-09-27</td>\n",
       "      <td>2015-11-01</td>\n",
       "      <td>12.462419</td>\n",
       "      <td>12.455492</td>\n",
       "      <td>5</td>\n",
       "    </tr>\n",
       "  </tbody>\n",
       "</table>\n",
       "</div>"
      ],
      "text/plain": [
       "  train_start_date train_end_date forecast_dates     actual       pred  \\\n",
       "0       2010-01-03     2015-09-27     2015-10-04  12.333480  12.416718   \n",
       "1       2010-01-03     2015-09-27     2015-10-11  12.454970  12.489585   \n",
       "2       2010-01-03     2015-09-27     2015-10-18  12.358193  12.414058   \n",
       "3       2010-01-03     2015-09-27     2015-10-25  12.410502  12.457153   \n",
       "4       2010-01-03     2015-09-27     2015-11-01  12.462419  12.455492   \n",
       "\n",
       "  pred_horizon  \n",
       "0            1  \n",
       "1            2  \n",
       "2            3  \n",
       "3            4  \n",
       "4            5  "
      ]
     },
     "execution_count": 10,
     "metadata": {},
     "output_type": "execute_result"
    }
   ],
   "source": [
    "bt_roll = BacktestEngine(mod, data)\n",
    "bt_roll.create_meta(min_train_len, incremental_len, forecast_len, \n",
    "                           start_date=None, end_date=None, keep_cols=None,\n",
    "                           scheme='rolling')\n",
    "bt_roll.run(verbose=True, save_results=False, pred_col='prediction')\n",
    "bt_roll.bt_res.head()"
   ]
  },
  {
   "cell_type": "markdown",
   "metadata": {},
   "source": [
    "### using number of trainings"
   ]
  },
  {
   "cell_type": "markdown",
   "metadata": {},
   "source": [
    "User can also define number of trainings using `n_train` instead of specifying minimum training length.  That way, minimum training length will be automatically calculated."
   ]
  },
  {
   "cell_type": "code",
   "execution_count": 11,
   "metadata": {
    "ExecuteTime": {
     "end_time": "2020-01-17T23:40:31.592140Z",
     "start_time": "2020-01-17T23:40:31.196290Z"
    }
   },
   "outputs": [
    {
     "name": "stderr",
     "output_type": "stream",
     "text": [
      "\r",
      "  0%|          | 0/2 [00:00<?, ?it/s]"
     ]
    },
    {
     "name": "stdout",
     "output_type": "stream",
     "text": [
      "run rolling window back-testing:\n",
      "training and forcasting for horizon 09/17/2017 -- 01/28/2018\n"
     ]
    },
    {
     "name": "stderr",
     "output_type": "stream",
     "text": [
      "\r",
      " 50%|█████     | 1/2 [00:00<00:00,  5.09it/s]"
     ]
    },
    {
     "name": "stdout",
     "output_type": "stream",
     "text": [
      "training and forcasting for horizon 02/04/2018 -- 06/17/2018\n"
     ]
    },
    {
     "name": "stderr",
     "output_type": "stream",
     "text": [
      "100%|██████████| 2/2 [00:00<00:00,  5.40it/s]\n"
     ]
    },
    {
     "data": {
      "text/html": [
       "<div>\n",
       "<style scoped>\n",
       "    .dataframe tbody tr th:only-of-type {\n",
       "        vertical-align: middle;\n",
       "    }\n",
       "\n",
       "    .dataframe tbody tr th {\n",
       "        vertical-align: top;\n",
       "    }\n",
       "\n",
       "    .dataframe thead th {\n",
       "        text-align: right;\n",
       "    }\n",
       "</style>\n",
       "<table border=\"1\" class=\"dataframe\">\n",
       "  <thead>\n",
       "    <tr style=\"text-align: right;\">\n",
       "      <th></th>\n",
       "      <th>train_start_date</th>\n",
       "      <th>train_end_date</th>\n",
       "      <th>forecast_dates</th>\n",
       "      <th>actual</th>\n",
       "      <th>pred</th>\n",
       "      <th>pred_horizon</th>\n",
       "    </tr>\n",
       "  </thead>\n",
       "  <tbody>\n",
       "    <tr>\n",
       "      <th>0</th>\n",
       "      <td>2010-01-03</td>\n",
       "      <td>2017-09-10</td>\n",
       "      <td>2017-09-17</td>\n",
       "      <td>12.265817</td>\n",
       "      <td>12.206866</td>\n",
       "      <td>1</td>\n",
       "    </tr>\n",
       "    <tr>\n",
       "      <th>1</th>\n",
       "      <td>2010-01-03</td>\n",
       "      <td>2017-09-10</td>\n",
       "      <td>2017-09-24</td>\n",
       "      <td>12.268986</td>\n",
       "      <td>12.161800</td>\n",
       "      <td>2</td>\n",
       "    </tr>\n",
       "    <tr>\n",
       "      <th>2</th>\n",
       "      <td>2010-01-03</td>\n",
       "      <td>2017-09-10</td>\n",
       "      <td>2017-10-01</td>\n",
       "      <td>12.226757</td>\n",
       "      <td>12.200448</td>\n",
       "      <td>3</td>\n",
       "    </tr>\n",
       "    <tr>\n",
       "      <th>3</th>\n",
       "      <td>2010-01-03</td>\n",
       "      <td>2017-09-10</td>\n",
       "      <td>2017-10-08</td>\n",
       "      <td>12.342529</td>\n",
       "      <td>12.351990</td>\n",
       "      <td>4</td>\n",
       "    </tr>\n",
       "    <tr>\n",
       "      <th>4</th>\n",
       "      <td>2010-01-03</td>\n",
       "      <td>2017-09-10</td>\n",
       "      <td>2017-10-15</td>\n",
       "      <td>12.233649</td>\n",
       "      <td>12.317548</td>\n",
       "      <td>5</td>\n",
       "    </tr>\n",
       "  </tbody>\n",
       "</table>\n",
       "</div>"
      ],
      "text/plain": [
       "  train_start_date train_end_date forecast_dates     actual       pred  \\\n",
       "0       2010-01-03     2017-09-10     2017-09-17  12.265817  12.206866   \n",
       "1       2010-01-03     2017-09-10     2017-09-24  12.268986  12.161800   \n",
       "2       2010-01-03     2017-09-10     2017-10-01  12.226757  12.200448   \n",
       "3       2010-01-03     2017-09-10     2017-10-08  12.342529  12.351990   \n",
       "4       2010-01-03     2017-09-10     2017-10-15  12.233649  12.317548   \n",
       "\n",
       "  pred_horizon  \n",
       "0            1  \n",
       "1            2  \n",
       "2            3  \n",
       "3            4  \n",
       "4            5  "
      ]
     },
     "execution_count": 11,
     "metadata": {},
     "output_type": "execute_result"
    }
   ],
   "source": [
    "bt_roll2 = BacktestEngine(mod, data)\n",
    "bt_roll2.create_meta(min_train_len, incremental_len, forecast_len, n_train=2, scheme='rolling')\n",
    "bt_roll2.run(verbose=True, save_results=False, pred_col='prediction')\n",
    "bt_roll2.bt_res.head()"
   ]
  },
  {
   "cell_type": "markdown",
   "metadata": {},
   "source": [
    "## Sklearn model object - Random Forest"
   ]
  },
  {
   "cell_type": "code",
   "execution_count": 12,
   "metadata": {
    "ExecuteTime": {
     "end_time": "2020-01-17T23:40:31.893298Z",
     "start_time": "2020-01-17T23:40:31.593838Z"
    }
   },
   "outputs": [],
   "source": [
    "from sklearn.ensemble import RandomForestRegressor\n",
    "\n",
    "def fit_callbacks_sklearn(model, train_df, response_col, regressor_col, **kwargs):\n",
    "    y = train_df[response_col]\n",
    "    X = train_df[regressor_col]\n",
    "    model.fit(X, y)\n",
    "    return \n",
    "\n",
    "def pred_callbacks_sklearn(model, test_df, response_col, regressor_col, **kwargs):\n",
    "    return model.predict(test_df[regressor_col])"
   ]
  },
  {
   "cell_type": "code",
   "execution_count": 13,
   "metadata": {
    "ExecuteTime": {
     "end_time": "2020-01-17T23:40:31.897566Z",
     "start_time": "2020-01-17T23:40:31.894720Z"
    }
   },
   "outputs": [],
   "source": [
    "mod = RandomForestRegressor(n_estimators = 50)"
   ]
  },
  {
   "cell_type": "code",
   "execution_count": 14,
   "metadata": {
    "ExecuteTime": {
     "end_time": "2020-01-17T23:40:32.273892Z",
     "start_time": "2020-01-17T23:40:31.899152Z"
    }
   },
   "outputs": [
    {
     "name": "stderr",
     "output_type": "stream",
     "text": [
      " 43%|████▎     | 3/7 [00:00<00:00, 20.84it/s]"
     ]
    },
    {
     "name": "stdout",
     "output_type": "stream",
     "text": [
      "run expanding window back-testing:\n",
      "training and forcasting for horizon 10/04/2015 -- 02/14/2016\n",
      "training and forcasting for horizon 02/21/2016 -- 07/03/2016\n",
      "training and forcasting for horizon 07/10/2016 -- 11/20/2016\n",
      "training and forcasting for horizon 11/27/2016 -- 04/09/2017\n",
      "training and forcasting for horizon 04/16/2017 -- 08/27/2017\n"
     ]
    },
    {
     "name": "stderr",
     "output_type": "stream",
     "text": [
      "100%|██████████| 7/7 [00:00<00:00, 19.66it/s]"
     ]
    },
    {
     "name": "stdout",
     "output_type": "stream",
     "text": [
      "training and forcasting for horizon 09/03/2017 -- 01/14/2018\n",
      "training and forcasting for horizon 01/21/2018 -- 06/03/2018\n"
     ]
    },
    {
     "name": "stderr",
     "output_type": "stream",
     "text": [
      "\n"
     ]
    }
   ],
   "source": [
    "bt_expand = BacktestEngine(mod, data, date_col=date_col, response_col=response_col)\n",
    "\n",
    "bt_expand.create_meta(min_train_len, incremental_len, forecast_len, \n",
    "                           start_date=None, end_date=None, keep_cols=None,\n",
    "                           scheme='expanding')\n",
    "\n",
    "bt_expand.run(verbose=True, save_results=False, pred_col=None,\n",
    "              fit_callbacks=fit_callbacks_sklearn, pred_callbacks=pred_callbacks_sklearn,\n",
    "              response_col=response_col, regressor_col=regressor_col)"
   ]
  },
  {
   "cell_type": "code",
   "execution_count": 15,
   "metadata": {
    "ExecuteTime": {
     "end_time": "2020-01-17T23:40:32.285455Z",
     "start_time": "2020-01-17T23:40:32.275350Z"
    }
   },
   "outputs": [
    {
     "data": {
      "text/html": [
       "<div>\n",
       "<style scoped>\n",
       "    .dataframe tbody tr th:only-of-type {\n",
       "        vertical-align: middle;\n",
       "    }\n",
       "\n",
       "    .dataframe tbody tr th {\n",
       "        vertical-align: top;\n",
       "    }\n",
       "\n",
       "    .dataframe thead th {\n",
       "        text-align: right;\n",
       "    }\n",
       "</style>\n",
       "<table border=\"1\" class=\"dataframe\">\n",
       "  <thead>\n",
       "    <tr style=\"text-align: right;\">\n",
       "      <th></th>\n",
       "      <th>train_start_date</th>\n",
       "      <th>train_end_date</th>\n",
       "      <th>forecast_dates</th>\n",
       "      <th>actual</th>\n",
       "      <th>pred</th>\n",
       "      <th>pred_horizon</th>\n",
       "    </tr>\n",
       "  </thead>\n",
       "  <tbody>\n",
       "    <tr>\n",
       "      <th>0</th>\n",
       "      <td>2010-01-03</td>\n",
       "      <td>2015-09-27</td>\n",
       "      <td>2015-10-04</td>\n",
       "      <td>12.333480</td>\n",
       "      <td>12.269815</td>\n",
       "      <td>1</td>\n",
       "    </tr>\n",
       "    <tr>\n",
       "      <th>1</th>\n",
       "      <td>2010-01-03</td>\n",
       "      <td>2015-09-27</td>\n",
       "      <td>2015-10-11</td>\n",
       "      <td>12.454970</td>\n",
       "      <td>12.314558</td>\n",
       "      <td>2</td>\n",
       "    </tr>\n",
       "    <tr>\n",
       "      <th>2</th>\n",
       "      <td>2010-01-03</td>\n",
       "      <td>2015-09-27</td>\n",
       "      <td>2015-10-18</td>\n",
       "      <td>12.358193</td>\n",
       "      <td>12.298409</td>\n",
       "      <td>3</td>\n",
       "    </tr>\n",
       "    <tr>\n",
       "      <th>3</th>\n",
       "      <td>2010-01-03</td>\n",
       "      <td>2015-09-27</td>\n",
       "      <td>2015-10-25</td>\n",
       "      <td>12.410502</td>\n",
       "      <td>12.297171</td>\n",
       "      <td>4</td>\n",
       "    </tr>\n",
       "    <tr>\n",
       "      <th>4</th>\n",
       "      <td>2010-01-03</td>\n",
       "      <td>2015-09-27</td>\n",
       "      <td>2015-11-01</td>\n",
       "      <td>12.462419</td>\n",
       "      <td>12.288372</td>\n",
       "      <td>5</td>\n",
       "    </tr>\n",
       "  </tbody>\n",
       "</table>\n",
       "</div>"
      ],
      "text/plain": [
       "  train_start_date train_end_date forecast_dates     actual       pred  \\\n",
       "0       2010-01-03     2015-09-27     2015-10-04  12.333480  12.269815   \n",
       "1       2010-01-03     2015-09-27     2015-10-11  12.454970  12.314558   \n",
       "2       2010-01-03     2015-09-27     2015-10-18  12.358193  12.298409   \n",
       "3       2010-01-03     2015-09-27     2015-10-25  12.410502  12.297171   \n",
       "4       2010-01-03     2015-09-27     2015-11-01  12.462419  12.288372   \n",
       "\n",
       "  pred_horizon  \n",
       "0            1  \n",
       "1            2  \n",
       "2            3  \n",
       "3            4  \n",
       "4            5  "
      ]
     },
     "execution_count": 15,
     "metadata": {},
     "output_type": "execute_result"
    }
   ],
   "source": [
    "bt_expand.bt_res.head()"
   ]
  },
  {
   "cell_type": "markdown",
   "metadata": {},
   "source": [
    "## Prophet model object"
   ]
  },
  {
   "cell_type": "code",
   "execution_count": 16,
   "metadata": {
    "ExecuteTime": {
     "end_time": "2020-01-17T23:40:32.339509Z",
     "start_time": "2020-01-17T23:40:32.287153Z"
    }
   },
   "outputs": [
    {
     "name": "stderr",
     "output_type": "stream",
     "text": [
      "ERROR:fbprophet:Importing plotly failed. Interactive plots will not work.\n"
     ]
    }
   ],
   "source": [
    "from fbprophet import Prophet\n",
    "import inspect"
   ]
  },
  {
   "cell_type": "code",
   "execution_count": 17,
   "metadata": {
    "ExecuteTime": {
     "end_time": "2020-01-17T23:40:32.349759Z",
     "start_time": "2020-01-17T23:40:32.341187Z"
    }
   },
   "outputs": [],
   "source": [
    "def model_callbacks_prophet(model):\n",
    "    def _get_params(instance):\n",
    "        \"\"\"get initilization parameters via a prophet model object\"\"\"\n",
    "        class_hierarchy = inspect.getmro(Prophet)\n",
    "        init_signatures = [inspect.signature(c.__init__) for c in class_hierarchy if type(c) is not object]\n",
    "\n",
    "        all_params = []\n",
    "        for sig in init_signatures:\n",
    "            params = [p for p in sig.parameters.values()\n",
    "                      if p.name != 'self' and p.kind != p.VAR_KEYWORD\n",
    "                      and p.kind != p.VAR_POSITIONAL]\n",
    "            all_params.extend(params)\n",
    "        param_names = [p.name for p in all_params]\n",
    "        out = dict()\n",
    "        for key in param_names:\n",
    "            out[key] = getattr(instance, key)\n",
    "\n",
    "        return out\n",
    "\n",
    "    def bind(instance, _get_params):\n",
    "        def binding_scope_fn(): \n",
    "            return _get_params(instance)\n",
    "        return binding_scope_fn\n",
    "    model.get_params = bind(model, _get_params)\n",
    "    \n",
    "    return model\n",
    "\n",
    "\n",
    "def fit_callbacks_prophet(model, train_df, date_col, response_col, regressor_col):\n",
    "    train_df = train_df.rename(columns={date_col: \"ds\", response_col: \"y\"})\n",
    "    if regressor_col is not None:\n",
    "        for regressor in regressor_col:\n",
    "            model.add_regressor(regressor) \n",
    "    model.fit(train_df)\n",
    "    \n",
    "    return \n",
    "\n",
    "def pred_callbacks_prophet(model, test_df, date_col, response_col, regressor_col):\n",
    "    test_df = test_df.rename(columns={date_col: \"ds\", response_col: \"y\"})\n",
    "    \n",
    "    return model.predict(test_df)"
   ]
  },
  {
   "cell_type": "code",
   "execution_count": 18,
   "metadata": {
    "ExecuteTime": {
     "end_time": "2020-01-17T23:40:32.353825Z",
     "start_time": "2020-01-17T23:40:32.351444Z"
    }
   },
   "outputs": [],
   "source": [
    "mod = Prophet()"
   ]
  },
  {
   "cell_type": "code",
   "execution_count": 19,
   "metadata": {
    "ExecuteTime": {
     "end_time": "2020-01-17T23:40:41.967761Z",
     "start_time": "2020-01-17T23:40:32.355651Z"
    }
   },
   "outputs": [
    {
     "name": "stderr",
     "output_type": "stream",
     "text": [
      "\r",
      "  0%|          | 0/7 [00:00<?, ?it/s]"
     ]
    },
    {
     "name": "stdout",
     "output_type": "stream",
     "text": [
      "run expanding window back-testing:\n",
      "training and forcasting for horizon 10/04/2015 -- 02/14/2016\n"
     ]
    },
    {
     "name": "stderr",
     "output_type": "stream",
     "text": [
      "INFO:fbprophet:Disabling weekly seasonality. Run prophet with weekly_seasonality=True to override this.\n",
      "INFO:fbprophet:Disabling daily seasonality. Run prophet with daily_seasonality=True to override this.\n",
      " 14%|█▍        | 1/7 [00:01<00:07,  1.27s/it]INFO:fbprophet:Disabling weekly seasonality. Run prophet with weekly_seasonality=True to override this.\n",
      "INFO:fbprophet:Disabling daily seasonality. Run prophet with daily_seasonality=True to override this.\n"
     ]
    },
    {
     "name": "stdout",
     "output_type": "stream",
     "text": [
      "training and forcasting for horizon 02/21/2016 -- 07/03/2016\n"
     ]
    },
    {
     "name": "stderr",
     "output_type": "stream",
     "text": [
      " 29%|██▊       | 2/7 [00:02<00:06,  1.29s/it]INFO:fbprophet:Disabling weekly seasonality. Run prophet with weekly_seasonality=True to override this.\n",
      "INFO:fbprophet:Disabling daily seasonality. Run prophet with daily_seasonality=True to override this.\n"
     ]
    },
    {
     "name": "stdout",
     "output_type": "stream",
     "text": [
      "training and forcasting for horizon 07/10/2016 -- 11/20/2016\n"
     ]
    },
    {
     "name": "stderr",
     "output_type": "stream",
     "text": [
      " 43%|████▎     | 3/7 [00:03<00:05,  1.31s/it]INFO:fbprophet:Disabling weekly seasonality. Run prophet with weekly_seasonality=True to override this.\n",
      "INFO:fbprophet:Disabling daily seasonality. Run prophet with daily_seasonality=True to override this.\n"
     ]
    },
    {
     "name": "stdout",
     "output_type": "stream",
     "text": [
      "training and forcasting for horizon 11/27/2016 -- 04/09/2017\n"
     ]
    },
    {
     "name": "stderr",
     "output_type": "stream",
     "text": [
      " 57%|█████▋    | 4/7 [00:05<00:03,  1.32s/it]INFO:fbprophet:Disabling weekly seasonality. Run prophet with weekly_seasonality=True to override this.\n",
      "INFO:fbprophet:Disabling daily seasonality. Run prophet with daily_seasonality=True to override this.\n"
     ]
    },
    {
     "name": "stdout",
     "output_type": "stream",
     "text": [
      "training and forcasting for horizon 04/16/2017 -- 08/27/2017\n"
     ]
    },
    {
     "name": "stderr",
     "output_type": "stream",
     "text": [
      " 71%|███████▏  | 5/7 [00:06<00:02,  1.35s/it]INFO:fbprophet:Disabling weekly seasonality. Run prophet with weekly_seasonality=True to override this.\n",
      "INFO:fbprophet:Disabling daily seasonality. Run prophet with daily_seasonality=True to override this.\n"
     ]
    },
    {
     "name": "stdout",
     "output_type": "stream",
     "text": [
      "training and forcasting for horizon 09/03/2017 -- 01/14/2018\n"
     ]
    },
    {
     "name": "stderr",
     "output_type": "stream",
     "text": [
      " 86%|████████▌ | 6/7 [00:08<00:01,  1.38s/it]INFO:fbprophet:Disabling weekly seasonality. Run prophet with weekly_seasonality=True to override this.\n",
      "INFO:fbprophet:Disabling daily seasonality. Run prophet with daily_seasonality=True to override this.\n"
     ]
    },
    {
     "name": "stdout",
     "output_type": "stream",
     "text": [
      "training and forcasting for horizon 01/21/2018 -- 06/03/2018\n"
     ]
    },
    {
     "name": "stderr",
     "output_type": "stream",
     "text": [
      "100%|██████████| 7/7 [00:09<00:00,  1.37s/it]\n"
     ]
    },
    {
     "data": {
      "text/html": [
       "<div>\n",
       "<style scoped>\n",
       "    .dataframe tbody tr th:only-of-type {\n",
       "        vertical-align: middle;\n",
       "    }\n",
       "\n",
       "    .dataframe tbody tr th {\n",
       "        vertical-align: top;\n",
       "    }\n",
       "\n",
       "    .dataframe thead th {\n",
       "        text-align: right;\n",
       "    }\n",
       "</style>\n",
       "<table border=\"1\" class=\"dataframe\">\n",
       "  <thead>\n",
       "    <tr style=\"text-align: right;\">\n",
       "      <th></th>\n",
       "      <th>train_start_date</th>\n",
       "      <th>train_end_date</th>\n",
       "      <th>forecast_dates</th>\n",
       "      <th>actual</th>\n",
       "      <th>pred</th>\n",
       "      <th>pred_horizon</th>\n",
       "    </tr>\n",
       "  </thead>\n",
       "  <tbody>\n",
       "    <tr>\n",
       "      <th>0</th>\n",
       "      <td>2010-01-03</td>\n",
       "      <td>2015-09-27</td>\n",
       "      <td>2015-10-04</td>\n",
       "      <td>12.333480</td>\n",
       "      <td>12.353443</td>\n",
       "      <td>1</td>\n",
       "    </tr>\n",
       "    <tr>\n",
       "      <th>1</th>\n",
       "      <td>2010-01-03</td>\n",
       "      <td>2015-09-27</td>\n",
       "      <td>2015-10-11</td>\n",
       "      <td>12.454970</td>\n",
       "      <td>12.408038</td>\n",
       "      <td>2</td>\n",
       "    </tr>\n",
       "    <tr>\n",
       "      <th>2</th>\n",
       "      <td>2010-01-03</td>\n",
       "      <td>2015-09-27</td>\n",
       "      <td>2015-10-18</td>\n",
       "      <td>12.358193</td>\n",
       "      <td>12.444854</td>\n",
       "      <td>3</td>\n",
       "    </tr>\n",
       "    <tr>\n",
       "      <th>3</th>\n",
       "      <td>2010-01-03</td>\n",
       "      <td>2015-09-27</td>\n",
       "      <td>2015-10-25</td>\n",
       "      <td>12.410502</td>\n",
       "      <td>12.447369</td>\n",
       "      <td>4</td>\n",
       "    </tr>\n",
       "    <tr>\n",
       "      <th>4</th>\n",
       "      <td>2010-01-03</td>\n",
       "      <td>2015-09-27</td>\n",
       "      <td>2015-11-01</td>\n",
       "      <td>12.462419</td>\n",
       "      <td>12.449554</td>\n",
       "      <td>5</td>\n",
       "    </tr>\n",
       "  </tbody>\n",
       "</table>\n",
       "</div>"
      ],
      "text/plain": [
       "  train_start_date train_end_date forecast_dates     actual       pred  \\\n",
       "0       2010-01-03     2015-09-27     2015-10-04  12.333480  12.353443   \n",
       "1       2010-01-03     2015-09-27     2015-10-11  12.454970  12.408038   \n",
       "2       2010-01-03     2015-09-27     2015-10-18  12.358193  12.444854   \n",
       "3       2010-01-03     2015-09-27     2015-10-25  12.410502  12.447369   \n",
       "4       2010-01-03     2015-09-27     2015-11-01  12.462419  12.449554   \n",
       "\n",
       "  pred_horizon  \n",
       "0            1  \n",
       "1            2  \n",
       "2            3  \n",
       "3            4  \n",
       "4            5  "
      ]
     },
     "execution_count": 19,
     "metadata": {},
     "output_type": "execute_result"
    }
   ],
   "source": [
    "bt_expand = BacktestEngine(mod, data, date_col=date_col, response_col=response_col, \n",
    "                           model_callbacks=model_callbacks_prophet)\n",
    "\n",
    "bt_expand.create_meta(min_train_len, incremental_len, forecast_len, \n",
    "                           start_date=None, end_date=None, keep_cols=None,\n",
    "                           scheme='expanding')\n",
    "\n",
    "bt_expand.run(verbose=True, save_results=False, \n",
    "              fit_callbacks=fit_callbacks_prophet, pred_callbacks=pred_callbacks_prophet, pred_col='yhat', \n",
    "              date_col=date_col, response_col=response_col, regressor_col=regressor_col)\n",
    "\n",
    "bt_expand.bt_res.head()"
   ]
  },
  {
   "cell_type": "markdown",
   "metadata": {},
   "source": [
    "## Backtest Multiple Models"
   ]
  },
  {
   "cell_type": "code",
   "execution_count": 20,
   "metadata": {
    "ExecuteTime": {
     "end_time": "2020-01-17T23:40:41.975915Z",
     "start_time": "2020-01-17T23:40:41.969703Z"
    }
   },
   "outputs": [],
   "source": [
    "model_names = [\"LGT-MAP\",  \"DLT-MAP\", \"Prophet\", 'RF']\n",
    "pred_cols = ['prediction', 'prediction', 'yhat', None]\n",
    "model_callbacks = [None]*2 + [model_callbacks_prophet] + [None]\n",
    "fit_callbacks = [None]*2 + [fit_callbacks_prophet] + [fit_callbacks_sklearn]\n",
    "pred_callbacks = [None]*2 + [pred_callbacks_prophet] + [pred_callbacks_sklearn]\n",
    "transform_fun = np.exp\n",
    "data['city_name'] = 'DUMMY'"
   ]
  },
  {
   "cell_type": "code",
   "execution_count": 21,
   "metadata": {
    "ExecuteTime": {
     "end_time": "2020-01-17T23:40:41.988425Z",
     "start_time": "2020-01-17T23:40:41.978942Z"
    }
   },
   "outputs": [],
   "source": [
    "date_col = 'week'\n",
    "resp_col = 'claims'\n",
    "# min_train_len = 350\n",
    "# forecast_len = 52\n",
    "# incremental_len = 10\n",
    "\n",
    "key_col = 'city_name'\n",
    "keep_cols = ['city_name']\n",
    "city_name_list = data['city_name'].unique()\n",
    "scheme = 'expanding'\n",
    "transform_fun = np.exp\n",
    "mod_list = [ \n",
    "    \n",
    "    ## vanilla LGT\n",
    "    LGT(response_col = resp_col,\n",
    "        date_col = date_col,\n",
    "        seasonality = 52,\n",
    "        seed = 1,\n",
    "        predict_method = 'map'\n",
    "),\n",
    "    \n",
    "    DLT(response_col=resp_col,\n",
    "        date_col=date_col,\n",
    "        seasonality=52,\n",
    "        num_warmup=1000, \n",
    "        num_sample=2000,\n",
    "        predict_method = 'map',\n",
    "        damped_factor_fixed=-1,\n",
    "        seed = 1\n",
    "),\n",
    "    Prophet(),\n",
    "    RandomForestRegressor(n_estimators = 50)\n",
    "]"
   ]
  },
  {
   "cell_type": "code",
   "execution_count": 23,
   "metadata": {
    "ExecuteTime": {
     "end_time": "2020-01-17T23:43:10.391788Z",
     "start_time": "2020-01-17T23:42:55.751594Z"
    }
   },
   "outputs": [
    {
     "name": "stderr",
     "output_type": "stream",
     "text": [
      "100%|██████████| 7/7 [00:00<00:00,  8.05it/s]\n",
      "  0%|          | 0/7 [00:00<?, ?it/s]"
     ]
    },
    {
     "name": "stdout",
     "output_type": "stream",
     "text": [
      "time elapsed 00:00:00\n"
     ]
    },
    {
     "name": "stderr",
     "output_type": "stream",
     "text": [
      "100%|██████████| 7/7 [00:03<00:00,  2.04it/s]\n",
      "  0%|          | 0/7 [00:00<?, ?it/s]INFO:fbprophet:Disabling weekly seasonality. Run prophet with weekly_seasonality=True to override this.\n",
      "INFO:fbprophet:Disabling daily seasonality. Run prophet with daily_seasonality=True to override this.\n"
     ]
    },
    {
     "name": "stdout",
     "output_type": "stream",
     "text": [
      "time elapsed 00:00:03\n"
     ]
    },
    {
     "name": "stderr",
     "output_type": "stream",
     "text": [
      " 14%|█▍        | 1/7 [00:01<00:08,  1.35s/it]INFO:fbprophet:Disabling weekly seasonality. Run prophet with weekly_seasonality=True to override this.\n",
      "INFO:fbprophet:Disabling daily seasonality. Run prophet with daily_seasonality=True to override this.\n",
      " 29%|██▊       | 2/7 [00:02<00:06,  1.38s/it]INFO:fbprophet:Disabling weekly seasonality. Run prophet with weekly_seasonality=True to override this.\n",
      "INFO:fbprophet:Disabling daily seasonality. Run prophet with daily_seasonality=True to override this.\n",
      " 43%|████▎     | 3/7 [00:04<00:05,  1.38s/it]INFO:fbprophet:Disabling weekly seasonality. Run prophet with weekly_seasonality=True to override this.\n",
      "INFO:fbprophet:Disabling daily seasonality. Run prophet with daily_seasonality=True to override this.\n",
      " 57%|█████▋    | 4/7 [00:05<00:04,  1.38s/it]INFO:fbprophet:Disabling weekly seasonality. Run prophet with weekly_seasonality=True to override this.\n",
      "INFO:fbprophet:Disabling daily seasonality. Run prophet with daily_seasonality=True to override this.\n",
      " 71%|███████▏  | 5/7 [00:06<00:02,  1.37s/it]INFO:fbprophet:Disabling weekly seasonality. Run prophet with weekly_seasonality=True to override this.\n",
      "INFO:fbprophet:Disabling daily seasonality. Run prophet with daily_seasonality=True to override this.\n",
      " 86%|████████▌ | 6/7 [00:08<00:01,  1.40s/it]INFO:fbprophet:Disabling weekly seasonality. Run prophet with weekly_seasonality=True to override this.\n",
      "INFO:fbprophet:Disabling daily seasonality. Run prophet with daily_seasonality=True to override this.\n",
      "100%|██████████| 7/7 [00:09<00:00,  1.41s/it]\n",
      " 29%|██▊       | 2/7 [00:00<00:00, 18.92it/s]"
     ]
    },
    {
     "name": "stdout",
     "output_type": "stream",
     "text": [
      "time elapsed 00:00:09\n"
     ]
    },
    {
     "name": "stderr",
     "output_type": "stream",
     "text": [
      "100%|██████████| 7/7 [00:00<00:00, 18.10it/s]"
     ]
    },
    {
     "name": "stdout",
     "output_type": "stream",
     "text": [
      "time elapsed 00:00:00\n"
     ]
    },
    {
     "name": "stderr",
     "output_type": "stream",
     "text": [
      "\n"
     ]
    }
   ],
   "source": [
    "np.random.seed(2019) # to have full reproducibility for mcmc samples\n",
    "bt_res =  run_group_backtest(data, date_col, resp_col, key_col, pred_cols,\n",
    "                             mod_list, model_callbacks, fit_callbacks, pred_callbacks,\n",
    "                             min_train_len, incremental_len, forecast_len, n_train=None,\n",
    "                             transform_fun=transform_fun, start_date=None, end_date=None,\n",
    "                             keep_cols = keep_cols, \n",
    "                             regressor_col=regressor_col,\n",
    "                             mod_names = model_names,\n",
    "                             scheme = scheme)"
   ]
  },
  {
   "cell_type": "code",
   "execution_count": 24,
   "metadata": {
    "ExecuteTime": {
     "end_time": "2020-01-17T23:43:10.407269Z",
     "start_time": "2020-01-17T23:43:10.393578Z"
    }
   },
   "outputs": [
    {
     "data": {
      "text/html": [
       "<div>\n",
       "<style scoped>\n",
       "    .dataframe tbody tr th:only-of-type {\n",
       "        vertical-align: middle;\n",
       "    }\n",
       "\n",
       "    .dataframe tbody tr th {\n",
       "        vertical-align: top;\n",
       "    }\n",
       "\n",
       "    .dataframe thead th {\n",
       "        text-align: right;\n",
       "    }\n",
       "</style>\n",
       "<table border=\"1\" class=\"dataframe\">\n",
       "  <thead>\n",
       "    <tr style=\"text-align: right;\">\n",
       "      <th></th>\n",
       "      <th>train_start_date</th>\n",
       "      <th>train_end_date</th>\n",
       "      <th>forecast_dates</th>\n",
       "      <th>actual</th>\n",
       "      <th>pred</th>\n",
       "      <th>pred_horizon</th>\n",
       "      <th>city_name</th>\n",
       "      <th>model</th>\n",
       "    </tr>\n",
       "  </thead>\n",
       "  <tbody>\n",
       "    <tr>\n",
       "      <th>0</th>\n",
       "      <td>2010-01-03</td>\n",
       "      <td>2015-09-27</td>\n",
       "      <td>2015-10-04</td>\n",
       "      <td>227176.0</td>\n",
       "      <td>251315.809310</td>\n",
       "      <td>1</td>\n",
       "      <td>DUMMY</td>\n",
       "      <td>LGT-MAP</td>\n",
       "    </tr>\n",
       "    <tr>\n",
       "      <th>1</th>\n",
       "      <td>2010-01-03</td>\n",
       "      <td>2015-09-27</td>\n",
       "      <td>2015-10-11</td>\n",
       "      <td>256522.0</td>\n",
       "      <td>266707.860400</td>\n",
       "      <td>2</td>\n",
       "      <td>DUMMY</td>\n",
       "      <td>LGT-MAP</td>\n",
       "    </tr>\n",
       "    <tr>\n",
       "      <th>2</th>\n",
       "      <td>2010-01-03</td>\n",
       "      <td>2015-09-27</td>\n",
       "      <td>2015-10-18</td>\n",
       "      <td>232860.0</td>\n",
       "      <td>247535.230183</td>\n",
       "      <td>3</td>\n",
       "      <td>DUMMY</td>\n",
       "      <td>LGT-MAP</td>\n",
       "    </tr>\n",
       "    <tr>\n",
       "      <th>3</th>\n",
       "      <td>2010-01-03</td>\n",
       "      <td>2015-09-27</td>\n",
       "      <td>2015-10-25</td>\n",
       "      <td>245365.0</td>\n",
       "      <td>258516.821608</td>\n",
       "      <td>4</td>\n",
       "      <td>DUMMY</td>\n",
       "      <td>LGT-MAP</td>\n",
       "    </tr>\n",
       "    <tr>\n",
       "      <th>4</th>\n",
       "      <td>2010-01-03</td>\n",
       "      <td>2015-09-27</td>\n",
       "      <td>2015-11-01</td>\n",
       "      <td>258440.0</td>\n",
       "      <td>260463.968189</td>\n",
       "      <td>5</td>\n",
       "      <td>DUMMY</td>\n",
       "      <td>LGT-MAP</td>\n",
       "    </tr>\n",
       "  </tbody>\n",
       "</table>\n",
       "</div>"
      ],
      "text/plain": [
       "  train_start_date train_end_date forecast_dates    actual           pred  \\\n",
       "0       2010-01-03     2015-09-27     2015-10-04  227176.0  251315.809310   \n",
       "1       2010-01-03     2015-09-27     2015-10-11  256522.0  266707.860400   \n",
       "2       2010-01-03     2015-09-27     2015-10-18  232860.0  247535.230183   \n",
       "3       2010-01-03     2015-09-27     2015-10-25  245365.0  258516.821608   \n",
       "4       2010-01-03     2015-09-27     2015-11-01  258440.0  260463.968189   \n",
       "\n",
       "  pred_horizon city_name    model  \n",
       "0            1     DUMMY  LGT-MAP  \n",
       "1            2     DUMMY  LGT-MAP  \n",
       "2            3     DUMMY  LGT-MAP  \n",
       "3            4     DUMMY  LGT-MAP  \n",
       "4            5     DUMMY  LGT-MAP  "
      ]
     },
     "execution_count": 24,
     "metadata": {},
     "output_type": "execute_result"
    }
   ],
   "source": [
    "bt_res.head(5)"
   ]
  },
  {
   "cell_type": "markdown",
   "metadata": {},
   "source": [
    "### back-testing result analysis\n",
    "\n",
    "Internal method is provided to give a quick analysis of the back-testing runs. It is flexible for uses to define their own metrics and aggregation strategy based on the back-testing run results."
   ]
  },
  {
   "cell_type": "code",
   "execution_count": 25,
   "metadata": {
    "ExecuteTime": {
     "end_time": "2020-01-17T23:43:10.681040Z",
     "start_time": "2020-01-17T23:43:10.410702Z"
    }
   },
   "outputs": [],
   "source": [
    "bt_horizon_summary=get_scores(result=bt_res, by=['model','pred_horizon'])"
   ]
  },
  {
   "cell_type": "code",
   "execution_count": 26,
   "metadata": {
    "ExecuteTime": {
     "end_time": "2020-01-17T23:43:10.690330Z",
     "start_time": "2020-01-17T23:43:10.682786Z"
    }
   },
   "outputs": [
    {
     "data": {
      "text/html": [
       "<div>\n",
       "<style scoped>\n",
       "    .dataframe tbody tr th:only-of-type {\n",
       "        vertical-align: middle;\n",
       "    }\n",
       "\n",
       "    .dataframe tbody tr th {\n",
       "        vertical-align: top;\n",
       "    }\n",
       "\n",
       "    .dataframe thead th {\n",
       "        text-align: right;\n",
       "    }\n",
       "</style>\n",
       "<table border=\"1\" class=\"dataframe\">\n",
       "  <thead>\n",
       "    <tr style=\"text-align: right;\">\n",
       "      <th></th>\n",
       "      <th>model</th>\n",
       "      <th>pred_horizon</th>\n",
       "      <th>smape</th>\n",
       "    </tr>\n",
       "  </thead>\n",
       "  <tbody>\n",
       "    <tr>\n",
       "      <th>0</th>\n",
       "      <td>DLT-MAP</td>\n",
       "      <td>1</td>\n",
       "      <td>0.060701</td>\n",
       "    </tr>\n",
       "    <tr>\n",
       "      <th>1</th>\n",
       "      <td>DLT-MAP</td>\n",
       "      <td>2</td>\n",
       "      <td>0.073704</td>\n",
       "    </tr>\n",
       "    <tr>\n",
       "      <th>2</th>\n",
       "      <td>DLT-MAP</td>\n",
       "      <td>3</td>\n",
       "      <td>0.061413</td>\n",
       "    </tr>\n",
       "    <tr>\n",
       "      <th>3</th>\n",
       "      <td>DLT-MAP</td>\n",
       "      <td>4</td>\n",
       "      <td>0.066437</td>\n",
       "    </tr>\n",
       "    <tr>\n",
       "      <th>4</th>\n",
       "      <td>DLT-MAP</td>\n",
       "      <td>5</td>\n",
       "      <td>0.050915</td>\n",
       "    </tr>\n",
       "  </tbody>\n",
       "</table>\n",
       "</div>"
      ],
      "text/plain": [
       "     model  pred_horizon     smape\n",
       "0  DLT-MAP             1  0.060701\n",
       "1  DLT-MAP             2  0.073704\n",
       "2  DLT-MAP             3  0.061413\n",
       "3  DLT-MAP             4  0.066437\n",
       "4  DLT-MAP             5  0.050915"
      ]
     },
     "execution_count": 26,
     "metadata": {},
     "output_type": "execute_result"
    }
   ],
   "source": [
    "bt_horizon_summary['smape'].head(5)"
   ]
  },
  {
   "cell_type": "markdown",
   "metadata": {
    "ExecuteTime": {
     "end_time": "2020-01-16T02:52:21.172303Z",
     "start_time": "2020-01-16T02:52:21.169629Z"
    }
   },
   "source": [
    "### plotting"
   ]
  },
  {
   "cell_type": "code",
   "execution_count": 27,
   "metadata": {
    "ExecuteTime": {
     "end_time": "2020-01-17T23:43:10.982895Z",
     "start_time": "2020-01-17T23:43:10.692399Z"
    }
   },
   "outputs": [
    {
     "data": {
      "text/plain": [
       "<matplotlib.axes._subplots.AxesSubplot at 0x12aa05f98>"
      ]
     },
     "execution_count": 27,
     "metadata": {},
     "output_type": "execute_result"
    },
    {
     "data": {
      "image/png": "[encoded data removed]",
      "text/plain": [
       "<Figure size 720x432 with 1 Axes>"
      ]
     },
     "metadata": {
      "needs_background": "light"
     },
     "output_type": "display_data"
    }
   ],
   "source": [
    "bt_horizon_summary['smape'].pivot(index='pred_horizon', columns='model', values='smape').\\\n",
    "plot(figsize=(10,6), title='Forecasting error over horizon')"
   ]
  },
  {
   "cell_type": "code",
   "execution_count": null,
   "metadata": {},
   "outputs": [],
   "source": []
  }
 ],
 "metadata": {
  "kernelspec": {
   "display_name": "Python 3",
   "language": "python",
   "name": "python3"
  },
  "language_info": {
   "codemirror_mode": {
    "name": "ipython",
    "version": 3
   },
   "file_extension": ".py",
   "mimetype": "text/x-python",
   "name": "python",
   "nbconvert_exporter": "python",
   "pygments_lexer": "ipython3",
   "version": "3.6.8"
  },
  "toc": {
   "base_numbering": 1,
   "nav_menu": {},
   "number_sections": true,
   "sideBar": true,
   "skip_h1_title": false,
   "title_cell": "Table of Contents",
   "title_sidebar": "Contents",
   "toc_cell": false,
   "toc_position": {
    "height": "calc(100% - 180px)",
    "left": "10px",
    "top": "150px",
    "width": "316.391px"
   },
   "toc_section_display": true,
   "toc_window_display": true
  }
 },
 "nbformat": 4,
 "nbformat_minor": 2
}
