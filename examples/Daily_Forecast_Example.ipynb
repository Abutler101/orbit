{
 "cells": [
  {
   "cell_type": "markdown",
   "metadata": {},
   "source": [
    "# Daily Forecast Example\n",
    "\n",
    "Daily forecast is one of most popular use cases in time-series modeling. In this example, it aims to introduce a way to perform a daily forecast by modeling yearly and weekly seasonality together. We will use the aggregated number of sales from the [M5 competition](https://www.kaggle.com/c/m5-forecasting-accuracy/overview)."
   ]
  },
  {
   "cell_type": "code",
   "execution_count": 1,
   "metadata": {},
   "outputs": [],
   "source": [
    "import pandas as pd\n",
    "import numpy as np\n",
    "from orbit.models.dlt import DLTFull\n",
    "from orbit.diagnostics.plot import plot_predicted_data"
   ]
  },
  {
   "cell_type": "markdown",
   "metadata": {},
   "source": [
    "For demo purpose, we just use a subset of regressors and perform log transformation on response to construct a multiplicative model."
   ]
  },
  {
   "cell_type": "code",
   "execution_count": 2,
   "metadata": {},
   "outputs": [
    {
     "data": {
      "text/html": [
       "<div>\n",
       "<style scoped>\n",
       "    .dataframe tbody tr th:only-of-type {\n",
       "        vertical-align: middle;\n",
       "    }\n",
       "\n",
       "    .dataframe tbody tr th {\n",
       "        vertical-align: top;\n",
       "    }\n",
       "\n",
       "    .dataframe thead th {\n",
       "        text-align: right;\n",
       "    }\n",
       "</style>\n",
       "<table border=\"1\" class=\"dataframe\">\n",
       "  <thead>\n",
       "    <tr style=\"text-align: right;\">\n",
       "      <th></th>\n",
       "      <th>date</th>\n",
       "      <th>sales</th>\n",
       "      <th>Christmas</th>\n",
       "      <th>Halloween</th>\n",
       "      <th>LaborDay</th>\n",
       "      <th>Thanksgiving</th>\n",
       "      <th>Mother's day</th>\n",
       "      <th>PresidentsDay</th>\n",
       "      <th>NewYear</th>\n",
       "    </tr>\n",
       "  </thead>\n",
       "  <tbody>\n",
       "    <tr>\n",
       "      <th>0</th>\n",
       "      <td>2011-01-29</td>\n",
       "      <td>32631</td>\n",
       "      <td>0</td>\n",
       "      <td>0</td>\n",
       "      <td>0</td>\n",
       "      <td>0</td>\n",
       "      <td>0</td>\n",
       "      <td>0</td>\n",
       "      <td>0</td>\n",
       "    </tr>\n",
       "    <tr>\n",
       "      <th>1</th>\n",
       "      <td>2011-01-30</td>\n",
       "      <td>31749</td>\n",
       "      <td>0</td>\n",
       "      <td>0</td>\n",
       "      <td>0</td>\n",
       "      <td>0</td>\n",
       "      <td>0</td>\n",
       "      <td>0</td>\n",
       "      <td>0</td>\n",
       "    </tr>\n",
       "    <tr>\n",
       "      <th>2</th>\n",
       "      <td>2011-01-31</td>\n",
       "      <td>23783</td>\n",
       "      <td>0</td>\n",
       "      <td>0</td>\n",
       "      <td>0</td>\n",
       "      <td>0</td>\n",
       "      <td>0</td>\n",
       "      <td>0</td>\n",
       "      <td>0</td>\n",
       "    </tr>\n",
       "    <tr>\n",
       "      <th>3</th>\n",
       "      <td>2011-02-01</td>\n",
       "      <td>25412</td>\n",
       "      <td>0</td>\n",
       "      <td>0</td>\n",
       "      <td>0</td>\n",
       "      <td>0</td>\n",
       "      <td>0</td>\n",
       "      <td>0</td>\n",
       "      <td>0</td>\n",
       "    </tr>\n",
       "    <tr>\n",
       "      <th>4</th>\n",
       "      <td>2011-02-02</td>\n",
       "      <td>19146</td>\n",
       "      <td>0</td>\n",
       "      <td>0</td>\n",
       "      <td>0</td>\n",
       "      <td>0</td>\n",
       "      <td>0</td>\n",
       "      <td>0</td>\n",
       "      <td>0</td>\n",
       "    </tr>\n",
       "  </tbody>\n",
       "</table>\n",
       "</div>"
      ],
      "text/plain": [
       "        date  sales  Christmas  Halloween  LaborDay  Thanksgiving  \\\n",
       "0 2011-01-29  32631          0          0         0             0   \n",
       "1 2011-01-30  31749          0          0         0             0   \n",
       "2 2011-01-31  23783          0          0         0             0   \n",
       "3 2011-02-01  25412          0          0         0             0   \n",
       "4 2011-02-02  19146          0          0         0             0   \n",
       "\n",
       "   Mother's day  PresidentsDay  NewYear  \n",
       "0             0              0        0  \n",
       "1             0              0        0  \n",
       "2             0              0        0  \n",
       "3             0              0        0  \n",
       "4             0              0        0  "
      ]
     },
     "execution_count": 2,
     "metadata": {},
     "output_type": "execute_result"
    }
   ],
   "source": [
    "df = pd.read_csv('./data/m5_agg_demand.csv', parse_dates=['date'])\n",
    "# get a subset of regressor for demo purpose\n",
    "regressor_col = [\"Christmas\",\"Halloween\",\"LaborDay\",\"Thanksgiving\",\"Mother's day\",\"PresidentsDay\",\"NewYear\"]\n",
    "df = df[[\"date\", \"sales\"] + regressor_col]\n",
    "df.head(5)"
   ]
  },
  {
   "cell_type": "code",
   "execution_count": 3,
   "metadata": {},
   "outputs": [],
   "source": [
    "test_size = 28\n",
    "train_df = df[:-test_size]\n",
    "test_df = df[-test_size:]"
   ]
  },
  {
   "cell_type": "markdown",
   "metadata": {},
   "source": [
    "Note that `level_sm_input` are used to fix level smoothing parameter. This is recommended in daily or higher frequency data."
   ]
  },
  {
   "cell_type": "code",
   "execution_count": 4,
   "metadata": {},
   "outputs": [],
   "source": [
    "dlt = DLTFull(\n",
    "    response_col='sales',\n",
    "    date_col='date',\n",
    "    seasonality=7,\n",
    "    seed=2020,\n",
    "    is_multiplicative=True,\n",
    "    regressor_col=regressor_col,\n",
    "    level_sm_input=0.3, # recommend for higher frequency data\n",
    "    regressor_sigma_prior=[0.5] * len(regressor_col),\n",
    "    regression_penalty='lasso',\n",
    "    period=365,\n",
    "    prediction_percentiles=[5,95]\n",
    ")"
   ]
  },
  {
   "cell_type": "code",
   "execution_count": 5,
   "metadata": {},
   "outputs": [
    {
     "name": "stderr",
     "output_type": "stream",
     "text": [
      "WARNING:pystan:Maximum (flat) parameter count (1000) exceeded: skipping diagnostic tests for n_eff and Rhat.\n",
      "To run all diagnostics call pystan.check_hmc_diagnostics(fit)\n"
     ]
    }
   ],
   "source": [
    "dlt.fit(train_df)"
   ]
  },
  {
   "cell_type": "code",
   "execution_count": 6,
   "metadata": {},
   "outputs": [
    {
     "data": {
      "text/html": [
       "<div>\n",
       "<style scoped>\n",
       "    .dataframe tbody tr th:only-of-type {\n",
       "        vertical-align: middle;\n",
       "    }\n",
       "\n",
       "    .dataframe tbody tr th {\n",
       "        vertical-align: top;\n",
       "    }\n",
       "\n",
       "    .dataframe thead th {\n",
       "        text-align: right;\n",
       "    }\n",
       "</style>\n",
       "<table border=\"1\" class=\"dataframe\">\n",
       "  <thead>\n",
       "    <tr style=\"text-align: right;\">\n",
       "      <th></th>\n",
       "      <th>date</th>\n",
       "      <th>5</th>\n",
       "      <th>prediction</th>\n",
       "      <th>95</th>\n",
       "    </tr>\n",
       "  </thead>\n",
       "  <tbody>\n",
       "    <tr>\n",
       "      <th>0</th>\n",
       "      <td>2016-03-28</td>\n",
       "      <td>34675.220202</td>\n",
       "      <td>38467.833932</td>\n",
       "      <td>42922.537461</td>\n",
       "    </tr>\n",
       "    <tr>\n",
       "      <th>1</th>\n",
       "      <td>2016-03-29</td>\n",
       "      <td>32408.384493</td>\n",
       "      <td>35979.958837</td>\n",
       "      <td>40949.356743</td>\n",
       "    </tr>\n",
       "    <tr>\n",
       "      <th>2</th>\n",
       "      <td>2016-03-30</td>\n",
       "      <td>30581.902186</td>\n",
       "      <td>35515.929166</td>\n",
       "      <td>41051.527562</td>\n",
       "    </tr>\n",
       "    <tr>\n",
       "      <th>3</th>\n",
       "      <td>2016-03-31</td>\n",
       "      <td>30908.349962</td>\n",
       "      <td>35752.022739</td>\n",
       "      <td>41820.172309</td>\n",
       "    </tr>\n",
       "    <tr>\n",
       "      <th>4</th>\n",
       "      <td>2016-04-01</td>\n",
       "      <td>34556.542428</td>\n",
       "      <td>39809.950355</td>\n",
       "      <td>46598.494877</td>\n",
       "    </tr>\n",
       "  </tbody>\n",
       "</table>\n",
       "</div>"
      ],
      "text/plain": [
       "        date             5    prediction            95\n",
       "0 2016-03-28  34675.220202  38467.833932  42922.537461\n",
       "1 2016-03-29  32408.384493  35979.958837  40949.356743\n",
       "2 2016-03-30  30581.902186  35515.929166  41051.527562\n",
       "3 2016-03-31  30908.349962  35752.022739  41820.172309\n",
       "4 2016-04-01  34556.542428  39809.950355  46598.494877"
      ]
     },
     "execution_count": 6,
     "metadata": {},
     "output_type": "execute_result"
    }
   ],
   "source": [
    "predicted_df = dlt.predict(df=test_df)\n",
    "predicted_df.head(5)"
   ]
  },
  {
   "cell_type": "code",
   "execution_count": 7,
   "metadata": {},
   "outputs": [
    {
     "data": {
      "image/png": "[encoded data removed]",
      "text/plain": [
       "<Figure size 1152x576 with 1 Axes>"
      ]
     },
     "metadata": {},
     "output_type": "display_data"
    }
   ],
   "source": [
    "plot_predicted_data(training_actual_df=df[-365:], predicted_df=predicted_df[-365:], \n",
    "                    test_actual_df=test_df, date_col=dlt.date_col,\n",
    "                    pred_percentiles_col=[5,95],\n",
    "                    actual_col='sales', pred_col='prediction')"
   ]
  }
 ],
 "metadata": {
  "kernelspec": {
   "display_name": "orbit",
   "language": "python",
   "name": "orbit"
  },
  "language_info": {
   "codemirror_mode": {
    "name": "ipython",
    "version": 3
   },
   "file_extension": ".py",
   "mimetype": "text/x-python",
   "name": "python",
   "nbconvert_exporter": "python",
   "pygments_lexer": "ipython3",
   "version": "3.6.8"
  }
 },
 "nbformat": 4,
 "nbformat_minor": 4
}
