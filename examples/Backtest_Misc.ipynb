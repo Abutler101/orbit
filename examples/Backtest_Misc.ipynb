{
 "cells": [
  {
   "cell_type": "markdown",
   "metadata": {},
   "source": [
    "<b><font size=5> Backtest Misc"
   ]
  },
  {
   "cell_type": "markdown",
   "metadata": {},
   "source": [
    "Examples of backtesting for \n",
    "* multiple series \n",
    "* multiple models"
   ]
  },
  {
   "cell_type": "code",
   "execution_count": 2,
   "metadata": {
    "ExecuteTime": {
     "end_time": "2020-05-15T09:34:40.863630Z",
     "start_time": "2020-05-15T09:34:38.688018Z"
    }
   },
   "outputs": [],
   "source": [
    "import pandas as pd\n",
    "import numpy as np\n",
    "import matplotlib.pyplot as plt\n",
    "%matplotlib inline\n",
    "plt.style.use('ggplot')\n",
    "\n",
    "from orbit.lgt import LGT\n",
    "from orbit.dlt import DLT\n",
    "from orbit.backtest.backtest import TimeSeriesSplitter, Backtest\n",
    "from orbit.utils.metrics import mape, smape, wmape\n",
    "from orbit.backtest.multibacktest import run_multi_series_backtest"
   ]
  },
  {
   "cell_type": "markdown",
   "metadata": {},
   "source": [
    "## Load data"
   ]
  },
  {
   "cell_type": "code",
   "execution_count": 3,
   "metadata": {
    "ExecuteTime": {
     "end_time": "2020-05-15T09:34:41.221011Z",
     "start_time": "2020-05-15T09:34:40.865141Z"
    }
   },
   "outputs": [],
   "source": [
    "data_path = \"../examples/data/m4_weekly_example.csv\"\n",
    "raw_data = pd.read_csv(data_path, parse_dates=['date'])"
   ]
  },
  {
   "cell_type": "code",
   "execution_count": 4,
   "metadata": {
    "ExecuteTime": {
     "end_time": "2020-05-15T09:34:42.101487Z",
     "start_time": "2020-05-15T09:34:42.047080Z"
    }
   },
   "outputs": [
    {
     "name": "stdout",
     "output_type": "stream",
     "text": [
      "(5435, 4)\n"
     ]
    },
    {
     "data": {
      "text/html": [
       "<div>\n",
       "<style scoped>\n",
       "    .dataframe tbody tr th:only-of-type {\n",
       "        vertical-align: middle;\n",
       "    }\n",
       "\n",
       "    .dataframe tbody tr th {\n",
       "        vertical-align: top;\n",
       "    }\n",
       "\n",
       "    .dataframe thead th {\n",
       "        text-align: right;\n",
       "    }\n",
       "</style>\n",
       "<table border=\"1\" class=\"dataframe\">\n",
       "  <thead>\n",
       "    <tr style=\"text-align: right;\">\n",
       "      <th></th>\n",
       "      <th>key</th>\n",
       "      <th>week_num</th>\n",
       "      <th>value</th>\n",
       "      <th>date</th>\n",
       "    </tr>\n",
       "  </thead>\n",
       "  <tbody>\n",
       "    <tr>\n",
       "      <th>0</th>\n",
       "      <td>W1</td>\n",
       "      <td>2</td>\n",
       "      <td>1089.20</td>\n",
       "      <td>1970-01-05</td>\n",
       "    </tr>\n",
       "    <tr>\n",
       "      <th>1</th>\n",
       "      <td>W1</td>\n",
       "      <td>3</td>\n",
       "      <td>1078.91</td>\n",
       "      <td>1970-01-12</td>\n",
       "    </tr>\n",
       "    <tr>\n",
       "      <th>2</th>\n",
       "      <td>W1</td>\n",
       "      <td>4</td>\n",
       "      <td>1079.88</td>\n",
       "      <td>1970-01-19</td>\n",
       "    </tr>\n",
       "    <tr>\n",
       "      <th>3</th>\n",
       "      <td>W1</td>\n",
       "      <td>5</td>\n",
       "      <td>1063.58</td>\n",
       "      <td>1970-01-26</td>\n",
       "    </tr>\n",
       "    <tr>\n",
       "      <th>4</th>\n",
       "      <td>W1</td>\n",
       "      <td>6</td>\n",
       "      <td>1060.61</td>\n",
       "      <td>1970-02-02</td>\n",
       "    </tr>\n",
       "  </tbody>\n",
       "</table>\n",
       "</div>"
      ],
      "text/plain": [
       "  key  week_num    value       date\n",
       "0  W1         2  1089.20 1970-01-05\n",
       "1  W1         3  1078.91 1970-01-12\n",
       "2  W1         4  1079.88 1970-01-19\n",
       "3  W1         5  1063.58 1970-01-26\n",
       "4  W1         6  1060.61 1970-02-02"
      ]
     },
     "execution_count": 4,
     "metadata": {},
     "output_type": "execute_result"
    }
   ],
   "source": [
    "data = raw_data.copy()\n",
    "print(data.shape)\n",
    "data.head(5)"
   ]
  },
  {
   "cell_type": "markdown",
   "metadata": {},
   "source": [
    "## Settings"
   ]
  },
  {
   "cell_type": "code",
   "execution_count": 5,
   "metadata": {
    "ExecuteTime": {
     "end_time": "2020-05-15T09:34:44.579470Z",
     "start_time": "2020-05-15T09:34:44.575457Z"
    }
   },
   "outputs": [],
   "source": [
    "data_settings = {\n",
    "    \"date_col\": \"date\",\n",
    "    \"response_col\": \"value\",\n",
    "    \"key_col\": \"key\",\n",
    "    \"seasonality\": 52\n",
    "}\n",
    "    \n",
    "bt_settings = {\n",
    "    \"min_train_len\": 120,\n",
    "    \"forecast_len\": 13,\n",
    "    \"incremental_len\": 5,\n",
    "    \"n_splits\": 1,\n",
    "    \"scheme\": \"expanding\",\n",
    "    \"seed\": 2019,\n",
    "    \"metric_horizon\":[1, 4, 13]\n",
    "    \n",
    "}"
   ]
  },
  {
   "cell_type": "code",
   "execution_count": 6,
   "metadata": {
    "ExecuteTime": {
     "end_time": "2020-05-15T09:34:46.969800Z",
     "start_time": "2020-05-15T09:34:46.965355Z"
    }
   },
   "outputs": [],
   "source": [
    "# data settings\n",
    "DATE_COL = data_settings['date_col']\n",
    "RESPONSE_COL = data_settings['response_col']\n",
    "KEY_COL = data_settings['key_col']\n",
    "SEASONALITY = data_settings['seasonality']\n",
    "\n",
    "# backtest settings\n",
    "MIN_TRAIN_LEN = bt_settings['min_train_len']\n",
    "FORECAST_LEN = bt_settings['forecast_len']\n",
    "INCREMENTAL_LEN = bt_settings['incremental_len']\n",
    "N_SPLITS = bt_settings['n_splits']\n",
    "WINDOW_TYPE = bt_settings['scheme']\n",
    "SEED = bt_settings['seed']\n",
    "METRIC_HORIZON = bt_settings['metric_horizon']"
   ]
  },
  {
   "cell_type": "code",
   "execution_count": 14,
   "metadata": {
    "ExecuteTime": {
     "end_time": "2020-05-15T09:36:38.348355Z",
     "start_time": "2020-05-15T09:36:38.344088Z"
    }
   },
   "outputs": [],
   "source": [
    "lgt_map = LGT(\n",
    "    response_col=RESPONSE_COL,\n",
    "    date_col=DATE_COL,\n",
    "    seasonality=SEASONALITY,\n",
    "    seed=SEED,\n",
    "    infer_method='map',\n",
    "    predict_method='map',\n",
    "    is_multiplicative=True\n",
    ")\n",
    "\n",
    "dlt_map = DLT(\n",
    "    response_col=RESPONSE_COL,\n",
    "    date_col=DATE_COL,\n",
    "    seasonality=SEASONALITY,\n",
    "    seed=SEED,\n",
    "    infer_method='map',\n",
    "    predict_method='map',\n",
    "    global_trend_option='loglinear',\n",
    "    is_multiplicative=True\n",
    ")\n"
   ]
  },
  {
   "cell_type": "code",
   "execution_count": 15,
   "metadata": {
    "ExecuteTime": {
     "end_time": "2020-05-15T09:36:41.310569Z",
     "start_time": "2020-05-15T09:36:41.307838Z"
    }
   },
   "outputs": [],
   "source": [
    "bt_models = {\n",
    "    'LGT-MAP': lgt_map,\n",
    "    'DLT-MAP': dlt_map\n",
    "}"
   ]
  },
  {
   "cell_type": "markdown",
   "metadata": {},
   "source": [
    "## Backtest Multiple Series"
   ]
  },
  {
   "cell_type": "code",
   "execution_count": 9,
   "metadata": {
    "ExecuteTime": {
     "end_time": "2020-05-15T09:35:17.441768Z",
     "start_time": "2020-05-15T09:35:11.213915Z"
    }
   },
   "outputs": [
    {
     "name": "stderr",
     "output_type": "stream",
     "text": [
      "100%|██████████| 3/3 [00:06<00:00,  2.07s/it]\n"
     ]
    }
   ],
   "source": [
    "bt_result, bt_scores = run_multi_series_backtest(\n",
    "    data=data, \n",
    "    response_col=RESPONSE_COL, \n",
    "    key_col=KEY_COL, \n",
    "    date_col=DATE_COL,\n",
    "    model=lgt_map,\n",
    "    min_train_len=MIN_TRAIN_LEN, \n",
    "    incremental_len=INCREMENTAL_LEN, \n",
    "    forecast_len=FORECAST_LEN, \n",
    "    predicted_col='prediction', \n",
    "    n_splits=N_SPLITS,\n",
    "    window_type = WINDOW_TYPE\n",
    ")\n"
   ]
  },
  {
   "cell_type": "code",
   "execution_count": 10,
   "metadata": {
    "ExecuteTime": {
     "end_time": "2020-05-15T09:35:17.451240Z",
     "start_time": "2020-05-15T09:35:17.443990Z"
    }
   },
   "outputs": [
    {
     "data": {
      "text/html": [
       "<div>\n",
       "<style scoped>\n",
       "    .dataframe tbody tr th:only-of-type {\n",
       "        vertical-align: middle;\n",
       "    }\n",
       "\n",
       "    .dataframe tbody tr th {\n",
       "        vertical-align: top;\n",
       "    }\n",
       "\n",
       "    .dataframe thead th {\n",
       "        text-align: right;\n",
       "    }\n",
       "</style>\n",
       "<table border=\"1\" class=\"dataframe\">\n",
       "  <thead>\n",
       "    <tr style=\"text-align: right;\">\n",
       "      <th></th>\n",
       "      <th>wmape</th>\n",
       "      <th>smape</th>\n",
       "      <th>n_splits</th>\n",
       "      <th>key</th>\n",
       "    </tr>\n",
       "  </thead>\n",
       "  <tbody>\n",
       "    <tr>\n",
       "      <th>0</th>\n",
       "      <td>0.021875</td>\n",
       "      <td>0.021738</td>\n",
       "      <td>1</td>\n",
       "      <td>W1</td>\n",
       "    </tr>\n",
       "    <tr>\n",
       "      <th>1</th>\n",
       "      <td>0.061956</td>\n",
       "      <td>0.063177</td>\n",
       "      <td>1</td>\n",
       "      <td>W10</td>\n",
       "    </tr>\n",
       "    <tr>\n",
       "      <th>2</th>\n",
       "      <td>0.009357</td>\n",
       "      <td>0.009349</td>\n",
       "      <td>1</td>\n",
       "      <td>W100</td>\n",
       "    </tr>\n",
       "  </tbody>\n",
       "</table>\n",
       "</div>"
      ],
      "text/plain": [
       "      wmape     smape  n_splits   key\n",
       "0  0.021875  0.021738         1    W1\n",
       "1  0.061956  0.063177         1   W10\n",
       "2  0.009357  0.009349         1  W100"
      ]
     },
     "execution_count": 10,
     "metadata": {},
     "output_type": "execute_result"
    }
   ],
   "source": [
    "bt_scores.head()"
   ]
  },
  {
   "cell_type": "markdown",
   "metadata": {},
   "source": [
    "## Backtest Multiple Models (and Multiple Series)"
   ]
  },
  {
   "cell_type": "code",
   "execution_count": 11,
   "metadata": {
    "ExecuteTime": {
     "end_time": "2020-05-15T09:35:35.724253Z",
     "start_time": "2020-05-15T09:35:25.577981Z"
    }
   },
   "outputs": [
    {
     "name": "stderr",
     "output_type": "stream",
     "text": [
      "100%|██████████| 3/3 [00:06<00:00,  2.10s/it]\n",
      "100%|██████████| 3/3 [00:03<00:00,  1.27s/it]\n"
     ]
    }
   ],
   "source": [
    "bt_result_list = []\n",
    "bt_scores_list = []\n",
    "for mod_name, mod in bt_models.items():\n",
    "    bt_result, bt_scores = run_multi_series_backtest(\n",
    "        data=data, \n",
    "        response_col=RESPONSE_COL, \n",
    "        key_col=KEY_COL, \n",
    "        date_col=DATE_COL,\n",
    "        model=mod,\n",
    "        min_train_len=MIN_TRAIN_LEN, \n",
    "        incremental_len=INCREMENTAL_LEN, \n",
    "        forecast_len=FORECAST_LEN, \n",
    "        predicted_col='prediction', \n",
    "        n_splits=N_SPLITS,\n",
    "        window_type = WINDOW_TYPE,\n",
    "    )\n",
    "    bt_result['model'] = mod_name\n",
    "    bt_scores['model'] = mod_name\n",
    "    bt_result_list.append(bt_result)\n",
    "    bt_scores_list.append(bt_scores)"
   ]
  },
  {
   "cell_type": "code",
   "execution_count": 12,
   "metadata": {
    "ExecuteTime": {
     "end_time": "2020-05-15T09:35:35.736480Z",
     "start_time": "2020-05-15T09:35:35.726482Z"
    }
   },
   "outputs": [],
   "source": [
    "bt_result = pd.concat(bt_result_list, axis=0)\n",
    "bt_scores = pd.concat(bt_scores_list, axis=0)"
   ]
  },
  {
   "cell_type": "code",
   "execution_count": 13,
   "metadata": {
    "ExecuteTime": {
     "end_time": "2020-05-15T09:35:35.748251Z",
     "start_time": "2020-05-15T09:35:35.738962Z"
    }
   },
   "outputs": [
    {
     "data": {
      "text/html": [
       "<div>\n",
       "<style scoped>\n",
       "    .dataframe tbody tr th:only-of-type {\n",
       "        vertical-align: middle;\n",
       "    }\n",
       "\n",
       "    .dataframe tbody tr th {\n",
       "        vertical-align: top;\n",
       "    }\n",
       "\n",
       "    .dataframe thead th {\n",
       "        text-align: right;\n",
       "    }\n",
       "</style>\n",
       "<table border=\"1\" class=\"dataframe\">\n",
       "  <thead>\n",
       "    <tr style=\"text-align: right;\">\n",
       "      <th></th>\n",
       "      <th>wmape</th>\n",
       "      <th>smape</th>\n",
       "      <th>n_splits</th>\n",
       "      <th>key</th>\n",
       "      <th>model</th>\n",
       "    </tr>\n",
       "  </thead>\n",
       "  <tbody>\n",
       "    <tr>\n",
       "      <th>0</th>\n",
       "      <td>0.021875</td>\n",
       "      <td>0.021738</td>\n",
       "      <td>1</td>\n",
       "      <td>W1</td>\n",
       "      <td>LGT-MAP</td>\n",
       "    </tr>\n",
       "    <tr>\n",
       "      <th>1</th>\n",
       "      <td>0.061956</td>\n",
       "      <td>0.063177</td>\n",
       "      <td>1</td>\n",
       "      <td>W10</td>\n",
       "      <td>LGT-MAP</td>\n",
       "    </tr>\n",
       "    <tr>\n",
       "      <th>2</th>\n",
       "      <td>0.009357</td>\n",
       "      <td>0.009349</td>\n",
       "      <td>1</td>\n",
       "      <td>W100</td>\n",
       "      <td>LGT-MAP</td>\n",
       "    </tr>\n",
       "    <tr>\n",
       "      <th>0</th>\n",
       "      <td>0.014449</td>\n",
       "      <td>0.014422</td>\n",
       "      <td>1</td>\n",
       "      <td>W1</td>\n",
       "      <td>DLT-MAP</td>\n",
       "    </tr>\n",
       "    <tr>\n",
       "      <th>1</th>\n",
       "      <td>0.074142</td>\n",
       "      <td>0.076276</td>\n",
       "      <td>1</td>\n",
       "      <td>W10</td>\n",
       "      <td>DLT-MAP</td>\n",
       "    </tr>\n",
       "  </tbody>\n",
       "</table>\n",
       "</div>"
      ],
      "text/plain": [
       "      wmape     smape  n_splits   key    model\n",
       "0  0.021875  0.021738         1    W1  LGT-MAP\n",
       "1  0.061956  0.063177         1   W10  LGT-MAP\n",
       "2  0.009357  0.009349         1  W100  LGT-MAP\n",
       "0  0.014449  0.014422         1    W1  DLT-MAP\n",
       "1  0.074142  0.076276         1   W10  DLT-MAP"
      ]
     },
     "execution_count": 13,
     "metadata": {},
     "output_type": "execute_result"
    }
   ],
   "source": [
    "bt_scores.head()"
   ]
  },
  {
   "cell_type": "code",
   "execution_count": null,
   "metadata": {},
   "outputs": [],
   "source": []
  }
 ],
 "metadata": {
  "kernelspec": {
   "display_name": "Python 3",
   "language": "python",
   "name": "python3"
  },
  "language_info": {
   "codemirror_mode": {
    "name": "ipython",
    "version": 3
   },
   "file_extension": ".py",
   "mimetype": "text/x-python",
   "name": "python",
   "nbconvert_exporter": "python",
   "pygments_lexer": "ipython3",
   "version": "3.7.7"
  },
  "toc": {
   "base_numbering": 1,
   "nav_menu": {},
   "number_sections": true,
   "sideBar": true,
   "skip_h1_title": false,
   "title_cell": "Table of Contents",
   "title_sidebar": "Contents",
   "toc_cell": false,
   "toc_position": {
    "height": "calc(100% - 180px)",
    "left": "10px",
    "top": "150px",
    "width": "306.391px"
   },
   "toc_section_display": true,
   "toc_window_display": true
  }
 },
 "nbformat": 4,
 "nbformat_minor": 4
}
