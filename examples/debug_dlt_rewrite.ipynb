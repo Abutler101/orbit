{
 "cells": [
  {
   "cell_type": "markdown",
   "metadata": {},
   "source": [
    "# Re-writing DLT to follow R. Hyndman's "
   ]
  },
  {
   "cell_type": "code",
   "execution_count": 1,
   "metadata": {},
   "outputs": [],
   "source": [
    "import pandas as pd\n",
    "import matplotlib.pyplot as plt\n",
    "from orbit.dlt_rh import DLTRH\n",
    "from orbit.dlt import DLT\n",
    "import numpy as np\n",
    "from orbit.models import get_compiled_stan_model\n",
    "from orbit.utils.plot import plot_predicted_data\n",
    "from orbit.utils.plot import plot_predicted_components\n",
    "from orbit.backtest.backtest import TimeSeriesSplitter, Backtest\n",
    "from orbit.backtest.functions import run_multi_series_backtest"
   ]
  },
  {
   "cell_type": "code",
   "execution_count": 2,
   "metadata": {
    "ExecuteTime": {
     "end_time": "2020-05-15T22:17:52.178808Z",
     "start_time": "2020-05-15T22:17:52.152980Z"
    }
   },
   "outputs": [],
   "source": [
    "DATA_FILE = \"./data/iclaims_example.csv\""
   ]
  },
  {
   "cell_type": "code",
   "execution_count": 3,
   "metadata": {
    "ExecuteTime": {
     "end_time": "2020-05-15T22:17:52.212245Z",
     "start_time": "2020-05-15T22:17:52.181648Z"
    }
   },
   "outputs": [],
   "source": [
    "raw_df = pd.read_csv(DATA_FILE, parse_dates=['week'])"
   ]
  },
  {
   "cell_type": "code",
   "execution_count": 4,
   "metadata": {
    "ExecuteTime": {
     "end_time": "2020-05-15T22:17:52.245132Z",
     "start_time": "2020-05-15T22:17:52.214525Z"
    }
   },
   "outputs": [
    {
     "data": {
      "text/plain": [
       "week              datetime64[ns]\n",
       "claims                     int64\n",
       "trend.unemploy           float64\n",
       "trend.filling            float64\n",
       "trend.job                float64\n",
       "dtype: object"
      ]
     },
     "execution_count": 4,
     "metadata": {},
     "output_type": "execute_result"
    }
   ],
   "source": [
    "raw_df.dtypes"
   ]
  },
  {
   "cell_type": "code",
   "execution_count": 5,
   "metadata": {
    "ExecuteTime": {
     "end_time": "2020-05-15T22:17:52.283186Z",
     "start_time": "2020-05-15T22:17:52.247386Z"
    }
   },
   "outputs": [
    {
     "data": {
      "text/html": [
       "<div>\n",
       "<style scoped>\n",
       "    .dataframe tbody tr th:only-of-type {\n",
       "        vertical-align: middle;\n",
       "    }\n",
       "\n",
       "    .dataframe tbody tr th {\n",
       "        vertical-align: top;\n",
       "    }\n",
       "\n",
       "    .dataframe thead th {\n",
       "        text-align: right;\n",
       "    }\n",
       "</style>\n",
       "<table border=\"1\" class=\"dataframe\">\n",
       "  <thead>\n",
       "    <tr style=\"text-align: right;\">\n",
       "      <th></th>\n",
       "      <th>week</th>\n",
       "      <th>claims</th>\n",
       "      <th>trend.unemploy</th>\n",
       "      <th>trend.filling</th>\n",
       "      <th>trend.job</th>\n",
       "    </tr>\n",
       "  </thead>\n",
       "  <tbody>\n",
       "    <tr>\n",
       "      <th>0</th>\n",
       "      <td>2010-01-03</td>\n",
       "      <td>651215</td>\n",
       "      <td>1.183973</td>\n",
       "      <td>0.720140</td>\n",
       "      <td>1.119669</td>\n",
       "    </tr>\n",
       "    <tr>\n",
       "      <th>1</th>\n",
       "      <td>2010-01-10</td>\n",
       "      <td>825891</td>\n",
       "      <td>1.183973</td>\n",
       "      <td>0.814896</td>\n",
       "      <td>1.178599</td>\n",
       "    </tr>\n",
       "    <tr>\n",
       "      <th>2</th>\n",
       "      <td>2010-01-17</td>\n",
       "      <td>659173</td>\n",
       "      <td>1.203382</td>\n",
       "      <td>0.739091</td>\n",
       "      <td>1.119669</td>\n",
       "    </tr>\n",
       "    <tr>\n",
       "      <th>3</th>\n",
       "      <td>2010-01-24</td>\n",
       "      <td>507651</td>\n",
       "      <td>1.164564</td>\n",
       "      <td>0.814896</td>\n",
       "      <td>1.107883</td>\n",
       "    </tr>\n",
       "    <tr>\n",
       "      <th>4</th>\n",
       "      <td>2010-01-31</td>\n",
       "      <td>538617</td>\n",
       "      <td>1.086926</td>\n",
       "      <td>0.776993</td>\n",
       "      <td>1.072525</td>\n",
       "    </tr>\n",
       "  </tbody>\n",
       "</table>\n",
       "</div>"
      ],
      "text/plain": [
       "        week  claims  trend.unemploy  trend.filling  trend.job\n",
       "0 2010-01-03  651215        1.183973       0.720140   1.119669\n",
       "1 2010-01-10  825891        1.183973       0.814896   1.178599\n",
       "2 2010-01-17  659173        1.203382       0.739091   1.119669\n",
       "3 2010-01-24  507651        1.164564       0.814896   1.107883\n",
       "4 2010-01-31  538617        1.086926       0.776993   1.072525"
      ]
     },
     "execution_count": 5,
     "metadata": {},
     "output_type": "execute_result"
    }
   ],
   "source": [
    "raw_df.head(5)"
   ]
  },
  {
   "cell_type": "markdown",
   "metadata": {},
   "source": [
    "### Train / Test Split"
   ]
  },
  {
   "cell_type": "code",
   "execution_count": 6,
   "metadata": {
    "ExecuteTime": {
     "end_time": "2020-05-15T22:17:52.993027Z",
     "start_time": "2020-05-15T22:17:52.962265Z"
    }
   },
   "outputs": [],
   "source": [
    "df=raw_df.copy()\n",
    "test_size=52\n",
    "train_df=df[:-test_size]\n",
    "test_df=df[-test_size:]"
   ]
  },
  {
   "cell_type": "code",
   "execution_count": 7,
   "metadata": {},
   "outputs": [],
   "source": [
    "response_col = 'claims'"
   ]
  },
  {
   "cell_type": "code",
   "execution_count": 8,
   "metadata": {
    "ExecuteTime": {
     "end_time": "2020-05-15T22:17:53.731854Z",
     "start_time": "2020-05-15T22:17:53.694737Z"
    }
   },
   "outputs": [
    {
     "data": {
      "text/html": [
       "<div>\n",
       "<style scoped>\n",
       "    .dataframe tbody tr th:only-of-type {\n",
       "        vertical-align: middle;\n",
       "    }\n",
       "\n",
       "    .dataframe tbody tr th {\n",
       "        vertical-align: top;\n",
       "    }\n",
       "\n",
       "    .dataframe thead th {\n",
       "        text-align: right;\n",
       "    }\n",
       "</style>\n",
       "<table border=\"1\" class=\"dataframe\">\n",
       "  <thead>\n",
       "    <tr style=\"text-align: right;\">\n",
       "      <th></th>\n",
       "      <th>week</th>\n",
       "      <th>claims</th>\n",
       "      <th>trend.unemploy</th>\n",
       "      <th>trend.filling</th>\n",
       "      <th>trend.job</th>\n",
       "    </tr>\n",
       "  </thead>\n",
       "  <tbody>\n",
       "    <tr>\n",
       "      <th>0</th>\n",
       "      <td>2010-01-03</td>\n",
       "      <td>651215</td>\n",
       "      <td>1.183973</td>\n",
       "      <td>0.720140</td>\n",
       "      <td>1.119669</td>\n",
       "    </tr>\n",
       "    <tr>\n",
       "      <th>1</th>\n",
       "      <td>2010-01-10</td>\n",
       "      <td>825891</td>\n",
       "      <td>1.183973</td>\n",
       "      <td>0.814896</td>\n",
       "      <td>1.178599</td>\n",
       "    </tr>\n",
       "    <tr>\n",
       "      <th>2</th>\n",
       "      <td>2010-01-17</td>\n",
       "      <td>659173</td>\n",
       "      <td>1.203382</td>\n",
       "      <td>0.739091</td>\n",
       "      <td>1.119669</td>\n",
       "    </tr>\n",
       "    <tr>\n",
       "      <th>3</th>\n",
       "      <td>2010-01-24</td>\n",
       "      <td>507651</td>\n",
       "      <td>1.164564</td>\n",
       "      <td>0.814896</td>\n",
       "      <td>1.107883</td>\n",
       "    </tr>\n",
       "    <tr>\n",
       "      <th>4</th>\n",
       "      <td>2010-01-31</td>\n",
       "      <td>538617</td>\n",
       "      <td>1.086926</td>\n",
       "      <td>0.776993</td>\n",
       "      <td>1.072525</td>\n",
       "    </tr>\n",
       "  </tbody>\n",
       "</table>\n",
       "</div>"
      ],
      "text/plain": [
       "        week  claims  trend.unemploy  trend.filling  trend.job\n",
       "0 2010-01-03  651215        1.183973       0.720140   1.119669\n",
       "1 2010-01-10  825891        1.183973       0.814896   1.178599\n",
       "2 2010-01-17  659173        1.203382       0.739091   1.119669\n",
       "3 2010-01-24  507651        1.164564       0.814896   1.107883\n",
       "4 2010-01-31  538617        1.086926       0.776993   1.072525"
      ]
     },
     "execution_count": 8,
     "metadata": {},
     "output_type": "execute_result"
    }
   ],
   "source": [
    "train_df.head(5)"
   ]
  },
  {
   "cell_type": "code",
   "execution_count": 9,
   "metadata": {},
   "outputs": [],
   "source": [
    "mod = DLTRH(\n",
    "    is_multiplicative=True, seed=2020,\n",
    "    response_col='claims', date_col='week', seasonality=52, \n",
    "    normalize_seasonality=1,\n",
    "    infer_method='map', predict_method='map')"
   ]
  },
  {
   "cell_type": "code",
   "execution_count": 10,
   "metadata": {},
   "outputs": [
    {
     "name": "stderr",
     "output_type": "stream",
     "text": [
      "INFO:pystan:COMPILING THE C++ CODE FOR MODEL anon_model_e218fcd7f9163bb2851e7fdd089f7cb0 NOW.\n"
     ]
    }
   ],
   "source": [
    "mod.fit(train_df)"
   ]
  },
  {
   "cell_type": "code",
   "execution_count": 11,
   "metadata": {},
   "outputs": [],
   "source": [
    "fit = mod.aggregated_posteriors['map']"
   ]
  },
  {
   "cell_type": "code",
   "execution_count": 12,
   "metadata": {},
   "outputs": [
    {
     "data": {
      "text/plain": [
       "dict_keys(['l', 'b', 'l_sm', 'b_sm', 'obs_sigma', 'gb', 'gt_sum', 's', 's_sm'])"
      ]
     },
     "execution_count": 12,
     "metadata": {},
     "output_type": "execute_result"
    }
   ],
   "source": [
    "fit.keys()"
   ]
  },
  {
   "cell_type": "code",
   "execution_count": 13,
   "metadata": {},
   "outputs": [],
   "source": [
    "s = fit['s']\n",
    "l = fit['l']\n",
    "gb = fit['gb']\n",
    "l_ext = np.expand_dims(np.tile(l[:, -1], 51), 0)\n",
    "l = np.concatenate([l, l_ext], axis=1)"
   ]
  },
  {
   "cell_type": "code",
   "execution_count": 14,
   "metadata": {},
   "outputs": [
    {
     "data": {
      "text/plain": [
       "array([-0.00178721])"
      ]
     },
     "execution_count": 14,
     "metadata": {},
     "output_type": "execute_result"
    }
   ],
   "source": [
    "gb"
   ]
  },
  {
   "cell_type": "code",
   "execution_count": 15,
   "metadata": {},
   "outputs": [],
   "source": [
    "b = fit['b']\n",
    "b_ext = [b[:, -1] * mod.damped_factor]\n",
    "for i in range(2,52):\n",
    "    b_ext.append(b_ext[-1] * mod.damped_factor)\n",
    "b_ext = np.array(b_ext).reshape(1, -1)\n",
    "b = np.concatenate([b, b_ext], axis=1)"
   ]
  },
  {
   "cell_type": "code",
   "execution_count": 16,
   "metadata": {},
   "outputs": [],
   "source": [
    "gt = gb * np.arange(0, l.shape[1])\n",
    "gt = gt.reshape(1, -1)"
   ]
  },
  {
   "cell_type": "code",
   "execution_count": 17,
   "metadata": {},
   "outputs": [
    {
     "name": "stdout",
     "output_type": "stream",
     "text": [
      "(1, 443) (1, 443) (1, 443) (1, 51) (1, 51) (1, 443)\n"
     ]
    }
   ],
   "source": [
    "print(l.shape, s.shape, b.shape, l_ext.shape, b_ext.shape, gt.shape)"
   ]
  },
  {
   "cell_type": "code",
   "execution_count": 18,
   "metadata": {},
   "outputs": [],
   "source": [
    "yhat= gt + l + s + b\n",
    "yhat =np.squeeze(yhat)"
   ]
  },
  {
   "cell_type": "code",
   "execution_count": 19,
   "metadata": {},
   "outputs": [
    {
     "data": {
      "text/plain": [
       "[<matplotlib.lines.Line2D at 0x7f871cf2d518>]"
      ]
     },
     "execution_count": 19,
     "metadata": {},
     "output_type": "execute_result"
    },
    {
     "data": {
      "image/png": "[encoded data removed]",
      "text/plain": [
       "<Figure size 864x576 with 1 Axes>"
      ]
     },
     "metadata": {
      "needs_background": "light"
     },
     "output_type": "display_data"
    }
   ],
   "source": [
    "fig, ax = plt.subplots(1,1, figsize=(12,8))\n",
    "y = df[response_col]\n",
    "plt.plot(df['week'], np.exp(yhat))\n",
    "plt.plot(df['week'], df[response_col], 'o', alpha=0.5)"
   ]
  },
  {
   "cell_type": "code",
   "execution_count": 20,
   "metadata": {},
   "outputs": [],
   "source": [
    "predicted_df = mod.predict(df)"
   ]
  },
  {
   "cell_type": "code",
   "execution_count": 21,
   "metadata": {},
   "outputs": [
    {
     "data": {
      "text/html": [
       "<div>\n",
       "<style scoped>\n",
       "    .dataframe tbody tr th:only-of-type {\n",
       "        vertical-align: middle;\n",
       "    }\n",
       "\n",
       "    .dataframe tbody tr th {\n",
       "        vertical-align: top;\n",
       "    }\n",
       "\n",
       "    .dataframe thead th {\n",
       "        text-align: right;\n",
       "    }\n",
       "</style>\n",
       "<table border=\"1\" class=\"dataframe\">\n",
       "  <thead>\n",
       "    <tr style=\"text-align: right;\">\n",
       "      <th></th>\n",
       "      <th>week</th>\n",
       "      <th>prediction</th>\n",
       "    </tr>\n",
       "  </thead>\n",
       "  <tbody>\n",
       "    <tr>\n",
       "      <th>391</th>\n",
       "      <td>2017-07-02</td>\n",
       "      <td>239945.085612</td>\n",
       "    </tr>\n",
       "    <tr>\n",
       "      <th>392</th>\n",
       "      <td>2017-07-09</td>\n",
       "      <td>268510.782229</td>\n",
       "    </tr>\n",
       "    <tr>\n",
       "      <th>393</th>\n",
       "      <td>2017-07-16</td>\n",
       "      <td>241038.908397</td>\n",
       "    </tr>\n",
       "    <tr>\n",
       "      <th>394</th>\n",
       "      <td>2017-07-23</td>\n",
       "      <td>207839.832634</td>\n",
       "    </tr>\n",
       "    <tr>\n",
       "      <th>395</th>\n",
       "      <td>2017-07-30</td>\n",
       "      <td>196261.337423</td>\n",
       "    </tr>\n",
       "    <tr>\n",
       "      <th>396</th>\n",
       "      <td>2017-08-06</td>\n",
       "      <td>207109.087855</td>\n",
       "    </tr>\n",
       "    <tr>\n",
       "      <th>397</th>\n",
       "      <td>2017-08-13</td>\n",
       "      <td>196375.971642</td>\n",
       "    </tr>\n",
       "    <tr>\n",
       "      <th>398</th>\n",
       "      <td>2017-08-20</td>\n",
       "      <td>194028.772497</td>\n",
       "    </tr>\n",
       "    <tr>\n",
       "      <th>399</th>\n",
       "      <td>2017-08-27</td>\n",
       "      <td>192918.846549</td>\n",
       "    </tr>\n",
       "    <tr>\n",
       "      <th>400</th>\n",
       "      <td>2017-09-03</td>\n",
       "      <td>195105.643358</td>\n",
       "    </tr>\n",
       "    <tr>\n",
       "      <th>401</th>\n",
       "      <td>2017-09-10</td>\n",
       "      <td>172810.909899</td>\n",
       "    </tr>\n",
       "    <tr>\n",
       "      <th>402</th>\n",
       "      <td>2017-09-17</td>\n",
       "      <td>183949.835313</td>\n",
       "    </tr>\n",
       "    <tr>\n",
       "      <th>403</th>\n",
       "      <td>2017-09-24</td>\n",
       "      <td>177770.627031</td>\n",
       "    </tr>\n",
       "    <tr>\n",
       "      <th>404</th>\n",
       "      <td>2017-10-01</td>\n",
       "      <td>179710.745726</td>\n",
       "    </tr>\n",
       "    <tr>\n",
       "      <th>405</th>\n",
       "      <td>2017-10-08</td>\n",
       "      <td>214056.899861</td>\n",
       "    </tr>\n",
       "    <tr>\n",
       "      <th>406</th>\n",
       "      <td>2017-10-15</td>\n",
       "      <td>209338.697090</td>\n",
       "    </tr>\n",
       "    <tr>\n",
       "      <th>407</th>\n",
       "      <td>2017-10-22</td>\n",
       "      <td>212473.252818</td>\n",
       "    </tr>\n",
       "    <tr>\n",
       "      <th>408</th>\n",
       "      <td>2017-10-29</td>\n",
       "      <td>220194.023068</td>\n",
       "    </tr>\n",
       "    <tr>\n",
       "      <th>409</th>\n",
       "      <td>2017-11-05</td>\n",
       "      <td>232069.529481</td>\n",
       "    </tr>\n",
       "    <tr>\n",
       "      <th>410</th>\n",
       "      <td>2017-11-12</td>\n",
       "      <td>201244.656461</td>\n",
       "    </tr>\n",
       "    <tr>\n",
       "      <th>411</th>\n",
       "      <td>2017-11-19</td>\n",
       "      <td>258448.110994</td>\n",
       "    </tr>\n",
       "    <tr>\n",
       "      <th>412</th>\n",
       "      <td>2017-11-26</td>\n",
       "      <td>224156.401172</td>\n",
       "    </tr>\n",
       "    <tr>\n",
       "      <th>413</th>\n",
       "      <td>2017-12-03</td>\n",
       "      <td>316121.254227</td>\n",
       "    </tr>\n",
       "    <tr>\n",
       "      <th>414</th>\n",
       "      <td>2017-12-10</td>\n",
       "      <td>274438.264925</td>\n",
       "    </tr>\n",
       "    <tr>\n",
       "      <th>415</th>\n",
       "      <td>2017-12-17</td>\n",
       "      <td>283017.023853</td>\n",
       "    </tr>\n",
       "    <tr>\n",
       "      <th>416</th>\n",
       "      <td>2017-12-24</td>\n",
       "      <td>307692.031281</td>\n",
       "    </tr>\n",
       "    <tr>\n",
       "      <th>417</th>\n",
       "      <td>2017-12-31</td>\n",
       "      <td>314714.001240</td>\n",
       "    </tr>\n",
       "    <tr>\n",
       "      <th>418</th>\n",
       "      <td>2018-01-07</td>\n",
       "      <td>373394.506927</td>\n",
       "    </tr>\n",
       "    <tr>\n",
       "      <th>419</th>\n",
       "      <td>2018-01-14</td>\n",
       "      <td>318002.467120</td>\n",
       "    </tr>\n",
       "    <tr>\n",
       "      <th>420</th>\n",
       "      <td>2018-01-21</td>\n",
       "      <td>256431.247897</td>\n",
       "    </tr>\n",
       "    <tr>\n",
       "      <th>421</th>\n",
       "      <td>2018-01-28</td>\n",
       "      <td>254230.454280</td>\n",
       "    </tr>\n",
       "    <tr>\n",
       "      <th>422</th>\n",
       "      <td>2018-02-04</td>\n",
       "      <td>234953.671251</td>\n",
       "    </tr>\n",
       "    <tr>\n",
       "      <th>423</th>\n",
       "      <td>2018-02-11</td>\n",
       "      <td>222280.128362</td>\n",
       "    </tr>\n",
       "    <tr>\n",
       "      <th>424</th>\n",
       "      <td>2018-02-18</td>\n",
       "      <td>215940.997957</td>\n",
       "    </tr>\n",
       "    <tr>\n",
       "      <th>425</th>\n",
       "      <td>2018-02-25</td>\n",
       "      <td>192186.566139</td>\n",
       "    </tr>\n",
       "    <tr>\n",
       "      <th>426</th>\n",
       "      <td>2018-03-04</td>\n",
       "      <td>219809.738086</td>\n",
       "    </tr>\n",
       "    <tr>\n",
       "      <th>427</th>\n",
       "      <td>2018-03-11</td>\n",
       "      <td>200065.550002</td>\n",
       "    </tr>\n",
       "    <tr>\n",
       "      <th>428</th>\n",
       "      <td>2018-03-18</td>\n",
       "      <td>202061.785833</td>\n",
       "    </tr>\n",
       "    <tr>\n",
       "      <th>429</th>\n",
       "      <td>2018-03-25</td>\n",
       "      <td>205262.680722</td>\n",
       "    </tr>\n",
       "    <tr>\n",
       "      <th>430</th>\n",
       "      <td>2018-04-01</td>\n",
       "      <td>187739.064715</td>\n",
       "    </tr>\n",
       "    <tr>\n",
       "      <th>431</th>\n",
       "      <td>2018-04-08</td>\n",
       "      <td>215980.995504</td>\n",
       "    </tr>\n",
       "    <tr>\n",
       "      <th>432</th>\n",
       "      <td>2018-04-15</td>\n",
       "      <td>203059.520830</td>\n",
       "    </tr>\n",
       "    <tr>\n",
       "      <th>433</th>\n",
       "      <td>2018-04-22</td>\n",
       "      <td>217067.496753</td>\n",
       "    </tr>\n",
       "    <tr>\n",
       "      <th>434</th>\n",
       "      <td>2018-04-29</td>\n",
       "      <td>190038.261326</td>\n",
       "    </tr>\n",
       "    <tr>\n",
       "      <th>435</th>\n",
       "      <td>2018-05-06</td>\n",
       "      <td>194605.680627</td>\n",
       "    </tr>\n",
       "    <tr>\n",
       "      <th>436</th>\n",
       "      <td>2018-05-13</td>\n",
       "      <td>187721.626322</td>\n",
       "    </tr>\n",
       "    <tr>\n",
       "      <th>437</th>\n",
       "      <td>2018-05-20</td>\n",
       "      <td>191180.409475</td>\n",
       "    </tr>\n",
       "    <tr>\n",
       "      <th>438</th>\n",
       "      <td>2018-05-27</td>\n",
       "      <td>211126.099781</td>\n",
       "    </tr>\n",
       "    <tr>\n",
       "      <th>439</th>\n",
       "      <td>2018-06-03</td>\n",
       "      <td>192972.991915</td>\n",
       "    </tr>\n",
       "    <tr>\n",
       "      <th>440</th>\n",
       "      <td>2018-06-10</td>\n",
       "      <td>213332.306098</td>\n",
       "    </tr>\n",
       "    <tr>\n",
       "      <th>441</th>\n",
       "      <td>2018-06-17</td>\n",
       "      <td>207964.973832</td>\n",
       "    </tr>\n",
       "    <tr>\n",
       "      <th>442</th>\n",
       "      <td>2018-06-24</td>\n",
       "      <td>217747.697696</td>\n",
       "    </tr>\n",
       "  </tbody>\n",
       "</table>\n",
       "</div>"
      ],
      "text/plain": [
       "          week     prediction\n",
       "391 2017-07-02  239945.085612\n",
       "392 2017-07-09  268510.782229\n",
       "393 2017-07-16  241038.908397\n",
       "394 2017-07-23  207839.832634\n",
       "395 2017-07-30  196261.337423\n",
       "396 2017-08-06  207109.087855\n",
       "397 2017-08-13  196375.971642\n",
       "398 2017-08-20  194028.772497\n",
       "399 2017-08-27  192918.846549\n",
       "400 2017-09-03  195105.643358\n",
       "401 2017-09-10  172810.909899\n",
       "402 2017-09-17  183949.835313\n",
       "403 2017-09-24  177770.627031\n",
       "404 2017-10-01  179710.745726\n",
       "405 2017-10-08  214056.899861\n",
       "406 2017-10-15  209338.697090\n",
       "407 2017-10-22  212473.252818\n",
       "408 2017-10-29  220194.023068\n",
       "409 2017-11-05  232069.529481\n",
       "410 2017-11-12  201244.656461\n",
       "411 2017-11-19  258448.110994\n",
       "412 2017-11-26  224156.401172\n",
       "413 2017-12-03  316121.254227\n",
       "414 2017-12-10  274438.264925\n",
       "415 2017-12-17  283017.023853\n",
       "416 2017-12-24  307692.031281\n",
       "417 2017-12-31  314714.001240\n",
       "418 2018-01-07  373394.506927\n",
       "419 2018-01-14  318002.467120\n",
       "420 2018-01-21  256431.247897\n",
       "421 2018-01-28  254230.454280\n",
       "422 2018-02-04  234953.671251\n",
       "423 2018-02-11  222280.128362\n",
       "424 2018-02-18  215940.997957\n",
       "425 2018-02-25  192186.566139\n",
       "426 2018-03-04  219809.738086\n",
       "427 2018-03-11  200065.550002\n",
       "428 2018-03-18  202061.785833\n",
       "429 2018-03-25  205262.680722\n",
       "430 2018-04-01  187739.064715\n",
       "431 2018-04-08  215980.995504\n",
       "432 2018-04-15  203059.520830\n",
       "433 2018-04-22  217067.496753\n",
       "434 2018-04-29  190038.261326\n",
       "435 2018-05-06  194605.680627\n",
       "436 2018-05-13  187721.626322\n",
       "437 2018-05-20  191180.409475\n",
       "438 2018-05-27  211126.099781\n",
       "439 2018-06-03  192972.991915\n",
       "440 2018-06-10  213332.306098\n",
       "441 2018-06-17  207964.973832\n",
       "442 2018-06-24  217747.697696"
      ]
     },
     "execution_count": 21,
     "metadata": {},
     "output_type": "execute_result"
    }
   ],
   "source": [
    "predicted_df.tail(52)"
   ]
  },
  {
   "cell_type": "code",
   "execution_count": 22,
   "metadata": {},
   "outputs": [
    {
     "data": {
      "text/plain": [
       "array([239945.08561164, 268510.78222905, 241038.90839703, 207839.83263426,\n",
       "       196261.33742267, 207109.08785472, 196375.97164235, 194028.77249735,\n",
       "       192918.84654891, 195105.64335812, 172810.90989874, 183949.83531286,\n",
       "       177770.6270306 , 179710.74572595, 214056.89986128, 209338.6970904 ,\n",
       "       212473.25281825, 220194.02306824, 232069.52948074, 201244.65646062,\n",
       "       258448.1109942 , 224156.40117207, 316121.25422735, 274438.26492468,\n",
       "       283017.02385277, 307692.03128122, 314714.00123986, 373394.50692732,\n",
       "       318002.46712009, 256431.24789666, 254230.45428037, 234953.67125129,\n",
       "       222280.12836192, 215940.99795718, 192186.56613857, 219809.73808607,\n",
       "       200065.55000182, 202061.78583264, 205262.68072204, 187739.06471514,\n",
       "       215980.99550423, 203059.52083022, 217067.49675253, 190038.26132645,\n",
       "       194605.68062651, 187721.62632224, 191180.40947524, 211126.09978126,\n",
       "       192972.9919147 , 213332.30609783, 207964.97383157, 217747.6976956 ])"
      ]
     },
     "execution_count": 22,
     "metadata": {},
     "output_type": "execute_result"
    }
   ],
   "source": [
    "np.exp(yhat[-52:])"
   ]
  },
  {
   "cell_type": "code",
   "execution_count": 23,
   "metadata": {},
   "outputs": [
    {
     "data": {
      "image/png": "[encoded data removed]",
      "text/plain": [
       "<Figure size 1152x576 with 1 Axes>"
      ]
     },
     "metadata": {},
     "output_type": "display_data"
    }
   ],
   "source": [
    "plot_predicted_data(training_actual_df=train_df, predicted_df=predicted_df, \n",
    "                    date_col=mod.date_col, actual_col=mod.response_col, pred_col='prediction', \n",
    "                    test_actual_df=test_df)"
   ]
  },
  {
   "cell_type": "code",
   "execution_count": 24,
   "metadata": {},
   "outputs": [],
   "source": [
    "# backtest on more data\n",
    "# data = pd.read_csv('./data/uber_uscan_rider_uFT.csv', parse_dates=['event_week'])\n",
    "# data = pd.read_csv('./data/uber_uscan_driver_uFT.csv', parse_dates=['event_week'])\n",
    "# response_col = 'uFT'\n",
    "# date_col='event_week'\n",
    "# key_col = 'city_name'\n",
    "# predicted_col='prediction'\n",
    "\n",
    "data = pd.read_csv('./data/m3_monthly.csv', parse_dates=['date'])\n",
    "response_col = 'value'\n",
    "date_col='date'\n",
    "key_col = 'key'\n",
    "predicted_col='prediction'"
   ]
  },
  {
   "cell_type": "code",
   "execution_count": 25,
   "metadata": {},
   "outputs": [
    {
     "data": {
      "text/plain": [
       "key              object\n",
       "value           float64\n",
       "date     datetime64[ns]\n",
       "dtype: object"
      ]
     },
     "execution_count": 25,
     "metadata": {},
     "output_type": "execute_result"
    }
   ],
   "source": [
    "data.dtypes"
   ]
  },
  {
   "cell_type": "code",
   "execution_count": 26,
   "metadata": {},
   "outputs": [],
   "source": [
    "uni_keys = data[key_col].unique()"
   ]
  },
  {
   "cell_type": "markdown",
   "metadata": {},
   "source": [
    "###  Expanding window"
   ]
  },
  {
   "cell_type": "code",
   "execution_count": 27,
   "metadata": {
    "ExecuteTime": {
     "end_time": "2020-05-21T17:54:31.268852Z",
     "start_time": "2020-05-21T17:54:31.244524Z"
    }
   },
   "outputs": [],
   "source": [
    "# min_train_len = 380\n",
    "# forecast_len = 26\n",
    "# incremental_len = 13\n",
    "# n_splits=2\n",
    "# key_col = \"city_name\"\n",
    "# window_type = 'expanding'\n",
    "# seasonality=52\n",
    "\n",
    "min_train_len = 380\n",
    "forecast_len = 18\n",
    "incremental_len = 18\n",
    "n_splits=1\n",
    "window_type = 'expanding'\n",
    "seasonality=12\n",
    "seed=2019"
   ]
  },
  {
   "cell_type": "markdown",
   "metadata": {
    "ExecuteTime": {
     "end_time": "2020-01-23T21:50:17.759953Z",
     "start_time": "2020-01-23T21:50:17.755383Z"
    }
   },
   "source": [
    "Instantiate a model that we want to backtest"
   ]
  },
  {
   "cell_type": "code",
   "execution_count": 32,
   "metadata": {
    "ExecuteTime": {
     "end_time": "2020-05-21T17:54:32.089410Z",
     "start_time": "2020-05-21T17:54:32.063743Z"
    }
   },
   "outputs": [],
   "source": [
    "mod = DLTRH(\n",
    "    is_multiplicative=True, seed=seed,\n",
    "    response_col=response_col, date_col=date_col, seasonality=seasonality, \n",
    "    normalize_seasonality=0,\n",
    "    infer_method='map', predict_method='map')"
   ]
  },
  {
   "cell_type": "code",
   "execution_count": 33,
   "metadata": {
    "ExecuteTime": {
     "end_time": "2020-05-21T17:54:35.053693Z",
     "start_time": "2020-05-21T17:54:32.339742Z"
    }
   },
   "outputs": [
    {
     "name": "stderr",
     "output_type": "stream",
     "text": [
      "100%|██████████| 1399/1399 [02:49<00:00,  8.28it/s]\n"
     ]
    },
    {
     "name": "stdout",
     "output_type": "stream",
     "text": [
      "CPU times: user 1min 51s, sys: 5.54 s, total: 1min 56s\n",
      "Wall time: 2min 50s\n"
     ]
    }
   ],
   "source": [
    "%%time\n",
    "bt_result, bt_scores = run_multi_series_backtest(\n",
    "    data=data, \n",
    "    response_col=response_col, \n",
    "    key_col=key_col, \n",
    "    date_col=date_col,\n",
    "    model=mod,\n",
    "    min_train_len=min_train_len, \n",
    "    incremental_len=incremental_len, \n",
    "    forecast_len=forecast_len, \n",
    "    predicted_col=predicted_col, \n",
    "    n_splits=n_splits,\n",
    "    window_type = window_type\n",
    ")"
   ]
  },
  {
   "cell_type": "code",
   "execution_count": 34,
   "metadata": {},
   "outputs": [
    {
     "data": {
      "text/plain": [
       "0.16028087353019924"
      ]
     },
     "execution_count": 34,
     "metadata": {},
     "output_type": "execute_result"
    }
   ],
   "source": [
    "bt_scores['smape'].mean()"
   ]
  },
  {
   "cell_type": "code",
   "execution_count": 35,
   "metadata": {},
   "outputs": [
    {
     "data": {
      "text/plain": [
       "<matplotlib.axes._subplots.AxesSubplot at 0x7f871bc09208>"
      ]
     },
     "execution_count": 35,
     "metadata": {},
     "output_type": "execute_result"
    },
    {
     "data": {
      "image/png": "[encoded data removed]",
      "text/plain": [
       "<Figure size 432x288 with 1 Axes>"
      ]
     },
     "metadata": {
      "needs_background": "light"
     },
     "output_type": "display_data"
    }
   ],
   "source": [
    "bt_scores.boxplot(column='smape')"
   ]
  },
  {
   "cell_type": "code",
   "execution_count": 45,
   "metadata": {},
   "outputs": [],
   "source": [
    "mod2 = DLT(\n",
    "    is_multiplicative=True, seed=seed,\n",
    "    response_col=response_col, date_col=date_col, seasonality=seasonality, \n",
    "    infer_method='map', predict_method='map')"
   ]
  },
  {
   "cell_type": "code",
   "execution_count": 46,
   "metadata": {},
   "outputs": [
    {
     "name": "stderr",
     "output_type": "stream",
     "text": [
      "100%|██████████| 1399/1399 [02:02<00:00, 11.39it/s]\n"
     ]
    },
    {
     "name": "stdout",
     "output_type": "stream",
     "text": [
      "CPU times: user 1min 53s, sys: 5.8 s, total: 1min 59s\n",
      "Wall time: 2min 4s\n"
     ]
    }
   ],
   "source": [
    "%%time\n",
    "bt_result2, bt_scores2 = run_multi_series_backtest(\n",
    "    data=data, \n",
    "    response_col=response_col, \n",
    "    key_col=key_col, \n",
    "    date_col=date_col,\n",
    "    model=mod2,\n",
    "    min_train_len=min_train_len, \n",
    "    incremental_len=incremental_len, \n",
    "    forecast_len=forecast_len, \n",
    "    predicted_col=predicted_col, \n",
    "    n_splits=n_splits,\n",
    "    window_type = window_type\n",
    ")"
   ]
  },
  {
   "cell_type": "code",
   "execution_count": 47,
   "metadata": {},
   "outputs": [
    {
     "data": {
      "text/plain": [
       "0.14827365152127073"
      ]
     },
     "execution_count": 47,
     "metadata": {},
     "output_type": "execute_result"
    }
   ],
   "source": [
    "bt_scores2['smape'].mean()"
   ]
  },
  {
   "cell_type": "code",
   "execution_count": 48,
   "metadata": {},
   "outputs": [
    {
     "data": {
      "text/plain": [
       "<matplotlib.axes._subplots.AxesSubplot at 0x7f92093a7d30>"
      ]
     },
     "execution_count": 48,
     "metadata": {},
     "output_type": "execute_result"
    },
    {
     "data": {
      "image/png": "[encoded data removed]",
      "text/plain": [
       "<Figure size 432x288 with 1 Axes>"
      ]
     },
     "metadata": {
      "needs_background": "light"
     },
     "output_type": "display_data"
    }
   ],
   "source": [
    "bt_scores2.boxplot(column='smape')"
   ]
  },
  {
   "cell_type": "code",
   "execution_count": null,
   "metadata": {},
   "outputs": [],
   "source": [
    "# TODO:\n",
    "# compare \n",
    "# 1. using normalize vs. not use -- non-normalized is better \n",
    "# 2. subtract init lev by s[1] vs. by s[SEASONALITY] -- after some thought, s[SEASONALITY]\n",
    "# should be the right one\n",
    "# 3. changing different ways to get init_lev prior -- using l[1] seems even worse\n",
    "# 4. random initialize seasonality vs. random normal initialization -- not too much difference\n",
    "# 5. changing NUs of student t to see if letting stan to optimize makes better accuracy\n",
    "# tried 10 vs. 5 doesn't matter (when normalizing)"
   ]
  }
 ],
 "metadata": {
  "kernelspec": {
   "display_name": "orbit",
   "language": "python",
   "name": "orbit"
  },
  "language_info": {
   "codemirror_mode": {
    "name": "ipython",
    "version": 3
   },
   "file_extension": ".py",
   "mimetype": "text/x-python",
   "name": "python",
   "nbconvert_exporter": "python",
   "pygments_lexer": "ipython3",
   "version": "3.6.8"
  }
 },
 "nbformat": 4,
 "nbformat_minor": 4
}
