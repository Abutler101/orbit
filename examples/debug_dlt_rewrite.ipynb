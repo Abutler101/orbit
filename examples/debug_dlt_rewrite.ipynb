{
 "cells": [
  {
   "cell_type": "markdown",
   "metadata": {},
   "source": [
    "# Re-writing DLT to follow R. Hyndman's "
   ]
  },
  {
   "cell_type": "code",
   "execution_count": 1,
   "metadata": {},
   "outputs": [],
   "source": [
    "import pandas as pd\n",
    "import matplotlib.pyplot as plt\n",
    "from orbit.dlt_rh import DLTRH\n",
    "from orbit.eswr import ESWR\n",
    "from orbit.dlt import DLT\n",
    "import numpy as np\n",
    "from orbit.models import get_compiled_stan_model\n",
    "from orbit.utils.plot import plot_predicted_data\n",
    "from orbit.utils.plot import plot_predicted_components\n",
    "from orbit.backtest.backtest import TimeSeriesSplitter, Backtest\n",
    "from orbit.backtest.functions import run_multi_series_backtest"
   ]
  },
  {
   "cell_type": "code",
   "execution_count": 2,
   "metadata": {
    "ExecuteTime": {
     "end_time": "2020-05-15T22:17:52.178808Z",
     "start_time": "2020-05-15T22:17:52.152980Z"
    }
   },
   "outputs": [],
   "source": [
    "DATA_FILE = \"./data/iclaims_example.csv\""
   ]
  },
  {
   "cell_type": "code",
   "execution_count": 3,
   "metadata": {
    "ExecuteTime": {
     "end_time": "2020-05-15T22:17:52.212245Z",
     "start_time": "2020-05-15T22:17:52.181648Z"
    }
   },
   "outputs": [],
   "source": [
    "raw_df = pd.read_csv(DATA_FILE, parse_dates=['week'])"
   ]
  },
  {
   "cell_type": "code",
   "execution_count": 4,
   "metadata": {
    "ExecuteTime": {
     "end_time": "2020-05-15T22:17:52.245132Z",
     "start_time": "2020-05-15T22:17:52.214525Z"
    }
   },
   "outputs": [
    {
     "data": {
      "text/plain": [
       "week              datetime64[ns]\n",
       "claims                     int64\n",
       "trend.unemploy           float64\n",
       "trend.filling            float64\n",
       "trend.job                float64\n",
       "dtype: object"
      ]
     },
     "execution_count": 4,
     "metadata": {},
     "output_type": "execute_result"
    }
   ],
   "source": [
    "raw_df.dtypes"
   ]
  },
  {
   "cell_type": "code",
   "execution_count": 5,
   "metadata": {
    "ExecuteTime": {
     "end_time": "2020-05-15T22:17:52.283186Z",
     "start_time": "2020-05-15T22:17:52.247386Z"
    }
   },
   "outputs": [
    {
     "data": {
      "text/html": [
       "<div>\n",
       "<style scoped>\n",
       "    .dataframe tbody tr th:only-of-type {\n",
       "        vertical-align: middle;\n",
       "    }\n",
       "\n",
       "    .dataframe tbody tr th {\n",
       "        vertical-align: top;\n",
       "    }\n",
       "\n",
       "    .dataframe thead th {\n",
       "        text-align: right;\n",
       "    }\n",
       "</style>\n",
       "<table border=\"1\" class=\"dataframe\">\n",
       "  <thead>\n",
       "    <tr style=\"text-align: right;\">\n",
       "      <th></th>\n",
       "      <th>week</th>\n",
       "      <th>claims</th>\n",
       "      <th>trend.unemploy</th>\n",
       "      <th>trend.filling</th>\n",
       "      <th>trend.job</th>\n",
       "    </tr>\n",
       "  </thead>\n",
       "  <tbody>\n",
       "    <tr>\n",
       "      <th>0</th>\n",
       "      <td>2010-01-03</td>\n",
       "      <td>651215</td>\n",
       "      <td>1.183973</td>\n",
       "      <td>0.720140</td>\n",
       "      <td>1.119669</td>\n",
       "    </tr>\n",
       "    <tr>\n",
       "      <th>1</th>\n",
       "      <td>2010-01-10</td>\n",
       "      <td>825891</td>\n",
       "      <td>1.183973</td>\n",
       "      <td>0.814896</td>\n",
       "      <td>1.178599</td>\n",
       "    </tr>\n",
       "    <tr>\n",
       "      <th>2</th>\n",
       "      <td>2010-01-17</td>\n",
       "      <td>659173</td>\n",
       "      <td>1.203382</td>\n",
       "      <td>0.739091</td>\n",
       "      <td>1.119669</td>\n",
       "    </tr>\n",
       "    <tr>\n",
       "      <th>3</th>\n",
       "      <td>2010-01-24</td>\n",
       "      <td>507651</td>\n",
       "      <td>1.164564</td>\n",
       "      <td>0.814896</td>\n",
       "      <td>1.107883</td>\n",
       "    </tr>\n",
       "    <tr>\n",
       "      <th>4</th>\n",
       "      <td>2010-01-31</td>\n",
       "      <td>538617</td>\n",
       "      <td>1.086926</td>\n",
       "      <td>0.776993</td>\n",
       "      <td>1.072525</td>\n",
       "    </tr>\n",
       "  </tbody>\n",
       "</table>\n",
       "</div>"
      ],
      "text/plain": [
       "        week  claims  trend.unemploy  trend.filling  trend.job\n",
       "0 2010-01-03  651215        1.183973       0.720140   1.119669\n",
       "1 2010-01-10  825891        1.183973       0.814896   1.178599\n",
       "2 2010-01-17  659173        1.203382       0.739091   1.119669\n",
       "3 2010-01-24  507651        1.164564       0.814896   1.107883\n",
       "4 2010-01-31  538617        1.086926       0.776993   1.072525"
      ]
     },
     "execution_count": 5,
     "metadata": {},
     "output_type": "execute_result"
    }
   ],
   "source": [
    "raw_df.head(5)"
   ]
  },
  {
   "cell_type": "markdown",
   "metadata": {},
   "source": [
    "### Train / Test Split"
   ]
  },
  {
   "cell_type": "code",
   "execution_count": 6,
   "metadata": {
    "ExecuteTime": {
     "end_time": "2020-05-15T22:17:52.993027Z",
     "start_time": "2020-05-15T22:17:52.962265Z"
    }
   },
   "outputs": [],
   "source": [
    "df=raw_df.copy()\n",
    "test_size=52\n",
    "train_df=df[:-test_size]\n",
    "test_df=df[-test_size:]"
   ]
  },
  {
   "cell_type": "code",
   "execution_count": 7,
   "metadata": {},
   "outputs": [],
   "source": [
    "response_col = 'claims'"
   ]
  },
  {
   "cell_type": "code",
   "execution_count": 8,
   "metadata": {
    "ExecuteTime": {
     "end_time": "2020-05-15T22:17:53.731854Z",
     "start_time": "2020-05-15T22:17:53.694737Z"
    }
   },
   "outputs": [
    {
     "data": {
      "text/html": [
       "<div>\n",
       "<style scoped>\n",
       "    .dataframe tbody tr th:only-of-type {\n",
       "        vertical-align: middle;\n",
       "    }\n",
       "\n",
       "    .dataframe tbody tr th {\n",
       "        vertical-align: top;\n",
       "    }\n",
       "\n",
       "    .dataframe thead th {\n",
       "        text-align: right;\n",
       "    }\n",
       "</style>\n",
       "<table border=\"1\" class=\"dataframe\">\n",
       "  <thead>\n",
       "    <tr style=\"text-align: right;\">\n",
       "      <th></th>\n",
       "      <th>week</th>\n",
       "      <th>claims</th>\n",
       "      <th>trend.unemploy</th>\n",
       "      <th>trend.filling</th>\n",
       "      <th>trend.job</th>\n",
       "    </tr>\n",
       "  </thead>\n",
       "  <tbody>\n",
       "    <tr>\n",
       "      <th>0</th>\n",
       "      <td>2010-01-03</td>\n",
       "      <td>651215</td>\n",
       "      <td>1.183973</td>\n",
       "      <td>0.720140</td>\n",
       "      <td>1.119669</td>\n",
       "    </tr>\n",
       "    <tr>\n",
       "      <th>1</th>\n",
       "      <td>2010-01-10</td>\n",
       "      <td>825891</td>\n",
       "      <td>1.183973</td>\n",
       "      <td>0.814896</td>\n",
       "      <td>1.178599</td>\n",
       "    </tr>\n",
       "    <tr>\n",
       "      <th>2</th>\n",
       "      <td>2010-01-17</td>\n",
       "      <td>659173</td>\n",
       "      <td>1.203382</td>\n",
       "      <td>0.739091</td>\n",
       "      <td>1.119669</td>\n",
       "    </tr>\n",
       "    <tr>\n",
       "      <th>3</th>\n",
       "      <td>2010-01-24</td>\n",
       "      <td>507651</td>\n",
       "      <td>1.164564</td>\n",
       "      <td>0.814896</td>\n",
       "      <td>1.107883</td>\n",
       "    </tr>\n",
       "    <tr>\n",
       "      <th>4</th>\n",
       "      <td>2010-01-31</td>\n",
       "      <td>538617</td>\n",
       "      <td>1.086926</td>\n",
       "      <td>0.776993</td>\n",
       "      <td>1.072525</td>\n",
       "    </tr>\n",
       "  </tbody>\n",
       "</table>\n",
       "</div>"
      ],
      "text/plain": [
       "        week  claims  trend.unemploy  trend.filling  trend.job\n",
       "0 2010-01-03  651215        1.183973       0.720140   1.119669\n",
       "1 2010-01-10  825891        1.183973       0.814896   1.178599\n",
       "2 2010-01-17  659173        1.203382       0.739091   1.119669\n",
       "3 2010-01-24  507651        1.164564       0.814896   1.107883\n",
       "4 2010-01-31  538617        1.086926       0.776993   1.072525"
      ]
     },
     "execution_count": 8,
     "metadata": {},
     "output_type": "execute_result"
    }
   ],
   "source": [
    "train_df.head(5)"
   ]
  },
  {
   "cell_type": "code",
   "execution_count": 9,
   "metadata": {},
   "outputs": [],
   "source": [
    "mod = DLTRH(\n",
    "    is_multiplicative=True, seed=2020,\n",
    "    response_col='claims', date_col='week', seasonality=52, \n",
    "    normalize_seasonality=1,\n",
    "    infer_method='map', predict_method='map')"
   ]
  },
  {
   "cell_type": "code",
   "execution_count": 25,
   "metadata": {},
   "outputs": [],
   "source": [
    "mod.fit(train_df)"
   ]
  },
  {
   "cell_type": "code",
   "execution_count": 26,
   "metadata": {},
   "outputs": [],
   "source": [
    "fit = mod.aggregated_posteriors['map']"
   ]
  },
  {
   "cell_type": "code",
   "execution_count": 27,
   "metadata": {},
   "outputs": [
    {
     "data": {
      "text/plain": [
       "dict_keys(['l', 'b', 'l_sm', 'b_sm', 'obs_sigma', 'nu', 'gb', 'gt_sum', 's', 's_sm'])"
      ]
     },
     "execution_count": 27,
     "metadata": {},
     "output_type": "execute_result"
    }
   ],
   "source": [
    "fit.keys()"
   ]
  },
  {
   "cell_type": "code",
   "execution_count": 114,
   "metadata": {},
   "outputs": [],
   "source": [
    "# s = fit['s']\n",
    "# l = fit['l']\n",
    "# gb = fit['gb']\n",
    "# l_ext = np.expand_dims(np.tile(l[:, -1], 51), 0)\n",
    "# l = np.concatenate([l, l_ext], axis=1)"
   ]
  },
  {
   "cell_type": "code",
   "execution_count": 115,
   "metadata": {},
   "outputs": [],
   "source": [
    "# b = fit['b']\n",
    "# b_ext = [b[:, -1] * mod.damped_factor]\n",
    "# for i in range(2,52):\n",
    "#     b_ext.append(b_ext[-1] * mod.damped_factor)\n",
    "# b_ext = np.array(b_ext).reshape(1, -1)\n",
    "# b = np.concatenate([b, b_ext], axis=1)"
   ]
  },
  {
   "cell_type": "code",
   "execution_count": 116,
   "metadata": {},
   "outputs": [],
   "source": [
    "# gt = gb * np.arange(0, l.shape[1])\n",
    "# gt = gt.reshape(1, -1)"
   ]
  },
  {
   "cell_type": "code",
   "execution_count": 117,
   "metadata": {},
   "outputs": [],
   "source": [
    "# print(l.shape, s.shape, b.shape, l_ext.shape, b_ext.shape, gt.shape)"
   ]
  },
  {
   "cell_type": "code",
   "execution_count": 118,
   "metadata": {},
   "outputs": [],
   "source": [
    "s = fit['s']\n",
    "l = fit['l']\n",
    "gb = fit['gb']\n",
    "l_ext = np.expand_dims(np.tile(l[:, -1], 52), 0)\n",
    "l = np.concatenate([l, l_ext], axis=1)"
   ]
  },
  {
   "cell_type": "code",
   "execution_count": 129,
   "metadata": {},
   "outputs": [
    {
     "data": {
      "text/plain": [
       "0.008334056045126381"
      ]
     },
     "execution_count": 129,
     "metadata": {},
     "output_type": "execute_result"
    }
   ],
   "source": [
    "s[:, 2:54].sum()"
   ]
  },
  {
   "cell_type": "code",
   "execution_count": 88,
   "metadata": {},
   "outputs": [],
   "source": [
    "b = fit['b']\n",
    "b_ext = [b[:, -1] * mod.damped_factor]\n",
    "for i in range(1,52):\n",
    "    b_ext.append(b_ext[-1] * mod.damped_factor)\n",
    "b_ext = np.array(b_ext).reshape(1, -1)\n",
    "b = np.concatenate([b, b_ext], axis=1)"
   ]
  },
  {
   "cell_type": "code",
   "execution_count": 89,
   "metadata": {},
   "outputs": [],
   "source": [
    "gt = gb * np.arange(0, l.shape[1])\n",
    "gt = gt.reshape(1, -1)"
   ]
  },
  {
   "cell_type": "code",
   "execution_count": 90,
   "metadata": {},
   "outputs": [
    {
     "name": "stdout",
     "output_type": "stream",
     "text": [
      "(1, 443) (1, 443) (1, 443) (1, 52) (1, 52) (1, 443)\n"
     ]
    }
   ],
   "source": [
    "print(l.shape, s.shape, b.shape, l_ext.shape, b_ext.shape, gt.shape)"
   ]
  },
  {
   "cell_type": "code",
   "execution_count": 91,
   "metadata": {},
   "outputs": [],
   "source": [
    "yhat= gt + l + s + b\n",
    "yhat =np.squeeze(yhat)"
   ]
  },
  {
   "cell_type": "code",
   "execution_count": 92,
   "metadata": {},
   "outputs": [
    {
     "data": {
      "text/plain": [
       "[<matplotlib.lines.Line2D at 0x7fc04e1b7400>]"
      ]
     },
     "execution_count": 92,
     "metadata": {},
     "output_type": "execute_result"
    },
    {
     "data": {
      "image/png": "[encoded data removed]",
      "text/plain": [
       "<Figure size 864x576 with 1 Axes>"
      ]
     },
     "metadata": {
      "needs_background": "light"
     },
     "output_type": "display_data"
    }
   ],
   "source": [
    "fig, ax = plt.subplots(1,1, figsize=(12,8))\n",
    "y = df[response_col]\n",
    "plt.plot(df['week'], np.exp(yhat))\n",
    "plt.plot(df['week'], df[response_col], 'o', alpha=0.5)"
   ]
  },
  {
   "cell_type": "code",
   "execution_count": 93,
   "metadata": {},
   "outputs": [],
   "source": [
    "predicted_df = mod.predict(df)"
   ]
  },
  {
   "cell_type": "code",
   "execution_count": 94,
   "metadata": {},
   "outputs": [
    {
     "data": {
      "text/html": [
       "<div>\n",
       "<style scoped>\n",
       "    .dataframe tbody tr th:only-of-type {\n",
       "        vertical-align: middle;\n",
       "    }\n",
       "\n",
       "    .dataframe tbody tr th {\n",
       "        vertical-align: top;\n",
       "    }\n",
       "\n",
       "    .dataframe thead th {\n",
       "        text-align: right;\n",
       "    }\n",
       "</style>\n",
       "<table border=\"1\" class=\"dataframe\">\n",
       "  <thead>\n",
       "    <tr style=\"text-align: right;\">\n",
       "      <th></th>\n",
       "      <th>week</th>\n",
       "      <th>prediction</th>\n",
       "    </tr>\n",
       "  </thead>\n",
       "  <tbody>\n",
       "    <tr>\n",
       "      <th>391</th>\n",
       "      <td>2017-07-02</td>\n",
       "      <td>259994.375635</td>\n",
       "    </tr>\n",
       "    <tr>\n",
       "      <th>392</th>\n",
       "      <td>2017-07-09</td>\n",
       "      <td>276488.970192</td>\n",
       "    </tr>\n",
       "    <tr>\n",
       "      <th>393</th>\n",
       "      <td>2017-07-16</td>\n",
       "      <td>221472.158792</td>\n",
       "    </tr>\n",
       "    <tr>\n",
       "      <th>394</th>\n",
       "      <td>2017-07-23</td>\n",
       "      <td>198980.341644</td>\n",
       "    </tr>\n",
       "    <tr>\n",
       "      <th>395</th>\n",
       "      <td>2017-07-30</td>\n",
       "      <td>199516.101781</td>\n",
       "    </tr>\n",
       "    <tr>\n",
       "      <th>396</th>\n",
       "      <td>2017-08-06</td>\n",
       "      <td>202478.512477</td>\n",
       "    </tr>\n",
       "    <tr>\n",
       "      <th>397</th>\n",
       "      <td>2017-08-13</td>\n",
       "      <td>195210.266772</td>\n",
       "    </tr>\n",
       "    <tr>\n",
       "      <th>398</th>\n",
       "      <td>2017-08-20</td>\n",
       "      <td>193736.856432</td>\n",
       "    </tr>\n",
       "    <tr>\n",
       "      <th>399</th>\n",
       "      <td>2017-08-27</td>\n",
       "      <td>193564.532319</td>\n",
       "    </tr>\n",
       "    <tr>\n",
       "      <th>400</th>\n",
       "      <td>2017-09-03</td>\n",
       "      <td>182983.767358</td>\n",
       "    </tr>\n",
       "    <tr>\n",
       "      <th>401</th>\n",
       "      <td>2017-09-10</td>\n",
       "      <td>188827.666119</td>\n",
       "    </tr>\n",
       "    <tr>\n",
       "      <th>402</th>\n",
       "      <td>2017-09-17</td>\n",
       "      <td>185897.538123</td>\n",
       "    </tr>\n",
       "    <tr>\n",
       "      <th>403</th>\n",
       "      <td>2017-09-24</td>\n",
       "      <td>182763.206999</td>\n",
       "    </tr>\n",
       "    <tr>\n",
       "      <th>404</th>\n",
       "      <td>2017-10-01</td>\n",
       "      <td>210138.020457</td>\n",
       "    </tr>\n",
       "    <tr>\n",
       "      <th>405</th>\n",
       "      <td>2017-10-08</td>\n",
       "      <td>216813.786192</td>\n",
       "    </tr>\n",
       "    <tr>\n",
       "      <th>406</th>\n",
       "      <td>2017-10-15</td>\n",
       "      <td>208931.861005</td>\n",
       "    </tr>\n",
       "    <tr>\n",
       "      <th>407</th>\n",
       "      <td>2017-10-22</td>\n",
       "      <td>213507.462090</td>\n",
       "    </tr>\n",
       "    <tr>\n",
       "      <th>408</th>\n",
       "      <td>2017-10-29</td>\n",
       "      <td>223358.635626</td>\n",
       "    </tr>\n",
       "    <tr>\n",
       "      <th>409</th>\n",
       "      <td>2017-11-05</td>\n",
       "      <td>238793.010487</td>\n",
       "    </tr>\n",
       "    <tr>\n",
       "      <th>410</th>\n",
       "      <td>2017-11-12</td>\n",
       "      <td>229857.217587</td>\n",
       "    </tr>\n",
       "    <tr>\n",
       "      <th>411</th>\n",
       "      <td>2017-11-19</td>\n",
       "      <td>240826.689177</td>\n",
       "    </tr>\n",
       "    <tr>\n",
       "      <th>412</th>\n",
       "      <td>2017-11-26</td>\n",
       "      <td>250044.488593</td>\n",
       "    </tr>\n",
       "    <tr>\n",
       "      <th>413</th>\n",
       "      <td>2017-12-03</td>\n",
       "      <td>285264.089678</td>\n",
       "    </tr>\n",
       "    <tr>\n",
       "      <th>414</th>\n",
       "      <td>2017-12-10</td>\n",
       "      <td>259110.504245</td>\n",
       "    </tr>\n",
       "    <tr>\n",
       "      <th>415</th>\n",
       "      <td>2017-12-17</td>\n",
       "      <td>277690.735111</td>\n",
       "    </tr>\n",
       "    <tr>\n",
       "      <th>416</th>\n",
       "      <td>2017-12-24</td>\n",
       "      <td>308824.426694</td>\n",
       "    </tr>\n",
       "    <tr>\n",
       "      <th>417</th>\n",
       "      <td>2017-12-31</td>\n",
       "      <td>350512.228932</td>\n",
       "    </tr>\n",
       "    <tr>\n",
       "      <th>418</th>\n",
       "      <td>2018-01-07</td>\n",
       "      <td>351446.082591</td>\n",
       "    </tr>\n",
       "    <tr>\n",
       "      <th>419</th>\n",
       "      <td>2018-01-14</td>\n",
       "      <td>275970.255791</td>\n",
       "    </tr>\n",
       "    <tr>\n",
       "      <th>420</th>\n",
       "      <td>2018-01-21</td>\n",
       "      <td>241631.494191</td>\n",
       "    </tr>\n",
       "    <tr>\n",
       "      <th>421</th>\n",
       "      <td>2018-01-28</td>\n",
       "      <td>241946.937412</td>\n",
       "    </tr>\n",
       "    <tr>\n",
       "      <th>422</th>\n",
       "      <td>2018-02-04</td>\n",
       "      <td>231634.916022</td>\n",
       "    </tr>\n",
       "    <tr>\n",
       "      <th>423</th>\n",
       "      <td>2018-02-11</td>\n",
       "      <td>212978.952477</td>\n",
       "    </tr>\n",
       "    <tr>\n",
       "      <th>424</th>\n",
       "      <td>2018-02-18</td>\n",
       "      <td>205577.459535</td>\n",
       "    </tr>\n",
       "    <tr>\n",
       "      <th>425</th>\n",
       "      <td>2018-02-25</td>\n",
       "      <td>215234.549602</td>\n",
       "    </tr>\n",
       "    <tr>\n",
       "      <th>426</th>\n",
       "      <td>2018-03-04</td>\n",
       "      <td>204947.585695</td>\n",
       "    </tr>\n",
       "    <tr>\n",
       "      <th>427</th>\n",
       "      <td>2018-03-11</td>\n",
       "      <td>192984.041824</td>\n",
       "    </tr>\n",
       "    <tr>\n",
       "      <th>428</th>\n",
       "      <td>2018-03-18</td>\n",
       "      <td>192197.426648</td>\n",
       "    </tr>\n",
       "    <tr>\n",
       "      <th>429</th>\n",
       "      <td>2018-03-25</td>\n",
       "      <td>193864.442849</td>\n",
       "    </tr>\n",
       "    <tr>\n",
       "      <th>430</th>\n",
       "      <td>2018-04-01</td>\n",
       "      <td>213922.127908</td>\n",
       "    </tr>\n",
       "    <tr>\n",
       "      <th>431</th>\n",
       "      <td>2018-04-08</td>\n",
       "      <td>217232.332396</td>\n",
       "    </tr>\n",
       "    <tr>\n",
       "      <th>432</th>\n",
       "      <td>2018-04-15</td>\n",
       "      <td>206060.779410</td>\n",
       "    </tr>\n",
       "    <tr>\n",
       "      <th>433</th>\n",
       "      <td>2018-04-22</td>\n",
       "      <td>202007.579008</td>\n",
       "    </tr>\n",
       "    <tr>\n",
       "      <th>434</th>\n",
       "      <td>2018-04-29</td>\n",
       "      <td>195286.868123</td>\n",
       "    </tr>\n",
       "    <tr>\n",
       "      <th>435</th>\n",
       "      <td>2018-05-06</td>\n",
       "      <td>194379.026093</td>\n",
       "    </tr>\n",
       "    <tr>\n",
       "      <th>436</th>\n",
       "      <td>2018-05-13</td>\n",
       "      <td>193254.442616</td>\n",
       "    </tr>\n",
       "    <tr>\n",
       "      <th>437</th>\n",
       "      <td>2018-05-20</td>\n",
       "      <td>196594.370265</td>\n",
       "    </tr>\n",
       "    <tr>\n",
       "      <th>438</th>\n",
       "      <td>2018-05-27</td>\n",
       "      <td>190345.935366</td>\n",
       "    </tr>\n",
       "    <tr>\n",
       "      <th>439</th>\n",
       "      <td>2018-06-03</td>\n",
       "      <td>207354.211843</td>\n",
       "    </tr>\n",
       "    <tr>\n",
       "      <th>440</th>\n",
       "      <td>2018-06-10</td>\n",
       "      <td>208077.391039</td>\n",
       "    </tr>\n",
       "    <tr>\n",
       "      <th>441</th>\n",
       "      <td>2018-06-17</td>\n",
       "      <td>208899.884688</td>\n",
       "    </tr>\n",
       "    <tr>\n",
       "      <th>442</th>\n",
       "      <td>2018-06-24</td>\n",
       "      <td>215357.788546</td>\n",
       "    </tr>\n",
       "  </tbody>\n",
       "</table>\n",
       "</div>"
      ],
      "text/plain": [
       "          week     prediction\n",
       "391 2017-07-02  259994.375635\n",
       "392 2017-07-09  276488.970192\n",
       "393 2017-07-16  221472.158792\n",
       "394 2017-07-23  198980.341644\n",
       "395 2017-07-30  199516.101781\n",
       "396 2017-08-06  202478.512477\n",
       "397 2017-08-13  195210.266772\n",
       "398 2017-08-20  193736.856432\n",
       "399 2017-08-27  193564.532319\n",
       "400 2017-09-03  182983.767358\n",
       "401 2017-09-10  188827.666119\n",
       "402 2017-09-17  185897.538123\n",
       "403 2017-09-24  182763.206999\n",
       "404 2017-10-01  210138.020457\n",
       "405 2017-10-08  216813.786192\n",
       "406 2017-10-15  208931.861005\n",
       "407 2017-10-22  213507.462090\n",
       "408 2017-10-29  223358.635626\n",
       "409 2017-11-05  238793.010487\n",
       "410 2017-11-12  229857.217587\n",
       "411 2017-11-19  240826.689177\n",
       "412 2017-11-26  250044.488593\n",
       "413 2017-12-03  285264.089678\n",
       "414 2017-12-10  259110.504245\n",
       "415 2017-12-17  277690.735111\n",
       "416 2017-12-24  308824.426694\n",
       "417 2017-12-31  350512.228932\n",
       "418 2018-01-07  351446.082591\n",
       "419 2018-01-14  275970.255791\n",
       "420 2018-01-21  241631.494191\n",
       "421 2018-01-28  241946.937412\n",
       "422 2018-02-04  231634.916022\n",
       "423 2018-02-11  212978.952477\n",
       "424 2018-02-18  205577.459535\n",
       "425 2018-02-25  215234.549602\n",
       "426 2018-03-04  204947.585695\n",
       "427 2018-03-11  192984.041824\n",
       "428 2018-03-18  192197.426648\n",
       "429 2018-03-25  193864.442849\n",
       "430 2018-04-01  213922.127908\n",
       "431 2018-04-08  217232.332396\n",
       "432 2018-04-15  206060.779410\n",
       "433 2018-04-22  202007.579008\n",
       "434 2018-04-29  195286.868123\n",
       "435 2018-05-06  194379.026093\n",
       "436 2018-05-13  193254.442616\n",
       "437 2018-05-20  196594.370265\n",
       "438 2018-05-27  190345.935366\n",
       "439 2018-06-03  207354.211843\n",
       "440 2018-06-10  208077.391039\n",
       "441 2018-06-17  208899.884688\n",
       "442 2018-06-24  215357.788546"
      ]
     },
     "execution_count": 94,
     "metadata": {},
     "output_type": "execute_result"
    }
   ],
   "source": [
    "predicted_df.tail(52)"
   ]
  },
  {
   "cell_type": "code",
   "execution_count": 95,
   "metadata": {},
   "outputs": [
    {
     "data": {
      "text/plain": [
       "array([259994.18728914, 276488.60966091, 221471.76732018, 198979.9161259 ,\n",
       "       199515.61591593, 202477.9713338 , 195209.70798333, 193736.2724275 ,\n",
       "       193563.92530879, 182983.17573655, 188827.04091572, 185896.91105326,\n",
       "       182762.58140365, 210137.29279007, 216813.0284998 , 208931.12553233,\n",
       "       213506.70615685, 223357.84117062, 238792.15801742, 229856.39461773,\n",
       "       240825.82492172, 250043.58958707, 285263.0625196 , 259109.57015021,\n",
       "       277689.73308499, 308823.31147867, 350510.96240829, 351444.8120778 ,\n",
       "       275969.25774332, 241630.62005849, 241946.06192215, 231634.07768016,\n",
       "       212978.18153321, 205576.71528896, 215233.77031575, 204946.84359329,\n",
       "       192983.34299581, 192196.73063261, 193863.74076808, 213921.35316161,\n",
       "       217231.54564023, 206060.03309932, 202006.84736471, 195286.1608117 ,\n",
       "       194378.32206195, 193253.74265189, 196593.65819889, 190345.24592783,\n",
       "       207353.46079695, 208076.63737087, 208899.12803863, 215357.00850345])"
      ]
     },
     "execution_count": 95,
     "metadata": {},
     "output_type": "execute_result"
    }
   ],
   "source": [
    "np.exp(yhat[-52:])"
   ]
  },
  {
   "cell_type": "code",
   "execution_count": 96,
   "metadata": {},
   "outputs": [
    {
     "data": {
      "image/png": "[encoded data removed]",
      "text/plain": [
       "<Figure size 1152x576 with 1 Axes>"
      ]
     },
     "metadata": {},
     "output_type": "display_data"
    }
   ],
   "source": [
    "plot_predicted_data(training_actual_df=train_df, predicted_df=predicted_df, \n",
    "                    date_col=mod.date_col, actual_col=mod.response_col, pred_col='prediction', \n",
    "                    test_actual_df=test_df)"
   ]
  },
  {
   "cell_type": "code",
   "execution_count": 97,
   "metadata": {},
   "outputs": [],
   "source": [
    "# backtest on more data\n",
    "\n",
    "# data = pd.read_csv('./data/uber_uscan_rider_uFT.csv', parse_dates=['event_week'])\n",
    "# data = pd.read_csv('./data/uber_uscan_driver_uFT.csv', parse_dates=['event_week'])\n",
    "# response_col = 'uFT'\n",
    "# date_col='event_week'\n",
    "# key_col = 'city_name'\n",
    "# predicted_col='prediction'\n",
    "# min_train_len = 380\n",
    "# forecast_len = 26\n",
    "# incremental_len = 13\n",
    "# n_splits=2\n",
    "# key_col = \"city_name\"\n",
    "# window_type = 'expanding'\n",
    "# seasonality=52\n",
    "\n",
    "data = pd.read_csv('./data/m3_monthly.csv', parse_dates=['date'])\n",
    "response_col = 'value'\n",
    "date_col='date'\n",
    "key_col = 'key'\n",
    "predicted_col='prediction'\n",
    "min_train_len = 380\n",
    "forecast_len = 18\n",
    "incremental_len = 18\n",
    "n_splits=1\n",
    "window_type = 'expanding'\n",
    "seasonality=12\n",
    "\n",
    "# data = pd.read_csv('./data/m4_weekly.csv', parse_dates=['date'])\n",
    "# response_col = 'value'\n",
    "# date_col='date'\n",
    "# key_col = 'key'\n",
    "# predicted_col='prediction'\n",
    "# min_train_len = 380\n",
    "# forecast_len = 13\n",
    "# incremental_len = 13\n",
    "# n_splits=1\n",
    "# window_type = 'expanding'\n",
    "# seasonality=52"
   ]
  },
  {
   "cell_type": "code",
   "execution_count": 98,
   "metadata": {},
   "outputs": [],
   "source": [
    "seed=2020"
   ]
  },
  {
   "cell_type": "code",
   "execution_count": 99,
   "metadata": {},
   "outputs": [
    {
     "data": {
      "text/plain": [
       "key              object\n",
       "value           float64\n",
       "date     datetime64[ns]\n",
       "dtype: object"
      ]
     },
     "execution_count": 99,
     "metadata": {},
     "output_type": "execute_result"
    }
   ],
   "source": [
    "data.dtypes"
   ]
  },
  {
   "cell_type": "code",
   "execution_count": 100,
   "metadata": {},
   "outputs": [],
   "source": [
    "uni_keys = data[key_col].unique()"
   ]
  },
  {
   "cell_type": "markdown",
   "metadata": {
    "ExecuteTime": {
     "end_time": "2020-01-23T21:50:17.759953Z",
     "start_time": "2020-01-23T21:50:17.755383Z"
    }
   },
   "source": [
    "Instantiate a model that we want to backtest"
   ]
  },
  {
   "cell_type": "code",
   "execution_count": 106,
   "metadata": {
    "ExecuteTime": {
     "end_time": "2020-05-21T17:54:32.089410Z",
     "start_time": "2020-05-21T17:54:32.063743Z"
    }
   },
   "outputs": [],
   "source": [
    "mod = DLTRH(\n",
    "    is_multiplicative=True, seed=seed,\n",
    "    response_col=response_col, date_col=date_col, seasonality=seasonality, \n",
    "    normalize_seasonality=1,\n",
    "    infer_method='map', predict_method='map')"
   ]
  },
  {
   "cell_type": "code",
   "execution_count": 107,
   "metadata": {
    "ExecuteTime": {
     "end_time": "2020-05-21T17:54:35.053693Z",
     "start_time": "2020-05-21T17:54:32.339742Z"
    }
   },
   "outputs": [
    {
     "name": "stderr",
     "output_type": "stream",
     "text": [
      "100%|██████████| 1399/1399 [02:46<00:00,  8.41it/s]\n"
     ]
    },
    {
     "name": "stdout",
     "output_type": "stream",
     "text": [
      "CPU times: user 2min 32s, sys: 4.98 s, total: 2min 37s\n",
      "Wall time: 2min 47s\n"
     ]
    }
   ],
   "source": [
    "%%time\n",
    "bt_result, bt_scores = run_multi_series_backtest(\n",
    "    data=data, \n",
    "    response_col=response_col, \n",
    "    key_col=key_col, \n",
    "    date_col=date_col,\n",
    "    model=mod,\n",
    "    min_train_len=min_train_len, \n",
    "    incremental_len=incremental_len, \n",
    "    forecast_len=forecast_len, \n",
    "    predicted_col=predicted_col, \n",
    "    n_splits=n_splits,\n",
    "    window_type = window_type\n",
    ")"
   ]
  },
  {
   "cell_type": "code",
   "execution_count": 108,
   "metadata": {},
   "outputs": [
    {
     "data": {
      "text/plain": [
       "0.15820130184405004"
      ]
     },
     "execution_count": 108,
     "metadata": {},
     "output_type": "execute_result"
    }
   ],
   "source": [
    "bt_scores['smape'].mean()"
   ]
  },
  {
   "cell_type": "code",
   "execution_count": 109,
   "metadata": {},
   "outputs": [
    {
     "data": {
      "text/plain": [
       "<matplotlib.axes._subplots.AxesSubplot at 0x7fc04cca2208>"
      ]
     },
     "execution_count": 109,
     "metadata": {},
     "output_type": "execute_result"
    },
    {
     "data": {
      "image/png": "[encoded data removed]",
      "text/plain": [
       "<Figure size 432x288 with 1 Axes>"
      ]
     },
     "metadata": {
      "needs_background": "light"
     },
     "output_type": "display_data"
    }
   ],
   "source": [
    "bt_scores.boxplot(column='smape')"
   ]
  },
  {
   "cell_type": "code",
   "execution_count": 45,
   "metadata": {},
   "outputs": [],
   "source": [
    "mod2 = DLT(\n",
    "    is_multiplicative=True, seed=seed,\n",
    "    response_col=response_col, date_col=date_col, seasonality=seasonality, \n",
    "    infer_method='map', predict_method='map')"
   ]
  },
  {
   "cell_type": "code",
   "execution_count": 46,
   "metadata": {},
   "outputs": [
    {
     "name": "stderr",
     "output_type": "stream",
     "text": [
      "100%|██████████| 1399/1399 [02:02<00:00, 11.39it/s]\n"
     ]
    },
    {
     "name": "stdout",
     "output_type": "stream",
     "text": [
      "CPU times: user 1min 53s, sys: 5.8 s, total: 1min 59s\n",
      "Wall time: 2min 4s\n"
     ]
    }
   ],
   "source": [
    "%%time\n",
    "bt_result2, bt_scores2 = run_multi_series_backtest(\n",
    "    data=data, \n",
    "    response_col=response_col, \n",
    "    key_col=key_col, \n",
    "    date_col=date_col,\n",
    "    model=mod2,\n",
    "    min_train_len=min_train_len, \n",
    "    incremental_len=incremental_len, \n",
    "    forecast_len=forecast_len, \n",
    "    predicted_col=predicted_col, \n",
    "    n_splits=n_splits,\n",
    "    window_type = window_type\n",
    ")"
   ]
  },
  {
   "cell_type": "code",
   "execution_count": 47,
   "metadata": {},
   "outputs": [
    {
     "data": {
      "text/plain": [
       "0.14827365152127073"
      ]
     },
     "execution_count": 47,
     "metadata": {},
     "output_type": "execute_result"
    }
   ],
   "source": [
    "bt_scores2['smape'].mean()"
   ]
  },
  {
   "cell_type": "code",
   "execution_count": 48,
   "metadata": {},
   "outputs": [
    {
     "data": {
      "text/plain": [
       "<matplotlib.axes._subplots.AxesSubplot at 0x7f92093a7d30>"
      ]
     },
     "execution_count": 48,
     "metadata": {},
     "output_type": "execute_result"
    },
    {
     "data": {
      "image/png": "[encoded data removed]",
      "text/plain": [
       "<Figure size 432x288 with 1 Axes>"
      ]
     },
     "metadata": {
      "needs_background": "light"
     },
     "output_type": "display_data"
    }
   ],
   "source": [
    "bt_scores2.boxplot(column='smape')"
   ]
  },
  {
   "cell_type": "code",
   "execution_count": null,
   "metadata": {},
   "outputs": [],
   "source": [
    "# TODO:\n",
    "# compare \n",
    "# 1. using normalize vs. not use -- non-normalized is better \n",
    "# 2. subtract init lev by s[1] vs. by s[SEASONALITY] -- after some thought, s[SEASONALITY]\n",
    "# should be the right one\n",
    "# 3. changing different ways to get init_lev prior -- using l[1] seems even worse\n",
    "# 4. random initialize seasonality vs. random normal initialization -- not too much difference\n",
    "# 5. changing NUs of student t to see if letting stan to optimize makes better accuracy <--- This is TODO!\n",
    "# tried 10 vs. 5 doesn't matter (when normalizing)\n",
    "\n",
    "# NOTES:\n",
    "# it doesn't do as well as the original DLT but meanwhile does not do worse (improvment on rider but relatively similar in driver and slightly worse in M3 Monthly)"
   ]
  }
 ],
 "metadata": {
  "kernelspec": {
   "display_name": "orbit",
   "language": "python",
   "name": "orbit"
  },
  "language_info": {
   "codemirror_mode": {
    "name": "ipython",
    "version": 3
   },
   "file_extension": ".py",
   "mimetype": "text/x-python",
   "name": "python",
   "nbconvert_exporter": "python",
   "pygments_lexer": "ipython3",
   "version": "3.6.8"
  }
 },
 "nbformat": 4,
 "nbformat_minor": 4
}
