{
 "cells": [
  {
   "cell_type": "code",
   "execution_count": 1,
   "metadata": {},
   "outputs": [],
   "source": [
    "import pandas as pd\n",
    "import numpy as np\n",
    "import string\n",
    "\n",
    "from sklearn.datasets import make_regression"
   ]
  },
  {
   "cell_type": "markdown",
   "metadata": {},
   "source": [
    "### Make Data"
   ]
  },
  {
   "cell_type": "code",
   "execution_count": 57,
   "metadata": {},
   "outputs": [
    {
     "data": {
      "text/html": [
       "<div>\n",
       "<style scoped>\n",
       "    .dataframe tbody tr th:only-of-type {\n",
       "        vertical-align: middle;\n",
       "    }\n",
       "\n",
       "    .dataframe tbody tr th {\n",
       "        vertical-align: top;\n",
       "    }\n",
       "\n",
       "    .dataframe thead th {\n",
       "        text-align: right;\n",
       "    }\n",
       "</style>\n",
       "<table border=\"1\" class=\"dataframe\">\n",
       "  <thead>\n",
       "    <tr style=\"text-align: right;\">\n",
       "      <th></th>\n",
       "      <th>A</th>\n",
       "      <th>B</th>\n",
       "      <th>C</th>\n",
       "      <th>D</th>\n",
       "      <th>E</th>\n",
       "      <th>F</th>\n",
       "      <th>G</th>\n",
       "      <th>H</th>\n",
       "      <th>I</th>\n",
       "      <th>J</th>\n",
       "      <th>y</th>\n",
       "    </tr>\n",
       "  </thead>\n",
       "  <tbody>\n",
       "    <tr>\n",
       "      <th>0</th>\n",
       "      <td>-1.485952</td>\n",
       "      <td>0.619478</td>\n",
       "      <td>0.035315</td>\n",
       "      <td>1.582989</td>\n",
       "      <td>0.249205</td>\n",
       "      <td>-0.268111</td>\n",
       "      <td>0.295561</td>\n",
       "      <td>0.617178</td>\n",
       "      <td>0.259455</td>\n",
       "      <td>0.641988</td>\n",
       "      <td>117.640877</td>\n",
       "    </tr>\n",
       "    <tr>\n",
       "      <th>1</th>\n",
       "      <td>0.783167</td>\n",
       "      <td>0.484613</td>\n",
       "      <td>0.674671</td>\n",
       "      <td>0.374930</td>\n",
       "      <td>-0.316085</td>\n",
       "      <td>-2.612286</td>\n",
       "      <td>-1.966553</td>\n",
       "      <td>-1.275022</td>\n",
       "      <td>-0.113987</td>\n",
       "      <td>-1.130114</td>\n",
       "      <td>-107.292876</td>\n",
       "    </tr>\n",
       "    <tr>\n",
       "      <th>2</th>\n",
       "      <td>1.338260</td>\n",
       "      <td>0.961702</td>\n",
       "      <td>0.074892</td>\n",
       "      <td>-2.926051</td>\n",
       "      <td>0.960870</td>\n",
       "      <td>-1.171354</td>\n",
       "      <td>-0.752707</td>\n",
       "      <td>-1.244668</td>\n",
       "      <td>-0.122195</td>\n",
       "      <td>-0.367483</td>\n",
       "      <td>-144.000556</td>\n",
       "    </tr>\n",
       "    <tr>\n",
       "      <th>3</th>\n",
       "      <td>0.387170</td>\n",
       "      <td>-0.029594</td>\n",
       "      <td>0.950295</td>\n",
       "      <td>-0.977101</td>\n",
       "      <td>-0.063491</td>\n",
       "      <td>-0.559599</td>\n",
       "      <td>-1.526286</td>\n",
       "      <td>-0.422269</td>\n",
       "      <td>0.129235</td>\n",
       "      <td>0.606209</td>\n",
       "      <td>-111.502357</td>\n",
       "    </tr>\n",
       "    <tr>\n",
       "      <th>4</th>\n",
       "      <td>-0.082833</td>\n",
       "      <td>0.500725</td>\n",
       "      <td>0.540926</td>\n",
       "      <td>0.899007</td>\n",
       "      <td>-0.076644</td>\n",
       "      <td>0.552827</td>\n",
       "      <td>-0.726187</td>\n",
       "      <td>-0.517257</td>\n",
       "      <td>0.159257</td>\n",
       "      <td>-1.669069</td>\n",
       "      <td>-3.708838</td>\n",
       "    </tr>\n",
       "  </tbody>\n",
       "</table>\n",
       "</div>"
      ],
      "text/plain": [
       "          A         B         C         D         E         F         G  \\\n",
       "0 -1.485952  0.619478  0.035315  1.582989  0.249205 -0.268111  0.295561   \n",
       "1  0.783167  0.484613  0.674671  0.374930 -0.316085 -2.612286 -1.966553   \n",
       "2  1.338260  0.961702  0.074892 -2.926051  0.960870 -1.171354 -0.752707   \n",
       "3  0.387170 -0.029594  0.950295 -0.977101 -0.063491 -0.559599 -1.526286   \n",
       "4 -0.082833  0.500725  0.540926  0.899007 -0.076644  0.552827 -0.726187   \n",
       "\n",
       "          H         I         J           y  \n",
       "0  0.617178  0.259455  0.641988  117.640877  \n",
       "1 -1.275022 -0.113987 -1.130114 -107.292876  \n",
       "2 -1.244668 -0.122195 -0.367483 -144.000556  \n",
       "3 -0.422269  0.129235  0.606209 -111.502357  \n",
       "4 -0.517257  0.159257 -1.669069   -3.708838  "
      ]
     },
     "execution_count": 57,
     "metadata": {},
     "output_type": "execute_result"
    }
   ],
   "source": [
    "X, y, coef = make_regression(n_samples=1000, n_features=10, n_informative=5, coef=True, noise=0.1)\n",
    "feature_names = list(string.ascii_uppercase[:X.shape[1]])\n",
    "response_name = 'y'\n",
    "\n",
    "df = pd.DataFrame(X, columns=feature_names)\n",
    "df[response_name] = y\n",
    "df.head()"
   ]
  },
  {
   "cell_type": "markdown",
   "metadata": {},
   "source": [
    "Low level estimator dev"
   ]
  },
  {
   "cell_type": "code",
   "execution_count": 58,
   "metadata": {},
   "outputs": [
    {
     "data": {
      "text/plain": [
       "array([ 0.        ,  0.        ,  0.3436227 , 45.90076004, 58.76923627,\n",
       "        0.        , 32.15740561, 33.67823095,  0.        ,  0.        ])"
      ]
     },
     "execution_count": 58,
     "metadata": {},
     "output_type": "execute_result"
    }
   ],
   "source": [
    "coef"
   ]
  },
  {
   "cell_type": "markdown",
   "metadata": {},
   "source": [
    "### Data Input"
   ]
  },
  {
   "cell_type": "code",
   "execution_count": 73,
   "metadata": {},
   "outputs": [],
   "source": [
    "data_input = dict(\n",
    "    NUM_OF_OBS=df.shape[0],\n",
    "    RESPONSE=df[response_name],\n",
    "    NUM_OF_PR=0,\n",
    "    PR_MAT=np.zeros(shape=(df.shape[0],0)),\n",
    "    PR_BETA_PRIOR=np.array([]),\n",
    "    PR_SIGMA_PRIOR=np.array([]),\n",
    "    NUM_OF_RR=df[feature_names].shape[1],\n",
    "    RR_MAT=df[feature_names].values,\n",
    "    RR_BETA_PRIOR=np.zeros(shape=(df[feature_names].shape[1],)),\n",
    "    RR_SIGMA_PRIOR=np.full(shape=(df[feature_names].shape[1],), fill_value=5.),\n",
    "    REG_PENALTY_TYPE=0,\n",
    "    AUTO_RIDGE_SCALE=0.5,\n",
    "    LASSO_SCALE=0.5,\n",
    ")\n"
   ]
  },
  {
   "cell_type": "markdown",
   "metadata": {},
   "source": [
    "### MCMC"
   ]
  },
  {
   "cell_type": "code",
   "execution_count": 74,
   "metadata": {},
   "outputs": [],
   "source": [
    "from orbit.estimators.stan_estimator import StanEstimatorMCMC, StanEstimatorMAP, StanEstimatorVI\n",
    "\n",
    "estimator = StanEstimatorMCMC(num_sample=500)\n",
    "stan_extract = estimator.fit(\n",
    "    model_name='linear_regression',\n",
    "    model_param_names=['pr_beta', 'rr_beta'],\n",
    "    data_input=data_input\n",
    ")"
   ]
  },
  {
   "cell_type": "code",
   "execution_count": 75,
   "metadata": {},
   "outputs": [],
   "source": [
    "coef_1 = np.round(stan_extract['rr_beta'].mean(axis=0),4)"
   ]
  },
  {
   "cell_type": "markdown",
   "metadata": {},
   "source": [
    "### MAP"
   ]
  },
  {
   "cell_type": "code",
   "execution_count": 76,
   "metadata": {},
   "outputs": [],
   "source": [
    "estimator = StanEstimatorMAP()\n",
    "stan_extract = estimator.fit(\n",
    "    model_name='linear_regression',\n",
    "    model_param_names=['pr_beta', 'rr_beta'],\n",
    "    data_input=data_input\n",
    ")"
   ]
  },
  {
   "cell_type": "code",
   "execution_count": 77,
   "metadata": {},
   "outputs": [],
   "source": [
    "coef_2 = np.round(stan_extract['rr_beta'], 4)"
   ]
  },
  {
   "cell_type": "markdown",
   "metadata": {},
   "source": [
    "### VI"
   ]
  },
  {
   "cell_type": "code",
   "execution_count": 78,
   "metadata": {},
   "outputs": [
    {
     "name": "stderr",
     "output_type": "stream",
     "text": [
      "WARNING:pystan:Automatic Differentiation Variational Inference (ADVI) is an EXPERIMENTAL ALGORITHM.\n",
      "WARNING:pystan:ADVI samples may be found on the filesystem in the file `/var/folders/jd/f26ttrfj6x5f6nvy3xvmzr040000gn/T/tmps3r25n97/output.csv`\n"
     ]
    }
   ],
   "source": [
    "estimator = StanEstimatorVI(num_sample=500)\n",
    "stan_extract = estimator.fit(\n",
    "    model_name='linear_regression',\n",
    "    model_param_names=['pr_beta', 'rr_beta'],\n",
    "    data_input=data_input\n",
    ")\n",
    "coef_3 = np.round(stan_extract['rr_beta'].mean(axis=0), 4)"
   ]
  },
  {
   "cell_type": "markdown",
   "metadata": {},
   "source": [
    "### Compare Coefs"
   ]
  },
  {
   "cell_type": "code",
   "execution_count": 79,
   "metadata": {},
   "outputs": [
    {
     "data": {
      "text/html": [
       "<div>\n",
       "<style scoped>\n",
       "    .dataframe tbody tr th:only-of-type {\n",
       "        vertical-align: middle;\n",
       "    }\n",
       "\n",
       "    .dataframe tbody tr th {\n",
       "        vertical-align: top;\n",
       "    }\n",
       "\n",
       "    .dataframe thead th {\n",
       "        text-align: right;\n",
       "    }\n",
       "</style>\n",
       "<table border=\"1\" class=\"dataframe\">\n",
       "  <thead>\n",
       "    <tr style=\"text-align: right;\">\n",
       "      <th></th>\n",
       "      <th>true</th>\n",
       "      <th>mcmc</th>\n",
       "      <th>map</th>\n",
       "      <th>vi</th>\n",
       "    </tr>\n",
       "  </thead>\n",
       "  <tbody>\n",
       "    <tr>\n",
       "      <th>0</th>\n",
       "      <td>0.000000</td>\n",
       "      <td>-0.0040</td>\n",
       "      <td>-0.0040</td>\n",
       "      <td>0.0073</td>\n",
       "    </tr>\n",
       "    <tr>\n",
       "      <th>1</th>\n",
       "      <td>0.000000</td>\n",
       "      <td>-0.0024</td>\n",
       "      <td>-0.0026</td>\n",
       "      <td>0.0037</td>\n",
       "    </tr>\n",
       "    <tr>\n",
       "      <th>2</th>\n",
       "      <td>0.343623</td>\n",
       "      <td>0.3437</td>\n",
       "      <td>0.3436</td>\n",
       "      <td>0.3491</td>\n",
       "    </tr>\n",
       "    <tr>\n",
       "      <th>3</th>\n",
       "      <td>45.900760</td>\n",
       "      <td>45.9004</td>\n",
       "      <td>45.9005</td>\n",
       "      <td>45.9062</td>\n",
       "    </tr>\n",
       "    <tr>\n",
       "      <th>4</th>\n",
       "      <td>58.769236</td>\n",
       "      <td>58.7686</td>\n",
       "      <td>58.7686</td>\n",
       "      <td>58.7666</td>\n",
       "    </tr>\n",
       "    <tr>\n",
       "      <th>5</th>\n",
       "      <td>0.000000</td>\n",
       "      <td>0.0015</td>\n",
       "      <td>0.0016</td>\n",
       "      <td>0.0106</td>\n",
       "    </tr>\n",
       "    <tr>\n",
       "      <th>6</th>\n",
       "      <td>32.157406</td>\n",
       "      <td>32.1528</td>\n",
       "      <td>32.1529</td>\n",
       "      <td>32.1502</td>\n",
       "    </tr>\n",
       "    <tr>\n",
       "      <th>7</th>\n",
       "      <td>33.678231</td>\n",
       "      <td>33.6802</td>\n",
       "      <td>33.6802</td>\n",
       "      <td>33.6856</td>\n",
       "    </tr>\n",
       "    <tr>\n",
       "      <th>8</th>\n",
       "      <td>0.000000</td>\n",
       "      <td>0.0025</td>\n",
       "      <td>0.0027</td>\n",
       "      <td>-0.0020</td>\n",
       "    </tr>\n",
       "    <tr>\n",
       "      <th>9</th>\n",
       "      <td>0.000000</td>\n",
       "      <td>-0.0011</td>\n",
       "      <td>-0.0011</td>\n",
       "      <td>-0.0006</td>\n",
       "    </tr>\n",
       "  </tbody>\n",
       "</table>\n",
       "</div>"
      ],
      "text/plain": [
       "        true     mcmc      map       vi\n",
       "0   0.000000  -0.0040  -0.0040   0.0073\n",
       "1   0.000000  -0.0024  -0.0026   0.0037\n",
       "2   0.343623   0.3437   0.3436   0.3491\n",
       "3  45.900760  45.9004  45.9005  45.9062\n",
       "4  58.769236  58.7686  58.7686  58.7666\n",
       "5   0.000000   0.0015   0.0016   0.0106\n",
       "6  32.157406  32.1528  32.1529  32.1502\n",
       "7  33.678231  33.6802  33.6802  33.6856\n",
       "8   0.000000   0.0025   0.0027  -0.0020\n",
       "9   0.000000  -0.0011  -0.0011  -0.0006"
      ]
     },
     "execution_count": 79,
     "metadata": {},
     "output_type": "execute_result"
    }
   ],
   "source": [
    "pd.DataFrame(\n",
    "    np.concatenate((coef[:, None], coef_1[:, None], coef_2[:, None], coef_3[:, None]),\n",
    "        axis=1\n",
    "    ),\n",
    "    columns=['true', 'mcmc', 'map', 'vi']\n",
    " )"
   ]
  },
  {
   "cell_type": "code",
   "execution_count": null,
   "metadata": {},
   "outputs": [],
   "source": []
  }
 ],
 "metadata": {
  "kernelspec": {
   "display_name": "Python 3",
   "language": "python",
   "name": "python3"
  },
  "language_info": {
   "codemirror_mode": {
    "name": "ipython",
    "version": 3
   },
   "file_extension": ".py",
   "mimetype": "text/x-python",
   "name": "python",
   "nbconvert_exporter": "python",
   "pygments_lexer": "ipython3",
   "version": "3.7.3"
  },
  "toc": {
   "base_numbering": 1,
   "nav_menu": {},
   "number_sections": true,
   "sideBar": true,
   "skip_h1_title": false,
   "title_cell": "Table of Contents",
   "title_sidebar": "Contents",
   "toc_cell": false,
   "toc_position": {},
   "toc_section_display": true,
   "toc_window_display": false
  }
 },
 "nbformat": 4,
 "nbformat_minor": 4
}
