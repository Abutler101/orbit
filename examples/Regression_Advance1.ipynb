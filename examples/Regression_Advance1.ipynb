{
 "cells": [
  {
   "cell_type": "markdown",
   "metadata": {},
   "source": [
    "# Regressorion with Orbit - Advance"
   ]
  },
  {
   "cell_type": "markdown",
   "metadata": {},
   "source": [
    "In this demo, we want to demonstartate further how to config orbit to perform regressions with time-series analysis.  The config including different regularizations and we use a simulated data set to compare against ground truth. "
   ]
  },
  {
   "cell_type": "code",
   "execution_count": 1,
   "metadata": {
    "ExecuteTime": {
     "end_time": "2020-02-26T06:36:53.430179Z",
     "start_time": "2020-02-26T06:36:51.529046Z"
    }
   },
   "outputs": [],
   "source": [
    "import pandas as pd\n",
    "import numpy as np\n",
    "import gc\n",
    "\n",
    "import statsmodels.api as sm\n",
    "import matplotlib.pyplot as plt\n",
    "%matplotlib inline\n",
    "\n",
    "from orbit.dlt import DLT\n",
    "from orbit.lgt import LGT\n",
    "\n",
    "from orbit.utils.plot import plot_posterior_params\n",
    "from orbit.constants.palette import QualitativePalette\n",
    "from orbit.utils.simulation import make_ts_multiplicative"
   ]
  },
  {
   "cell_type": "code",
   "execution_count": 2,
   "metadata": {},
   "outputs": [
    {
     "name": "stdout",
     "output_type": "stream",
     "text": [
      "1.18.2\n"
     ]
    }
   ],
   "source": [
    "# randomization is using numpy with this version\n",
    "print(np.__version__)"
   ]
  },
  {
   "cell_type": "markdown",
   "metadata": {},
   "source": [
    "## Simulation of Regression with Trend"
   ]
  },
  {
   "cell_type": "markdown",
   "metadata": {},
   "source": [
    "Let's make a vanila problem with observation(t) = trend(t) + regression"
   ]
  },
  {
   "cell_type": "code",
   "execution_count": 3,
   "metadata": {},
   "outputs": [
    {
     "data": {
      "text/plain": [
       "array([ 0.15602066,  0.05231785,  0.16325487, -0.11182046,  0.0027203 ])"
      ]
     },
     "execution_count": 3,
     "metadata": {},
     "output_type": "execute_result"
    }
   ],
   "source": [
    "# To scale regressor values in a nicer way\n",
    "REG_BASE = 1000\n",
    "SEED = 2020\n",
    "NUM_OF_REGRESSORS = 5\n",
    "COEFS= np.random.default_rng(SEED).normal(.03, .1, NUM_OF_REGRESSORS)\n",
    "COEFS"
   ]
  },
  {
   "cell_type": "code",
   "execution_count": 4,
   "metadata": {},
   "outputs": [
    {
     "data": {
      "text/plain": [
       "array([ 0.15602066,  0.05231785,  0.16325487, -0.11182046,  0.0027203 ])"
      ]
     },
     "execution_count": 4,
     "metadata": {},
     "output_type": "execute_result"
    }
   ],
   "source": [
    "raw_df, trend, seas, coefs = make_ts_multiplicative(\n",
    "    series_len=200, seasonality=52, coefs=COEFS,\n",
    "    regressor_log_loc=0.0, regressor_log_scale=0.2, noise_to_signal_ratio=1.0,\n",
    "    regression_sparsity=0.5, obs_val_base=1000, regresspr_val_base=REG_BASE, trend_type='rw',\n",
    "    seas_scale=.05, response_col='response', seed=SEED\n",
    ")\n",
    "coefs"
   ]
  },
  {
   "cell_type": "code",
   "execution_count": 5,
   "metadata": {},
   "outputs": [
    {
     "data": {
      "text/html": [
       "<div>\n",
       "<style scoped>\n",
       "    .dataframe tbody tr th:only-of-type {\n",
       "        vertical-align: middle;\n",
       "    }\n",
       "\n",
       "    .dataframe tbody tr th {\n",
       "        vertical-align: top;\n",
       "    }\n",
       "\n",
       "    .dataframe thead th {\n",
       "        text-align: right;\n",
       "    }\n",
       "</style>\n",
       "<table border=\"1\" class=\"dataframe\">\n",
       "  <thead>\n",
       "    <tr style=\"text-align: right;\">\n",
       "      <th></th>\n",
       "      <th>response</th>\n",
       "      <th>regressor_1</th>\n",
       "      <th>regressor_2</th>\n",
       "      <th>regressor_3</th>\n",
       "      <th>regressor_4</th>\n",
       "      <th>regressor_5</th>\n",
       "      <th>date</th>\n",
       "    </tr>\n",
       "  </thead>\n",
       "  <tbody>\n",
       "    <tr>\n",
       "      <th>0</th>\n",
       "      <td>1865.0</td>\n",
       "      <td>0.0</td>\n",
       "      <td>1842.0</td>\n",
       "      <td>2548.0</td>\n",
       "      <td>1047.0</td>\n",
       "      <td>0.0</td>\n",
       "      <td>2016-01-10</td>\n",
       "    </tr>\n",
       "    <tr>\n",
       "      <th>1</th>\n",
       "      <td>1680.0</td>\n",
       "      <td>1755.0</td>\n",
       "      <td>1858.0</td>\n",
       "      <td>1871.0</td>\n",
       "      <td>912.0</td>\n",
       "      <td>0.0</td>\n",
       "      <td>2016-01-17</td>\n",
       "    </tr>\n",
       "    <tr>\n",
       "      <th>2</th>\n",
       "      <td>2390.0</td>\n",
       "      <td>1429.0</td>\n",
       "      <td>2055.0</td>\n",
       "      <td>1936.0</td>\n",
       "      <td>1974.0</td>\n",
       "      <td>1765.0</td>\n",
       "      <td>2016-01-24</td>\n",
       "    </tr>\n",
       "    <tr>\n",
       "      <th>3</th>\n",
       "      <td>984.0</td>\n",
       "      <td>0.0</td>\n",
       "      <td>1272.0</td>\n",
       "      <td>1469.0</td>\n",
       "      <td>0.0</td>\n",
       "      <td>3932.0</td>\n",
       "      <td>2016-01-31</td>\n",
       "    </tr>\n",
       "    <tr>\n",
       "      <th>4</th>\n",
       "      <td>1259.0</td>\n",
       "      <td>2447.0</td>\n",
       "      <td>0.0</td>\n",
       "      <td>819.0</td>\n",
       "      <td>1753.0</td>\n",
       "      <td>2383.0</td>\n",
       "      <td>2016-02-07</td>\n",
       "    </tr>\n",
       "  </tbody>\n",
       "</table>\n",
       "</div>"
      ],
      "text/plain": [
       "   response  regressor_1  regressor_2  regressor_3  regressor_4  regressor_5  \\\n",
       "0    1865.0          0.0       1842.0       2548.0       1047.0          0.0   \n",
       "1    1680.0       1755.0       1858.0       1871.0        912.0          0.0   \n",
       "2    2390.0       1429.0       2055.0       1936.0       1974.0       1765.0   \n",
       "3     984.0          0.0       1272.0       1469.0          0.0       3932.0   \n",
       "4    1259.0       2447.0          0.0        819.0       1753.0       2383.0   \n",
       "\n",
       "        date  \n",
       "0 2016-01-10  \n",
       "1 2016-01-17  \n",
       "2 2016-01-24  \n",
       "3 2016-01-31  \n",
       "4 2016-02-07  "
      ]
     },
     "execution_count": 5,
     "metadata": {},
     "output_type": "execute_result"
    }
   ],
   "source": [
    "raw_df.head(5)"
   ]
  },
  {
   "cell_type": "code",
   "execution_count": 6,
   "metadata": {},
   "outputs": [
    {
     "name": "stdout",
     "output_type": "stream",
     "text": [
      "[ 0.15602066  0.05231785  0.16325487 -0.11182046  0.0027203 ]\n"
     ]
    }
   ],
   "source": [
    "print(coefs)"
   ]
  },
  {
   "cell_type": "code",
   "execution_count": 7,
   "metadata": {},
   "outputs": [
    {
     "data": {
      "text/plain": [
       "[<matplotlib.lines.Line2D at 0x13810e588>]"
      ]
     },
     "execution_count": 7,
     "metadata": {},
     "output_type": "execute_result"
    },
    {
     "data": {
      "image/png": "[encoded data removed]",
      "text/plain": [
       "<Figure size 432x288 with 1 Axes>"
      ]
     },
     "metadata": {
      "needs_background": "light"
     },
     "output_type": "display_data"
    }
   ],
   "source": [
    "plt.plot(trend)"
   ]
  },
  {
   "cell_type": "code",
   "execution_count": 8,
   "metadata": {},
   "outputs": [
    {
     "data": {
      "text/plain": [
       "[<matplotlib.lines.Line2D at 0x13821fda0>]"
      ]
     },
     "execution_count": 8,
     "metadata": {},
     "output_type": "execute_result"
    },
    {
     "data": {
      "image/png": "[encoded data removed]",
      "text/plain": [
       "<Figure size 432x288 with 1 Axes>"
      ]
     },
     "metadata": {
      "needs_background": "light"
     },
     "output_type": "display_data"
    }
   ],
   "source": [
    "plt.plot(seas)"
   ]
  },
  {
   "cell_type": "code",
   "execution_count": 9,
   "metadata": {},
   "outputs": [
    {
     "data": {
      "text/plain": [
       "[<matplotlib.lines.Line2D at 0x13831ac50>]"
      ]
     },
     "execution_count": 9,
     "metadata": {},
     "output_type": "execute_result"
    },
    {
     "data": {
      "image/png": "[encoded data removed]",
      "text/plain": [
       "<Figure size 432x288 with 1 Axes>"
      ]
     },
     "metadata": {
      "needs_background": "light"
     },
     "output_type": "display_data"
    }
   ],
   "source": [
    "plt.plot(raw_df['response'])"
   ]
  },
  {
   "cell_type": "markdown",
   "metadata": {},
   "source": [
    "## Estimating Coefficients I - full relevance"
   ]
  },
  {
   "cell_type": "markdown",
   "metadata": {},
   "source": [
    "Assume we observe the data frame `df` and the scaler `REG_BASE`"
   ]
  },
  {
   "cell_type": "code",
   "execution_count": 10,
   "metadata": {},
   "outputs": [],
   "source": [
    "df = raw_df.copy()\n",
    "regressor_cols = [f\"regressor_{x}\" for x in range(1, NUM_OF_REGRESSORS + 1)]\n",
    "response_col = \"response\"\n",
    "df[regressor_cols] = df[regressor_cols]/REG_BASE\n",
    "df[regressor_cols] = df[regressor_cols].apply(np.log1p)\n",
    "df[response_col] = np.log(df[response_col])"
   ]
  },
  {
   "cell_type": "code",
   "execution_count": 11,
   "metadata": {},
   "outputs": [
    {
     "name": "stderr",
     "output_type": "stream",
     "text": [
      "WARNING:pystan:Maximum (flat) parameter count (1000) exceeded: skipping diagnostic tests for n_eff and Rhat.\n",
      "To run all diagnostics call pystan.check_hmc_diagnostics(fit)\n"
     ]
    }
   ],
   "source": [
    "mod_lasso = DLT(\n",
    "    response_col=response_col,\n",
    "    date_col=\"date\",\n",
    "    regressor_col=regressor_cols,\n",
    "    seasonality=52,\n",
    "    seed=SEED,\n",
    "    predict_method='full',\n",
    "    sample_method='mcmc',\n",
    "    is_multiplicative=False,\n",
    "    regression_penalty='lasso',\n",
    "    num_warmup=4000,\n",
    "    num_sample=1000,\n",
    ")\n",
    "mod_lasso.fit(df=df)"
   ]
  },
  {
   "cell_type": "code",
   "execution_count": 12,
   "metadata": {
    "ExecuteTime": {
     "end_time": "2020-02-26T06:36:53.916107Z",
     "start_time": "2020-02-26T06:36:53.520942Z"
    }
   },
   "outputs": [
    {
     "name": "stderr",
     "output_type": "stream",
     "text": [
      "WARNING:pystan:Maximum (flat) parameter count (1000) exceeded: skipping diagnostic tests for n_eff and Rhat.\n",
      "To run all diagnostics call pystan.check_hmc_diagnostics(fit)\n",
      "WARNING:pystan:23 of 1000 iterations ended with a divergence (2.3 %).\n",
      "WARNING:pystan:Try running with adapt_delta larger than 0.9 to remove the divergences.\n"
     ]
    }
   ],
   "source": [
    "mod_auto_ridge = DLT(\n",
    "    response_col=response_col,\n",
    "    date_col=\"date\",\n",
    "    regressor_col=regressor_cols,\n",
    "    seasonality=52,\n",
    "    seed=SEED,\n",
    "    predict_method='full',\n",
    "    sample_method='mcmc',\n",
    "    is_multiplicative=False,\n",
    "    regression_penalty='auto_ridge',\n",
    "    num_warmup=4000,\n",
    "    num_sample=1000,\n",
    "    stan_mcmc_control={'adapt_delta':0.9},\n",
    ")\n",
    "mod_auto_ridge.fit(df=df)"
   ]
  },
  {
   "cell_type": "code",
   "execution_count": 13,
   "metadata": {},
   "outputs": [
    {
     "name": "stderr",
     "output_type": "stream",
     "text": [
      "WARNING:pystan:Maximum (flat) parameter count (1000) exceeded: skipping diagnostic tests for n_eff and Rhat.\n",
      "To run all diagnostics call pystan.check_hmc_diagnostics(fit)\n"
     ]
    }
   ],
   "source": [
    "mod_fixed_ridge1 = DLT(\n",
    "    response_col=response_col,\n",
    "    date_col=\"date\",\n",
    "    regressor_col=regressor_cols,\n",
    "    seasonality=52,\n",
    "    seed=SEED,\n",
    "    predict_method='full',\n",
    "    sample_method='mcmc',\n",
    "    is_multiplicative=False,\n",
    "    regression_penalty='fixed_ridge',\n",
    "    regressor_sigma_prior=[0.5] * NUM_OF_REGRESSORS,\n",
    "    num_warmup=4000,\n",
    "    num_sample=1000,\n",
    ")\n",
    "mod_fixed_ridge1.fit(df=df)"
   ]
  },
  {
   "cell_type": "code",
   "execution_count": null,
   "metadata": {},
   "outputs": [],
   "source": [
    "mod_fixed_ridge2 = DLT(\n",
    "    response_col=response_col,\n",
    "    date_col=\"date\",\n",
    "    regressor_col=regressor_cols,\n",
    "    seasonality=52,\n",
    "    seed=SEED,\n",
    "    predict_method='full',\n",
    "    sample_method='mcmc',\n",
    "    is_multiplicative=False,\n",
    "    regression_penalty='fixed_ridge',\n",
    "    regressor_sigma_prior=[0.05] * NUM_OF_REGRESSORS,\n",
    "    num_warmup=4000,\n",
    "    num_sample=1000,\n",
    ")\n",
    "mod_fixed_ridge2.fit(df=df)"
   ]
  },
  {
   "cell_type": "code",
   "execution_count": null,
   "metadata": {},
   "outputs": [],
   "source": [
    "coef_lasso = np.median(mod_lasso.posterior_samples['rr_beta'], axis=0)\n",
    "coef_auto_ridge = np.median(mod_auto_ridge.posterior_samples['rr_beta'], axis=0)\n",
    "coef_fixed_ridge1 =np.median(mod_fixed_ridge1.posterior_samples['rr_beta'], axis=0)\n",
    "coef_fixed_ridge2 =np.median(mod_fixed_ridge2.posterior_samples['rr_beta'], axis=0)"
   ]
  },
  {
   "cell_type": "code",
   "execution_count": null,
   "metadata": {},
   "outputs": [],
   "source": [
    "lw=3\n",
    "plt.figure(figsize=(16, 8))\n",
    "plt.title(\"Weights of the model\")\n",
    "plt.plot(coef_lasso, color=QualitativePalette.Line4.value[0], linewidth=lw, label=\"Lasso\", alpha=1.0, linestyle='--')\n",
    "plt.plot(coef_auto_ridge, color=QualitativePalette.Line4.value[1], linewidth=lw, label=\"Auto Ridge\", alpha=0.5, linestyle='--')\n",
    "plt.plot(coef_fixed_ridge1, color=QualitativePalette.Line4.value[2], linewidth=lw, label=\"Fixed Ridge1\", alpha=0.5, linestyle='--')\n",
    "plt.plot(coef_fixed_ridge2, color=QualitativePalette.Line4.value[3], linewidth=lw, label=\"Fixed Ridge2\", alpha=0.5, linestyle='--')\n",
    "plt.plot(coefs, color=\"black\", linewidth=lw, label=\"Ground truth\")\n",
    "plt.legend()\n",
    "plt.grid()"
   ]
  },
  {
   "cell_type": "markdown",
   "metadata": {},
   "source": [
    "The result looks reasonable to the true coefficients."
   ]
  },
  {
   "cell_type": "markdown",
   "metadata": {},
   "source": [
    "## Checking Model Convergence and Posterior Distribution"
   ]
  },
  {
   "cell_type": "code",
   "execution_count": null,
   "metadata": {},
   "outputs": [],
   "source": [
    "_ = mod_lasso.predict(df)\n",
    "_ = plot_posterior_params(mod_lasso, kind='density')\n",
    "_ = plot_posterior_params(mod_lasso, kind='trace')"
   ]
  },
  {
   "cell_type": "markdown",
   "metadata": {},
   "source": [
    "## Estimating Coefficients II - high sparsity"
   ]
  },
  {
   "cell_type": "code",
   "execution_count": null,
   "metadata": {},
   "outputs": [],
   "source": [
    "NUM_OF_REGRESSORS = 25\n",
    "REG_RELEVANCE = 0.8\n",
    "COEFS= np.random.default_rng(SEED).normal(.03, .1, NUM_OF_REGRESSORS)\n",
    "COEFS"
   ]
  },
  {
   "cell_type": "code",
   "execution_count": null,
   "metadata": {},
   "outputs": [],
   "source": [
    "raw_df, trend, seas, coefs = make_ts_multiplicative(\n",
    "    series_len=200, seasonality=52, coefs=COEFS, regressor_relevance=REG_RELEVANCE,\n",
    "    regressor_log_loc=0.0, regressor_log_scale=0.2, noise_to_signal_ratio=1.0,\n",
    "    regression_sparsity=0.5, obs_val_base=1000, regresspr_val_base=REG_BASE, trend_type='rw',\n",
    "    seas_scale=.05, response_col='response', seed=SEED\n",
    ")\n",
    "raw_df.head(5)"
   ]
  },
  {
   "cell_type": "code",
   "execution_count": null,
   "metadata": {},
   "outputs": [],
   "source": [
    "print(coefs)"
   ]
  },
  {
   "cell_type": "code",
   "execution_count": null,
   "metadata": {},
   "outputs": [],
   "source": [
    "df = raw_df.copy()\n",
    "regressor_cols = [f\"regressor_{x}\" for x in range(1, NUM_OF_REGRESSORS + 1)]\n",
    "response_col = \"response\"\n",
    "df[regressor_cols] = df[regressor_cols]/REG_BASE\n",
    "df[regressor_cols] = df[regressor_cols].apply(np.log1p)\n",
    "df[response_col] = np.log(df[response_col])"
   ]
  },
  {
   "cell_type": "code",
   "execution_count": null,
   "metadata": {},
   "outputs": [],
   "source": [
    "mod_lasso = DLT(\n",
    "    response_col=response_col,\n",
    "    date_col=\"date\",\n",
    "    regressor_col=regressor_cols,\n",
    "    seasonality=52,\n",
    "    seed=SEED,\n",
    "    predict_method='full',\n",
    "    sample_method='mcmc',\n",
    "    is_multiplicative=False,\n",
    "    regression_penalty='lasso',\n",
    "    num_warmup=4000,\n",
    "    num_sample=1000,\n",
    ")\n",
    "mod_lasso.fit(df=df)"
   ]
  },
  {
   "cell_type": "code",
   "execution_count": null,
   "metadata": {
    "ExecuteTime": {
     "end_time": "2020-02-26T06:36:53.916107Z",
     "start_time": "2020-02-26T06:36:53.520942Z"
    }
   },
   "outputs": [],
   "source": [
    "mod_auto_ridge = DLT(\n",
    "    response_col=response_col,\n",
    "    date_col=\"date\",\n",
    "    regressor_col=regressor_cols,\n",
    "    seasonality=52,\n",
    "    seed=SEED,\n",
    "    predict_method='full',\n",
    "    sample_method='mcmc',\n",
    "    is_multiplicative=False,\n",
    "    regression_penalty='auto_ridge',\n",
    "    num_warmup=4000,\n",
    "    num_sample=1000,\n",
    "    stan_mcmc_control={'adapt_delta':0.9},\n",
    ")\n",
    "mod_auto_ridge.fit(df=df)"
   ]
  },
  {
   "cell_type": "code",
   "execution_count": null,
   "metadata": {},
   "outputs": [],
   "source": [
    "mod_fixed_ridge1 = DLT(\n",
    "    response_col=response_col,\n",
    "    date_col=\"date\",\n",
    "    regressor_col=regressor_cols,\n",
    "    seasonality=52,\n",
    "    seed=SEED,\n",
    "    predict_method='full',\n",
    "    sample_method='mcmc',\n",
    "    is_multiplicative=False,\n",
    "    regression_penalty='fixed_ridge',\n",
    "    num_warmup=4000,\n",
    "    num_sample=1000,\n",
    ")\n",
    "mod_fixed_ridge1.fit(df=df)"
   ]
  },
  {
   "cell_type": "code",
   "execution_count": null,
   "metadata": {},
   "outputs": [],
   "source": [
    "mod_fixed_ridge2 = DLT(\n",
    "    response_col=response_col,\n",
    "    date_col=\"date\",\n",
    "    regressor_col=regressor_cols,\n",
    "    seasonality=52,\n",
    "    seed=SEED,\n",
    "    predict_method='full',\n",
    "    sample_method='mcmc',\n",
    "    is_multiplicative=False,\n",
    "    regression_penalty='fixed_ridge',\n",
    "    regressor_sigma_prior=[0.1] * NUM_OF_REGRESSORS,\n",
    "    num_warmup=4000,\n",
    "    num_sample=1000,\n",
    ")\n",
    "mod_fixed_ridge2.fit(df=df)"
   ]
  },
  {
   "cell_type": "code",
   "execution_count": null,
   "metadata": {},
   "outputs": [],
   "source": [
    "coef_lasso = np.median(mod_lasso.posterior_samples['rr_beta'], axis=0)\n",
    "coef_auto_ridge = np.median(mod_auto_ridge.posterior_samples['rr_beta'], axis=0)\n",
    "coef_fixed_ridge1 =np.median(mod_fixed_ridge1.posterior_samples['rr_beta'], axis=0)\n",
    "coef_fixed_ridge2 =np.median(mod_fixed_ridge2.posterior_samples['rr_beta'], axis=0)"
   ]
  },
  {
   "cell_type": "code",
   "execution_count": null,
   "metadata": {},
   "outputs": [],
   "source": [
    "lw=3\n",
    "plt.figure(figsize=(16, 8))\n",
    "plt.title(\"Weights of the model\")\n",
    "plt.plot(coef_lasso, color=QualitativePalette.Line4.value[0], linewidth=lw, label=\"Lasso\", alpha=1.0, linestyle='--')\n",
    "plt.plot(coef_auto_ridge, color=QualitativePalette.Line4.value[1], linewidth=lw, label=\"Auto Ridge\", alpha=0.5, linestyle='--')\n",
    "plt.plot(coef_fixed_ridge1, color=QualitativePalette.Line4.value[2], linewidth=lw, label=\"Fixed Ridge1\", alpha=0.5, linestyle='--')\n",
    "plt.plot(coef_fixed_ridge2, color=QualitativePalette.Line4.value[3], linewidth=lw, label=\"Fixed Ridge2\", alpha=0.5, linestyle='--')\n",
    "plt.plot(coefs, color=\"black\", linewidth=lw, label=\"Ground truth\")\n",
    "plt.legend()\n",
    "plt.grid()"
   ]
  },
  {
   "cell_type": "markdown",
   "metadata": {},
   "source": [
    "Again, with high dimensional data, the result looks reasonable to the true coefficients with irrelevant regressors fed into the model."
   ]
  }
 ],
 "metadata": {
  "kernelspec": {
   "display_name": "orbit",
   "language": "python",
   "name": "orbit"
  },
  "language_info": {
   "codemirror_mode": {
    "name": "ipython",
    "version": 3
   },
   "file_extension": ".py",
   "mimetype": "text/x-python",
   "name": "python",
   "nbconvert_exporter": "python",
   "pygments_lexer": "ipython3",
   "version": "3.6.8"
  },
  "toc": {
   "base_numbering": 1,
   "nav_menu": {},
   "number_sections": true,
   "sideBar": true,
   "skip_h1_title": true,
   "title_cell": "Table of Contents",
   "title_sidebar": "Contents",
   "toc_cell": false,
   "toc_position": {},
   "toc_section_display": true,
   "toc_window_display": true
  }
 },
 "nbformat": 4,
 "nbformat_minor": 4
}
