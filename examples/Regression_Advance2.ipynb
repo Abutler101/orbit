{
 "cells": [
  {
   "cell_type": "markdown",
   "metadata": {},
   "source": [
    "# Regressorion with Orbit - Advance II"
   ]
  },
  {
   "cell_type": "markdown",
   "metadata": {},
   "source": [
    "Continue from demo I, we revisit the regression from with multivariate regressors and observe the limit of each regression penalty."
   ]
  },
  {
   "cell_type": "code",
   "execution_count": null,
   "metadata": {
    "ExecuteTime": {
     "end_time": "2020-02-26T06:36:53.430179Z",
     "start_time": "2020-02-26T06:36:51.529046Z"
    }
   },
   "outputs": [],
   "source": [
    "import pandas as pd\n",
    "import numpy as np\n",
    "import gc\n",
    "\n",
    "import warnings\n",
    "warnings.filterwarnings('ignore')\n",
    "\n",
    "import statsmodels.api as sm\n",
    "import matplotlib.pyplot as plt\n",
    "%matplotlib inline\n",
    "\n",
    "from orbit.dlt import DLT\n",
    "from orbit.lgt import LGT\n",
    "\n",
    "from orbit.utils.plot import plot_posterior_params\n",
    "from orbit.constants.palette import QualitativePalette\n",
    "from orbit.utils.simulation import make_ts_multiplicative"
   ]
  },
  {
   "cell_type": "code",
   "execution_count": null,
   "metadata": {},
   "outputs": [],
   "source": [
    "# randomization is using numpy with this version\n",
    "print(np.__version__)"
   ]
  },
  {
   "cell_type": "markdown",
   "metadata": {},
   "source": [
    "## Simulation of Regression with Trend"
   ]
  },
  {
   "cell_type": "markdown",
   "metadata": {},
   "source": [
    "This time, we simulate regressor in a `multivariate normal` such that our observed values of regressors happen with covariance structure."
   ]
  },
  {
   "cell_type": "code",
   "execution_count": null,
   "metadata": {},
   "outputs": [],
   "source": [
    "# To scale regressor values in a nicer way\n",
    "REG_BASE = 1000\n",
    "COEFS = np.array([0.03, 0.08, -0.3, 0.35, 0.22], dtype=np.float64)\n",
    "SEED = 2020\n",
    "COVAR = np.array([[0.2, 0.3, 0.0, 0.0, 0.0], \n",
    "                 [0.3, 0.2, 0.4, 0.0, 0.0], \n",
    "                 [0.0, 0.4, 0.2, 0.0, 0.0], \n",
    "                 [0.0, 0.0, 0.0, 0.2, 0.1], \n",
    "                 [0.0, 0.0, 0.0, 0.1, 0.2]], dtype=np.float64)"
   ]
  },
  {
   "cell_type": "code",
   "execution_count": null,
   "metadata": {},
   "outputs": [],
   "source": [
    "# Looks like the RuntimeWarning is not impactful\n",
    "raw_df, trend, seas, coefs = make_ts_multiplicative(\n",
    "    series_len=200, seasonality=52, coefs=COEFS,\n",
    "    regressor_log_loc=0.0, noise_to_signal_ratio=1.0, \n",
    "    regressor_log_cov=COVAR,\n",
    "    regression_sparsity=0.5, obs_val_base=1000, regresspr_val_base=REG_BASE, trend_type='rw',\n",
    "    seas_scale=.05, response_col='response', seed=SEED\n",
    ")\n",
    "num_of_regressors = len(coefs)\n",
    "coefs"
   ]
  },
  {
   "cell_type": "markdown",
   "metadata": {},
   "source": [
    "## Estimating Coefficients I - full relevance"
   ]
  },
  {
   "cell_type": "markdown",
   "metadata": {},
   "source": [
    "Assume we observe the data frame `df` and the scaler `REG_BASE`"
   ]
  },
  {
   "cell_type": "code",
   "execution_count": null,
   "metadata": {},
   "outputs": [],
   "source": [
    "df = raw_df.copy()\n",
    "regressor_cols = [f\"regressor_{x}\" for x in range(1, num_of_regressors + 1)]\n",
    "response_col = \"response\"\n",
    "df[regressor_cols] = df[regressor_cols]/REG_BASE\n",
    "df[regressor_cols] = df[regressor_cols].apply(np.log1p)\n",
    "df[response_col] = np.log(df[response_col])"
   ]
  },
  {
   "cell_type": "code",
   "execution_count": null,
   "metadata": {
    "ExecuteTime": {
     "end_time": "2020-02-26T06:36:53.916107Z",
     "start_time": "2020-02-26T06:36:53.520942Z"
    }
   },
   "outputs": [],
   "source": [
    "warnings.filterwarnings('ignore')\n",
    "mod_auto_ridge = DLT(\n",
    "    response_col=response_col,\n",
    "    date_col=\"date\",\n",
    "    regressor_col=regressor_cols,\n",
    "    seasonality=52,\n",
    "    seed=SEED,\n",
    "    predict_method='full',\n",
    "    sample_method='mcmc',\n",
    "    is_multiplicative=False,\n",
    "    regression_penalty='auto_ridge',\n",
    "    num_warmup=4000,\n",
    "    num_sample=1000,\n",
    "    stan_mcmc_control={'adapt_delta':0.9},\n",
    ")\n",
    "mod_auto_ridge.fit(df=df)"
   ]
  },
  {
   "cell_type": "code",
   "execution_count": null,
   "metadata": {},
   "outputs": [],
   "source": [
    "mod_fixed_ridge1 = DLT(\n",
    "    response_col=response_col,\n",
    "    date_col=\"date\",\n",
    "    regressor_col=regressor_cols,\n",
    "    seasonality=52,\n",
    "    seed=SEED,\n",
    "    predict_method='full',\n",
    "    sample_method='mcmc',\n",
    "    is_multiplicative=False,\n",
    "    regression_penalty='fixed_ridge',\n",
    "    regressor_sigma_prior=[0.5] * num_of_regressors,\n",
    "    num_warmup=4000,\n",
    "    num_sample=1000,\n",
    ")\n",
    "mod_fixed_ridge1.fit(df=df)"
   ]
  },
  {
   "cell_type": "code",
   "execution_count": null,
   "metadata": {},
   "outputs": [],
   "source": [
    "mod_fixed_ridge2 = DLT(\n",
    "    response_col=response_col,\n",
    "    date_col=\"date\",\n",
    "    regressor_col=regressor_cols,\n",
    "    seasonality=52,\n",
    "    seed=SEED,\n",
    "    predict_method='full',\n",
    "    sample_method='mcmc',\n",
    "    is_multiplicative=False,\n",
    "    regression_penalty='fixed_ridge',\n",
    "    regressor_sigma_prior=[0.05] * num_of_regressors,\n",
    "    num_warmup=4000,\n",
    "    num_sample=1000,\n",
    ")\n",
    "mod_fixed_ridge2.fit(df=df)"
   ]
  },
  {
   "cell_type": "code",
   "execution_count": null,
   "metadata": {},
   "outputs": [],
   "source": [
    "coef_auto_ridge = np.median(mod_auto_ridge.posterior_samples['rr_beta'], axis=0)\n",
    "coef_fixed_ridge1 =np.median(mod_fixed_ridge1.posterior_samples['rr_beta'], axis=0)\n",
    "coef_fixed_ridge2 =np.median(mod_fixed_ridge2.posterior_samples['rr_beta'], axis=0)"
   ]
  },
  {
   "cell_type": "markdown",
   "metadata": {},
   "source": [
    "Small `sigma_prior` may lead to over-regularize."
   ]
  },
  {
   "cell_type": "code",
   "execution_count": null,
   "metadata": {},
   "outputs": [],
   "source": [
    "lw=3\n",
    "plt.figure(figsize=(16, 8))\n",
    "plt.title(\"Weights of the model\")\n",
    "plt.plot(coef_auto_ridge, color=QualitativePalette.Line4.value[0], linewidth=lw, label=\"Auto Ridge\", alpha=0.8, linestyle='--')\n",
    "plt.plot(coef_fixed_ridge1, color=QualitativePalette.Line4.value[1], linewidth=lw, label=\"Fixed Ridge1\", alpha=0.8, linestyle='--')\n",
    "plt.plot(coef_fixed_ridge2, color=QualitativePalette.Line4.value[2], linewidth=lw, label=\"Fixed Ridge2\", alpha=0.8, linestyle='--')\n",
    "plt.plot(coefs, color=\"black\", linewidth=lw, label=\"Ground truth\", alpha=0.5)\n",
    "plt.legend()\n",
    "plt.grid()"
   ]
  },
  {
   "cell_type": "code",
   "execution_count": null,
   "metadata": {},
   "outputs": [],
   "source": [
    "scale_priors = np.round(np.arange(0.05, 0.5 + 0.01, 0.05), 2)\n",
    "print(scale_priors)"
   ]
  },
  {
   "cell_type": "code",
   "execution_count": null,
   "metadata": {},
   "outputs": [],
   "source": [
    "coef_sum_list = []\n",
    "for idx, scale_prior in enumerate(scale_priors):\n",
    "    print(f\"Fitting with scale prior: {scale_prior}\")\n",
    "    # fit a fixed ridge\n",
    "    mod = DLT(\n",
    "        response_col=response_col,\n",
    "        date_col=\"date\",\n",
    "        regressor_col=regressor_cols,\n",
    "        seasonality=52,\n",
    "        seed=SEED,\n",
    "        predict_method='median',\n",
    "        sample_method='mcmc',\n",
    "        is_multiplicative=False,\n",
    "        regression_penalty='fixed_ridge',\n",
    "        regressor_sigma_prior=[scale_prior] * num_of_regressors,\n",
    "        num_sample=1000,\n",
    "        num_warmup=4000,\n",
    "    )\n",
    "    mod.fit(df=df)\n",
    "    temp = mod.get_regression_coefs()\n",
    "    temp['scale_prior'] = scale_prior\n",
    "    temp.rename(columns={'coefficient': 'fixed_ridge_estimate'}, inplace=True)\n",
    "    temp.drop(['regressor_sign'], inplace=True, axis=1)\n",
    "    # fit a auto ridge\n",
    "    mod = DLT(\n",
    "        response_col=response_col,\n",
    "        date_col=\"date\",\n",
    "        regressor_col=regressor_cols,\n",
    "        seasonality=52,\n",
    "        seed=SEED,\n",
    "        predict_method='median',\n",
    "        sample_method='mcmc',\n",
    "        is_multiplicative=False,\n",
    "        regression_penalty='auto_ridge',\n",
    "        auto_ridge_scale=scale_prior,\n",
    "        regressor_sigma_prior=[scale_prior] * num_of_regressors,\n",
    "        num_sample=1000,\n",
    "        num_warmup=4000,\n",
    "        stan_mcmc_control={'adapt_delta':0.9},\n",
    "    )\n",
    "    mod.fit(df=df)\n",
    "    temp2 = mod.get_regression_coefs()\n",
    "    temp['auto_ridge_estimate'] = temp2['coefficient'].values\n",
    "    coef_sum_list.append(temp)\n",
    "coef_summary = pd.concat(coef_sum_list, axis=0)\n",
    "del temp, coef_sum_list\n",
    "gc.collect()"
   ]
  },
  {
   "cell_type": "code",
   "execution_count": null,
   "metadata": {},
   "outputs": [],
   "source": [
    "figsize=(12, 12)\n",
    "fig, axes = plt.subplots(len(regressor_cols), 1, facecolor='w', figsize=figsize)\n",
    "idx = 0\n",
    "lw=3\n",
    "# for idx, reg in enumerate(regressor_cols):\n",
    "for ax, reg in zip(axes, regressor_cols):\n",
    "\n",
    "    sub_df = coef_summary[coef_summary['regressor'] == reg]\n",
    "    x = sub_df['scale_prior'].values\n",
    "    y = sub_df['fixed_ridge_estimate'].values\n",
    "    ax.plot(x, y, marker='.', color=QualitativePalette.Line4.value[0], label=\"fixed_ridge_estimate\", \n",
    "            lw=lw, markersize=20, alpha=0.8)\n",
    "    y = sub_df['auto_ridge_estimate'].values\n",
    "    ax.plot(x, y, marker='.', color=QualitativePalette.Line4.value[1], label=\"auto_ridge_estimate\", \n",
    "            lw=lw, markersize=20, alpha=0.8)\n",
    " \n",
    "    ax.axhline(y=coefs[idx], marker=None, color='black', label='ground_truth', lw=lw, alpha=0.5,  linestyle='--')\n",
    "    ax.grid(True, which='both', c='gray', ls='-', lw=1, alpha=0.2)\n",
    "    ax.set_title(reg, fontsize=16)\n",
    "    ax.set_ylim(coefs[idx] - 0.15, coefs[idx] + 0.15)\n",
    "    idx += 1\n",
    "\n",
    "handles, labels = ax.get_legend_handles_labels()\n",
    "fig.legend(handles, labels, loc='lower right')\n",
    "fig.tight_layout()"
   ]
  },
  {
   "cell_type": "markdown",
   "metadata": {},
   "source": [
    "Using `auto_ridge` would give more stable estimation where user has less worry about picking the right size of scale prior in setting non-informative prior."
   ]
  }
 ],
 "metadata": {
  "kernelspec": {
   "display_name": "orbit",
   "language": "python",
   "name": "orbit"
  },
  "language_info": {
   "codemirror_mode": {
    "name": "ipython",
    "version": 3
   },
   "file_extension": ".py",
   "mimetype": "text/x-python",
   "name": "python",
   "nbconvert_exporter": "python",
   "pygments_lexer": "ipython3",
   "version": "3.6.8"
  },
  "toc": {
   "base_numbering": 1,
   "nav_menu": {},
   "number_sections": true,
   "sideBar": true,
   "skip_h1_title": true,
   "title_cell": "Table of Contents",
   "title_sidebar": "Contents",
   "toc_cell": false,
   "toc_position": {},
   "toc_section_display": true,
   "toc_window_display": true
  }
 },
 "nbformat": 4,
 "nbformat_minor": 4
}
