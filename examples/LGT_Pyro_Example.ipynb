{
 "cells": [
  {
   "cell_type": "markdown",
   "metadata": {},
   "source": [
    "# Pyro Examples"
   ]
  },
  {
   "cell_type": "code",
   "execution_count": 1,
   "metadata": {
    "ExecuteTime": {
     "end_time": "2020-03-01T09:04:34.428572Z",
     "start_time": "2020-03-01T09:04:32.336628Z"
    }
   },
   "outputs": [],
   "source": [
    "import pandas as pd\n",
    "import numpy as np\n",
    "from orbit.lgt import LGT\n",
    "from orbit.utils.plot import plot_predicted_data\n",
    "from orbit.utils.plot import plot_predicted_components"
   ]
  },
  {
   "cell_type": "code",
   "execution_count": 2,
   "metadata": {},
   "outputs": [],
   "source": [
    "pd.set_option('display.float_format', lambda x: '%.5f' % x)"
   ]
  },
  {
   "cell_type": "markdown",
   "metadata": {},
   "source": [
    "## Data"
   ]
  },
  {
   "cell_type": "code",
   "execution_count": 3,
   "metadata": {
    "ExecuteTime": {
     "end_time": "2020-03-01T09:04:34.434003Z",
     "start_time": "2020-03-01T09:04:34.430908Z"
    }
   },
   "outputs": [],
   "source": [
    "DATA_FILE = \"./data/iclaims_example.csv\""
   ]
  },
  {
   "cell_type": "code",
   "execution_count": 4,
   "metadata": {
    "ExecuteTime": {
     "end_time": "2020-03-01T09:04:34.447659Z",
     "start_time": "2020-03-01T09:04:34.437246Z"
    }
   },
   "outputs": [],
   "source": [
    "raw_df = pd.read_csv(DATA_FILE, parse_dates=['week'])"
   ]
  },
  {
   "cell_type": "markdown",
   "metadata": {},
   "source": [
    "### Train / Test Split"
   ]
  },
  {
   "cell_type": "code",
   "execution_count": 5,
   "metadata": {
    "ExecuteTime": {
     "end_time": "2020-03-01T09:04:34.477394Z",
     "start_time": "2020-03-01T09:04:34.473244Z"
    }
   },
   "outputs": [],
   "source": [
    "df=raw_df.copy()\n",
    "test_size=52\n",
    "train_df=df[:-test_size]\n",
    "test_df=df[-test_size:]"
   ]
  },
  {
   "cell_type": "code",
   "execution_count": 6,
   "metadata": {
    "ExecuteTime": {
     "end_time": "2020-03-01T09:04:34.494822Z",
     "start_time": "2020-03-01T09:04:34.480813Z"
    }
   },
   "outputs": [
    {
     "data": {
      "text/html": [
       "<div>\n",
       "<style scoped>\n",
       "    .dataframe tbody tr th:only-of-type {\n",
       "        vertical-align: middle;\n",
       "    }\n",
       "\n",
       "    .dataframe tbody tr th {\n",
       "        vertical-align: top;\n",
       "    }\n",
       "\n",
       "    .dataframe thead th {\n",
       "        text-align: right;\n",
       "    }\n",
       "</style>\n",
       "<table border=\"1\" class=\"dataframe\">\n",
       "  <thead>\n",
       "    <tr style=\"text-align: right;\">\n",
       "      <th></th>\n",
       "      <th>week</th>\n",
       "      <th>claims</th>\n",
       "      <th>trend.unemploy</th>\n",
       "      <th>trend.filling</th>\n",
       "      <th>trend.job</th>\n",
       "    </tr>\n",
       "  </thead>\n",
       "  <tbody>\n",
       "    <tr>\n",
       "      <th>0</th>\n",
       "      <td>2010-01-03</td>\n",
       "      <td>651215</td>\n",
       "      <td>1.18397</td>\n",
       "      <td>0.72014</td>\n",
       "      <td>1.11967</td>\n",
       "    </tr>\n",
       "    <tr>\n",
       "      <th>1</th>\n",
       "      <td>2010-01-10</td>\n",
       "      <td>825891</td>\n",
       "      <td>1.18397</td>\n",
       "      <td>0.81490</td>\n",
       "      <td>1.17860</td>\n",
       "    </tr>\n",
       "    <tr>\n",
       "      <th>2</th>\n",
       "      <td>2010-01-17</td>\n",
       "      <td>659173</td>\n",
       "      <td>1.20338</td>\n",
       "      <td>0.73909</td>\n",
       "      <td>1.11967</td>\n",
       "    </tr>\n",
       "    <tr>\n",
       "      <th>3</th>\n",
       "      <td>2010-01-24</td>\n",
       "      <td>507651</td>\n",
       "      <td>1.16456</td>\n",
       "      <td>0.81490</td>\n",
       "      <td>1.10788</td>\n",
       "    </tr>\n",
       "    <tr>\n",
       "      <th>4</th>\n",
       "      <td>2010-01-31</td>\n",
       "      <td>538617</td>\n",
       "      <td>1.08693</td>\n",
       "      <td>0.77699</td>\n",
       "      <td>1.07253</td>\n",
       "    </tr>\n",
       "  </tbody>\n",
       "</table>\n",
       "</div>"
      ],
      "text/plain": [
       "        week  claims  trend.unemploy  trend.filling  trend.job\n",
       "0 2010-01-03  651215         1.18397        0.72014    1.11967\n",
       "1 2010-01-10  825891         1.18397        0.81490    1.17860\n",
       "2 2010-01-17  659173         1.20338        0.73909    1.11967\n",
       "3 2010-01-24  507651         1.16456        0.81490    1.10788\n",
       "4 2010-01-31  538617         1.08693        0.77699    1.07253"
      ]
     },
     "execution_count": 6,
     "metadata": {},
     "output_type": "execute_result"
    }
   ],
   "source": [
    "train_df.head(5)"
   ]
  },
  {
   "cell_type": "markdown",
   "metadata": {},
   "source": [
    "## MAP Fit and Predict"
   ]
  },
  {
   "cell_type": "code",
   "execution_count": 7,
   "metadata": {
    "ExecuteTime": {
     "end_time": "2020-03-01T09:04:34.502964Z",
     "start_time": "2020-03-01T09:04:34.498554Z"
    }
   },
   "outputs": [
    {
     "name": "stdout",
     "output_type": "stream",
     "text": [
      "Using 4 chains, 8 cores, 225 warmup and 25 samples per chain for sampling.\n"
     ]
    }
   ],
   "source": [
    "lgt_map=LGT(\n",
    "    response_col=\"claims\",\n",
    "    date_col=\"week\",\n",
    "    seasonality=52,\n",
    "    seed=8888,\n",
    "    inference_engine='pyro',\n",
    "    sample_method='map',\n",
    "    predict_method='map',\n",
    "    auto_scale=False,\n",
    "    is_multiplicative=True,\n",
    "    verbose=True,\n",
    ")"
   ]
  },
  {
   "cell_type": "code",
   "execution_count": 8,
   "metadata": {
    "ExecuteTime": {
     "end_time": "2020-03-01T09:04:45.974645Z",
     "start_time": "2020-03-01T09:04:34.507017Z"
    }
   },
   "outputs": [
    {
     "name": "stdout",
     "output_type": "stream",
     "text": [
      "step    0 loss = 579.04\n",
      "step  100 loss = -559.27\n"
     ]
    }
   ],
   "source": [
    "lgt_map.fit(df=train_df)"
   ]
  },
  {
   "cell_type": "code",
   "execution_count": 9,
   "metadata": {
    "ExecuteTime": {
     "end_time": "2020-03-01T09:04:46.003345Z",
     "start_time": "2020-03-01T09:04:45.977454Z"
    }
   },
   "outputs": [],
   "source": [
    "predicted_df = lgt_map.predict(df=test_df)"
   ]
  },
  {
   "cell_type": "code",
   "execution_count": 10,
   "metadata": {
    "ExecuteTime": {
     "end_time": "2020-03-01T09:04:46.358069Z",
     "start_time": "2020-03-01T09:04:46.006451Z"
    }
   },
   "outputs": [
    {
     "data": {
      "image/png": "[encoded data removed]",
      "text/plain": [
       "<Figure size 1152x576 with 1 Axes>"
      ]
     },
     "metadata": {},
     "output_type": "display_data"
    }
   ],
   "source": [
    "plot_predicted_data(training_actual_df=train_df, predicted_df=predicted_df, \n",
    "                    date_col=lgt_map.date_col, actual_col=lgt_map.response_col, pred_col='prediction', \n",
    "                    test_actual_df=test_df)"
   ]
  },
  {
   "cell_type": "markdown",
   "metadata": {},
   "source": [
    "## VI Fit and Predict"
   ]
  },
  {
   "cell_type": "markdown",
   "metadata": {},
   "source": [
    "Pyro only support Variational Inference(SVI) for full sampling prediction."
   ]
  },
  {
   "cell_type": "code",
   "execution_count": 11,
   "metadata": {
    "ExecuteTime": {
     "end_time": "2020-03-01T09:04:46.377537Z",
     "start_time": "2020-03-01T09:04:46.372643Z"
    }
   },
   "outputs": [
    {
     "name": "stdout",
     "output_type": "stream",
     "text": [
      "Using 4 chains, 8 cores, 1000 warmup and 125 samples per chain for sampling.\n"
     ]
    }
   ],
   "source": [
    "lgt_vi = LGT(\n",
    "    response_col='claims',\n",
    "    date_col='week',\n",
    "    seasonality=52,\n",
    "    num_warmup=4000, \n",
    "    num_sample=500,\n",
    "    seed=8888,\n",
    "    inference_engine='pyro',\n",
    "    sample_method='vi',\n",
    "    predict_method='full',\n",
    "    n_bootstrap_draws=500,\n",
    "    verbose=True,\n",
    ")"
   ]
  },
  {
   "cell_type": "code",
   "execution_count": 12,
   "metadata": {
    "ExecuteTime": {
     "end_time": "2020-03-01T09:05:04.352268Z",
     "start_time": "2020-03-01T09:04:46.379129Z"
    }
   },
   "outputs": [
    {
     "name": "stderr",
     "output_type": "stream",
     "text": [
      "INFO:root:Guessed max_plate_nesting = 2\n"
     ]
    },
    {
     "name": "stdout",
     "output_type": "stream",
     "text": [
      "step    0 loss = 658.91, scale = 0.1069\n",
      "step  100 loss = -441.54, scale = 0.42099\n"
     ]
    }
   ],
   "source": [
    "lgt_vi.fit(df=train_df)"
   ]
  },
  {
   "cell_type": "code",
   "execution_count": 13,
   "metadata": {
    "ExecuteTime": {
     "end_time": "2020-03-01T09:05:04.411646Z",
     "start_time": "2020-03-01T09:05:04.354569Z"
    }
   },
   "outputs": [],
   "source": [
    "predicted_df = lgt_vi.predict(df=test_df)"
   ]
  },
  {
   "cell_type": "code",
   "execution_count": 14,
   "metadata": {
    "ExecuteTime": {
     "end_time": "2020-03-01T09:05:04.772422Z",
     "start_time": "2020-03-01T09:05:04.430181Z"
    }
   },
   "outputs": [
    {
     "data": {
      "image/png": "[encoded data removed]",
      "text/plain": [
       "<Figure size 1152x576 with 1 Axes>"
      ]
     },
     "metadata": {},
     "output_type": "display_data"
    }
   ],
   "source": [
    "plot_predicted_data(training_actual_df=train_df, predicted_df=predicted_df, \n",
    "                    date_col=lgt_vi.date_col, actual_col=lgt_vi.response_col, pred_col=50, \n",
    "                    pred_quantiles_col=[5,95], test_actual_df=test_df)"
   ]
  },
  {
   "cell_type": "markdown",
   "metadata": {},
   "source": [
    "## Fit with Regressors"
   ]
  },
  {
   "cell_type": "code",
   "execution_count": 15,
   "metadata": {
    "ExecuteTime": {
     "end_time": "2020-03-01T09:05:23.616757Z",
     "start_time": "2020-03-01T09:05:23.614523Z"
    }
   },
   "outputs": [],
   "source": [
    "lgt_reg_map=LGT(\n",
    "    response_col='claims',\n",
    "    regressor_col=['trend.unemploy', 'trend.filling'],\n",
    "    regressor_sign=['=','='],\n",
    "    date_col='week',\n",
    "    seasonality=52,\n",
    "    seed=8888,\n",
    "    inference_engine='pyro',\n",
    "    sample_method='vi',\n",
    "    predict_method='full'\n",
    ")"
   ]
  },
  {
   "cell_type": "code",
   "execution_count": 16,
   "metadata": {
    "ExecuteTime": {
     "end_time": "2020-03-01T09:05:23.624563Z",
     "start_time": "2020-03-01T09:05:23.619049Z"
    }
   },
   "outputs": [
    {
     "name": "stderr",
     "output_type": "stream",
     "text": [
      "INFO:root:Guessed max_plate_nesting = 2\n"
     ]
    }
   ],
   "source": [
    "lgt_reg_map.fit(df=train_df)"
   ]
  },
  {
   "cell_type": "code",
   "execution_count": 17,
   "metadata": {},
   "outputs": [],
   "source": [
    "predicted_df = lgt_reg_map.predict(df=test_df)"
   ]
  },
  {
   "cell_type": "code",
   "execution_count": 18,
   "metadata": {},
   "outputs": [
    {
     "data": {
      "text/html": [
       "<div>\n",
       "<style scoped>\n",
       "    .dataframe tbody tr th:only-of-type {\n",
       "        vertical-align: middle;\n",
       "    }\n",
       "\n",
       "    .dataframe tbody tr th {\n",
       "        vertical-align: top;\n",
       "    }\n",
       "\n",
       "    .dataframe thead th {\n",
       "        text-align: right;\n",
       "    }\n",
       "</style>\n",
       "<table border=\"1\" class=\"dataframe\">\n",
       "  <thead>\n",
       "    <tr style=\"text-align: right;\">\n",
       "      <th></th>\n",
       "      <th>week</th>\n",
       "      <th>5</th>\n",
       "      <th>50</th>\n",
       "      <th>95</th>\n",
       "    </tr>\n",
       "  </thead>\n",
       "  <tbody>\n",
       "    <tr>\n",
       "      <th>0</th>\n",
       "      <td>2017-07-02</td>\n",
       "      <td>227462.55721</td>\n",
       "      <td>247047.88367</td>\n",
       "      <td>266392.99309</td>\n",
       "    </tr>\n",
       "    <tr>\n",
       "      <th>1</th>\n",
       "      <td>2017-07-09</td>\n",
       "      <td>246359.76223</td>\n",
       "      <td>274710.19152</td>\n",
       "      <td>293362.46980</td>\n",
       "    </tr>\n",
       "    <tr>\n",
       "      <th>2</th>\n",
       "      <td>2017-07-16</td>\n",
       "      <td>215924.87455</td>\n",
       "      <td>235847.11109</td>\n",
       "      <td>258223.33760</td>\n",
       "    </tr>\n",
       "    <tr>\n",
       "      <th>3</th>\n",
       "      <td>2017-07-23</td>\n",
       "      <td>189549.08086</td>\n",
       "      <td>204793.50894</td>\n",
       "      <td>225323.37288</td>\n",
       "    </tr>\n",
       "    <tr>\n",
       "      <th>4</th>\n",
       "      <td>2017-07-30</td>\n",
       "      <td>178843.07601</td>\n",
       "      <td>196042.92723</td>\n",
       "      <td>213167.24601</td>\n",
       "    </tr>\n",
       "  </tbody>\n",
       "</table>\n",
       "</div>"
      ],
      "text/plain": [
       "        week            5           50           95\n",
       "0 2017-07-02 227462.55721 247047.88367 266392.99309\n",
       "1 2017-07-09 246359.76223 274710.19152 293362.46980\n",
       "2 2017-07-16 215924.87455 235847.11109 258223.33760\n",
       "3 2017-07-23 189549.08086 204793.50894 225323.37288\n",
       "4 2017-07-30 178843.07601 196042.92723 213167.24601"
      ]
     },
     "execution_count": 18,
     "metadata": {},
     "output_type": "execute_result"
    }
   ],
   "source": [
    "predicted_df.head(5)"
   ]
  },
  {
   "cell_type": "code",
   "execution_count": 19,
   "metadata": {},
   "outputs": [
    {
     "ename": "ValueError",
     "evalue": "Prediction column(s) not found in predicted df.",
     "output_type": "error",
     "traceback": [
      "\u001b[0;31m---------------------------------------------------------------------------\u001b[0m",
      "\u001b[0;31mValueError\u001b[0m                                Traceback (most recent call last)",
      "\u001b[0;32m<ipython-input-19-04e33af2bef3>\u001b[0m in \u001b[0;36m<module>\u001b[0;34m\u001b[0m\n\u001b[1;32m      1\u001b[0m plot_predicted_data(training_actual_df=train_df, predicted_df=predicted_df, \n\u001b[1;32m      2\u001b[0m                     \u001b[0mdate_col\u001b[0m\u001b[0;34m=\u001b[0m\u001b[0mlgt_reg_map\u001b[0m\u001b[0;34m.\u001b[0m\u001b[0mdate_col\u001b[0m\u001b[0;34m,\u001b[0m \u001b[0mactual_col\u001b[0m\u001b[0;34m=\u001b[0m\u001b[0mlgt_reg_map\u001b[0m\u001b[0;34m.\u001b[0m\u001b[0mresponse_col\u001b[0m\u001b[0;34m,\u001b[0m \u001b[0mpred_col\u001b[0m\u001b[0;34m=\u001b[0m\u001b[0;34m'prediction'\u001b[0m\u001b[0;34m,\u001b[0m\u001b[0;34m\u001b[0m\u001b[0;34m\u001b[0m\u001b[0m\n\u001b[0;32m----> 3\u001b[0;31m                     test_actual_df=test_df)\n\u001b[0m",
      "\u001b[0;32m~/work/orbit-super/orbit/orbit/utils/plot.py\u001b[0m in \u001b[0;36mplot_predicted_data\u001b[0;34m(training_actual_df, predicted_df, date_col, actual_col, pred_col, title, test_actual_df, pred_quantiles_col, is_visible, figsize)\u001b[0m\n\u001b[1;32m     58\u001b[0m         \u001b[0;32mraise\u001b[0m \u001b[0mValueError\u001b[0m\u001b[0;34m(\u001b[0m\u001b[0;34m\"pred_quantiles_col must be either empty or length of 2.\"\u001b[0m\u001b[0;34m)\u001b[0m\u001b[0;34m\u001b[0m\u001b[0;34m\u001b[0m\u001b[0m\n\u001b[1;32m     59\u001b[0m     \u001b[0;32mif\u001b[0m \u001b[0;32mnot\u001b[0m \u001b[0mset\u001b[0m\u001b[0;34m(\u001b[0m\u001b[0;34m[\u001b[0m\u001b[0mpred_col\u001b[0m\u001b[0;34m]\u001b[0m \u001b[0;34m+\u001b[0m \u001b[0mpred_quantiles_col\u001b[0m\u001b[0;34m)\u001b[0m\u001b[0;34m.\u001b[0m\u001b[0missubset\u001b[0m\u001b[0;34m(\u001b[0m\u001b[0mpredicted_df\u001b[0m\u001b[0;34m.\u001b[0m\u001b[0mcolumns\u001b[0m\u001b[0;34m)\u001b[0m\u001b[0;34m:\u001b[0m\u001b[0;34m\u001b[0m\u001b[0;34m\u001b[0m\u001b[0m\n\u001b[0;32m---> 60\u001b[0;31m         \u001b[0;32mraise\u001b[0m \u001b[0mValueError\u001b[0m\u001b[0;34m(\u001b[0m\u001b[0;34m\"Prediction column(s) not found in predicted df.\"\u001b[0m\u001b[0;34m)\u001b[0m\u001b[0;34m\u001b[0m\u001b[0;34m\u001b[0m\u001b[0m\n\u001b[0m\u001b[1;32m     61\u001b[0m     \u001b[0m_training_actual_df\u001b[0m \u001b[0;34m=\u001b[0m \u001b[0mtraining_actual_df\u001b[0m\u001b[0;34m.\u001b[0m\u001b[0mcopy\u001b[0m\u001b[0;34m(\u001b[0m\u001b[0;34m)\u001b[0m\u001b[0;34m\u001b[0m\u001b[0;34m\u001b[0m\u001b[0m\n\u001b[1;32m     62\u001b[0m     \u001b[0m_predicted_df\u001b[0m\u001b[0;34m=\u001b[0m\u001b[0mpredicted_df\u001b[0m\u001b[0;34m.\u001b[0m\u001b[0mcopy\u001b[0m\u001b[0;34m(\u001b[0m\u001b[0;34m)\u001b[0m\u001b[0;34m\u001b[0m\u001b[0;34m\u001b[0m\u001b[0m\n",
      "\u001b[0;31mValueError\u001b[0m: Prediction column(s) not found in predicted df."
     ]
    }
   ],
   "source": [
    "plot_predicted_data(training_actual_df=train_df, predicted_df=predicted_df, \n",
    "                    date_col=lgt_reg_map.date_col, actual_col=lgt_reg_map.response_col, pred_col='prediction', \n",
    "                    test_actual_df=test_df)"
   ]
  },
  {
   "cell_type": "code",
   "execution_count": null,
   "metadata": {
    "ExecuteTime": {
     "end_time": "2020-03-01T09:05:23.628640Z",
     "start_time": "2020-03-01T09:05:23.626470Z"
    }
   },
   "outputs": [],
   "source": [
    "predicted_df = lgt_reg_map.predict(df=df, decompose=True)\n",
    "predicted_df.head(5)"
   ]
  },
  {
   "cell_type": "code",
   "execution_count": null,
   "metadata": {
    "ExecuteTime": {
     "end_time": "2020-03-01T09:05:23.633676Z",
     "start_time": "2020-03-01T09:05:23.630946Z"
    }
   },
   "outputs": [],
   "source": [
    "plot_predicted_components(predicted_df=predicted_df, date_col='week')"
   ]
  }
 ],
 "metadata": {
  "kernelspec": {
   "display_name": "orbit",
   "language": "python",
   "name": "orbit"
  },
  "language_info": {
   "codemirror_mode": {
    "name": "ipython",
    "version": 3
   },
   "file_extension": ".py",
   "mimetype": "text/x-python",
   "name": "python",
   "nbconvert_exporter": "python",
   "pygments_lexer": "ipython3",
   "version": "3.6.8"
  },
  "toc": {
   "base_numbering": 1,
   "nav_menu": {},
   "number_sections": true,
   "sideBar": true,
   "skip_h1_title": true,
   "title_cell": "Table of Contents",
   "title_sidebar": "Contents",
   "toc_cell": false,
   "toc_position": {},
   "toc_section_display": true,
   "toc_window_display": true
  }
 },
 "nbformat": 4,
 "nbformat_minor": 4
}
