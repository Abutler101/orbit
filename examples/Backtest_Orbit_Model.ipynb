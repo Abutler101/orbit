{
 "cells": [
  {
   "cell_type": "markdown",
   "metadata": {},
   "source": [
    "# Backtest a Single Model \n",
    "\n",
    "The way to gauge the performance of a time-series model is through re-training models with different historic periods and check their forecast within certain steps. This is similar to a time-based style cross-validation. More often, we called it `backtest` in time-series modeling.\n",
    "\n",
    "The purpose of this notebook is to illustrate how to do 'backtest' on a single model using `TimeSeiresSplitter` and `Backtest`. \n",
    "\n",
    "`TimeSeiresSplitter` here is used to make the schem for time-based train-test splits with the data given as well as other required parameters.\n",
    "\n",
    "`Backtest` is the engine performs fitting and scoring based on a `TimeSeiresSplitter` object.\n",
    "\n",
    "Currently, there are two schemes supported for the back-testing engine: expanding window and rolling window.\n",
    "\n",
    "* expanding window: for each back-testing model training, the train start date is fixed, while the train end date is extended forward.\n",
    "* rolling window: for each back-testing model training, the training window length is fixed but the window is moving forward."
   ]
  },
  {
   "cell_type": "code",
   "execution_count": 1,
   "metadata": {
    "ExecuteTime": {
     "end_time": "2020-05-21T17:54:31.204034Z",
     "start_time": "2020-05-21T17:54:29.418864Z"
    }
   },
   "outputs": [],
   "source": [
    "import pandas as pd\n",
    "import numpy as np\n",
    "import matplotlib.pyplot as plt\n",
    "%matplotlib inline\n",
    "plt.style.use('ggplot')\n",
    "\n",
    "from orbit.lgt import LGT\n",
    "from orbit.dlt import DLT\n",
    "from orbit.backtest.backtest import TimeSeriesSplitter, Backtest\n",
    "from orbit.utils.metrics import mape, smape, wmape"
   ]
  },
  {
   "cell_type": "markdown",
   "metadata": {},
   "source": [
    "## Load data"
   ]
  },
  {
   "cell_type": "code",
   "execution_count": 2,
   "metadata": {
    "ExecuteTime": {
     "end_time": "2020-05-21T17:54:31.242345Z",
     "start_time": "2020-05-21T17:54:31.205630Z"
    }
   },
   "outputs": [
    {
     "name": "stdout",
     "output_type": "stream",
     "text": [
      "(443, 5)\n"
     ]
    },
    {
     "data": {
      "text/html": [
       "<div>\n",
       "<style scoped>\n",
       "    .dataframe tbody tr th:only-of-type {\n",
       "        vertical-align: middle;\n",
       "    }\n",
       "\n",
       "    .dataframe tbody tr th {\n",
       "        vertical-align: top;\n",
       "    }\n",
       "\n",
       "    .dataframe thead th {\n",
       "        text-align: right;\n",
       "    }\n",
       "</style>\n",
       "<table border=\"1\" class=\"dataframe\">\n",
       "  <thead>\n",
       "    <tr style=\"text-align: right;\">\n",
       "      <th></th>\n",
       "      <th>week</th>\n",
       "      <th>claims</th>\n",
       "      <th>trend.unemploy</th>\n",
       "      <th>trend.filling</th>\n",
       "      <th>trend.job</th>\n",
       "    </tr>\n",
       "  </thead>\n",
       "  <tbody>\n",
       "    <tr>\n",
       "      <th>0</th>\n",
       "      <td>2010-01-03</td>\n",
       "      <td>651215</td>\n",
       "      <td>1.183973</td>\n",
       "      <td>0.720140</td>\n",
       "      <td>1.119669</td>\n",
       "    </tr>\n",
       "    <tr>\n",
       "      <th>1</th>\n",
       "      <td>2010-01-10</td>\n",
       "      <td>825891</td>\n",
       "      <td>1.183973</td>\n",
       "      <td>0.814896</td>\n",
       "      <td>1.178599</td>\n",
       "    </tr>\n",
       "    <tr>\n",
       "      <th>2</th>\n",
       "      <td>2010-01-17</td>\n",
       "      <td>659173</td>\n",
       "      <td>1.203382</td>\n",
       "      <td>0.739091</td>\n",
       "      <td>1.119669</td>\n",
       "    </tr>\n",
       "    <tr>\n",
       "      <th>3</th>\n",
       "      <td>2010-01-24</td>\n",
       "      <td>507651</td>\n",
       "      <td>1.164564</td>\n",
       "      <td>0.814896</td>\n",
       "      <td>1.107883</td>\n",
       "    </tr>\n",
       "    <tr>\n",
       "      <th>4</th>\n",
       "      <td>2010-01-31</td>\n",
       "      <td>538617</td>\n",
       "      <td>1.086926</td>\n",
       "      <td>0.776993</td>\n",
       "      <td>1.072525</td>\n",
       "    </tr>\n",
       "  </tbody>\n",
       "</table>\n",
       "</div>"
      ],
      "text/plain": [
       "        week  claims  trend.unemploy  trend.filling  trend.job\n",
       "0 2010-01-03  651215        1.183973       0.720140   1.119669\n",
       "1 2010-01-10  825891        1.183973       0.814896   1.178599\n",
       "2 2010-01-17  659173        1.203382       0.739091   1.119669\n",
       "3 2010-01-24  507651        1.164564       0.814896   1.107883\n",
       "4 2010-01-31  538617        1.086926       0.776993   1.072525"
      ]
     },
     "execution_count": 2,
     "metadata": {},
     "output_type": "execute_result"
    }
   ],
   "source": [
    "data_path = '../examples/data/iclaims_example.csv'\n",
    "raw_data = pd.read_csv(data_path, parse_dates=['week'])\n",
    "data = raw_data.copy()\n",
    "print(data.shape)\n",
    "data.head(5)"
   ]
  },
  {
   "cell_type": "markdown",
   "metadata": {},
   "source": [
    "## Create a TimeSeriesSplitter"
   ]
  },
  {
   "cell_type": "markdown",
   "metadata": {},
   "source": [
    "###  Expanding window"
   ]
  },
  {
   "cell_type": "code",
   "execution_count": 3,
   "metadata": {
    "ExecuteTime": {
     "end_time": "2020-05-21T17:54:31.268852Z",
     "start_time": "2020-05-21T17:54:31.244524Z"
    }
   },
   "outputs": [],
   "source": [
    "min_train_len = 380\n",
    "forecast_len = 20\n",
    "incremental_len = 20"
   ]
  },
  {
   "cell_type": "code",
   "execution_count": 4,
   "metadata": {
    "ExecuteTime": {
     "end_time": "2020-05-21T17:54:31.297499Z",
     "start_time": "2020-05-21T17:54:31.271091Z"
    }
   },
   "outputs": [],
   "source": [
    "ex_splitter = TimeSeriesSplitter(data, min_train_len, incremental_len, forecast_len, \n",
    "                                 window_type='expanding', date_col='week')"
   ]
  },
  {
   "cell_type": "code",
   "execution_count": 5,
   "metadata": {
    "ExecuteTime": {
     "end_time": "2020-05-21T17:54:31.326154Z",
     "start_time": "2020-05-21T17:54:31.299802Z"
    }
   },
   "outputs": [
    {
     "name": "stdout",
     "output_type": "stream",
     "text": [
      "\n",
      "------------ Fold: (1 / 3)------------\n",
      "Train start index: 0 Train end index: 379\n",
      "Test start index: 380 Test end index: 399\n",
      "Train start date: 2010-01-03 00:00:00 Train end date: 2017-04-09 00:00:00\n",
      "Test start date: 2017-04-16 00:00:00 Test end date: 2017-08-27 00:00:00\n",
      "\n",
      "------------ Fold: (2 / 3)------------\n",
      "Train start index: 0 Train end index: 399\n",
      "Test start index: 400 Test end index: 419\n",
      "Train start date: 2010-01-03 00:00:00 Train end date: 2017-08-27 00:00:00\n",
      "Test start date: 2017-09-03 00:00:00 Test end date: 2018-01-14 00:00:00\n",
      "\n",
      "------------ Fold: (3 / 3)------------\n",
      "Train start index: 0 Train end index: 419\n",
      "Test start index: 420 Test end index: 439\n",
      "Train start date: 2010-01-03 00:00:00 Train end date: 2018-01-14 00:00:00\n",
      "Test start date: 2018-01-21 00:00:00 Test end date: 2018-06-03 00:00:00\n",
      "\n"
     ]
    }
   ],
   "source": [
    "print(ex_splitter)"
   ]
  },
  {
   "cell_type": "code",
   "execution_count": 6,
   "metadata": {
    "ExecuteTime": {
     "end_time": "2020-05-21T17:54:31.520346Z",
     "start_time": "2020-05-21T17:54:31.327974Z"
    }
   },
   "outputs": [
    {
     "data": {
      "text/plain": [
       "<matplotlib.axes._subplots.AxesSubplot at 0x12ddd9f28>"
      ]
     },
     "execution_count": 6,
     "metadata": {},
     "output_type": "execute_result"
    },
    {
     "data": {
      "image/png": "[encoded data removed]",
      "text/plain": [
       "<Figure size 1440x216 with 1 Axes>"
      ]
     },
     "metadata": {},
     "output_type": "display_data"
    }
   ],
   "source": [
    "ex_splitter.plot()"
   ]
  },
  {
   "cell_type": "markdown",
   "metadata": {},
   "source": [
    "### Rolling window"
   ]
  },
  {
   "cell_type": "code",
   "execution_count": 7,
   "metadata": {
    "ExecuteTime": {
     "end_time": "2020-05-21T17:54:31.544031Z",
     "start_time": "2020-05-21T17:54:31.521666Z"
    }
   },
   "outputs": [],
   "source": [
    "roll_splitter = TimeSeriesSplitter(data, min_train_len, incremental_len, forecast_len, \n",
    "                                   window_type='rolling', date_col='week')"
   ]
  },
  {
   "cell_type": "code",
   "execution_count": 8,
   "metadata": {
    "ExecuteTime": {
     "end_time": "2020-05-21T17:54:31.707801Z",
     "start_time": "2020-05-21T17:54:31.547465Z"
    }
   },
   "outputs": [
    {
     "data": {
      "text/plain": [
       "<matplotlib.axes._subplots.AxesSubplot at 0x12fec4c50>"
      ]
     },
     "execution_count": 8,
     "metadata": {},
     "output_type": "execute_result"
    },
    {
     "data": {
      "image/png": "[encoded data removed]",
      "text/plain": [
       "<Figure size 1440x216 with 1 Axes>"
      ]
     },
     "metadata": {},
     "output_type": "display_data"
    }
   ],
   "source": [
    "roll_splitter.plot()"
   ]
  },
  {
   "cell_type": "markdown",
   "metadata": {},
   "source": [
    "### Specifying number of splits"
   ]
  },
  {
   "cell_type": "markdown",
   "metadata": {},
   "source": [
    "User can also define number of splits using `n_splits` instead of specifying minimum training length.  That way, minimum training length will be automatically calculated."
   ]
  },
  {
   "cell_type": "code",
   "execution_count": 9,
   "metadata": {
    "ExecuteTime": {
     "end_time": "2020-05-21T17:54:31.731656Z",
     "start_time": "2020-05-21T17:54:31.709291Z"
    }
   },
   "outputs": [],
   "source": [
    "ex_splitter2 = TimeSeriesSplitter(data, min_train_len, incremental_len, forecast_len, \n",
    "                                  n_splits=5, window_type='expanding', date_col='week')"
   ]
  },
  {
   "cell_type": "code",
   "execution_count": 10,
   "metadata": {
    "ExecuteTime": {
     "end_time": "2020-05-21T17:54:31.938912Z",
     "start_time": "2020-05-21T17:54:31.733131Z"
    }
   },
   "outputs": [
    {
     "data": {
      "text/plain": [
       "<matplotlib.axes._subplots.AxesSubplot at 0x13006b7b8>"
      ]
     },
     "execution_count": 10,
     "metadata": {},
     "output_type": "execute_result"
    },
    {
     "data": {
      "image/png": "[encoded data removed]",
      "text/plain": [
       "<Figure size 1440x360 with 1 Axes>"
      ]
     },
     "metadata": {},
     "output_type": "display_data"
    }
   ],
   "source": [
    "ex_splitter2.plot()"
   ]
  },
  {
   "cell_type": "markdown",
   "metadata": {},
   "source": [
    "## Backtest"
   ]
  },
  {
   "cell_type": "markdown",
   "metadata": {},
   "source": [
    "Now, we will use one of the scheme to backtest an `orbit` model."
   ]
  },
  {
   "cell_type": "code",
   "execution_count": 11,
   "metadata": {
    "ExecuteTime": {
     "end_time": "2020-05-21T17:54:31.963483Z",
     "start_time": "2020-05-21T17:54:31.940664Z"
    }
   },
   "outputs": [],
   "source": [
    "bt = Backtest(splitter=ex_splitter2)"
   ]
  },
  {
   "cell_type": "markdown",
   "metadata": {
    "ExecuteTime": {
     "end_time": "2020-01-23T21:50:17.759953Z",
     "start_time": "2020-01-23T21:50:17.755383Z"
    }
   },
   "source": [
    "Instantiate a model that we want to backtest"
   ]
  },
  {
   "cell_type": "code",
   "execution_count": 12,
   "metadata": {
    "ExecuteTime": {
     "end_time": "2020-05-21T17:54:32.089410Z",
     "start_time": "2020-05-21T17:54:32.063743Z"
    }
   },
   "outputs": [],
   "source": [
    "mod = LGT(\n",
    "    date_col='week',\n",
    "    response_col='claims',\n",
    "    regressor_col=['trend.unemploy', 'trend.filling', 'trend.job'],\n",
    "    seasonality=52,\n",
    "    seed=8888,\n",
    "    predict_method='map',\n",
    "    infer_method='map',\n",
    "    auto_scale=True,\n",
    "    is_multiplicative=True\n",
    ")"
   ]
  },
  {
   "cell_type": "markdown",
   "metadata": {},
   "source": [
    "Use `fit_score()` to fit the model and computed the desired metrics"
   ]
  },
  {
   "cell_type": "code",
   "execution_count": 13,
   "metadata": {
    "ExecuteTime": {
     "end_time": "2020-05-21T17:54:35.053693Z",
     "start_time": "2020-05-21T17:54:32.339742Z"
    }
   },
   "outputs": [],
   "source": [
    "bt.fit_score(model=mod, \n",
    "             response_col='claims', \n",
    "             predicted_col='prediction', \n",
    "             metrics={\"smape\": smape, \"mape\": mape},\n",
    "             insample_predict=True,\n",
    "             save_model=True)"
   ]
  },
  {
   "cell_type": "markdown",
   "metadata": {},
   "source": [
    "Retrieve the (out-of-sample) predictions for each split"
   ]
  },
  {
   "cell_type": "code",
   "execution_count": 14,
   "metadata": {
    "ExecuteTime": {
     "end_time": "2020-05-21T17:54:35.089402Z",
     "start_time": "2020-05-21T17:54:35.055559Z"
    }
   },
   "outputs": [
    {
     "data": {
      "text/html": [
       "<div>\n",
       "<style scoped>\n",
       "    .dataframe tbody tr th:only-of-type {\n",
       "        vertical-align: middle;\n",
       "    }\n",
       "\n",
       "    .dataframe tbody tr th {\n",
       "        vertical-align: top;\n",
       "    }\n",
       "\n",
       "    .dataframe thead th {\n",
       "        text-align: right;\n",
       "    }\n",
       "</style>\n",
       "<table border=\"1\" class=\"dataframe\">\n",
       "  <thead>\n",
       "    <tr style=\"text-align: right;\">\n",
       "      <th></th>\n",
       "      <th>steps</th>\n",
       "      <th>week</th>\n",
       "      <th>claims</th>\n",
       "      <th>trend.unemploy</th>\n",
       "      <th>trend.filling</th>\n",
       "      <th>trend.job</th>\n",
       "      <th>prediction</th>\n",
       "      <th>train_end</th>\n",
       "      <th>split_key</th>\n",
       "    </tr>\n",
       "  </thead>\n",
       "  <tbody>\n",
       "    <tr>\n",
       "      <th>0</th>\n",
       "      <td>1</td>\n",
       "      <td>2016-07-31</td>\n",
       "      <td>219202</td>\n",
       "      <td>1.183973</td>\n",
       "      <td>0.966504</td>\n",
       "      <td>1.013595</td>\n",
       "      <td>282614.179775</td>\n",
       "      <td>2016-07-24</td>\n",
       "      <td>0</td>\n",
       "    </tr>\n",
       "    <tr>\n",
       "      <th>1</th>\n",
       "      <td>2</td>\n",
       "      <td>2016-08-07</td>\n",
       "      <td>231542</td>\n",
       "      <td>1.125745</td>\n",
       "      <td>0.909651</td>\n",
       "      <td>0.966451</td>\n",
       "      <td>341495.843163</td>\n",
       "      <td>2016-07-24</td>\n",
       "      <td>0</td>\n",
       "    </tr>\n",
       "    <tr>\n",
       "      <th>2</th>\n",
       "      <td>3</td>\n",
       "      <td>2016-08-14</td>\n",
       "      <td>219570</td>\n",
       "      <td>1.145154</td>\n",
       "      <td>0.966504</td>\n",
       "      <td>0.942879</td>\n",
       "      <td>301532.945994</td>\n",
       "      <td>2016-07-24</td>\n",
       "      <td>0</td>\n",
       "    </tr>\n",
       "    <tr>\n",
       "      <th>3</th>\n",
       "      <td>4</td>\n",
       "      <td>2016-08-21</td>\n",
       "      <td>217011</td>\n",
       "      <td>1.125745</td>\n",
       "      <td>0.947553</td>\n",
       "      <td>1.013595</td>\n",
       "      <td>264228.563246</td>\n",
       "      <td>2016-07-24</td>\n",
       "      <td>0</td>\n",
       "    </tr>\n",
       "    <tr>\n",
       "      <th>4</th>\n",
       "      <td>5</td>\n",
       "      <td>2016-08-28</td>\n",
       "      <td>215688</td>\n",
       "      <td>1.106335</td>\n",
       "      <td>0.928602</td>\n",
       "      <td>0.990023</td>\n",
       "      <td>275811.189371</td>\n",
       "      <td>2016-07-24</td>\n",
       "      <td>0</td>\n",
       "    </tr>\n",
       "  </tbody>\n",
       "</table>\n",
       "</div>"
      ],
      "text/plain": [
       "   steps       week  claims  trend.unemploy  trend.filling  trend.job  \\\n",
       "0      1 2016-07-31  219202        1.183973       0.966504   1.013595   \n",
       "1      2 2016-08-07  231542        1.125745       0.909651   0.966451   \n",
       "2      3 2016-08-14  219570        1.145154       0.966504   0.942879   \n",
       "3      4 2016-08-21  217011        1.125745       0.947553   1.013595   \n",
       "4      5 2016-08-28  215688        1.106335       0.928602   0.990023   \n",
       "\n",
       "      prediction  train_end  split_key  \n",
       "0  282614.179775 2016-07-24          0  \n",
       "1  341495.843163 2016-07-24          0  \n",
       "2  301532.945994 2016-07-24          0  \n",
       "3  264228.563246 2016-07-24          0  \n",
       "4  275811.189371 2016-07-24          0  "
      ]
     },
     "execution_count": 14,
     "metadata": {},
     "output_type": "execute_result"
    }
   ],
   "source": [
    "bt.get_predictions().head(5)"
   ]
  },
  {
   "cell_type": "markdown",
   "metadata": {},
   "source": [
    "Retrive insample predictions for each split, only works when `insample_predict=True`"
   ]
  },
  {
   "cell_type": "code",
   "execution_count": 15,
   "metadata": {
    "ExecuteTime": {
     "end_time": "2020-05-21T17:54:35.126594Z",
     "start_time": "2020-05-21T17:54:35.091569Z"
    }
   },
   "outputs": [
    {
     "data": {
      "text/html": [
       "<div>\n",
       "<style scoped>\n",
       "    .dataframe tbody tr th:only-of-type {\n",
       "        vertical-align: middle;\n",
       "    }\n",
       "\n",
       "    .dataframe tbody tr th {\n",
       "        vertical-align: top;\n",
       "    }\n",
       "\n",
       "    .dataframe thead th {\n",
       "        text-align: right;\n",
       "    }\n",
       "</style>\n",
       "<table border=\"1\" class=\"dataframe\">\n",
       "  <thead>\n",
       "    <tr style=\"text-align: right;\">\n",
       "      <th></th>\n",
       "      <th>steps</th>\n",
       "      <th>week</th>\n",
       "      <th>claims</th>\n",
       "      <th>trend.unemploy</th>\n",
       "      <th>trend.filling</th>\n",
       "      <th>trend.job</th>\n",
       "      <th>prediction</th>\n",
       "      <th>train_end</th>\n",
       "      <th>split_key</th>\n",
       "    </tr>\n",
       "  </thead>\n",
       "  <tbody>\n",
       "    <tr>\n",
       "      <th>0</th>\n",
       "      <td>1</td>\n",
       "      <td>2010-01-03</td>\n",
       "      <td>651215</td>\n",
       "      <td>1.183973</td>\n",
       "      <td>0.720140</td>\n",
       "      <td>1.119669</td>\n",
       "      <td>651215.000007</td>\n",
       "      <td>2016-07-24</td>\n",
       "      <td>0</td>\n",
       "    </tr>\n",
       "    <tr>\n",
       "      <th>1</th>\n",
       "      <td>2</td>\n",
       "      <td>2010-01-10</td>\n",
       "      <td>825891</td>\n",
       "      <td>1.183973</td>\n",
       "      <td>0.814896</td>\n",
       "      <td>1.178599</td>\n",
       "      <td>599550.968850</td>\n",
       "      <td>2016-07-24</td>\n",
       "      <td>0</td>\n",
       "    </tr>\n",
       "    <tr>\n",
       "      <th>2</th>\n",
       "      <td>3</td>\n",
       "      <td>2010-01-17</td>\n",
       "      <td>659173</td>\n",
       "      <td>1.203382</td>\n",
       "      <td>0.739091</td>\n",
       "      <td>1.119669</td>\n",
       "      <td>630312.276489</td>\n",
       "      <td>2016-07-24</td>\n",
       "      <td>0</td>\n",
       "    </tr>\n",
       "    <tr>\n",
       "      <th>3</th>\n",
       "      <td>4</td>\n",
       "      <td>2010-01-24</td>\n",
       "      <td>507651</td>\n",
       "      <td>1.164564</td>\n",
       "      <td>0.814896</td>\n",
       "      <td>1.107883</td>\n",
       "      <td>489722.586517</td>\n",
       "      <td>2016-07-24</td>\n",
       "      <td>0</td>\n",
       "    </tr>\n",
       "    <tr>\n",
       "      <th>4</th>\n",
       "      <td>5</td>\n",
       "      <td>2010-01-31</td>\n",
       "      <td>538617</td>\n",
       "      <td>1.086926</td>\n",
       "      <td>0.776993</td>\n",
       "      <td>1.072525</td>\n",
       "      <td>482010.122448</td>\n",
       "      <td>2016-07-24</td>\n",
       "      <td>0</td>\n",
       "    </tr>\n",
       "  </tbody>\n",
       "</table>\n",
       "</div>"
      ],
      "text/plain": [
       "   steps       week  claims  trend.unemploy  trend.filling  trend.job  \\\n",
       "0      1 2010-01-03  651215        1.183973       0.720140   1.119669   \n",
       "1      2 2010-01-10  825891        1.183973       0.814896   1.178599   \n",
       "2      3 2010-01-17  659173        1.203382       0.739091   1.119669   \n",
       "3      4 2010-01-24  507651        1.164564       0.814896   1.107883   \n",
       "4      5 2010-01-31  538617        1.086926       0.776993   1.072525   \n",
       "\n",
       "      prediction  train_end  split_key  \n",
       "0  651215.000007 2016-07-24          0  \n",
       "1  599550.968850 2016-07-24          0  \n",
       "2  630312.276489 2016-07-24          0  \n",
       "3  489722.586517 2016-07-24          0  \n",
       "4  482010.122448 2016-07-24          0  "
      ]
     },
     "execution_count": 15,
     "metadata": {},
     "output_type": "execute_result"
    }
   ],
   "source": [
    "bt.get_insample_predictions().head(5)"
   ]
  },
  {
   "cell_type": "markdown",
   "metadata": {},
   "source": [
    "Retrieve (out-of-sample) scores."
   ]
  },
  {
   "cell_type": "code",
   "execution_count": 16,
   "metadata": {
    "ExecuteTime": {
     "end_time": "2020-05-21T17:54:35.158967Z",
     "start_time": "2020-05-21T17:54:35.128797Z"
    }
   },
   "outputs": [
    {
     "data": {
      "text/html": [
       "<div>\n",
       "<style scoped>\n",
       "    .dataframe tbody tr th:only-of-type {\n",
       "        vertical-align: middle;\n",
       "    }\n",
       "\n",
       "    .dataframe tbody tr th {\n",
       "        vertical-align: top;\n",
       "    }\n",
       "\n",
       "    .dataframe thead th {\n",
       "        text-align: right;\n",
       "    }\n",
       "</style>\n",
       "<table border=\"1\" class=\"dataframe\">\n",
       "  <thead>\n",
       "    <tr style=\"text-align: right;\">\n",
       "      <th></th>\n",
       "      <th>smape</th>\n",
       "      <th>mape</th>\n",
       "      <th>n_splits</th>\n",
       "    </tr>\n",
       "  </thead>\n",
       "  <tbody>\n",
       "    <tr>\n",
       "      <th>0</th>\n",
       "      <td>0.260218</td>\n",
       "      <td>453.395937</td>\n",
       "      <td>5</td>\n",
       "    </tr>\n",
       "  </tbody>\n",
       "</table>\n",
       "</div>"
      ],
      "text/plain": [
       "      smape        mape  n_splits\n",
       "0  0.260218  453.395937         5"
      ]
     },
     "execution_count": 16,
     "metadata": {},
     "output_type": "execute_result"
    }
   ],
   "source": [
    "bt.get_scores()"
   ]
  },
  {
   "cell_type": "markdown",
   "metadata": {},
   "source": [
    "Retrieve insample score, only works when `insample_predict=True`"
   ]
  },
  {
   "cell_type": "code",
   "execution_count": 17,
   "metadata": {
    "ExecuteTime": {
     "end_time": "2020-05-21T17:54:35.192350Z",
     "start_time": "2020-05-21T17:54:35.161003Z"
    }
   },
   "outputs": [
    {
     "data": {
      "text/html": [
       "<div>\n",
       "<style scoped>\n",
       "    .dataframe tbody tr th:only-of-type {\n",
       "        vertical-align: middle;\n",
       "    }\n",
       "\n",
       "    .dataframe tbody tr th {\n",
       "        vertical-align: top;\n",
       "    }\n",
       "\n",
       "    .dataframe thead th {\n",
       "        text-align: right;\n",
       "    }\n",
       "</style>\n",
       "<table border=\"1\" class=\"dataframe\">\n",
       "  <thead>\n",
       "    <tr style=\"text-align: right;\">\n",
       "      <th></th>\n",
       "      <th>smape</th>\n",
       "      <th>mape</th>\n",
       "      <th>n_splits</th>\n",
       "    </tr>\n",
       "  </thead>\n",
       "  <tbody>\n",
       "    <tr>\n",
       "      <th>0</th>\n",
       "      <td>0.14542</td>\n",
       "      <td>313.185319</td>\n",
       "      <td>5</td>\n",
       "    </tr>\n",
       "  </tbody>\n",
       "</table>\n",
       "</div>"
      ],
      "text/plain": [
       "     smape        mape  n_splits\n",
       "0  0.14542  313.185319         5"
      ]
     },
     "execution_count": 17,
     "metadata": {},
     "output_type": "execute_result"
    }
   ],
   "source": [
    "bt.get_insample_scores()"
   ]
  },
  {
   "cell_type": "markdown",
   "metadata": {},
   "source": [
    "When `save_model=True`, one can retrive the fitted models in each backtesting iteration, indexed by the split_key"
   ]
  },
  {
   "cell_type": "code",
   "execution_count": 18,
   "metadata": {
    "ExecuteTime": {
     "end_time": "2020-05-21T17:54:35.220488Z",
     "start_time": "2020-05-21T17:54:35.193954Z"
    }
   },
   "outputs": [
    {
     "data": {
      "text/plain": [
       "{0: <orbit.lgt.LGT at 0x130417390>,\n",
       " 1: <orbit.lgt.LGT at 0x130417b38>,\n",
       " 2: <orbit.lgt.LGT at 0x1303e5550>,\n",
       " 3: <orbit.lgt.LGT at 0x130417208>,\n",
       " 4: <orbit.lgt.LGT at 0x130417eb8>}"
      ]
     },
     "execution_count": 18,
     "metadata": {},
     "output_type": "execute_result"
    }
   ],
   "source": [
    "bt.get_fitted_models()"
   ]
  },
  {
   "cell_type": "code",
   "execution_count": 19,
   "metadata": {
    "ExecuteTime": {
     "end_time": "2020-05-21T17:54:35.254928Z",
     "start_time": "2020-05-21T17:54:35.223039Z"
    }
   },
   "outputs": [
    {
     "data": {
      "text/html": [
       "<div>\n",
       "<style scoped>\n",
       "    .dataframe tbody tr th:only-of-type {\n",
       "        vertical-align: middle;\n",
       "    }\n",
       "\n",
       "    .dataframe tbody tr th {\n",
       "        vertical-align: top;\n",
       "    }\n",
       "\n",
       "    .dataframe thead th {\n",
       "        text-align: right;\n",
       "    }\n",
       "</style>\n",
       "<table border=\"1\" class=\"dataframe\">\n",
       "  <thead>\n",
       "    <tr style=\"text-align: right;\">\n",
       "      <th></th>\n",
       "      <th>df_key</th>\n",
       "      <th>smape</th>\n",
       "      <th>mape</th>\n",
       "      <th>n_splits</th>\n",
       "    </tr>\n",
       "  </thead>\n",
       "  <tbody>\n",
       "    <tr>\n",
       "      <th>0</th>\n",
       "      <td>test</td>\n",
       "      <td>0.260218</td>\n",
       "      <td>453.395937</td>\n",
       "      <td>5</td>\n",
       "    </tr>\n",
       "    <tr>\n",
       "      <th>1</th>\n",
       "      <td>train</td>\n",
       "      <td>0.145420</td>\n",
       "      <td>313.185319</td>\n",
       "      <td>5</td>\n",
       "    </tr>\n",
       "  </tbody>\n",
       "</table>\n",
       "</div>"
      ],
      "text/plain": [
       "  df_key     smape        mape  n_splits\n",
       "0   test  0.260218  453.395937         5\n",
       "1  train  0.145420  313.185319         5"
      ]
     },
     "execution_count": 19,
     "metadata": {},
     "output_type": "execute_result"
    }
   ],
   "source": [
    "bt._score_df"
   ]
  }
 ],
 "metadata": {
  "kernelspec": {
   "display_name": "Python 3",
   "language": "python",
   "name": "python3"
  },
  "language_info": {
   "codemirror_mode": {
    "name": "ipython",
    "version": 3
   },
   "file_extension": ".py",
   "mimetype": "text/x-python",
   "name": "python",
   "nbconvert_exporter": "python",
   "pygments_lexer": "ipython3",
   "version": "3.6.8"
  },
  "toc": {
   "base_numbering": 1,
   "nav_menu": {},
   "number_sections": true,
   "sideBar": true,
   "skip_h1_title": false,
   "title_cell": "Table of Contents",
   "title_sidebar": "Contents",
   "toc_cell": false,
   "toc_position": {
    "height": "calc(100% - 180px)",
    "left": "10px",
    "top": "150px",
    "width": "306.391px"
   },
   "toc_section_display": true,
   "toc_window_display": true
  },
  "toc-autonumbering": false,
  "toc-showcode": false
 },
 "nbformat": 4,
 "nbformat_minor": 4
}
