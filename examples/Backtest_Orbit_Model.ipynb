{
 "cells": [
  {
   "cell_type": "markdown",
   "metadata": {},
   "source": [
    "## Backtest a Single Model \n",
    "\n",
    "The way to gauge the performance of a time-series model is through re-training models with different historic periods and check their forecast within certain steps. This is similar to a time-based style cross-validation. More often, we called it `backtest` in time-series modeling.\n",
    "\n",
    "The purpose of this notebook is to illustrate how to do 'backtest' on a single model using `TimeSeiresSplitter` and `Backtest`. \n",
    "\n",
    "`TimeSeiresSplitter` here is used to make the schem for time-based train-test splits with the data given as well as other required parameters.\n",
    "\n",
    "`Backtest` is the engine performs fitting and scoring based on a `TimeSeiresSplitter` object.\n",
    "\n",
    "To have the greatest flexibility, this engine is designed to work for any model objects which have a `fit` method and a `predict` method, by writing some call back functions. The default settings work for **Orbit** model object automatically. Currently, there are two schemes supported for the back-testing engine: expanding window and rolling window.\n",
    "\n",
    "* expanding window: for each back-testing model training, the train start date is fixed, while the train end date is extended forward.\n",
    "* rolling window: for each back-testing model training, the training window length is fixed but the window is moving forward."
   ]
  },
  {
   "cell_type": "code",
   "execution_count": 1,
   "metadata": {
    "ExecuteTime": {
     "end_time": "2020-01-28T00:59:41.870758Z",
     "start_time": "2020-01-28T00:59:39.165690Z"
    }
   },
   "outputs": [],
   "source": [
    "import pandas as pd\n",
    "import numpy as np\n",
    "import matplotlib.pyplot as plt\n",
    "%matplotlib inline\n",
    "plt.style.use('ggplot')\n",
    "\n",
    "from orbit.lgt import LGT\n",
    "from orbit.dlt import DLT\n",
    "from orbit.backtest.backtest import TimeSeriesSplitter, Backtest\n",
    "from orbit.utils.metrics import mape, smape, wmape"
   ]
  },
  {
   "cell_type": "markdown",
   "metadata": {},
   "source": [
    "## Load data"
   ]
  },
  {
   "cell_type": "code",
   "execution_count": 2,
   "metadata": {
    "ExecuteTime": {
     "end_time": "2020-01-28T00:59:41.934244Z",
     "start_time": "2020-01-28T00:59:41.908241Z"
    }
   },
   "outputs": [
    {
     "name": "stdout",
     "output_type": "stream",
     "text": [
      "(443, 5)\n"
     ]
    },
    {
     "data": {
      "text/html": [
       "<div>\n",
       "<style scoped>\n",
       "    .dataframe tbody tr th:only-of-type {\n",
       "        vertical-align: middle;\n",
       "    }\n",
       "\n",
       "    .dataframe tbody tr th {\n",
       "        vertical-align: top;\n",
       "    }\n",
       "\n",
       "    .dataframe thead th {\n",
       "        text-align: right;\n",
       "    }\n",
       "</style>\n",
       "<table border=\"1\" class=\"dataframe\">\n",
       "  <thead>\n",
       "    <tr style=\"text-align: right;\">\n",
       "      <th></th>\n",
       "      <th>week</th>\n",
       "      <th>claims</th>\n",
       "      <th>trend.unemploy</th>\n",
       "      <th>trend.filling</th>\n",
       "      <th>trend.job</th>\n",
       "    </tr>\n",
       "  </thead>\n",
       "  <tbody>\n",
       "    <tr>\n",
       "      <th>0</th>\n",
       "      <td>2010-01-03</td>\n",
       "      <td>651215</td>\n",
       "      <td>1.183973</td>\n",
       "      <td>0.720140</td>\n",
       "      <td>1.119669</td>\n",
       "    </tr>\n",
       "    <tr>\n",
       "      <th>1</th>\n",
       "      <td>2010-01-10</td>\n",
       "      <td>825891</td>\n",
       "      <td>1.183973</td>\n",
       "      <td>0.814896</td>\n",
       "      <td>1.178599</td>\n",
       "    </tr>\n",
       "    <tr>\n",
       "      <th>2</th>\n",
       "      <td>2010-01-17</td>\n",
       "      <td>659173</td>\n",
       "      <td>1.203382</td>\n",
       "      <td>0.739091</td>\n",
       "      <td>1.119669</td>\n",
       "    </tr>\n",
       "    <tr>\n",
       "      <th>3</th>\n",
       "      <td>2010-01-24</td>\n",
       "      <td>507651</td>\n",
       "      <td>1.164564</td>\n",
       "      <td>0.814896</td>\n",
       "      <td>1.107883</td>\n",
       "    </tr>\n",
       "    <tr>\n",
       "      <th>4</th>\n",
       "      <td>2010-01-31</td>\n",
       "      <td>538617</td>\n",
       "      <td>1.086926</td>\n",
       "      <td>0.776993</td>\n",
       "      <td>1.072525</td>\n",
       "    </tr>\n",
       "  </tbody>\n",
       "</table>\n",
       "</div>"
      ],
      "text/plain": [
       "        week  claims  trend.unemploy  trend.filling  trend.job\n",
       "0 2010-01-03  651215        1.183973       0.720140   1.119669\n",
       "1 2010-01-10  825891        1.183973       0.814896   1.178599\n",
       "2 2010-01-17  659173        1.203382       0.739091   1.119669\n",
       "3 2010-01-24  507651        1.164564       0.814896   1.107883\n",
       "4 2010-01-31  538617        1.086926       0.776993   1.072525"
      ]
     },
     "execution_count": 2,
     "metadata": {},
     "output_type": "execute_result"
    }
   ],
   "source": [
    "data_path = '../examples/data/iclaims.example.csv'\n",
    "raw_data = pd.read_csv(data_path, parse_dates=['week'])\n",
    "data = raw_data.copy()\n",
    "print(data.shape)\n",
    "data.head(5)"
   ]
  },
  {
   "cell_type": "markdown",
   "metadata": {},
   "source": [
    "## Create a TimeSeriesSplitter"
   ]
  },
  {
   "cell_type": "markdown",
   "metadata": {},
   "source": [
    "###  Expanding window"
   ]
  },
  {
   "cell_type": "code",
   "execution_count": 3,
   "metadata": {},
   "outputs": [],
   "source": [
    "min_train_len = 380\n",
    "forecast_len = 20\n",
    "incremental_len = 20"
   ]
  },
  {
   "cell_type": "code",
   "execution_count": 4,
   "metadata": {},
   "outputs": [],
   "source": [
    "ex_splitter = TimeSeriesSplitter(data, min_train_len, incremental_len, forecast_len, window_type='expanding', date_col='week')"
   ]
  },
  {
   "cell_type": "code",
   "execution_count": 5,
   "metadata": {},
   "outputs": [
    {
     "name": "stdout",
     "output_type": "stream",
     "text": [
      "\n",
      "------------ Fold: (1 / 3)------------\n",
      "Train start index: 0 Train end index: 379\n",
      "Test start index: 380 Test end index: 399\n",
      "Train start date: 2010-01-03 00:00:00 Train end date: 2017-04-09 00:00:00\n",
      "Test start date: 2017-04-16 00:00:00 Test end date: 2017-08-27 00:00:00\n",
      "\n",
      "------------ Fold: (2 / 3)------------\n",
      "Train start index: 0 Train end index: 399\n",
      "Test start index: 400 Test end index: 419\n",
      "Train start date: 2010-01-03 00:00:00 Train end date: 2017-08-27 00:00:00\n",
      "Test start date: 2017-09-03 00:00:00 Test end date: 2018-01-14 00:00:00\n",
      "\n",
      "------------ Fold: (3 / 3)------------\n",
      "Train start index: 0 Train end index: 419\n",
      "Test start index: 420 Test end index: 439\n",
      "Train start date: 2010-01-03 00:00:00 Train end date: 2018-01-14 00:00:00\n",
      "Test start date: 2018-01-21 00:00:00 Test end date: 2018-06-03 00:00:00\n",
      "\n"
     ]
    }
   ],
   "source": [
    "print(ex_splitter)"
   ]
  },
  {
   "cell_type": "code",
   "execution_count": 6,
   "metadata": {},
   "outputs": [
    {
     "data": {
      "text/plain": [
       "<matplotlib.axes._subplots.AxesSubplot at 0x12ed794a8>"
      ]
     },
     "execution_count": 6,
     "metadata": {},
     "output_type": "execute_result"
    },
    {
     "data": {
      "image/png": "[encoded data removed]",
      "text/plain": [
       "<Figure size 1440x216 with 1 Axes>"
      ]
     },
     "metadata": {},
     "output_type": "display_data"
    }
   ],
   "source": [
    "ex_splitter.plot()"
   ]
  },
  {
   "cell_type": "markdown",
   "metadata": {},
   "source": [
    "### Rolling window"
   ]
  },
  {
   "cell_type": "code",
   "execution_count": 7,
   "metadata": {},
   "outputs": [],
   "source": [
    "roll_splitter = TimeSeriesSplitter(data, min_train_len, incremental_len, forecast_len, window_type='rolling', date_col='week')"
   ]
  },
  {
   "cell_type": "code",
   "execution_count": 8,
   "metadata": {},
   "outputs": [
    {
     "data": {
      "text/plain": [
       "<matplotlib.axes._subplots.AxesSubplot at 0x130e80dd8>"
      ]
     },
     "execution_count": 8,
     "metadata": {},
     "output_type": "execute_result"
    },
    {
     "data": {
      "image/png": "[encoded data removed]",
      "text/plain": [
       "<Figure size 1440x216 with 1 Axes>"
      ]
     },
     "metadata": {},
     "output_type": "display_data"
    }
   ],
   "source": [
    "roll_splitter.plot()"
   ]
  },
  {
   "cell_type": "markdown",
   "metadata": {},
   "source": [
    "### Specifying number of splits"
   ]
  },
  {
   "cell_type": "markdown",
   "metadata": {},
   "source": [
    "User can also define number of splits using `n_splits` instead of specifying minimum training length.  That way, minimum training length will be automatically calculated."
   ]
  },
  {
   "cell_type": "code",
   "execution_count": 9,
   "metadata": {},
   "outputs": [],
   "source": [
    "ex_splitter2 = TimeSeriesSplitter(data, min_train_len, incremental_len, forecast_len, n_splits=5, window_type='expanding', date_col='week')"
   ]
  },
  {
   "cell_type": "code",
   "execution_count": 10,
   "metadata": {},
   "outputs": [
    {
     "data": {
      "text/plain": [
       "<matplotlib.axes._subplots.AxesSubplot at 0x131097f28>"
      ]
     },
     "execution_count": 10,
     "metadata": {},
     "output_type": "execute_result"
    },
    {
     "data": {
      "image/png": "[encoded data removed]",
      "text/plain": [
       "<Figure size 1440x360 with 1 Axes>"
      ]
     },
     "metadata": {},
     "output_type": "display_data"
    }
   ],
   "source": [
    "ex_splitter2.plot()"
   ]
  },
  {
   "cell_type": "markdown",
   "metadata": {},
   "source": [
    "## Backtest"
   ]
  },
  {
   "cell_type": "markdown",
   "metadata": {},
   "source": [
    "Now, we will use one of the scheme to backtest an `orbit` model."
   ]
  },
  {
   "cell_type": "code",
   "execution_count": 11,
   "metadata": {},
   "outputs": [],
   "source": [
    "bt = Backtest(splitter=ex_splitter2)"
   ]
  },
  {
   "cell_type": "markdown",
   "metadata": {
    "ExecuteTime": {
     "end_time": "2020-01-23T21:50:17.759953Z",
     "start_time": "2020-01-23T21:50:17.755383Z"
    }
   },
   "source": [
    "Instantiate a model that we want to backtest"
   ]
  },
  {
   "cell_type": "code",
   "execution_count": 12,
   "metadata": {
    "ExecuteTime": {
     "end_time": "2020-01-28T01:02:54.912683Z",
     "start_time": "2020-01-28T01:02:54.909005Z"
    }
   },
   "outputs": [],
   "source": [
    "mod = LGT(\n",
    "    date_col = 'week',\n",
    "    response_col = 'claims',\n",
    "    regressor_col = ['trend.unemploy', 'trend.filling', 'trend.job'],\n",
    "    seasonality = 52,\n",
    "    seed = 8888,\n",
    "    predict_method = 'map',\n",
    "    auto_scale=True,\n",
    "    is_multiplicative=True\n",
    ")"
   ]
  },
  {
   "cell_type": "markdown",
   "metadata": {},
   "source": [
    "Use `fit_score()` to fit the model and computed the desired metrics"
   ]
  },
  {
   "cell_type": "code",
   "execution_count": 13,
   "metadata": {},
   "outputs": [],
   "source": [
    "bt.fit_score(model=mod, response_col = 'claims', predicted_col='prediction', metrics={\"smape\": smape, \"mape\": mape})"
   ]
  },
  {
   "cell_type": "markdown",
   "metadata": {},
   "source": [
    "Retrieve raw predictions for every split"
   ]
  },
  {
   "cell_type": "code",
   "execution_count": 14,
   "metadata": {},
   "outputs": [
    {
     "data": {
      "text/html": [
       "<div>\n",
       "<style scoped>\n",
       "    .dataframe tbody tr th:only-of-type {\n",
       "        vertical-align: middle;\n",
       "    }\n",
       "\n",
       "    .dataframe tbody tr th {\n",
       "        vertical-align: top;\n",
       "    }\n",
       "\n",
       "    .dataframe thead th {\n",
       "        text-align: right;\n",
       "    }\n",
       "</style>\n",
       "<table border=\"1\" class=\"dataframe\">\n",
       "  <thead>\n",
       "    <tr style=\"text-align: right;\">\n",
       "      <th></th>\n",
       "      <th>steps</th>\n",
       "      <th>week</th>\n",
       "      <th>claims</th>\n",
       "      <th>trend.unemploy</th>\n",
       "      <th>trend.filling</th>\n",
       "      <th>trend.job</th>\n",
       "      <th>prediction</th>\n",
       "      <th>split_key</th>\n",
       "    </tr>\n",
       "  </thead>\n",
       "  <tbody>\n",
       "    <tr>\n",
       "      <th>0</th>\n",
       "      <td>1</td>\n",
       "      <td>2016-07-31</td>\n",
       "      <td>219202</td>\n",
       "      <td>1.183973</td>\n",
       "      <td>0.966504</td>\n",
       "      <td>1.013595</td>\n",
       "      <td>217299.775514</td>\n",
       "      <td>0</td>\n",
       "    </tr>\n",
       "    <tr>\n",
       "      <th>1</th>\n",
       "      <td>2</td>\n",
       "      <td>2016-08-07</td>\n",
       "      <td>231542</td>\n",
       "      <td>1.125745</td>\n",
       "      <td>0.909651</td>\n",
       "      <td>0.966451</td>\n",
       "      <td>229474.014942</td>\n",
       "      <td>0</td>\n",
       "    </tr>\n",
       "    <tr>\n",
       "      <th>2</th>\n",
       "      <td>3</td>\n",
       "      <td>2016-08-14</td>\n",
       "      <td>219570</td>\n",
       "      <td>1.145154</td>\n",
       "      <td>0.966504</td>\n",
       "      <td>0.942879</td>\n",
       "      <td>221133.954975</td>\n",
       "      <td>0</td>\n",
       "    </tr>\n",
       "    <tr>\n",
       "      <th>3</th>\n",
       "      <td>4</td>\n",
       "      <td>2016-08-21</td>\n",
       "      <td>217011</td>\n",
       "      <td>1.125745</td>\n",
       "      <td>0.947553</td>\n",
       "      <td>1.013595</td>\n",
       "      <td>216675.706502</td>\n",
       "      <td>0</td>\n",
       "    </tr>\n",
       "    <tr>\n",
       "      <th>4</th>\n",
       "      <td>5</td>\n",
       "      <td>2016-08-28</td>\n",
       "      <td>215688</td>\n",
       "      <td>1.106335</td>\n",
       "      <td>0.928602</td>\n",
       "      <td>0.990023</td>\n",
       "      <td>217732.609687</td>\n",
       "      <td>0</td>\n",
       "    </tr>\n",
       "  </tbody>\n",
       "</table>\n",
       "</div>"
      ],
      "text/plain": [
       "   steps       week  claims  trend.unemploy  trend.filling  trend.job  \\\n",
       "0      1 2016-07-31  219202        1.183973       0.966504   1.013595   \n",
       "1      2 2016-08-07  231542        1.125745       0.909651   0.966451   \n",
       "2      3 2016-08-14  219570        1.145154       0.966504   0.942879   \n",
       "3      4 2016-08-21  217011        1.125745       0.947553   1.013595   \n",
       "4      5 2016-08-28  215688        1.106335       0.928602   0.990023   \n",
       "\n",
       "      prediction  split_key  \n",
       "0  217299.775514          0  \n",
       "1  229474.014942          0  \n",
       "2  221133.954975          0  \n",
       "3  216675.706502          0  \n",
       "4  217732.609687          0  "
      ]
     },
     "execution_count": 14,
     "metadata": {},
     "output_type": "execute_result"
    }
   ],
   "source": [
    "bt.get_predictions().head(5)"
   ]
  },
  {
   "cell_type": "markdown",
   "metadata": {},
   "source": [
    "Retrieve scores from the object"
   ]
  },
  {
   "cell_type": "code",
   "execution_count": 15,
   "metadata": {},
   "outputs": [
    {
     "data": {
      "text/html": [
       "<div>\n",
       "<style scoped>\n",
       "    .dataframe tbody tr th:only-of-type {\n",
       "        vertical-align: middle;\n",
       "    }\n",
       "\n",
       "    .dataframe tbody tr th {\n",
       "        vertical-align: top;\n",
       "    }\n",
       "\n",
       "    .dataframe thead th {\n",
       "        text-align: right;\n",
       "    }\n",
       "</style>\n",
       "<table border=\"1\" class=\"dataframe\">\n",
       "  <thead>\n",
       "    <tr style=\"text-align: right;\">\n",
       "      <th></th>\n",
       "      <th>smape</th>\n",
       "      <th>mape</th>\n",
       "    </tr>\n",
       "  </thead>\n",
       "  <tbody>\n",
       "    <tr>\n",
       "      <th>0</th>\n",
       "      <td>0.056391</td>\n",
       "      <td>0.056321</td>\n",
       "    </tr>\n",
       "  </tbody>\n",
       "</table>\n",
       "</div>"
      ],
      "text/plain": [
       "      smape      mape\n",
       "0  0.056391  0.056321"
      ]
     },
     "execution_count": 15,
     "metadata": {},
     "output_type": "execute_result"
    }
   ],
   "source": [
    "bt.get_scores()"
   ]
  },
  {
   "cell_type": "markdown",
   "metadata": {},
   "source": [
    "We can generalize backtest to other model objects using callback functions"
   ]
  },
  {
   "cell_type": "code",
   "execution_count": 16,
   "metadata": {
    "ExecuteTime": {
     "end_time": "2020-01-28T01:10:41.876567Z",
     "start_time": "2020-01-28T01:10:41.793996Z"
    }
   },
   "outputs": [],
   "source": [
    "from sklearn.ensemble import RandomForestRegressor\n",
    "\n",
    "# custom callback\n",
    "def fit_callback_sklearn(model, train_df, response_col, regressor_col):\n",
    "    y = train_df[response_col]\n",
    "    X = train_df[regressor_col]\n",
    "    model.fit(X, y)\n",
    "    return\n",
    "\n",
    "def predict_callback_sklearn(model, test_df, response_col, regressor_col):\n",
    "    X = test_df[regressor_col]\n",
    "    pred = model.predict(X)\n",
    "\n",
    "    return pd.DataFrame(pred, columns=['prediction'])"
   ]
  },
  {
   "cell_type": "markdown",
   "metadata": {},
   "source": [
    "Next, instantiate an sklearn model"
   ]
  },
  {
   "cell_type": "code",
   "execution_count": 17,
   "metadata": {
    "ExecuteTime": {
     "end_time": "2020-01-28T01:10:43.918296Z",
     "start_time": "2020-01-28T01:10:43.915954Z"
    }
   },
   "outputs": [],
   "source": [
    "mod = RandomForestRegressor(n_estimators = 50)"
   ]
  },
  {
   "cell_type": "code",
   "execution_count": 18,
   "metadata": {
    "ExecuteTime": {
     "end_time": "2020-01-28T01:10:56.634397Z",
     "start_time": "2020-01-28T01:10:56.244029Z"
    }
   },
   "outputs": [
    {
     "ename": "TypeError",
     "evalue": "__init__() got an unexpected keyword argument 'min_train_len'",
     "output_type": "error",
     "traceback": [
      "\u001b[0;31m---------------------------------------------------------------------------\u001b[0m",
      "\u001b[0;31mTypeError\u001b[0m                                 Traceback (most recent call last)",
      "\u001b[0;32m<ipython-input-18-8c5bf926de12>\u001b[0m in \u001b[0;36m<module>\u001b[0;34m\u001b[0m\n\u001b[1;32m      4\u001b[0m     \u001b[0mmin_train_len\u001b[0m\u001b[0;34m=\u001b[0m\u001b[0mmin_train_len\u001b[0m\u001b[0;34m,\u001b[0m\u001b[0;34m\u001b[0m\u001b[0;34m\u001b[0m\u001b[0m\n\u001b[1;32m      5\u001b[0m     \u001b[0mincremental_len\u001b[0m\u001b[0;34m=\u001b[0m\u001b[0mincremental_len\u001b[0m\u001b[0;34m,\u001b[0m\u001b[0;34m\u001b[0m\u001b[0;34m\u001b[0m\u001b[0m\n\u001b[0;32m----> 6\u001b[0;31m     \u001b[0mforecast_len\u001b[0m\u001b[0;34m=\u001b[0m\u001b[0mforecast_len\u001b[0m\u001b[0;34m,\u001b[0m\u001b[0;34m\u001b[0m\u001b[0;34m\u001b[0m\u001b[0m\n\u001b[0m\u001b[1;32m      7\u001b[0m )\n\u001b[1;32m      8\u001b[0m \u001b[0;34m\u001b[0m\u001b[0m\n",
      "\u001b[0;31mTypeError\u001b[0m: __init__() got an unexpected keyword argument 'min_train_len'"
     ]
    }
   ],
   "source": [
    "# bt_expand = BacktestEngine(mod, data)\n",
    "bt_sklearn = Backtest(\n",
    "    data,\n",
    "    min_train_len=min_train_len,\n",
    "    incremental_len=incremental_len,\n",
    "    forecast_len=forecast_len,\n",
    ")\n",
    "\n",
    "fit_args_rf = {\n",
    "    'response_col': 'claims',\n",
    "    'regressor_col': ['trend.unemploy', 'trend.filling', 'trend.job']\n",
    "}\n",
    "\n",
    "bt_sklearn.fit_score(\n",
    "    mod,\n",
    "    response_col='claims',\n",
    "    predicted_col='prediction',\n",
    "    fit_callback=fit_callback_sklearn,\n",
    "    predict_callback=predict_callback_sklearn,\n",
    "    fit_args=fit_args_rf\n",
    ")\n",
    "\n",
    "bt_sklearn.get_predictions().head()"
   ]
  },
  {
   "cell_type": "code",
   "execution_count": null,
   "metadata": {
    "ExecuteTime": {
     "end_time": "2020-01-28T01:10:58.997502Z",
     "start_time": "2020-01-28T01:10:58.987741Z"
    }
   },
   "outputs": [],
   "source": [
    "bt_sklearn.get_scores()"
   ]
  },
  {
   "cell_type": "code",
   "execution_count": null,
   "metadata": {
    "ExecuteTime": {
     "end_time": "2020-01-28T01:07:18.322199Z",
     "start_time": "2020-01-28T01:07:18.255280Z"
    }
   },
   "outputs": [],
   "source": [
    "from fbprophet import Prophet\n",
    "import inspect"
   ]
  },
  {
   "cell_type": "code",
   "execution_count": null,
   "metadata": {
    "ExecuteTime": {
     "end_time": "2020-01-28T01:07:18.865657Z",
     "start_time": "2020-01-28T01:07:18.857873Z"
    }
   },
   "outputs": [],
   "source": [
    "def model_callback_prophet(model, **kwargs):\n",
    "    object_type = type(model)\n",
    "    new_instance = object_type(**kwargs)\n",
    "    \n",
    "    return new_instance\n",
    "\n",
    "def fit_callbacks_prophet(model, train_df, date_col, response_col, regressor_col):\n",
    "    \n",
    "    train_df = train_df.rename(columns={date_col: \"ds\", response_col: \"y\"})\n",
    "    if regressor_col is not None:\n",
    "        for regressor in regressor_col:\n",
    "            model.add_regressor(regressor) \n",
    "    model.fit(train_df)\n",
    "    \n",
    "    return \n",
    "\n",
    "# def pred_callbacks_prophet(model, test_df, date_col, response_col, regressor_col):\n",
    "#     test_df = test_df.rename(columns={date_col: \"ds\", response_col: \"y\"})\n",
    "    \n",
    "#     return model.predict(test_df)\n",
    "# also, we an use predict callbacks to make the columns\n",
    "# align across models. This wasn't necessary within only prophet models\n",
    "# because the columns aligned\n",
    "def pred_callbacks_prophet(model, test_df, date_col, response_col, regressor_col):\n",
    "    test_df = test_df.rename(columns={date_col: \"ds\", response_col: \"y\"})\n",
    "    \n",
    "    predictions = model.predict(test_df)\n",
    "    predictions.rename(columns={'yhat': 'prediction', 'ds': date_col}, inplace=True)\n",
    "    predictions=predictions[[date_col, 'prediction']]\n",
    "\n",
    "    return predictions"
   ]
  },
  {
   "cell_type": "code",
   "execution_count": null,
   "metadata": {
    "ExecuteTime": {
     "end_time": "2020-01-28T01:09:41.077850Z",
     "start_time": "2020-01-28T01:09:38.997058Z"
    }
   },
   "outputs": [],
   "source": [
    "# prophet standalone\n",
    "mod = Prophet()\n",
    "# fit_callbacks_prophet(\n",
    "#     mod, data, date_col='week',\n",
    "#     response_col='claims',\n",
    "#     regressor_col=['trend.unemploy', 'trend.filling', 'trend.job']\n",
    "# )\n",
    "\n",
    "# pred = pred_callbacks_prophet(\n",
    "#     mod, data, date_col='week',\n",
    "#     response_col='claims',\n",
    "#     regressor_col=['trend.unemploy', 'trend.filling', 'trend.job']\n",
    "# )"
   ]
  },
  {
   "cell_type": "code",
   "execution_count": null,
   "metadata": {
    "ExecuteTime": {
     "end_time": "2020-01-28T01:10:12.909833Z",
     "start_time": "2020-01-28T01:10:03.746140Z"
    }
   },
   "outputs": [],
   "source": [
    "# bt_expand = BacktestEngine(mod, data)\n",
    "bt_prophet = Backtest(\n",
    "    data,\n",
    "    min_train_len=min_train_len,\n",
    "    incremental_len=incremental_len,\n",
    "    forecast_len=forecast_len,\n",
    ")\n",
    "\n",
    "fit_args_prophet = {\n",
    "    'response_col': 'claims',\n",
    "    'date_col': 'week',\n",
    "    'regressor_col': ['trend.unemploy', 'trend.filling', 'trend.job']\n",
    "}\n",
    "\n",
    "bt_prophet.fit_score(\n",
    "    mod,\n",
    "    response_col='claims',\n",
    "    predicted_col='prediction',\n",
    "    fit_callback=fit_callbacks_prophet,\n",
    "    predict_callback=pred_callbacks_prophet,\n",
    "    model_callback=model_callback_prophet,\n",
    "    fit_args=fit_args_prophet\n",
    ")\n",
    "\n",
    "bt_prophet.get_predictions().head()"
   ]
  },
  {
   "cell_type": "code",
   "execution_count": null,
   "metadata": {
    "ExecuteTime": {
     "end_time": "2020-01-28T01:10:27.516202Z",
     "start_time": "2020-01-28T01:10:27.508853Z"
    }
   },
   "outputs": [],
   "source": [
    "bt_prophet.get_scores()"
   ]
  }
 ],
 "metadata": {
  "kernelspec": {
   "display_name": "orbit",
   "language": "python",
   "name": "orbit"
  },
  "language_info": {
   "codemirror_mode": {
    "name": "ipython",
    "version": 3
   },
   "file_extension": ".py",
   "mimetype": "text/x-python",
   "name": "python",
   "nbconvert_exporter": "python",
   "pygments_lexer": "ipython3",
   "version": "3.6.8"
  },
  "toc": {
   "base_numbering": 1,
   "nav_menu": {},
   "number_sections": true,
   "sideBar": true,
   "skip_h1_title": false,
   "title_cell": "Table of Contents",
   "title_sidebar": "Contents",
   "toc_cell": false,
   "toc_position": {
    "height": "calc(100% - 180px)",
    "left": "10px",
    "top": "150px",
    "width": "306.391px"
   },
   "toc_section_display": true,
   "toc_window_display": true
  },
  "toc-autonumbering": false,
  "toc-showcode": false
 },
 "nbformat": 4,
 "nbformat_minor": 4
}
