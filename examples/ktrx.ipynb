{
 "cells": [
  {
   "cell_type": "markdown",
   "metadata": {},
   "source": [
    "# KTRX Example"
   ]
  },
  {
   "cell_type": "code",
   "execution_count": 1,
   "metadata": {
    "ExecuteTime": {
     "end_time": "2021-08-16T20:57:21.488705Z",
     "start_time": "2021-08-16T20:57:21.466006Z"
    }
   },
   "outputs": [],
   "source": [
    "%load_ext autoreload\n",
    "%autoreload 2"
   ]
  },
  {
   "cell_type": "code",
   "execution_count": 2,
   "metadata": {
    "ExecuteTime": {
     "end_time": "2021-08-16T20:57:24.524217Z",
     "start_time": "2021-08-16T20:57:21.491604Z"
    }
   },
   "outputs": [],
   "source": [
    "import pandas as pd\n",
    "import numpy as np\n",
    "pd.set_option('display.float_format', lambda x: '%.5f' % x)\n",
    "import matplotlib\n",
    "import matplotlib.pyplot as plt\n",
    "\n",
    "import orbit\n",
    "from orbit.models import KTRLite, KTR\n",
    "\n",
    "from orbit.utils.features import make_fourier_series_df, make_fourier_series\n",
    "from orbit.diagnostics.plot import plot_predicted_data, plot_predicted_components\n",
    "from orbit.diagnostics.metrics import smape\n",
    "from orbit.utils.dataset import load_iclaims, load_electricity_demand\n",
    "from orbit.utils.plot import get_orbit_style\n",
    "plt.style.use(get_orbit_style())"
   ]
  },
  {
   "cell_type": "code",
   "execution_count": 3,
   "metadata": {
    "ExecuteTime": {
     "end_time": "2021-08-16T20:57:24.562369Z",
     "start_time": "2021-08-16T20:57:24.526249Z"
    }
   },
   "outputs": [
    {
     "data": {
      "text/plain": [
       "'1.0.16dev'"
      ]
     },
     "execution_count": 3,
     "metadata": {},
     "output_type": "execute_result"
    }
   ],
   "source": [
    "orbit.__version__"
   ]
  },
  {
   "cell_type": "markdown",
   "metadata": {},
   "source": [
    "## Data"
   ]
  },
  {
   "cell_type": "code",
   "execution_count": 4,
   "metadata": {
    "ExecuteTime": {
     "end_time": "2021-08-16T20:57:42.263939Z",
     "start_time": "2021-08-16T20:57:41.781366Z"
    }
   },
   "outputs": [
    {
     "name": "stdout",
     "output_type": "stream",
     "text": [
      "(443, 7)\n"
     ]
    },
    {
     "data": {
      "text/html": [
       "<div>\n",
       "<style scoped>\n",
       "    .dataframe tbody tr th:only-of-type {\n",
       "        vertical-align: middle;\n",
       "    }\n",
       "\n",
       "    .dataframe tbody tr th {\n",
       "        vertical-align: top;\n",
       "    }\n",
       "\n",
       "    .dataframe thead th {\n",
       "        text-align: right;\n",
       "    }\n",
       "</style>\n",
       "<table border=\"1\" class=\"dataframe\">\n",
       "  <thead>\n",
       "    <tr style=\"text-align: right;\">\n",
       "      <th></th>\n",
       "      <th>week</th>\n",
       "      <th>claims</th>\n",
       "      <th>trend.unemploy</th>\n",
       "      <th>trend.filling</th>\n",
       "      <th>trend.job</th>\n",
       "      <th>sp500</th>\n",
       "      <th>vix</th>\n",
       "    </tr>\n",
       "  </thead>\n",
       "  <tbody>\n",
       "    <tr>\n",
       "      <th>0</th>\n",
       "      <td>2010-01-03</td>\n",
       "      <td>13.38660</td>\n",
       "      <td>0.21988</td>\n",
       "      <td>-0.31845</td>\n",
       "      <td>0.11750</td>\n",
       "      <td>-0.41763</td>\n",
       "      <td>0.12265</td>\n",
       "    </tr>\n",
       "    <tr>\n",
       "      <th>1</th>\n",
       "      <td>2010-01-10</td>\n",
       "      <td>13.62422</td>\n",
       "      <td>0.21988</td>\n",
       "      <td>-0.19484</td>\n",
       "      <td>0.16879</td>\n",
       "      <td>-0.42548</td>\n",
       "      <td>0.11044</td>\n",
       "    </tr>\n",
       "    <tr>\n",
       "      <th>2</th>\n",
       "      <td>2010-01-17</td>\n",
       "      <td>13.39874</td>\n",
       "      <td>0.23614</td>\n",
       "      <td>-0.29248</td>\n",
       "      <td>0.11750</td>\n",
       "      <td>-0.46523</td>\n",
       "      <td>0.53234</td>\n",
       "    </tr>\n",
       "    <tr>\n",
       "      <th>3</th>\n",
       "      <td>2010-01-24</td>\n",
       "      <td>13.13755</td>\n",
       "      <td>0.20335</td>\n",
       "      <td>-0.19484</td>\n",
       "      <td>0.10692</td>\n",
       "      <td>-0.48175</td>\n",
       "      <td>0.42864</td>\n",
       "    </tr>\n",
       "    <tr>\n",
       "      <th>4</th>\n",
       "      <td>2010-01-31</td>\n",
       "      <td>13.19676</td>\n",
       "      <td>0.13436</td>\n",
       "      <td>-0.24247</td>\n",
       "      <td>0.07448</td>\n",
       "      <td>-0.48893</td>\n",
       "      <td>0.48740</td>\n",
       "    </tr>\n",
       "  </tbody>\n",
       "</table>\n",
       "</div>"
      ],
      "text/plain": [
       "        week   claims  trend.unemploy  trend.filling  trend.job    sp500  \\\n",
       "0 2010-01-03 13.38660         0.21988       -0.31845    0.11750 -0.41763   \n",
       "1 2010-01-10 13.62422         0.21988       -0.19484    0.16879 -0.42548   \n",
       "2 2010-01-17 13.39874         0.23614       -0.29248    0.11750 -0.46523   \n",
       "3 2010-01-24 13.13755         0.20335       -0.19484    0.10692 -0.48175   \n",
       "4 2010-01-31 13.19676         0.13436       -0.24247    0.07448 -0.48893   \n",
       "\n",
       "      vix  \n",
       "0 0.12265  \n",
       "1 0.11044  \n",
       "2 0.53234  \n",
       "3 0.42864  \n",
       "4 0.48740  "
      ]
     },
     "execution_count": 4,
     "metadata": {},
     "output_type": "execute_result"
    }
   ],
   "source": [
    "df = load_iclaims()\n",
    "\n",
    "DATE_COL = 'week'\n",
    "RESPONSE_COL = 'claims'\n",
    "\n",
    "print(df.shape)\n",
    "\n",
    "df.head()"
   ]
  },
  {
   "cell_type": "code",
   "execution_count": 5,
   "metadata": {
    "ExecuteTime": {
     "end_time": "2021-08-16T20:57:42.299974Z",
     "start_time": "2021-08-16T20:57:42.265984Z"
    }
   },
   "outputs": [
    {
     "name": "stdout",
     "output_type": "stream",
     "text": [
      "starts with 2010-01-03 00:00:00\n",
      "ends with 2018-06-24 00:00:00\n",
      "shape: (443, 7)\n"
     ]
    }
   ],
   "source": [
    "print(f'starts with {df[DATE_COL].min()}\\nends with {df[DATE_COL].max()}\\nshape: {df.shape}')"
   ]
  },
  {
   "cell_type": "code",
   "execution_count": 6,
   "metadata": {
    "ExecuteTime": {
     "end_time": "2021-08-16T20:57:43.580938Z",
     "start_time": "2021-08-16T20:57:43.544063Z"
    }
   },
   "outputs": [],
   "source": [
    "test_size = 52\n",
    "\n",
    "train_df = df[:-test_size]\n",
    "test_df = df[-test_size:]"
   ]
  },
  {
   "cell_type": "markdown",
   "metadata": {},
   "source": [
    "## KTRX"
   ]
  },
  {
   "cell_type": "code",
   "execution_count": 7,
   "metadata": {
    "ExecuteTime": {
     "end_time": "2021-08-16T21:01:14.088485Z",
     "start_time": "2021-08-16T21:01:14.052854Z"
    }
   },
   "outputs": [],
   "source": [
    "ktr = KTR(\n",
    "    date_col=DATE_COL,\n",
    "    response_col=RESPONSE_COL,\n",
    "    regressor_col=['trend.unemploy', 'trend.filling'],\n",
    "    seasonality=[52],\n",
    "    seasonality_fs_order=[3],\n",
    "    level_knot_scale=.1,\n",
    "    level_segments=9,\n",
    "    seasonality_segments=2,\n",
    "    regression_segments=5,\n",
    "    # optimization\n",
    "    num_steps=100,\n",
    "    num_sample=100,\n",
    "    learning_rate=0.1,\n",
    "    estimator='pyro-svi',\n",
    "    n_bootstrap_draws=-1\n",
    ")"
   ]
  },
  {
   "cell_type": "code",
   "execution_count": 9,
   "metadata": {
    "ExecuteTime": {
     "end_time": "2021-08-16T21:03:45.588806Z",
     "start_time": "2021-08-16T21:03:45.433129Z"
    }
   },
   "outputs": [
    {
     "ename": "ValueError",
     "evalue": "operands could not be broadcast together with shapes (2,6) (2,6,1) ",
     "output_type": "error",
     "traceback": [
      "\u001b[0;31m---------------------------------------------------------------------------\u001b[0m",
      "\u001b[0;31mValueError\u001b[0m                                Traceback (most recent call last)",
      "\u001b[0;32m<ipython-input-9-34625eafd0b6>\u001b[0m in \u001b[0;36m<module>\u001b[0;34m\u001b[0m\n\u001b[0;32m----> 1\u001b[0;31m \u001b[0mktr\u001b[0m\u001b[0;34m.\u001b[0m\u001b[0mfit\u001b[0m\u001b[0;34m(\u001b[0m\u001b[0mtrain_df\u001b[0m\u001b[0;34m)\u001b[0m\u001b[0;34m\u001b[0m\u001b[0;34m\u001b[0m\u001b[0m\n\u001b[0m",
      "\u001b[0;32m~/Desktop/uTS-py/orbit/orbit/forecaster/svi.py\u001b[0m in \u001b[0;36mfit\u001b[0;34m(self, df, point_method, keep_samples)\u001b[0m\n\u001b[1;32m     23\u001b[0m \u001b[0;34m\u001b[0m\u001b[0m\n\u001b[1;32m     24\u001b[0m     \u001b[0;32mdef\u001b[0m \u001b[0mfit\u001b[0m\u001b[0;34m(\u001b[0m\u001b[0mself\u001b[0m\u001b[0;34m,\u001b[0m \u001b[0mdf\u001b[0m\u001b[0;34m,\u001b[0m \u001b[0mpoint_method\u001b[0m\u001b[0;34m=\u001b[0m\u001b[0;32mNone\u001b[0m\u001b[0;34m,\u001b[0m \u001b[0mkeep_samples\u001b[0m\u001b[0;34m=\u001b[0m\u001b[0;32mTrue\u001b[0m\u001b[0;34m)\u001b[0m\u001b[0;34m:\u001b[0m\u001b[0;34m\u001b[0m\u001b[0;34m\u001b[0m\u001b[0m\n\u001b[0;32m---> 25\u001b[0;31m         \u001b[0msuper\u001b[0m\u001b[0;34m(\u001b[0m\u001b[0;34m)\u001b[0m\u001b[0;34m.\u001b[0m\u001b[0mfit\u001b[0m\u001b[0;34m(\u001b[0m\u001b[0mdf\u001b[0m\u001b[0;34m)\u001b[0m\u001b[0;34m\u001b[0m\u001b[0;34m\u001b[0m\u001b[0m\n\u001b[0m\u001b[1;32m     26\u001b[0m         \u001b[0mself\u001b[0m\u001b[0;34m.\u001b[0m\u001b[0m_point_method\u001b[0m \u001b[0;34m=\u001b[0m \u001b[0mpoint_method\u001b[0m\u001b[0;34m\u001b[0m\u001b[0;34m\u001b[0m\u001b[0m\n\u001b[1;32m     27\u001b[0m \u001b[0;34m\u001b[0m\u001b[0m\n",
      "\u001b[0;32m~/Desktop/uTS-py/orbit/orbit/forecaster/forecaster.py\u001b[0m in \u001b[0;36mfit\u001b[0;34m(self, df)\u001b[0m\n\u001b[1;32m    122\u001b[0m         \u001b[0mself\u001b[0m\u001b[0;34m.\u001b[0m\u001b[0m_set_training_meta\u001b[0m\u001b[0;34m(\u001b[0m\u001b[0mdf\u001b[0m\u001b[0;34m)\u001b[0m\u001b[0;34m\u001b[0m\u001b[0;34m\u001b[0m\u001b[0m\n\u001b[1;32m    123\u001b[0m         \u001b[0;31m# customize module\u001b[0m\u001b[0;34m\u001b[0m\u001b[0;34m\u001b[0m\u001b[0;34m\u001b[0m\u001b[0m\n\u001b[0;32m--> 124\u001b[0;31m         \u001b[0mself\u001b[0m\u001b[0;34m.\u001b[0m\u001b[0m_model\u001b[0m\u001b[0;34m.\u001b[0m\u001b[0mset_dynamic_attributes\u001b[0m\u001b[0;34m(\u001b[0m\u001b[0mdf\u001b[0m\u001b[0;34m=\u001b[0m\u001b[0mdf\u001b[0m\u001b[0;34m,\u001b[0m \u001b[0mtraining_meta\u001b[0m\u001b[0;34m=\u001b[0m\u001b[0mself\u001b[0m\u001b[0;34m.\u001b[0m\u001b[0mget_training_meta\u001b[0m\u001b[0;34m(\u001b[0m\u001b[0;34m)\u001b[0m\u001b[0;34m)\u001b[0m\u001b[0;34m\u001b[0m\u001b[0;34m\u001b[0m\u001b[0m\n\u001b[0m\u001b[1;32m    125\u001b[0m         \u001b[0;31m# based on the model and df, set training input\u001b[0m\u001b[0;34m\u001b[0m\u001b[0;34m\u001b[0m\u001b[0;34m\u001b[0m\u001b[0m\n\u001b[1;32m    126\u001b[0m         \u001b[0mself\u001b[0m\u001b[0;34m.\u001b[0m\u001b[0mset_training_data_input\u001b[0m\u001b[0;34m(\u001b[0m\u001b[0;34m)\u001b[0m\u001b[0;34m\u001b[0m\u001b[0;34m\u001b[0m\u001b[0m\n",
      "\u001b[0;32m~/Desktop/uTS-py/orbit/orbit/template/ktr.py\u001b[0m in \u001b[0;36mset_dynamic_attributes\u001b[0;34m(self, df, training_meta)\u001b[0m\n\u001b[1;32m    760\u001b[0m         \u001b[0mself\u001b[0m\u001b[0;34m.\u001b[0m\u001b[0m_set_regressor_matrix\u001b[0m\u001b[0;34m(\u001b[0m\u001b[0mdf\u001b[0m\u001b[0;34m,\u001b[0m \u001b[0mtraining_meta\u001b[0m\u001b[0;34m)\u001b[0m\u001b[0;34m\u001b[0m\u001b[0;34m\u001b[0m\u001b[0m\n\u001b[1;32m    761\u001b[0m         \u001b[0mself\u001b[0m\u001b[0;34m.\u001b[0m\u001b[0m_set_coefficients_kernel_matrix\u001b[0m\u001b[0;34m(\u001b[0m\u001b[0mdf\u001b[0m\u001b[0;34m,\u001b[0m \u001b[0mtraining_meta\u001b[0m\u001b[0;34m)\u001b[0m\u001b[0;34m\u001b[0m\u001b[0;34m\u001b[0m\u001b[0m\n\u001b[0;32m--> 762\u001b[0;31m         \u001b[0mself\u001b[0m\u001b[0;34m.\u001b[0m\u001b[0m_set_knots_scale_matrix\u001b[0m\u001b[0;34m(\u001b[0m\u001b[0mdf\u001b[0m\u001b[0;34m,\u001b[0m \u001b[0mtraining_meta\u001b[0m\u001b[0;34m)\u001b[0m\u001b[0;34m\u001b[0m\u001b[0;34m\u001b[0m\u001b[0m\n\u001b[0m\u001b[1;32m    763\u001b[0m         \u001b[0mself\u001b[0m\u001b[0;34m.\u001b[0m\u001b[0m_set_levs_and_seas\u001b[0m\u001b[0;34m(\u001b[0m\u001b[0mdf\u001b[0m\u001b[0;34m,\u001b[0m \u001b[0mtraining_meta\u001b[0m\u001b[0;34m)\u001b[0m\u001b[0;34m\u001b[0m\u001b[0;34m\u001b[0m\u001b[0m\n\u001b[1;32m    764\u001b[0m         \u001b[0mself\u001b[0m\u001b[0;34m.\u001b[0m\u001b[0m_filter_coef_prior\u001b[0m\u001b[0;34m(\u001b[0m\u001b[0mdf\u001b[0m\u001b[0;34m)\u001b[0m\u001b[0;34m\u001b[0m\u001b[0;34m\u001b[0m\u001b[0m\n",
      "\u001b[0;32m~/Desktop/uTS-py/orbit/orbit/template/ktr.py\u001b[0m in \u001b[0;36m_set_knots_scale_matrix\u001b[0;34m(self, df, training_meta)\u001b[0m\n\u001b[1;32m    584\u001b[0m             \u001b[0;31m# self._regular_regressor_knot_scale has shape num_of_pr x num_of_knot\u001b[0m\u001b[0;34m\u001b[0m\u001b[0;34m\u001b[0m\u001b[0;34m\u001b[0m\u001b[0m\n\u001b[1;32m    585\u001b[0m             self._regular_regressor_knot_scale = (\n\u001b[0;32m--> 586\u001b[0;31m                     \u001b[0mmultiplier\u001b[0m \u001b[0;34m*\u001b[0m \u001b[0mnp\u001b[0m\u001b[0;34m.\u001b[0m\u001b[0mexpand_dims\u001b[0m\u001b[0;34m(\u001b[0m\u001b[0mself\u001b[0m\u001b[0;34m.\u001b[0m\u001b[0m_regular_regressor_knot_scale\u001b[0m\u001b[0;34m,\u001b[0m \u001b[0;34m-\u001b[0m\u001b[0;36m1\u001b[0m\u001b[0;34m)\u001b[0m\u001b[0;34m\u001b[0m\u001b[0;34m\u001b[0m\u001b[0m\n\u001b[0m\u001b[1;32m    587\u001b[0m             )\n\u001b[1;32m    588\u001b[0m             \u001b[0;31m# keep a lower bound of scale parameters\u001b[0m\u001b[0;34m\u001b[0m\u001b[0;34m\u001b[0m\u001b[0;34m\u001b[0m\u001b[0m\n",
      "\u001b[0;31mValueError\u001b[0m: operands could not be broadcast together with shapes (2,6) (2,6,1) "
     ]
    }
   ],
   "source": [
    "ktr.fit(train_df)"
   ]
  },
  {
   "cell_type": "code",
   "execution_count": null,
   "metadata": {
    "ExecuteTime": {
     "end_time": "2021-08-16T21:01:32.379498Z",
     "start_time": "2021-08-16T21:01:32.256Z"
    }
   },
   "outputs": [],
   "source": [
    "predicted_df = ktr.predict(df=test_df, decompose=True)\n",
    "predicted_df.head()"
   ]
  },
  {
   "cell_type": "code",
   "execution_count": null,
   "metadata": {},
   "outputs": [],
   "source": []
  },
  {
   "cell_type": "code",
   "execution_count": null,
   "metadata": {},
   "outputs": [],
   "source": []
  },
  {
   "cell_type": "code",
   "execution_count": null,
   "metadata": {},
   "outputs": [],
   "source": []
  },
  {
   "cell_type": "code",
   "execution_count": 16,
   "metadata": {
    "ExecuteTime": {
     "end_time": "2021-07-13T22:39:56.811921Z",
     "start_time": "2021-07-13T22:39:56.782285Z"
    }
   },
   "outputs": [],
   "source": [
    "# prepare the input\n",
    "level_knot_dates = ktrlite._level_knot_dates\n",
    "\n",
    "level_knots = ktrlite._aggregate_posteriors['map']['lev_knot'][0]\n",
    "\n",
    "seasonal_knots_input = {'_seas_coef_knot_dates': ktrlite._coef_knot_dates,\n",
    "                        '_sea_coef_knot': ktrlite._aggregate_posteriors['map']['coef_knot'],\n",
    "                        '_seasonality': ktrlite._seasonality,\n",
    "                        '_seasonality_fs_order': ktrlite._seasonality_fs_order}"
   ]
  },
  {
   "cell_type": "code",
   "execution_count": null,
   "metadata": {},
   "outputs": [],
   "source": []
  },
  {
   "cell_type": "code",
   "execution_count": null,
   "metadata": {},
   "outputs": [],
   "source": []
  },
  {
   "cell_type": "code",
   "execution_count": null,
   "metadata": {},
   "outputs": [],
   "source": []
  },
  {
   "cell_type": "code",
   "execution_count": null,
   "metadata": {},
   "outputs": [],
   "source": []
  },
  {
   "cell_type": "code",
   "execution_count": 17,
   "metadata": {
    "ExecuteTime": {
     "end_time": "2021-07-13T22:40:11.424249Z",
     "start_time": "2021-07-13T22:39:57.039136Z"
    }
   },
   "outputs": [
    {
     "name": "stderr",
     "output_type": "stream",
     "text": [
      "INFO:root:Guessed max_plate_nesting = 1\n"
     ]
    },
    {
     "name": "stdout",
     "output_type": "stream",
     "text": [
      "step    0 loss = -69.329, scale = 0.088188\n",
      "step  100 loss = -117.08, scale = 0.2215\n",
      "step  200 loss = -116.92, scale = 0.21604\n",
      "step  300 loss = -116.77, scale = 0.21498\n",
      "step  400 loss = -117.35, scale = 0.21914\n",
      "step  500 loss = -117.18, scale = 0.21388\n",
      "step  600 loss = -117.21, scale = 0.22391\n",
      "step  700 loss = -117.12, scale = 0.20775\n",
      "step  800 loss = -117.46, scale = 0.20408\n",
      "step  900 loss = -116.33, scale = 0.22731\n"
     ]
    }
   ],
   "source": [
    "ktrx = KTRXAggregated(response_col=RESPONSE_COL,\n",
    "                      date_col=DATE_COL,\n",
    "                      level_knot_dates=level_knot_dates,\n",
    "                      level_knots=level_knots,\n",
    "                      seasonal_knots_input=seasonal_knots_input,\n",
    "                      regressor_col=['trend.unemploy', 'trend.filling', 'trend.job'],\n",
    "                      level_knot_scale=.1, #.01\n",
    "                      span_coefficients=0.3,\n",
    "                      rho_coefficients=0.15,\n",
    "                      # pyro optimization parameters\n",
    "                      seed=8888,\n",
    "                      num_steps=1000,\n",
    "                      num_sample=1000,\n",
    "                      learning_rate=0.1,\n",
    "                      #learning_rate_total_decay=0.05,\n",
    "                      verbose=True,\n",
    "                      message=100,\n",
    "                      aggregate_method=\"median\",\n",
    "                      estimator_type=PyroEstimatorVI)\n",
    "\n",
    "ktrx.fit(train_df)"
   ]
  },
  {
   "cell_type": "code",
   "execution_count": 18,
   "metadata": {
    "ExecuteTime": {
     "end_time": "2021-07-13T22:40:11.462243Z",
     "start_time": "2021-07-13T22:40:11.426673Z"
    }
   },
   "outputs": [],
   "source": [
    "# ktrx = KTRXFull(\n",
    "#     response_col=response_col,\n",
    "#     date_col=date_col,\n",
    "#     level_knot_dates=level_knot_dates,\n",
    "#     level_knots=level_knots,\n",
    "#     seasonal_knots_input=seasonal_knots_input,\n",
    "#     regressor_col=['trend.unemploy', 'trend.filling', 'trend.job'],\n",
    "#     level_knot_scale=.1, #.01\n",
    "#     span_coefficients=0.3,\n",
    "#     rho_coefficients=0.15,\n",
    "#     # pyro optimization parameters\n",
    "#     seed=8888,\n",
    "#     num_steps=1000,\n",
    "#     num_sample=1000,\n",
    "#     learning_rate=0.1,\n",
    "#     #learning_rate_total_decay=0.05,\n",
    "#     verbose=True,\n",
    "#     message=100,\n",
    "#     estimator_type=PyroEstimatorVI,\n",
    "# )\n",
    "\n",
    "# ktrx.fit(train_df)"
   ]
  },
  {
   "cell_type": "code",
   "execution_count": 19,
   "metadata": {
    "ExecuteTime": {
     "end_time": "2021-07-13T22:40:11.510953Z",
     "start_time": "2021-07-13T22:40:11.466011Z"
    }
   },
   "outputs": [
    {
     "name": "stdout",
     "output_type": "stream",
     "text": [
      "        week  trend.unemploy  trend.filling  trend.job\n",
      "0 2010-01-03         0.08888        0.10323    0.21096\n",
      "1 2010-01-10         0.08887        0.10324    0.21096\n",
      "2 2010-01-17         0.08886        0.10324    0.21096\n",
      "3 2010-01-24         0.08885        0.10325    0.21097\n",
      "4 2010-01-31         0.08884        0.10326    0.21097\n",
      "          week  trend.unemploy  trend.filling  trend.job\n",
      "386 2017-05-28         0.05873        0.11888    0.25222\n",
      "387 2017-06-04         0.05873        0.11888    0.25223\n",
      "388 2017-06-11         0.05873        0.11887    0.25224\n",
      "389 2017-06-18         0.05874        0.11887    0.25226\n",
      "390 2017-06-25         0.05874        0.11886    0.25227\n"
     ]
    }
   ],
   "source": [
    "coef_df = ktrx.get_regression_coefs(coefficient_method=\"smooth\") # include_ci=True\n",
    "\n",
    "print(coef_df.head())\n",
    "print(coef_df.tail())"
   ]
  },
  {
   "cell_type": "code",
   "execution_count": 20,
   "metadata": {
    "ExecuteTime": {
     "end_time": "2021-07-13T22:40:11.561435Z",
     "start_time": "2021-07-13T22:40:11.514676Z"
    }
   },
   "outputs": [
    {
     "name": "stdout",
     "output_type": "stream",
     "text": [
      "        week  trend.unemploy  trend.filling  trend.job\n",
      "0 2010-01-03         0.08906        0.10378    0.21017\n",
      "1 2010-01-10         0.08905        0.10382    0.21013\n",
      "2 2010-01-17         0.08904        0.10386    0.21009\n",
      "3 2010-01-24         0.08903        0.10390    0.21005\n",
      "4 2010-01-31         0.08902        0.10394    0.21001\n",
      "          week  trend.unemploy  trend.filling  trend.job\n",
      "386 2017-05-28         0.05917        0.11838    0.25316\n",
      "387 2017-06-04         0.05916        0.11841    0.25311\n",
      "388 2017-06-11         0.05914        0.11845    0.25306\n",
      "389 2017-06-18         0.05912        0.11848    0.25301\n",
      "390 2017-06-25         0.05910        0.11851    0.25296\n"
     ]
    }
   ],
   "source": [
    "coef_df = ktrx.get_regression_coefs(coefficient_method=\"empirical\") # include_ci=True\n",
    "\n",
    "print(coef_df.head())\n",
    "print(coef_df.tail())"
   ]
  },
  {
   "cell_type": "code",
   "execution_count": 21,
   "metadata": {
    "ExecuteTime": {
     "end_time": "2021-07-13T22:40:11.610181Z",
     "start_time": "2021-07-13T22:40:11.563534Z"
    }
   },
   "outputs": [
    {
     "data": {
      "text/html": [
       "<div>\n",
       "<style scoped>\n",
       "    .dataframe tbody tr th:only-of-type {\n",
       "        vertical-align: middle;\n",
       "    }\n",
       "\n",
       "    .dataframe tbody tr th {\n",
       "        vertical-align: top;\n",
       "    }\n",
       "\n",
       "    .dataframe thead th {\n",
       "        text-align: right;\n",
       "    }\n",
       "</style>\n",
       "<table border=\"1\" class=\"dataframe\">\n",
       "  <thead>\n",
       "    <tr style=\"text-align: right;\">\n",
       "      <th></th>\n",
       "      <th>week</th>\n",
       "      <th>trend.unemploy</th>\n",
       "      <th>trend.filling</th>\n",
       "      <th>trend.job</th>\n",
       "    </tr>\n",
       "  </thead>\n",
       "  <tbody>\n",
       "    <tr>\n",
       "      <th>0</th>\n",
       "      <td>2017-06-11</td>\n",
       "      <td>0.05873</td>\n",
       "      <td>0.11887</td>\n",
       "      <td>0.25224</td>\n",
       "    </tr>\n",
       "    <tr>\n",
       "      <th>1</th>\n",
       "      <td>2017-06-18</td>\n",
       "      <td>0.05874</td>\n",
       "      <td>0.11887</td>\n",
       "      <td>0.25226</td>\n",
       "    </tr>\n",
       "    <tr>\n",
       "      <th>2</th>\n",
       "      <td>2017-06-25</td>\n",
       "      <td>0.05874</td>\n",
       "      <td>0.11886</td>\n",
       "      <td>0.25227</td>\n",
       "    </tr>\n",
       "    <tr>\n",
       "      <th>3</th>\n",
       "      <td>2017-07-02</td>\n",
       "      <td>0.05874</td>\n",
       "      <td>0.11886</td>\n",
       "      <td>0.25227</td>\n",
       "    </tr>\n",
       "    <tr>\n",
       "      <th>4</th>\n",
       "      <td>2017-07-09</td>\n",
       "      <td>0.05874</td>\n",
       "      <td>0.11886</td>\n",
       "      <td>0.25227</td>\n",
       "    </tr>\n",
       "    <tr>\n",
       "      <th>5</th>\n",
       "      <td>2017-07-16</td>\n",
       "      <td>0.05874</td>\n",
       "      <td>0.11886</td>\n",
       "      <td>0.25227</td>\n",
       "    </tr>\n",
       "  </tbody>\n",
       "</table>\n",
       "</div>"
      ],
      "text/plain": [
       "         week  trend.unemploy  trend.filling  trend.job\n",
       "0  2017-06-11         0.05873        0.11887    0.25224\n",
       "1  2017-06-18         0.05874        0.11887    0.25226\n",
       "2  2017-06-25         0.05874        0.11886    0.25227\n",
       "3  2017-07-02         0.05874        0.11886    0.25227\n",
       "4  2017-07-09         0.05874        0.11886    0.25227\n",
       "5  2017-07-16         0.05874        0.11886    0.25227"
      ]
     },
     "execution_count": 21,
     "metadata": {},
     "output_type": "execute_result"
    }
   ],
   "source": [
    "coef_df = ktrx.get_regression_coefs(coefficient_method=\"smooth\" ,\n",
    "                                    date_array=['2017-06-11', '2017-06-18', '2017-06-25',\n",
    "                                                '2017-07-02', '2017-07-09', '2017-07-16']) \n",
    "coef_df"
   ]
  },
  {
   "cell_type": "code",
   "execution_count": 22,
   "metadata": {
    "ExecuteTime": {
     "end_time": "2021-07-13T22:40:11.659105Z",
     "start_time": "2021-07-13T22:40:11.612318Z"
    }
   },
   "outputs": [
    {
     "data": {
      "text/html": [
       "<div>\n",
       "<style scoped>\n",
       "    .dataframe tbody tr th:only-of-type {\n",
       "        vertical-align: middle;\n",
       "    }\n",
       "\n",
       "    .dataframe tbody tr th {\n",
       "        vertical-align: top;\n",
       "    }\n",
       "\n",
       "    .dataframe thead th {\n",
       "        text-align: right;\n",
       "    }\n",
       "</style>\n",
       "<table border=\"1\" class=\"dataframe\">\n",
       "  <thead>\n",
       "    <tr style=\"text-align: right;\">\n",
       "      <th></th>\n",
       "      <th>week</th>\n",
       "      <th>trend.unemploy</th>\n",
       "      <th>trend.filling</th>\n",
       "      <th>trend.job</th>\n",
       "    </tr>\n",
       "  </thead>\n",
       "  <tbody>\n",
       "    <tr>\n",
       "      <th>0</th>\n",
       "      <td>2017-06-11</td>\n",
       "      <td>0.05914</td>\n",
       "      <td>0.11845</td>\n",
       "      <td>0.25306</td>\n",
       "    </tr>\n",
       "    <tr>\n",
       "      <th>1</th>\n",
       "      <td>2017-06-18</td>\n",
       "      <td>0.05912</td>\n",
       "      <td>0.11848</td>\n",
       "      <td>0.25301</td>\n",
       "    </tr>\n",
       "    <tr>\n",
       "      <th>2</th>\n",
       "      <td>2017-06-25</td>\n",
       "      <td>0.05910</td>\n",
       "      <td>0.11851</td>\n",
       "      <td>0.25296</td>\n",
       "    </tr>\n",
       "    <tr>\n",
       "      <th>3</th>\n",
       "      <td>2017-07-02</td>\n",
       "      <td>0.05910</td>\n",
       "      <td>0.11851</td>\n",
       "      <td>0.25296</td>\n",
       "    </tr>\n",
       "    <tr>\n",
       "      <th>4</th>\n",
       "      <td>2017-07-09</td>\n",
       "      <td>0.05910</td>\n",
       "      <td>0.11851</td>\n",
       "      <td>0.25296</td>\n",
       "    </tr>\n",
       "    <tr>\n",
       "      <th>5</th>\n",
       "      <td>2017-07-16</td>\n",
       "      <td>0.05910</td>\n",
       "      <td>0.11851</td>\n",
       "      <td>0.25296</td>\n",
       "    </tr>\n",
       "  </tbody>\n",
       "</table>\n",
       "</div>"
      ],
      "text/plain": [
       "         week  trend.unemploy  trend.filling  trend.job\n",
       "0  2017-06-11         0.05914        0.11845    0.25306\n",
       "1  2017-06-18         0.05912        0.11848    0.25301\n",
       "2  2017-06-25         0.05910        0.11851    0.25296\n",
       "3  2017-07-02         0.05910        0.11851    0.25296\n",
       "4  2017-07-09         0.05910        0.11851    0.25296\n",
       "5  2017-07-16         0.05910        0.11851    0.25296"
      ]
     },
     "execution_count": 22,
     "metadata": {},
     "output_type": "execute_result"
    }
   ],
   "source": [
    "coef_df = ktrx.get_regression_coefs(coefficient_method=\"empirical\" ,\n",
    "                                    date_array=['2017-06-11', '2017-06-18', '2017-06-25',\n",
    "                                                '2017-07-02', '2017-07-09', '2017-07-16']) \n",
    "coef_df"
   ]
  },
  {
   "cell_type": "code",
   "execution_count": 23,
   "metadata": {
    "ExecuteTime": {
     "end_time": "2021-07-13T22:40:11.999574Z",
     "start_time": "2021-07-13T22:40:11.661111Z"
    }
   },
   "outputs": [
    {
     "name": "stderr",
     "output_type": "stream",
     "text": [
      "/Users/zhishiw/Desktop/uTS-py/orbit/orbit/models/ktrx.py:966: UserWarning: This figure was using constrained_layout==True, but that is incompatible with subplots_adjust and or tight_layout: setting constrained_layout==False. \n",
      "  plt.tight_layout()\n"
     ]
    },
    {
     "data": {
      "image/png": "[encoded data removed]",
      "text/plain": [
       "<Figure size 720x216 with 3 Axes>"
      ]
     },
     "metadata": {},
     "output_type": "display_data"
    }
   ],
   "source": [
    "_ = ktrx.plot_regression_coefs(with_knot=True, coefficient_method='smooth', ncol=3, figsize=(10, 3))"
   ]
  },
  {
   "cell_type": "code",
   "execution_count": 24,
   "metadata": {
    "ExecuteTime": {
     "end_time": "2021-07-13T22:40:12.247826Z",
     "start_time": "2021-07-13T22:40:12.003164Z"
    }
   },
   "outputs": [
    {
     "data": {
      "text/html": [
       "<div>\n",
       "<style scoped>\n",
       "    .dataframe tbody tr th:only-of-type {\n",
       "        vertical-align: middle;\n",
       "    }\n",
       "\n",
       "    .dataframe tbody tr th {\n",
       "        vertical-align: top;\n",
       "    }\n",
       "\n",
       "    .dataframe thead th {\n",
       "        text-align: right;\n",
       "    }\n",
       "</style>\n",
       "<table border=\"1\" class=\"dataframe\">\n",
       "  <thead>\n",
       "    <tr style=\"text-align: right;\">\n",
       "      <th></th>\n",
       "      <th>week</th>\n",
       "      <th>prediction_5</th>\n",
       "      <th>prediction</th>\n",
       "      <th>prediction_95</th>\n",
       "    </tr>\n",
       "  </thead>\n",
       "  <tbody>\n",
       "    <tr>\n",
       "      <th>0</th>\n",
       "      <td>2017-07-02</td>\n",
       "      <td>11.88883</td>\n",
       "      <td>12.33372</td>\n",
       "      <td>12.77331</td>\n",
       "    </tr>\n",
       "    <tr>\n",
       "      <th>1</th>\n",
       "      <td>2017-07-09</td>\n",
       "      <td>11.89803</td>\n",
       "      <td>12.35194</td>\n",
       "      <td>12.80572</td>\n",
       "    </tr>\n",
       "    <tr>\n",
       "      <th>2</th>\n",
       "      <td>2017-07-16</td>\n",
       "      <td>11.88733</td>\n",
       "      <td>12.33697</td>\n",
       "      <td>12.78118</td>\n",
       "    </tr>\n",
       "    <tr>\n",
       "      <th>3</th>\n",
       "      <td>2017-07-23</td>\n",
       "      <td>11.87755</td>\n",
       "      <td>12.32964</td>\n",
       "      <td>12.77217</td>\n",
       "    </tr>\n",
       "    <tr>\n",
       "      <th>4</th>\n",
       "      <td>2017-07-30</td>\n",
       "      <td>11.86829</td>\n",
       "      <td>12.32331</td>\n",
       "      <td>12.77843</td>\n",
       "    </tr>\n",
       "  </tbody>\n",
       "</table>\n",
       "</div>"
      ],
      "text/plain": [
       "        week  prediction_5  prediction  prediction_95\n",
       "0 2017-07-02      11.88883    12.33372       12.77331\n",
       "1 2017-07-09      11.89803    12.35194       12.80572\n",
       "2 2017-07-16      11.88733    12.33697       12.78118\n",
       "3 2017-07-23      11.87755    12.32964       12.77217\n",
       "4 2017-07-30      11.86829    12.32331       12.77843"
      ]
     },
     "execution_count": 24,
     "metadata": {},
     "output_type": "execute_result"
    }
   ],
   "source": [
    "predicted_df = ktrx.predict(df=test_df, coefficient_method=\"smooth\", decompose=False)\n",
    "\n",
    "predicted_df.head()"
   ]
  },
  {
   "cell_type": "code",
   "execution_count": 26,
   "metadata": {
    "ExecuteTime": {
     "end_time": "2021-07-13T22:40:21.241749Z",
     "start_time": "2021-07-13T22:40:21.207884Z"
    }
   },
   "outputs": [
    {
     "data": {
      "text/plain": [
       "'SMAPE: 0.75%'"
      ]
     },
     "execution_count": 26,
     "metadata": {},
     "output_type": "execute_result"
    }
   ],
   "source": [
    "f\"SMAPE: {smape(predicted_df['prediction'].values, test_df[RESPONSE_COL].values):.2%}\""
   ]
  },
  {
   "cell_type": "code",
   "execution_count": 27,
   "metadata": {
    "ExecuteTime": {
     "end_time": "2021-07-13T22:40:22.351392Z",
     "start_time": "2021-07-13T22:40:21.996819Z"
    }
   },
   "outputs": [
    {
     "data": {
      "image/png": "[encoded data removed]",
      "text/plain": [
       "<Figure size 1152x576 with 1 Axes>"
      ]
     },
     "metadata": {},
     "output_type": "display_data"
    }
   ],
   "source": [
    "_ = plot_predicted_data(training_actual_df=train_df,\n",
    "                        predicted_df=predicted_df,\n",
    "                        date_col=DATE_COL,\n",
    "                        actual_col=RESPONSE_COL,\n",
    "                        test_actual_df=test_df)"
   ]
  },
  {
   "cell_type": "code",
   "execution_count": 28,
   "metadata": {
    "ExecuteTime": {
     "end_time": "2021-07-13T22:40:24.329703Z",
     "start_time": "2021-07-13T22:40:24.297124Z"
    },
    "tags": []
   },
   "outputs": [
    {
     "data": {
      "text/html": [
       "<div>\n",
       "<style scoped>\n",
       "    .dataframe tbody tr th:only-of-type {\n",
       "        vertical-align: middle;\n",
       "    }\n",
       "\n",
       "    .dataframe tbody tr th {\n",
       "        vertical-align: top;\n",
       "    }\n",
       "\n",
       "    .dataframe thead th {\n",
       "        text-align: right;\n",
       "    }\n",
       "</style>\n",
       "<table border=\"1\" class=\"dataframe\">\n",
       "  <thead>\n",
       "    <tr style=\"text-align: right;\">\n",
       "      <th></th>\n",
       "      <th>week</th>\n",
       "      <th>prediction_5</th>\n",
       "      <th>prediction</th>\n",
       "      <th>prediction_95</th>\n",
       "    </tr>\n",
       "  </thead>\n",
       "  <tbody>\n",
       "    <tr>\n",
       "      <th>0</th>\n",
       "      <td>2017-07-02</td>\n",
       "      <td>11.88883</td>\n",
       "      <td>12.33372</td>\n",
       "      <td>12.77331</td>\n",
       "    </tr>\n",
       "    <tr>\n",
       "      <th>1</th>\n",
       "      <td>2017-07-09</td>\n",
       "      <td>11.89803</td>\n",
       "      <td>12.35194</td>\n",
       "      <td>12.80572</td>\n",
       "    </tr>\n",
       "    <tr>\n",
       "      <th>2</th>\n",
       "      <td>2017-07-16</td>\n",
       "      <td>11.88733</td>\n",
       "      <td>12.33697</td>\n",
       "      <td>12.78118</td>\n",
       "    </tr>\n",
       "    <tr>\n",
       "      <th>3</th>\n",
       "      <td>2017-07-23</td>\n",
       "      <td>11.87755</td>\n",
       "      <td>12.32964</td>\n",
       "      <td>12.77217</td>\n",
       "    </tr>\n",
       "    <tr>\n",
       "      <th>4</th>\n",
       "      <td>2017-07-30</td>\n",
       "      <td>11.86829</td>\n",
       "      <td>12.32331</td>\n",
       "      <td>12.77843</td>\n",
       "    </tr>\n",
       "  </tbody>\n",
       "</table>\n",
       "</div>"
      ],
      "text/plain": [
       "        week  prediction_5  prediction  prediction_95\n",
       "0 2017-07-02      11.88883    12.33372       12.77331\n",
       "1 2017-07-09      11.89803    12.35194       12.80572\n",
       "2 2017-07-16      11.88733    12.33697       12.78118\n",
       "3 2017-07-23      11.87755    12.32964       12.77217\n",
       "4 2017-07-30      11.86829    12.32331       12.77843"
      ]
     },
     "execution_count": 28,
     "metadata": {},
     "output_type": "execute_result"
    }
   ],
   "source": [
    "predicted_df.head()"
   ]
  },
  {
   "cell_type": "code",
   "execution_count": 29,
   "metadata": {
    "ExecuteTime": {
     "end_time": "2021-07-13T22:40:24.906373Z",
     "start_time": "2021-07-13T22:40:24.877624Z"
    }
   },
   "outputs": [],
   "source": [
    "# ## In dev, currently predict method does not return appropriate structure in order\n",
    "# ## plot_predicted_components to work\n",
    "\n",
    "\n",
    "# _ = plot_predicted_components(predicted_df=predicted_df,\n",
    "#                               date_col=date_col,\n",
    "#                               plot_components=['trend', 'seasonality_input', 'regression'])"
   ]
  },
  {
   "cell_type": "markdown",
   "metadata": {},
   "source": [
    "## Try a different data"
   ]
  },
  {
   "cell_type": "code",
   "execution_count": 30,
   "metadata": {
    "ExecuteTime": {
     "end_time": "2021-07-13T22:40:25.998201Z",
     "start_time": "2021-07-13T22:40:25.446672Z"
    }
   },
   "outputs": [
    {
     "name": "stdout",
     "output_type": "stream",
     "text": [
      "(3288, 2)\n"
     ]
    },
    {
     "data": {
      "text/html": [
       "<div>\n",
       "<style scoped>\n",
       "    .dataframe tbody tr th:only-of-type {\n",
       "        vertical-align: middle;\n",
       "    }\n",
       "\n",
       "    .dataframe tbody tr th {\n",
       "        vertical-align: top;\n",
       "    }\n",
       "\n",
       "    .dataframe thead th {\n",
       "        text-align: right;\n",
       "    }\n",
       "</style>\n",
       "<table border=\"1\" class=\"dataframe\">\n",
       "  <thead>\n",
       "    <tr style=\"text-align: right;\">\n",
       "      <th></th>\n",
       "      <th>date</th>\n",
       "      <th>electricity</th>\n",
       "    </tr>\n",
       "  </thead>\n",
       "  <tbody>\n",
       "    <tr>\n",
       "      <th>0</th>\n",
       "      <td>2000-01-01</td>\n",
       "      <td>9.43760</td>\n",
       "    </tr>\n",
       "    <tr>\n",
       "      <th>1</th>\n",
       "      <td>2000-01-02</td>\n",
       "      <td>9.50130</td>\n",
       "    </tr>\n",
       "    <tr>\n",
       "      <th>2</th>\n",
       "      <td>2000-01-03</td>\n",
       "      <td>9.63565</td>\n",
       "    </tr>\n",
       "    <tr>\n",
       "      <th>3</th>\n",
       "      <td>2000-01-04</td>\n",
       "      <td>9.65392</td>\n",
       "    </tr>\n",
       "    <tr>\n",
       "      <th>4</th>\n",
       "      <td>2000-01-05</td>\n",
       "      <td>9.66089</td>\n",
       "    </tr>\n",
       "  </tbody>\n",
       "</table>\n",
       "</div>"
      ],
      "text/plain": [
       "        date  electricity\n",
       "0 2000-01-01      9.43760\n",
       "1 2000-01-02      9.50130\n",
       "2 2000-01-03      9.63565\n",
       "3 2000-01-04      9.65392\n",
       "4 2000-01-05      9.66089"
      ]
     },
     "execution_count": 30,
     "metadata": {},
     "output_type": "execute_result"
    }
   ],
   "source": [
    "# from 2000-01-01 to 2008-12-31\n",
    "df = load_electricity_demand()\n",
    "\n",
    "df['electricity'] = np.log(df['electricity'])\n",
    "\n",
    "DATE_COL = 'date'\n",
    "RESPONSE_COL = 'electricity'\n",
    "\n",
    "print(df.shape)\n",
    "df.head()"
   ]
  },
  {
   "cell_type": "code",
   "execution_count": 31,
   "metadata": {
    "ExecuteTime": {
     "end_time": "2021-07-13T22:40:26.033945Z",
     "start_time": "2021-07-13T22:40:26.000360Z"
    }
   },
   "outputs": [],
   "source": [
    "test_size = 365\n",
    "\n",
    "train_df = df[:-test_size]\n",
    "test_df = df[-test_size:]"
   ]
  },
  {
   "cell_type": "code",
   "execution_count": 32,
   "metadata": {
    "ExecuteTime": {
     "end_time": "2021-07-13T22:40:30.717910Z",
     "start_time": "2021-07-13T22:40:26.128460Z"
    }
   },
   "outputs": [],
   "source": [
    "ktrlite = KTRLiteMAP(response_col=RESPONSE_COL,\n",
    "                     date_col=DATE_COL,\n",
    "                     # seasonality\n",
    "                     seasonality=[7, 365.25],\n",
    "                     seasonality_fs_order=[2, 5],\n",
    "                     level_knot_scale=.1,\n",
    "                     span_level=.05,\n",
    "                     # level_knot_dates=level_knot_dates,\n",
    "                     # date_freq='D',\n",
    "                     span_coefficients=.3,\n",
    "                     estimator_type=StanEstimatorMAP,\n",
    "                     n_bootstrap_draws=1e4)\n",
    "\n",
    "ktrlite.fit(train_df)"
   ]
  },
  {
   "cell_type": "code",
   "execution_count": 33,
   "metadata": {
    "ExecuteTime": {
     "end_time": "2021-07-13T22:40:30.752204Z",
     "start_time": "2021-07-13T22:40:30.719771Z"
    }
   },
   "outputs": [],
   "source": [
    "# prepare the input\n",
    "level_knot_dates = ktrlite._level_knot_dates\n",
    "\n",
    "level_knots = ktrlite._aggregate_posteriors['map']['lev_knot'][0]\n",
    "\n",
    "seasonal_knots_input = {'_seas_coef_knot_dates': ktrlite._coef_knot_dates,\n",
    "                        '_sea_coef_knot': ktrlite._aggregate_posteriors['map']['coef_knot'],\n",
    "                        '_seasonality': ktrlite._seasonality,\n",
    "                        '_seasonality_fs_order': ktrlite._seasonality_fs_order,\n",
    "}"
   ]
  },
  {
   "cell_type": "code",
   "execution_count": 34,
   "metadata": {
    "ExecuteTime": {
     "end_time": "2021-07-13T22:41:23.679008Z",
     "start_time": "2021-07-13T22:40:30.754900Z"
    }
   },
   "outputs": [
    {
     "name": "stderr",
     "output_type": "stream",
     "text": [
      "INFO:root:Guessed max_plate_nesting = 1\n"
     ]
    },
    {
     "name": "stdout",
     "output_type": "stream",
     "text": [
      "step    0 loss = -2029.6, scale = 0.081195\n",
      "step  100 loss = -2414.4, scale = 0.24977\n",
      "step  200 loss = -2412.9, scale = 0.23128\n",
      "step  300 loss = -2416.8, scale = 0.25605\n",
      "step  400 loss = -2412, scale = 0.24845\n",
      "step  500 loss = -2413.2, scale = 0.23618\n",
      "step  600 loss = -2409.8, scale = 0.2589\n",
      "step  700 loss = -2415.9, scale = 0.24264\n",
      "step  800 loss = -2413.2, scale = 0.25749\n",
      "step  900 loss = -2411.8, scale = 0.25188\n"
     ]
    }
   ],
   "source": [
    "ktrx = KTRXFull(response_col=RESPONSE_COL,\n",
    "                date_col=DATE_COL,\n",
    "                level_knot_dates=level_knot_dates,\n",
    "                level_knots=level_knots,\n",
    "                seasonal_knots_input=seasonal_knots_input,\n",
    "                level_knot_scale=.1, #.01\n",
    "                span_coefficients=0.3,\n",
    "                rho_coefficients=0.15,\n",
    "                # pyro optimization parameters\n",
    "                seed=8888,\n",
    "                num_steps=1000,\n",
    "                num_sample=1000,\n",
    "                learning_rate=0.1,\n",
    "                #learning_rate_total_decay=0.05,\n",
    "                verbose=True,\n",
    "                message=100,\n",
    "                estimator_type=PyroEstimatorVI)\n",
    "\n",
    "ktrx.fit(train_df)"
   ]
  },
  {
   "cell_type": "code",
   "execution_count": 35,
   "metadata": {
    "ExecuteTime": {
     "end_time": "2021-07-13T22:41:23.798860Z",
     "start_time": "2021-07-13T22:41:23.681698Z"
    }
   },
   "outputs": [
    {
     "data": {
      "text/html": [
       "<div>\n",
       "<style scoped>\n",
       "    .dataframe tbody tr th:only-of-type {\n",
       "        vertical-align: middle;\n",
       "    }\n",
       "\n",
       "    .dataframe tbody tr th {\n",
       "        vertical-align: top;\n",
       "    }\n",
       "\n",
       "    .dataframe thead th {\n",
       "        text-align: right;\n",
       "    }\n",
       "</style>\n",
       "<table border=\"1\" class=\"dataframe\">\n",
       "  <thead>\n",
       "    <tr style=\"text-align: right;\">\n",
       "      <th></th>\n",
       "      <th>date</th>\n",
       "      <th>prediction_5</th>\n",
       "      <th>prediction</th>\n",
       "      <th>prediction_95</th>\n",
       "    </tr>\n",
       "  </thead>\n",
       "  <tbody>\n",
       "    <tr>\n",
       "      <th>0</th>\n",
       "      <td>2008-01-02</td>\n",
       "      <td>9.69134</td>\n",
       "      <td>9.98554</td>\n",
       "      <td>10.28596</td>\n",
       "    </tr>\n",
       "    <tr>\n",
       "      <th>1</th>\n",
       "      <td>2008-01-03</td>\n",
       "      <td>9.69751</td>\n",
       "      <td>9.99583</td>\n",
       "      <td>10.26163</td>\n",
       "    </tr>\n",
       "    <tr>\n",
       "      <th>2</th>\n",
       "      <td>2008-01-04</td>\n",
       "      <td>9.71741</td>\n",
       "      <td>10.00655</td>\n",
       "      <td>10.29545</td>\n",
       "    </tr>\n",
       "    <tr>\n",
       "      <th>3</th>\n",
       "      <td>2008-01-05</td>\n",
       "      <td>9.65367</td>\n",
       "      <td>9.93556</td>\n",
       "      <td>10.21836</td>\n",
       "    </tr>\n",
       "    <tr>\n",
       "      <th>4</th>\n",
       "      <td>2008-01-06</td>\n",
       "      <td>9.57373</td>\n",
       "      <td>9.86819</td>\n",
       "      <td>10.15533</td>\n",
       "    </tr>\n",
       "  </tbody>\n",
       "</table>\n",
       "</div>"
      ],
      "text/plain": [
       "        date  prediction_5  prediction  prediction_95\n",
       "0 2008-01-02       9.69134     9.98554       10.28596\n",
       "1 2008-01-03       9.69751     9.99583       10.26163\n",
       "2 2008-01-04       9.71741    10.00655       10.29545\n",
       "3 2008-01-05       9.65367     9.93556       10.21836\n",
       "4 2008-01-06       9.57373     9.86819       10.15533"
      ]
     },
     "execution_count": 35,
     "metadata": {},
     "output_type": "execute_result"
    }
   ],
   "source": [
    "predicted_df = ktrx.predict(df=test_df, decompose=True)\n",
    "\n",
    "predicted_df.head()"
   ]
  },
  {
   "cell_type": "code",
   "execution_count": 37,
   "metadata": {
    "ExecuteTime": {
     "end_time": "2021-07-13T22:41:44.630282Z",
     "start_time": "2021-07-13T22:41:44.591256Z"
    }
   },
   "outputs": [
    {
     "data": {
      "text/plain": [
       "'SMAPE: 0.57%'"
      ]
     },
     "execution_count": 37,
     "metadata": {},
     "output_type": "execute_result"
    }
   ],
   "source": [
    "f\"SMAPE: {smape(predicted_df['prediction'].values, test_df[RESPONSE_COL].values):.2%}\""
   ]
  },
  {
   "cell_type": "code",
   "execution_count": 38,
   "metadata": {
    "ExecuteTime": {
     "end_time": "2021-07-13T22:41:46.198083Z",
     "start_time": "2021-07-13T22:41:45.779820Z"
    }
   },
   "outputs": [
    {
     "data": {
      "image/png": "[encoded data removed]",
      "text/plain": [
       "<Figure size 1152x576 with 1 Axes>"
      ]
     },
     "metadata": {},
     "output_type": "display_data"
    }
   ],
   "source": [
    "_ = plot_predicted_data(training_actual_df=train_df,\n",
    "                        predicted_df=predicted_df,\n",
    "                        date_col=DATE_COL,\n",
    "                        actual_col=RESPONSE_COL,\n",
    "                        test_actual_df=test_df)"
   ]
  },
  {
   "cell_type": "code",
   "execution_count": null,
   "metadata": {},
   "outputs": [],
   "source": []
  }
 ],
 "metadata": {
  "kernelspec": {
   "display_name": "Python 3",
   "language": "python",
   "name": "python3"
  },
  "language_info": {
   "codemirror_mode": {
    "name": "ipython",
    "version": 3
   },
   "file_extension": ".py",
   "mimetype": "text/x-python",
   "name": "python",
   "nbconvert_exporter": "python",
   "pygments_lexer": "ipython3",
   "version": "3.7.8"
  },
  "toc": {
   "base_numbering": 1,
   "nav_menu": {},
   "number_sections": true,
   "sideBar": true,
   "skip_h1_title": true,
   "title_cell": "Table of Contents",
   "title_sidebar": "Contents",
   "toc_cell": false,
   "toc_position": {},
   "toc_section_display": true,
   "toc_window_display": true
  }
 },
 "nbformat": 4,
 "nbformat_minor": 4
}
