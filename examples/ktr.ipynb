{
 "cells": [
  {
   "cell_type": "markdown",
   "id": "cd8fa965",
   "metadata": {},
   "source": [
    "# Quick Start on Bayesian Kernel Regression Model"
   ]
  },
  {
   "cell_type": "code",
   "execution_count": 1,
   "id": "neural-judges",
   "metadata": {
    "ExecuteTime": {
     "end_time": "2021-08-16T21:02:12.358431Z",
     "start_time": "2021-08-16T21:02:12.336171Z"
    }
   },
   "outputs": [],
   "source": [
    "%load_ext autoreload\n",
    "%autoreload 2"
   ]
  },
  {
   "cell_type": "code",
   "execution_count": 2,
   "id": "51eeb334",
   "metadata": {
    "ExecuteTime": {
     "end_time": "2021-08-16T21:02:14.806119Z",
     "start_time": "2021-08-16T21:02:12.423509Z"
    }
   },
   "outputs": [],
   "source": [
    "import pandas as pd\n",
    "import numpy as np\n",
    "pd.set_option('display.float_format', lambda x: '%.5f' % x)\n",
    "import matplotlib\n",
    "import matplotlib.pyplot as plt\n",
    "\n",
    "import orbit\n",
    "from orbit.models import KTRLite, KTR\n",
    "\n",
    "from orbit.utils.features import make_fourier_series_df, make_fourier_series\n",
    "from orbit.diagnostics.plot import plot_predicted_data, plot_predicted_components\n",
    "from orbit.diagnostics.metrics import smape\n",
    "from orbit.utils.dataset import load_iclaims, load_electricity_demand\n",
    "from orbit.utils.plot import get_orbit_style\n",
    "plt.style.use(get_orbit_style())"
   ]
  },
  {
   "cell_type": "code",
   "execution_count": 3,
   "id": "8f0cc45b",
   "metadata": {
    "ExecuteTime": {
     "end_time": "2021-08-16T21:02:14.848169Z",
     "start_time": "2021-08-16T21:02:14.808448Z"
    }
   },
   "outputs": [
    {
     "data": {
      "text/plain": [
       "'1.0.16dev'"
      ]
     },
     "execution_count": 3,
     "metadata": {},
     "output_type": "execute_result"
    }
   ],
   "source": [
    "orbit.__version__"
   ]
  },
  {
   "cell_type": "markdown",
   "id": "2cf9e3f6",
   "metadata": {},
   "source": [
    "## Modeling Daily Series"
   ]
  },
  {
   "cell_type": "code",
   "execution_count": 4,
   "id": "743cc502",
   "metadata": {
    "ExecuteTime": {
     "end_time": "2021-08-16T21:02:17.729745Z",
     "start_time": "2021-08-16T21:02:16.191530Z"
    }
   },
   "outputs": [
    {
     "name": "stdout",
     "output_type": "stream",
     "text": [
      "(3288, 2)\n",
      "        date  electricity\n",
      "0 2000-01-01      9.43760\n",
      "1 2000-01-02      9.50130\n",
      "2 2000-01-03      9.63565\n",
      "3 2000-01-04      9.65392\n",
      "4 2000-01-05      9.66089\n"
     ]
    }
   ],
   "source": [
    "# from 2000-01-01 to 2008-12-31\n",
    "df = load_electricity_demand()\n",
    "DATE_COL = 'date'\n",
    "RESPONSE_COL = 'electricity'\n",
    "df[RESPONSE_COL] = np.log(df[RESPONSE_COL])\n",
    "print(df.shape)\n",
    "print(df.head())\n",
    "\n",
    "test_size=365\n",
    "train_df=df[:-test_size]\n",
    "test_df=df[-test_size:]"
   ]
  },
  {
   "cell_type": "code",
   "execution_count": 5,
   "id": "resistant-decrease",
   "metadata": {
    "ExecuteTime": {
     "end_time": "2021-08-16T21:02:17.950872Z",
     "start_time": "2021-08-16T21:02:17.733016Z"
    }
   },
   "outputs": [
    {
     "name": "stdout",
     "output_type": "stream",
     "text": [
      "(443, 7)\n",
      "<bound method NDFrame.head of           week   claims  trend.unemploy  trend.filling  trend.job    sp500  \\\n",
      "0   2010-01-03 13.38660         0.21988       -0.31845    0.11750 -0.41763   \n",
      "1   2010-01-10 13.62422         0.21988       -0.19484    0.16879 -0.42548   \n",
      "2   2010-01-17 13.39874         0.23614       -0.29248    0.11750 -0.46523   \n",
      "3   2010-01-24 13.13755         0.20335       -0.19484    0.10692 -0.48175   \n",
      "4   2010-01-31 13.19676         0.13436       -0.24247    0.07448 -0.48893   \n",
      "..         ...      ...             ...            ...        ...      ...   \n",
      "438 2018-05-27 12.22020         0.11634       -0.00479    0.05226  0.45297   \n",
      "439 2018-06-03 12.16276         0.13436        0.01425    0.05226  0.46908   \n",
      "440 2018-06-10 12.28898         0.13436        0.10440    0.06343  0.46931   \n",
      "441 2018-06-17 12.23574         0.09799        0.10440    0.02953  0.46035   \n",
      "442 2018-06-24 12.31388         0.16945        0.08701    0.05226  0.44701   \n",
      "\n",
      "         vix  \n",
      "0    0.12265  \n",
      "1    0.11044  \n",
      "2    0.53234  \n",
      "3    0.42864  \n",
      "4    0.48740  \n",
      "..       ...  \n",
      "438 -0.17519  \n",
      "439 -0.27512  \n",
      "440 -0.29168  \n",
      "441 -0.15242  \n",
      "442  0.00328  \n",
      "\n",
      "[443 rows x 7 columns]>\n"
     ]
    }
   ],
   "source": [
    "# load data\n",
    "df = load_iclaims()\n",
    "\n",
    "# define date and response column\n",
    "DATE_COL = 'week'\n",
    "RESPONSE_COL = 'claims'\n",
    "\n",
    "print(df.shape)\n",
    "print(df.head)\n",
    "\n",
    "test_size = 52\n",
    "train_df = df[:-test_size]\n",
    "test_df = df[-test_size:]"
   ]
  },
  {
   "cell_type": "code",
   "execution_count": 8,
   "id": "outstanding-incidence",
   "metadata": {
    "ExecuteTime": {
     "end_time": "2021-08-16T21:02:32.672693Z",
     "start_time": "2021-08-16T21:02:32.637342Z"
    }
   },
   "outputs": [],
   "source": [
    "ktr = KTR(\n",
    "    date_col=DATE_COL,\n",
    "    response_col=RESPONSE_COL,\n",
    "    regressor_col=['trend.unemploy', 'trend.filling'],\n",
    "    seasonality=[52],\n",
    "    seasonality_fs_order=[3],\n",
    "    level_knot_scale=.1,\n",
    "    level_segments=9,\n",
    "    seasonality_segments=2,\n",
    "    regression_segments=5,\n",
    "    estimator='pyro-svi',\n",
    "    n_bootstrap_draws=-1\n",
    ")"
   ]
  },
  {
   "cell_type": "code",
   "execution_count": 9,
   "id": "numerous-petersburg",
   "metadata": {
    "ExecuteTime": {
     "end_time": "2021-08-16T21:02:33.288674Z",
     "start_time": "2021-08-16T21:02:32.988252Z"
    }
   },
   "outputs": [
    {
     "ename": "KeyError",
     "evalue": "'lev_knot'",
     "output_type": "error",
     "traceback": [
      "\u001b[0;31m---------------------------------------------------------------------------\u001b[0m",
      "\u001b[0;31mKeyError\u001b[0m                                  Traceback (most recent call last)",
      "\u001b[0;32m<ipython-input-9-34625eafd0b6>\u001b[0m in \u001b[0;36m<module>\u001b[0;34m\u001b[0m\n\u001b[0;32m----> 1\u001b[0;31m \u001b[0mktr\u001b[0m\u001b[0;34m.\u001b[0m\u001b[0mfit\u001b[0m\u001b[0;34m(\u001b[0m\u001b[0mtrain_df\u001b[0m\u001b[0;34m)\u001b[0m\u001b[0;34m\u001b[0m\u001b[0;34m\u001b[0m\u001b[0m\n\u001b[0m",
      "\u001b[0;32m~/Desktop/uTS-py/orbit/orbit/forecaster/svi.py\u001b[0m in \u001b[0;36mfit\u001b[0;34m(self, df, point_method, keep_samples)\u001b[0m\n\u001b[1;32m     23\u001b[0m \u001b[0;34m\u001b[0m\u001b[0m\n\u001b[1;32m     24\u001b[0m     \u001b[0;32mdef\u001b[0m \u001b[0mfit\u001b[0m\u001b[0;34m(\u001b[0m\u001b[0mself\u001b[0m\u001b[0;34m,\u001b[0m \u001b[0mdf\u001b[0m\u001b[0;34m,\u001b[0m \u001b[0mpoint_method\u001b[0m\u001b[0;34m=\u001b[0m\u001b[0;32mNone\u001b[0m\u001b[0;34m,\u001b[0m \u001b[0mkeep_samples\u001b[0m\u001b[0;34m=\u001b[0m\u001b[0;32mTrue\u001b[0m\u001b[0;34m)\u001b[0m\u001b[0;34m:\u001b[0m\u001b[0;34m\u001b[0m\u001b[0;34m\u001b[0m\u001b[0m\n\u001b[0;32m---> 25\u001b[0;31m         \u001b[0msuper\u001b[0m\u001b[0;34m(\u001b[0m\u001b[0;34m)\u001b[0m\u001b[0;34m.\u001b[0m\u001b[0mfit\u001b[0m\u001b[0;34m(\u001b[0m\u001b[0mdf\u001b[0m\u001b[0;34m)\u001b[0m\u001b[0;34m\u001b[0m\u001b[0;34m\u001b[0m\u001b[0m\n\u001b[0m\u001b[1;32m     26\u001b[0m         \u001b[0mself\u001b[0m\u001b[0;34m.\u001b[0m\u001b[0m_point_method\u001b[0m \u001b[0;34m=\u001b[0m \u001b[0mpoint_method\u001b[0m\u001b[0;34m\u001b[0m\u001b[0;34m\u001b[0m\u001b[0m\n\u001b[1;32m     27\u001b[0m \u001b[0;34m\u001b[0m\u001b[0m\n",
      "\u001b[0;32m~/Desktop/uTS-py/orbit/orbit/forecaster/forecaster.py\u001b[0m in \u001b[0;36mfit\u001b[0;34m(self, df)\u001b[0m\n\u001b[1;32m    122\u001b[0m         \u001b[0mself\u001b[0m\u001b[0;34m.\u001b[0m\u001b[0m_set_training_meta\u001b[0m\u001b[0;34m(\u001b[0m\u001b[0mdf\u001b[0m\u001b[0;34m)\u001b[0m\u001b[0;34m\u001b[0m\u001b[0;34m\u001b[0m\u001b[0m\n\u001b[1;32m    123\u001b[0m         \u001b[0;31m# customize module\u001b[0m\u001b[0;34m\u001b[0m\u001b[0;34m\u001b[0m\u001b[0;34m\u001b[0m\u001b[0m\n\u001b[0;32m--> 124\u001b[0;31m         \u001b[0mself\u001b[0m\u001b[0;34m.\u001b[0m\u001b[0m_model\u001b[0m\u001b[0;34m.\u001b[0m\u001b[0mset_dynamic_attributes\u001b[0m\u001b[0;34m(\u001b[0m\u001b[0mdf\u001b[0m\u001b[0;34m=\u001b[0m\u001b[0mdf\u001b[0m\u001b[0;34m,\u001b[0m \u001b[0mtraining_meta\u001b[0m\u001b[0;34m=\u001b[0m\u001b[0mself\u001b[0m\u001b[0;34m.\u001b[0m\u001b[0mget_training_meta\u001b[0m\u001b[0;34m(\u001b[0m\u001b[0;34m)\u001b[0m\u001b[0;34m)\u001b[0m\u001b[0;34m\u001b[0m\u001b[0;34m\u001b[0m\u001b[0m\n\u001b[0m\u001b[1;32m    125\u001b[0m         \u001b[0;31m# based on the model and df, set training input\u001b[0m\u001b[0;34m\u001b[0m\u001b[0;34m\u001b[0m\u001b[0;34m\u001b[0m\u001b[0m\n\u001b[1;32m    126\u001b[0m         \u001b[0mself\u001b[0m\u001b[0;34m.\u001b[0m\u001b[0mset_training_data_input\u001b[0m\u001b[0;34m(\u001b[0m\u001b[0;34m)\u001b[0m\u001b[0;34m\u001b[0m\u001b[0;34m\u001b[0m\u001b[0m\n",
      "\u001b[0;32m~/Desktop/uTS-py/orbit/orbit/template/ktr.py\u001b[0m in \u001b[0;36mset_dynamic_attributes\u001b[0;34m(self, df, training_meta)\u001b[0m\n\u001b[1;32m    761\u001b[0m         \u001b[0mself\u001b[0m\u001b[0;34m.\u001b[0m\u001b[0m_set_coefficients_kernel_matrix\u001b[0m\u001b[0;34m(\u001b[0m\u001b[0mdf\u001b[0m\u001b[0;34m,\u001b[0m \u001b[0mtraining_meta\u001b[0m\u001b[0;34m)\u001b[0m\u001b[0;34m\u001b[0m\u001b[0;34m\u001b[0m\u001b[0m\n\u001b[1;32m    762\u001b[0m         \u001b[0mself\u001b[0m\u001b[0;34m.\u001b[0m\u001b[0m_set_knots_scale_matrix\u001b[0m\u001b[0;34m(\u001b[0m\u001b[0mdf\u001b[0m\u001b[0;34m,\u001b[0m \u001b[0mtraining_meta\u001b[0m\u001b[0;34m)\u001b[0m\u001b[0;34m\u001b[0m\u001b[0;34m\u001b[0m\u001b[0m\n\u001b[0;32m--> 763\u001b[0;31m         \u001b[0mself\u001b[0m\u001b[0;34m.\u001b[0m\u001b[0m_set_levs_and_seas\u001b[0m\u001b[0;34m(\u001b[0m\u001b[0mdf\u001b[0m\u001b[0;34m,\u001b[0m \u001b[0mtraining_meta\u001b[0m\u001b[0;34m)\u001b[0m\u001b[0;34m\u001b[0m\u001b[0;34m\u001b[0m\u001b[0m\n\u001b[0m\u001b[1;32m    764\u001b[0m         \u001b[0mself\u001b[0m\u001b[0;34m.\u001b[0m\u001b[0m_filter_coef_prior\u001b[0m\u001b[0;34m(\u001b[0m\u001b[0mdf\u001b[0m\u001b[0;34m)\u001b[0m\u001b[0;34m\u001b[0m\u001b[0;34m\u001b[0m\u001b[0m\n\u001b[1;32m    765\u001b[0m \u001b[0;34m\u001b[0m\u001b[0m\n",
      "\u001b[0;32m~/Desktop/uTS-py/orbit/orbit/template/ktr.py\u001b[0m in \u001b[0;36m_set_levs_and_seas\u001b[0;34m(self, df, training_meta)\u001b[0m\n\u001b[1;32m    697\u001b[0m \u001b[0;34m\u001b[0m\u001b[0m\n\u001b[1;32m    698\u001b[0m         \u001b[0;31m# this part is to download level and seasonality result from KTRLite\u001b[0m\u001b[0;34m\u001b[0m\u001b[0;34m\u001b[0m\u001b[0;34m\u001b[0m\u001b[0m\n\u001b[0;32m--> 699\u001b[0;31m         \u001b[0mself\u001b[0m\u001b[0;34m.\u001b[0m\u001b[0m_level_knots\u001b[0m \u001b[0;34m=\u001b[0m \u001b[0mnp\u001b[0m\u001b[0;34m.\u001b[0m\u001b[0msqueeze\u001b[0m\u001b[0;34m(\u001b[0m\u001b[0mktrlite_pt_posteriors\u001b[0m\u001b[0;34m[\u001b[0m\u001b[0;34m'lev_knot'\u001b[0m\u001b[0;34m]\u001b[0m\u001b[0;34m)\u001b[0m\u001b[0;34m\u001b[0m\u001b[0;34m\u001b[0m\u001b[0m\n\u001b[0m\u001b[1;32m    700\u001b[0m         \u001b[0mself\u001b[0m\u001b[0;34m.\u001b[0m\u001b[0mlevel_knot_dates\u001b[0m \u001b[0;34m=\u001b[0m \u001b[0mktrlite\u001b[0m\u001b[0;34m.\u001b[0m\u001b[0m_model\u001b[0m\u001b[0;34m.\u001b[0m\u001b[0m_level_knot_dates\u001b[0m\u001b[0;34m\u001b[0m\u001b[0;34m\u001b[0m\u001b[0m\n\u001b[1;32m    701\u001b[0m         \u001b[0mtp\u001b[0m \u001b[0;34m=\u001b[0m \u001b[0mnp\u001b[0m\u001b[0;34m.\u001b[0m\u001b[0marange\u001b[0m\u001b[0;34m(\u001b[0m\u001b[0;36m1\u001b[0m\u001b[0;34m,\u001b[0m \u001b[0mnum_of_observations\u001b[0m \u001b[0;34m+\u001b[0m \u001b[0;36m1\u001b[0m\u001b[0;34m)\u001b[0m \u001b[0;34m/\u001b[0m \u001b[0mnum_of_observations\u001b[0m\u001b[0;34m\u001b[0m\u001b[0;34m\u001b[0m\u001b[0m\n",
      "\u001b[0;31mKeyError\u001b[0m: 'lev_knot'"
     ]
    }
   ],
   "source": [
    "ktr.fit(train_df)"
   ]
  },
  {
   "cell_type": "code",
   "execution_count": 28,
   "id": "drawn-mounting",
   "metadata": {
    "ExecuteTime": {
     "end_time": "2021-08-13T22:14:22.175287Z",
     "start_time": "2021-08-13T22:14:22.125130Z"
    }
   },
   "outputs": [
    {
     "data": {
      "text/html": [
       "<div>\n",
       "<style scoped>\n",
       "    .dataframe tbody tr th:only-of-type {\n",
       "        vertical-align: middle;\n",
       "    }\n",
       "\n",
       "    .dataframe tbody tr th {\n",
       "        vertical-align: top;\n",
       "    }\n",
       "\n",
       "    .dataframe thead th {\n",
       "        text-align: right;\n",
       "    }\n",
       "</style>\n",
       "<table border=\"1\" class=\"dataframe\">\n",
       "  <thead>\n",
       "    <tr style=\"text-align: right;\">\n",
       "      <th></th>\n",
       "      <th>week</th>\n",
       "      <th>prediction_5</th>\n",
       "      <th>prediction</th>\n",
       "      <th>prediction_95</th>\n",
       "      <th>trend_5</th>\n",
       "      <th>trend</th>\n",
       "      <th>trend_95</th>\n",
       "      <th>seasonality_input_5</th>\n",
       "      <th>seasonality_input</th>\n",
       "      <th>seasonality_input_95</th>\n",
       "      <th>regression_5</th>\n",
       "      <th>regression</th>\n",
       "      <th>regression_95</th>\n",
       "    </tr>\n",
       "  </thead>\n",
       "  <tbody>\n",
       "    <tr>\n",
       "      <th>0</th>\n",
       "      <td>2017-07-02</td>\n",
       "      <td>11.94877</td>\n",
       "      <td>12.44043</td>\n",
       "      <td>12.84219</td>\n",
       "      <td>12.27572</td>\n",
       "      <td>12.35788</td>\n",
       "      <td>12.47043</td>\n",
       "      <td>0.05629</td>\n",
       "      <td>0.05629</td>\n",
       "      <td>0.05629</td>\n",
       "      <td>-0.02770</td>\n",
       "      <td>0.01378</td>\n",
       "      <td>0.06929</td>\n",
       "    </tr>\n",
       "    <tr>\n",
       "      <th>1</th>\n",
       "      <td>2017-07-09</td>\n",
       "      <td>11.93529</td>\n",
       "      <td>12.39667</td>\n",
       "      <td>12.96085</td>\n",
       "      <td>12.27921</td>\n",
       "      <td>12.35544</td>\n",
       "      <td>12.46884</td>\n",
       "      <td>0.04868</td>\n",
       "      <td>0.04868</td>\n",
       "      <td>0.04868</td>\n",
       "      <td>-0.02430</td>\n",
       "      <td>0.01544</td>\n",
       "      <td>0.05902</td>\n",
       "    </tr>\n",
       "    <tr>\n",
       "      <th>2</th>\n",
       "      <td>2017-07-16</td>\n",
       "      <td>11.87674</td>\n",
       "      <td>12.43714</td>\n",
       "      <td>12.85103</td>\n",
       "      <td>12.27901</td>\n",
       "      <td>12.35567</td>\n",
       "      <td>12.46919</td>\n",
       "      <td>0.02246</td>\n",
       "      <td>0.02246</td>\n",
       "      <td>0.02246</td>\n",
       "      <td>-0.02086</td>\n",
       "      <td>0.01279</td>\n",
       "      <td>0.05437</td>\n",
       "    </tr>\n",
       "    <tr>\n",
       "      <th>3</th>\n",
       "      <td>2017-07-23</td>\n",
       "      <td>11.88879</td>\n",
       "      <td>12.41574</td>\n",
       "      <td>12.84731</td>\n",
       "      <td>12.27147</td>\n",
       "      <td>12.35534</td>\n",
       "      <td>12.47007</td>\n",
       "      <td>-0.01884</td>\n",
       "      <td>-0.01884</td>\n",
       "      <td>-0.01884</td>\n",
       "      <td>-0.01684</td>\n",
       "      <td>0.01049</td>\n",
       "      <td>0.04242</td>\n",
       "    </tr>\n",
       "    <tr>\n",
       "      <th>4</th>\n",
       "      <td>2017-07-30</td>\n",
       "      <td>11.81664</td>\n",
       "      <td>12.32488</td>\n",
       "      <td>12.66906</td>\n",
       "      <td>12.26948</td>\n",
       "      <td>12.35501</td>\n",
       "      <td>12.47413</td>\n",
       "      <td>-0.06885</td>\n",
       "      <td>-0.06885</td>\n",
       "      <td>-0.06885</td>\n",
       "      <td>-0.01867</td>\n",
       "      <td>0.01172</td>\n",
       "      <td>0.05019</td>\n",
       "    </tr>\n",
       "  </tbody>\n",
       "</table>\n",
       "</div>"
      ],
      "text/plain": [
       "        week  prediction_5  prediction  prediction_95  trend_5    trend  \\\n",
       "0 2017-07-02      11.94877    12.44043       12.84219 12.27572 12.35788   \n",
       "1 2017-07-09      11.93529    12.39667       12.96085 12.27921 12.35544   \n",
       "2 2017-07-16      11.87674    12.43714       12.85103 12.27901 12.35567   \n",
       "3 2017-07-23      11.88879    12.41574       12.84731 12.27147 12.35534   \n",
       "4 2017-07-30      11.81664    12.32488       12.66906 12.26948 12.35501   \n",
       "\n",
       "   trend_95  seasonality_input_5  seasonality_input  seasonality_input_95  \\\n",
       "0  12.47043              0.05629            0.05629               0.05629   \n",
       "1  12.46884              0.04868            0.04868               0.04868   \n",
       "2  12.46919              0.02246            0.02246               0.02246   \n",
       "3  12.47007             -0.01884           -0.01884              -0.01884   \n",
       "4  12.47413             -0.06885           -0.06885              -0.06885   \n",
       "\n",
       "   regression_5  regression  regression_95  \n",
       "0      -0.02770     0.01378        0.06929  \n",
       "1      -0.02430     0.01544        0.05902  \n",
       "2      -0.02086     0.01279        0.05437  \n",
       "3      -0.01684     0.01049        0.04242  \n",
       "4      -0.01867     0.01172        0.05019  "
      ]
     },
     "execution_count": 28,
     "metadata": {},
     "output_type": "execute_result"
    }
   ],
   "source": [
    "predicted_df = ktr.predict(df=test_df, decompose=True)\n",
    "predicted_df.head()"
   ]
  },
  {
   "cell_type": "code",
   "execution_count": null,
   "id": "instant-master",
   "metadata": {},
   "outputs": [],
   "source": []
  },
  {
   "cell_type": "code",
   "execution_count": null,
   "id": "minute-attention",
   "metadata": {},
   "outputs": [],
   "source": []
  },
  {
   "cell_type": "code",
   "execution_count": null,
   "id": "competent-first",
   "metadata": {},
   "outputs": [],
   "source": [
    "# point_method\n",
    "# no regression\n",
    "# no seasonality\n",
    "# rewrite stan-map part; optimization?"
   ]
  },
  {
   "cell_type": "code",
   "execution_count": null,
   "id": "permanent-swift",
   "metadata": {},
   "outputs": [],
   "source": []
  },
  {
   "cell_type": "code",
   "execution_count": null,
   "id": "mexican-frequency",
   "metadata": {},
   "outputs": [],
   "source": []
  },
  {
   "cell_type": "code",
   "execution_count": null,
   "id": "listed-thinking",
   "metadata": {},
   "outputs": [],
   "source": []
  },
  {
   "cell_type": "code",
   "execution_count": null,
   "id": "regional-variety",
   "metadata": {},
   "outputs": [],
   "source": []
  },
  {
   "cell_type": "code",
   "execution_count": null,
   "id": "genetic-living",
   "metadata": {},
   "outputs": [],
   "source": []
  },
  {
   "cell_type": "code",
   "execution_count": null,
   "id": "solar-discussion",
   "metadata": {},
   "outputs": [],
   "source": []
  },
  {
   "cell_type": "markdown",
   "id": "reflected-alfred",
   "metadata": {},
   "source": [
    "### old testing examples by ediwn"
   ]
  },
  {
   "cell_type": "code",
   "execution_count": 78,
   "id": "24de245a",
   "metadata": {},
   "outputs": [],
   "source": [
    "ktr_template = KTRModel(\n",
    "\n",
    "    level_knot_scale=0.1,\n",
    "#     regressor_col=None,\n",
    "#     regressor_init_knot_loc=[0] * len(regressor_col),\n",
    "#     regressor_init_knot_scale=[1.0] * len(regressor_col),\n",
    "#     regressor_knot_scale=[0.5] * len(regressor_col),\n",
    "#     regression_segments=5,\n",
    "    seasonality=[7, 365.25],\n",
    "    seasonality_fs_order=[2, 5],\n",
    "    span_coefficients=0.1,\n",
    "    rho_coefficients=0.05,\n",
    "    prediction_percentiles=[2.5, 97.5],\n",
    "    seed=2020,\n",
    "    num_steps=501,\n",
    "    num_sample=1000,\n",
    "    learning_rate=0.2,\n",
    "    learning_rate_total_decay=0.05,\n",
    "    verbose=True,\n",
    "    message=50,\n",
    "\n",
    "    flat_multiplier=True,\n",
    "    min_residuals_sd=1.0\n",
    ")\n",
    "ktr = SVIForecaster(\n",
    "    response_col=RESPONSE_COL,\n",
    "    date_col=DATE_COL,\n",
    "    model=ktr_template,\n",
    "    verbose=True,\n",
    "    n_bootstrap_draws=-1,\n",
    "    estimator_type=PyroEstimatorVI,\n",
    ")"
   ]
  },
  {
   "cell_type": "code",
   "execution_count": 79,
   "id": "57b805b1",
   "metadata": {
    "scrolled": false
   },
   "outputs": [
    {
     "name": "stdout",
     "output_type": "stream",
     "text": [
      "Initial log joint probability = -266031\n",
      "    Iter      log prob        ||dx||      ||grad||       alpha      alpha0  # evals  Notes \n",
      "      19       4643.45     0.0798004       3202.57           1           1       27   \n",
      "    Iter      log prob        ||dx||      ||grad||       alpha      alpha0  # evals  Notes \n",
      "      39       5464.67     0.0239765       459.134           1           1       50   \n",
      "    Iter      log prob        ||dx||      ||grad||       alpha      alpha0  # evals  Notes \n",
      "      59          5470    0.00134511       59.0033           1           1       71   \n",
      "    Iter      log prob        ||dx||      ||grad||       alpha      alpha0  # evals  Notes \n",
      "      79       5470.14   0.000108002       18.5481     0.05391           1       94   \n",
      "    Iter      log prob        ||dx||      ||grad||       alpha      alpha0  # evals  Notes \n",
      "      99       5470.15   0.000102151       16.1013           1           1      119   \n",
      "    Iter      log prob        ||dx||      ||grad||       alpha      alpha0  # evals  Notes \n",
      "     119        5470.2    0.00172574       41.2773           1           1      140   \n",
      "    Iter      log prob        ||dx||      ||grad||       alpha      alpha0  # evals  Notes \n",
      "     139       5471.03     0.0458476       70.0841           1           1      163   \n",
      "    Iter      log prob        ||dx||      ||grad||       alpha      alpha0  # evals  Notes \n",
      "     159       5471.36     0.0010861       15.1471           1           1      187   \n",
      "    Iter      log prob        ||dx||      ||grad||       alpha      alpha0  # evals  Notes \n",
      "     179       5471.38   0.000161338       12.9135      0.2729           1      211   \n",
      "    Iter      log prob        ||dx||      ||grad||       alpha      alpha0  # evals  Notes \n",
      "     199       5471.39   0.000195224       19.6056      0.4956      0.4956      246   \n",
      "    Iter      log prob        ||dx||      ||grad||       alpha      alpha0  # evals  Notes \n",
      "     219       5471.42   0.000107594       30.9521      0.2686           1      269   \n",
      "    Iter      log prob        ||dx||      ||grad||       alpha      alpha0  # evals  Notes \n",
      "     239       5471.83      0.176332       502.979           1           1      291   \n",
      "    Iter      log prob        ||dx||      ||grad||       alpha      alpha0  # evals  Notes \n",
      "     259       8093.46     0.0116858       5996.02      0.2362      0.2362      342   \n",
      "    Iter      log prob        ||dx||      ||grad||       alpha      alpha0  # evals  Notes \n",
      "     279       8244.72    0.00157788       623.371           1           1      362   \n",
      "    Iter      log prob        ||dx||      ||grad||       alpha      alpha0  # evals  Notes \n",
      "     299       8245.28   0.000192364       44.8807           1           1      384   \n",
      "    Iter      log prob        ||dx||      ||grad||       alpha      alpha0  # evals  Notes \n",
      "     319       8245.29   9.03245e-05       8.58174           1           1      409   \n",
      "    Iter      log prob        ||dx||      ||grad||       alpha      alpha0  # evals  Notes \n",
      "     339       8245.29    7.9714e-05       16.4942           1           1      433   \n",
      "    Iter      log prob        ||dx||      ||grad||       alpha      alpha0  # evals  Notes \n",
      "     359        8245.3   0.000324279       29.7059           1           1      455   \n",
      "    Iter      log prob        ||dx||      ||grad||       alpha      alpha0  # evals  Notes \n",
      "     379       8245.32    0.00547658       70.6453      0.3608           1      477   \n",
      "    Iter      log prob        ||dx||      ||grad||       alpha      alpha0  # evals  Notes \n",
      "     399       8245.43     0.0176762       146.659           1           1      498   \n",
      "    Iter      log prob        ||dx||      ||grad||       alpha      alpha0  # evals  Notes \n",
      "     419       8245.82     0.0013901        171.58           1           1      526   \n",
      "    Iter      log prob        ||dx||      ||grad||       alpha      alpha0  # evals  Notes \n",
      "     439       8245.92   5.72661e-05       56.4211      0.2715      0.2715      549   \n",
      "    Iter      log prob        ||dx||      ||grad||       alpha      alpha0  # evals  Notes \n",
      "     459       8245.96   0.000142835       68.8249      0.3395           1      572   \n",
      "    Iter      log prob        ||dx||      ||grad||       alpha      alpha0  # evals  Notes \n",
      "     479       8245.98   0.000212146       24.9089           1           1      594   \n",
      "    Iter      log prob        ||dx||      ||grad||       alpha      alpha0  # evals  Notes \n",
      "     496       8245.98   1.88513e-05       6.47346      0.2053           1      614   \n",
      "Optimization terminated normally: \n",
      "  Convergence detected: relative gradient magnitude is below tolerance\n"
     ]
    },
    {
     "ename": "ValueError",
     "evalue": "matmul: Input operand 1 has a mismatch in its core dimension 0, with gufunc signature (n?,k),(k,m?)->(n?,m?) (size 1 is different from 2)",
     "output_type": "error",
     "traceback": [
      "\u001b[0;31m---------------------------------------------------------------------------\u001b[0m",
      "\u001b[0;31mValueError\u001b[0m                                Traceback (most recent call last)",
      "\u001b[0;32m/var/folders/9f/m35pbwgx13n2j29rjhpkcyg40000gn/T/ipykernel_23598/134066571.py\u001b[0m in \u001b[0;36m<module>\u001b[0;34m\u001b[0m\n\u001b[0;32m----> 1\u001b[0;31m \u001b[0mktr\u001b[0m\u001b[0;34m.\u001b[0m\u001b[0mfit\u001b[0m\u001b[0;34m(\u001b[0m\u001b[0mdf\u001b[0m\u001b[0;34m=\u001b[0m\u001b[0mdf\u001b[0m\u001b[0;34m)\u001b[0m\u001b[0;34m\u001b[0m\u001b[0;34m\u001b[0m\u001b[0m\n\u001b[0m",
      "\u001b[0;32m~/work/orbit-super/orbit/orbit/forecaster/svi.py\u001b[0m in \u001b[0;36mfit\u001b[0;34m(self, df, point_method, keep_samples)\u001b[0m\n\u001b[1;32m     23\u001b[0m \u001b[0;34m\u001b[0m\u001b[0m\n\u001b[1;32m     24\u001b[0m     \u001b[0;32mdef\u001b[0m \u001b[0mfit\u001b[0m\u001b[0;34m(\u001b[0m\u001b[0mself\u001b[0m\u001b[0;34m,\u001b[0m \u001b[0mdf\u001b[0m\u001b[0;34m,\u001b[0m \u001b[0mpoint_method\u001b[0m\u001b[0;34m=\u001b[0m\u001b[0;32mNone\u001b[0m\u001b[0;34m,\u001b[0m \u001b[0mkeep_samples\u001b[0m\u001b[0;34m=\u001b[0m\u001b[0;32mTrue\u001b[0m\u001b[0;34m)\u001b[0m\u001b[0;34m:\u001b[0m\u001b[0;34m\u001b[0m\u001b[0;34m\u001b[0m\u001b[0m\n\u001b[0;32m---> 25\u001b[0;31m         \u001b[0msuper\u001b[0m\u001b[0;34m(\u001b[0m\u001b[0;34m)\u001b[0m\u001b[0;34m.\u001b[0m\u001b[0mfit\u001b[0m\u001b[0;34m(\u001b[0m\u001b[0mdf\u001b[0m\u001b[0;34m)\u001b[0m\u001b[0;34m\u001b[0m\u001b[0;34m\u001b[0m\u001b[0m\n\u001b[0m\u001b[1;32m     26\u001b[0m         \u001b[0mself\u001b[0m\u001b[0;34m.\u001b[0m\u001b[0m_point_method\u001b[0m \u001b[0;34m=\u001b[0m \u001b[0mpoint_method\u001b[0m\u001b[0;34m\u001b[0m\u001b[0;34m\u001b[0m\u001b[0m\n\u001b[1;32m     27\u001b[0m \u001b[0;34m\u001b[0m\u001b[0m\n",
      "\u001b[0;32m~/work/orbit-super/orbit/orbit/forecaster/forecaster.py\u001b[0m in \u001b[0;36mfit\u001b[0;34m(self, df)\u001b[0m\n\u001b[1;32m    122\u001b[0m         \u001b[0mself\u001b[0m\u001b[0;34m.\u001b[0m\u001b[0m_set_training_meta\u001b[0m\u001b[0;34m(\u001b[0m\u001b[0mdf\u001b[0m\u001b[0;34m)\u001b[0m\u001b[0;34m\u001b[0m\u001b[0;34m\u001b[0m\u001b[0m\n\u001b[1;32m    123\u001b[0m         \u001b[0;31m# customize module\u001b[0m\u001b[0;34m\u001b[0m\u001b[0;34m\u001b[0m\u001b[0;34m\u001b[0m\u001b[0m\n\u001b[0;32m--> 124\u001b[0;31m         \u001b[0mself\u001b[0m\u001b[0;34m.\u001b[0m\u001b[0m_model\u001b[0m\u001b[0;34m.\u001b[0m\u001b[0mset_dynamic_attributes\u001b[0m\u001b[0;34m(\u001b[0m\u001b[0mdf\u001b[0m\u001b[0;34m=\u001b[0m\u001b[0mdf\u001b[0m\u001b[0;34m,\u001b[0m \u001b[0mtraining_meta\u001b[0m\u001b[0;34m=\u001b[0m\u001b[0mself\u001b[0m\u001b[0;34m.\u001b[0m\u001b[0mget_training_meta\u001b[0m\u001b[0;34m(\u001b[0m\u001b[0;34m)\u001b[0m\u001b[0;34m)\u001b[0m\u001b[0;34m\u001b[0m\u001b[0;34m\u001b[0m\u001b[0m\n\u001b[0m\u001b[1;32m    125\u001b[0m         \u001b[0;31m# based on the model and df, set training input\u001b[0m\u001b[0;34m\u001b[0m\u001b[0;34m\u001b[0m\u001b[0;34m\u001b[0m\u001b[0m\n\u001b[1;32m    126\u001b[0m         \u001b[0mself\u001b[0m\u001b[0;34m.\u001b[0m\u001b[0mset_training_data_input\u001b[0m\u001b[0;34m(\u001b[0m\u001b[0;34m)\u001b[0m\u001b[0;34m\u001b[0m\u001b[0;34m\u001b[0m\u001b[0m\n",
      "\u001b[0;32m~/work/orbit-super/orbit/orbit/template/ktr.py\u001b[0m in \u001b[0;36mset_dynamic_attributes\u001b[0;34m(self, df, training_meta)\u001b[0m\n\u001b[1;32m    828\u001b[0m         \u001b[0mself\u001b[0m\u001b[0;34m.\u001b[0m\u001b[0m_set_coefficients_kernel_matrix\u001b[0m\u001b[0;34m(\u001b[0m\u001b[0mdf\u001b[0m\u001b[0;34m,\u001b[0m \u001b[0mtraining_meta\u001b[0m\u001b[0;34m)\u001b[0m\u001b[0;34m\u001b[0m\u001b[0;34m\u001b[0m\u001b[0m\n\u001b[1;32m    829\u001b[0m         \u001b[0mself\u001b[0m\u001b[0;34m.\u001b[0m\u001b[0m_set_knots_scale_matrix\u001b[0m\u001b[0;34m(\u001b[0m\u001b[0mdf\u001b[0m\u001b[0;34m,\u001b[0m \u001b[0mtraining_meta\u001b[0m\u001b[0;34m)\u001b[0m\u001b[0;34m\u001b[0m\u001b[0;34m\u001b[0m\u001b[0m\n\u001b[0;32m--> 830\u001b[0;31m         \u001b[0mself\u001b[0m\u001b[0;34m.\u001b[0m\u001b[0m_set_levs_and_seas\u001b[0m\u001b[0;34m(\u001b[0m\u001b[0mdf\u001b[0m\u001b[0;34m,\u001b[0m \u001b[0mtraining_meta\u001b[0m\u001b[0;34m)\u001b[0m\u001b[0;34m\u001b[0m\u001b[0;34m\u001b[0m\u001b[0m\n\u001b[0m\u001b[1;32m    831\u001b[0m         \u001b[0mself\u001b[0m\u001b[0;34m.\u001b[0m\u001b[0m_filter_coef_prior\u001b[0m\u001b[0;34m(\u001b[0m\u001b[0mdf\u001b[0m\u001b[0;34m)\u001b[0m\u001b[0;34m\u001b[0m\u001b[0;34m\u001b[0m\u001b[0m\n\u001b[1;32m    832\u001b[0m \u001b[0;34m\u001b[0m\u001b[0m\n",
      "\u001b[0;32m~/work/orbit-super/orbit/orbit/template/ktr.py\u001b[0m in \u001b[0;36m_set_levs_and_seas\u001b[0;34m(self, df, training_meta)\u001b[0m\n\u001b[1;32m    800\u001b[0m                 \u001b[0mself\u001b[0m\u001b[0;34m.\u001b[0m\u001b[0m_seasonality_coef_knot\u001b[0m \u001b[0;34m,\u001b[0m\u001b[0;34m\u001b[0m\u001b[0;34m\u001b[0m\u001b[0m\n\u001b[1;32m    801\u001b[0m                 \u001b[0mself\u001b[0m\u001b[0;34m.\u001b[0m\u001b[0m_seasonality\u001b[0m\u001b[0;34m,\u001b[0m\u001b[0;34m\u001b[0m\u001b[0;34m\u001b[0m\u001b[0m\n\u001b[0;32m--> 802\u001b[0;31m                 self._seasonality_fs_order)\n\u001b[0m\u001b[1;32m    803\u001b[0m \u001b[0;34m\u001b[0m\u001b[0m\n\u001b[1;32m    804\u001b[0m     \u001b[0;32mdef\u001b[0m \u001b[0m_filter_coef_prior\u001b[0m\u001b[0;34m(\u001b[0m\u001b[0mself\u001b[0m\u001b[0;34m,\u001b[0m \u001b[0mdf\u001b[0m\u001b[0;34m)\u001b[0m\u001b[0;34m:\u001b[0m\u001b[0;34m\u001b[0m\u001b[0;34m\u001b[0m\u001b[0m\n",
      "\u001b[0;32m~/work/orbit-super/orbit/orbit/template/ktr.py\u001b[0m in \u001b[0;36m_generate_seas\u001b[0;34m(self, df, training_meta, coef_knot_dates, coef_knot, seasonality, seasonality_fs_order)\u001b[0m\n\u001b[1;32m    726\u001b[0m \u001b[0;34m\u001b[0m\u001b[0m\n\u001b[1;32m    727\u001b[0m         \u001b[0msea_regressor_matrix\u001b[0m \u001b[0;34m=\u001b[0m \u001b[0mdf\u001b[0m\u001b[0;34m.\u001b[0m\u001b[0mfilter\u001b[0m\u001b[0;34m(\u001b[0m\u001b[0mitems\u001b[0m\u001b[0;34m=\u001b[0m\u001b[0mfs_cols\u001b[0m\u001b[0;34m)\u001b[0m\u001b[0;34m.\u001b[0m\u001b[0mvalues\u001b[0m\u001b[0;34m\u001b[0m\u001b[0;34m\u001b[0m\u001b[0m\n\u001b[0;32m--> 728\u001b[0;31m         \u001b[0msea_coefs\u001b[0m \u001b[0;34m=\u001b[0m \u001b[0mself\u001b[0m\u001b[0;34m.\u001b[0m\u001b[0m_generate_coefs\u001b[0m\u001b[0;34m(\u001b[0m\u001b[0mtraining_meta\u001b[0m\u001b[0;34m,\u001b[0m \u001b[0mprediction_date_array\u001b[0m\u001b[0;34m,\u001b[0m \u001b[0mcoef_knot_dates\u001b[0m\u001b[0;34m,\u001b[0m \u001b[0mcoef_knot\u001b[0m\u001b[0;34m)\u001b[0m\u001b[0;34m\u001b[0m\u001b[0;34m\u001b[0m\u001b[0m\n\u001b[0m\u001b[1;32m    729\u001b[0m         \u001b[0mseas\u001b[0m \u001b[0;34m=\u001b[0m \u001b[0mnp\u001b[0m\u001b[0;34m.\u001b[0m\u001b[0msum\u001b[0m\u001b[0;34m(\u001b[0m\u001b[0msea_coefs\u001b[0m \u001b[0;34m*\u001b[0m \u001b[0msea_regressor_matrix\u001b[0m\u001b[0;34m,\u001b[0m \u001b[0maxis\u001b[0m\u001b[0;34m=\u001b[0m\u001b[0;34m-\u001b[0m\u001b[0;36m1\u001b[0m\u001b[0;34m)\u001b[0m\u001b[0;34m\u001b[0m\u001b[0;34m\u001b[0m\u001b[0m\n\u001b[1;32m    730\u001b[0m \u001b[0;34m\u001b[0m\u001b[0m\n",
      "\u001b[0;32m~/work/orbit-super/orbit/orbit/template/ktr.py\u001b[0m in \u001b[0;36m_generate_coefs\u001b[0;34m(self, training_meta, prediction_date_array, coef_knot_dates, coef_knot)\u001b[0m\n\u001b[1;32m    679\u001b[0m         \u001b[0mknots_tp_coef\u001b[0m \u001b[0;34m=\u001b[0m \u001b[0mself\u001b[0m\u001b[0;34m.\u001b[0m\u001b[0m_generate_insample_tp\u001b[0m\u001b[0;34m(\u001b[0m\u001b[0mtraining_meta\u001b[0m\u001b[0;34m,\u001b[0m \u001b[0mcoef_knot_dates\u001b[0m\u001b[0;34m)\u001b[0m\u001b[0;34m\u001b[0m\u001b[0;34m\u001b[0m\u001b[0m\n\u001b[1;32m    680\u001b[0m         \u001b[0mkernel_coef\u001b[0m \u001b[0;34m=\u001b[0m \u001b[0msandwich_kernel\u001b[0m\u001b[0;34m(\u001b[0m\u001b[0mnew_tp\u001b[0m\u001b[0;34m,\u001b[0m \u001b[0mknots_tp_coef\u001b[0m\u001b[0;34m)\u001b[0m\u001b[0;34m\u001b[0m\u001b[0;34m\u001b[0m\u001b[0m\n\u001b[0;32m--> 681\u001b[0;31m         \u001b[0mcoefs\u001b[0m \u001b[0;34m=\u001b[0m \u001b[0mnp\u001b[0m\u001b[0;34m.\u001b[0m\u001b[0msqueeze\u001b[0m\u001b[0;34m(\u001b[0m\u001b[0mnp\u001b[0m\u001b[0;34m.\u001b[0m\u001b[0mmatmul\u001b[0m\u001b[0;34m(\u001b[0m\u001b[0mcoef_knot\u001b[0m\u001b[0;34m,\u001b[0m \u001b[0mkernel_coef\u001b[0m\u001b[0;34m.\u001b[0m\u001b[0mtranspose\u001b[0m\u001b[0;34m(\u001b[0m\u001b[0;36m1\u001b[0m\u001b[0;34m,\u001b[0m \u001b[0;36m0\u001b[0m\u001b[0;34m)\u001b[0m\u001b[0;34m)\u001b[0m\u001b[0;34m,\u001b[0m \u001b[0maxis\u001b[0m\u001b[0;34m=\u001b[0m\u001b[0;36m0\u001b[0m\u001b[0;34m)\u001b[0m\u001b[0;34m.\u001b[0m\u001b[0mtranspose\u001b[0m\u001b[0;34m(\u001b[0m\u001b[0;36m1\u001b[0m\u001b[0;34m,\u001b[0m \u001b[0;36m0\u001b[0m\u001b[0;34m)\u001b[0m\u001b[0;34m\u001b[0m\u001b[0;34m\u001b[0m\u001b[0m\n\u001b[0m\u001b[1;32m    682\u001b[0m         \u001b[0;32mreturn\u001b[0m \u001b[0mcoefs\u001b[0m\u001b[0;34m\u001b[0m\u001b[0;34m\u001b[0m\u001b[0m\n\u001b[1;32m    683\u001b[0m \u001b[0;34m\u001b[0m\u001b[0m\n",
      "\u001b[0;31mValueError\u001b[0m: matmul: Input operand 1 has a mismatch in its core dimension 0, with gufunc signature (n?,k),(k,m?)->(n?,m?) (size 1 is different from 2)"
     ]
    }
   ],
   "source": [
    "ktr.fit(df=df)  "
   ]
  },
  {
   "cell_type": "code",
   "execution_count": 80,
   "id": "90796447",
   "metadata": {},
   "outputs": [
    {
     "name": "stdout",
     "output_type": "stream",
     "text": [
      "> \u001b[0;32m/Users/edwinng/work/orbit-super/orbit/orbit/template/ktr.py\u001b[0m(681)\u001b[0;36m_generate_coefs\u001b[0;34m()\u001b[0m\n",
      "\u001b[0;32m    679 \u001b[0;31m        \u001b[0mknots_tp_coef\u001b[0m \u001b[0;34m=\u001b[0m \u001b[0mself\u001b[0m\u001b[0;34m.\u001b[0m\u001b[0m_generate_insample_tp\u001b[0m\u001b[0;34m(\u001b[0m\u001b[0mtraining_meta\u001b[0m\u001b[0;34m,\u001b[0m \u001b[0mcoef_knot_dates\u001b[0m\u001b[0;34m)\u001b[0m\u001b[0;34m\u001b[0m\u001b[0;34m\u001b[0m\u001b[0m\n",
      "\u001b[0m\u001b[0;32m    680 \u001b[0;31m        \u001b[0mkernel_coef\u001b[0m \u001b[0;34m=\u001b[0m \u001b[0msandwich_kernel\u001b[0m\u001b[0;34m(\u001b[0m\u001b[0mnew_tp\u001b[0m\u001b[0;34m,\u001b[0m \u001b[0mknots_tp_coef\u001b[0m\u001b[0;34m)\u001b[0m\u001b[0;34m\u001b[0m\u001b[0;34m\u001b[0m\u001b[0m\n",
      "\u001b[0m\u001b[0;32m--> 681 \u001b[0;31m        \u001b[0mcoefs\u001b[0m \u001b[0;34m=\u001b[0m \u001b[0mnp\u001b[0m\u001b[0;34m.\u001b[0m\u001b[0msqueeze\u001b[0m\u001b[0;34m(\u001b[0m\u001b[0mnp\u001b[0m\u001b[0;34m.\u001b[0m\u001b[0mmatmul\u001b[0m\u001b[0;34m(\u001b[0m\u001b[0mcoef_knot\u001b[0m\u001b[0;34m,\u001b[0m \u001b[0mkernel_coef\u001b[0m\u001b[0;34m.\u001b[0m\u001b[0mtranspose\u001b[0m\u001b[0;34m(\u001b[0m\u001b[0;36m1\u001b[0m\u001b[0;34m,\u001b[0m \u001b[0;36m0\u001b[0m\u001b[0;34m)\u001b[0m\u001b[0;34m)\u001b[0m\u001b[0;34m,\u001b[0m \u001b[0maxis\u001b[0m\u001b[0;34m=\u001b[0m\u001b[0;36m0\u001b[0m\u001b[0;34m)\u001b[0m\u001b[0;34m.\u001b[0m\u001b[0mtranspose\u001b[0m\u001b[0;34m(\u001b[0m\u001b[0;36m1\u001b[0m\u001b[0;34m,\u001b[0m \u001b[0;36m0\u001b[0m\u001b[0;34m)\u001b[0m\u001b[0;34m\u001b[0m\u001b[0;34m\u001b[0m\u001b[0m\n",
      "\u001b[0m\u001b[0;32m    682 \u001b[0;31m        \u001b[0;32mreturn\u001b[0m \u001b[0mcoefs\u001b[0m\u001b[0;34m\u001b[0m\u001b[0;34m\u001b[0m\u001b[0m\n",
      "\u001b[0m\u001b[0;32m    683 \u001b[0;31m\u001b[0;34m\u001b[0m\u001b[0m\n",
      "\u001b[0m\n",
      "ipdb> coef_knot.shape\n",
      "(1, 14, 2)\n",
      "ipdb> kernel_coef.transpose(1, 0).shape\n",
      "(1, 3288)\n",
      "ipdb> coef_knot_dates\n",
      "array(['1999-12-31T00:00:00.000000000', '2008-12-31T00:00:00.000000000'],\n",
      "      dtype='datetime64[ns]')\n",
      "ipdb> knots_tp_coef\n",
      "array([1.])\n",
      "ipdb> coef_knot_dates\n",
      "array(['1999-12-31T00:00:00.000000000', '2008-12-31T00:00:00.000000000'],\n",
      "      dtype='datetime64[ns]')\n",
      "ipdb> q\n"
     ]
    }
   ],
   "source": [
    "%debug"
   ]
  },
  {
   "cell_type": "code",
   "execution_count": null,
   "id": "b9679608",
   "metadata": {
    "scrolled": true
   },
   "outputs": [],
   "source": [
    "# visualize level and level knots\n",
    "ktr.get_level_knots()"
   ]
  },
  {
   "cell_type": "code",
   "execution_count": null,
   "id": "d85cf403",
   "metadata": {
    "scrolled": true
   },
   "outputs": [],
   "source": [
    "ktr.plot_lev_knots()"
   ]
  },
  {
   "cell_type": "code",
   "execution_count": 77,
   "id": "b9439601",
   "metadata": {},
   "outputs": [
    {
     "ename": "AttributeError",
     "evalue": "'KTRModel' object has no attribute '_seasonal_knots_input'",
     "output_type": "error",
     "traceback": [
      "\u001b[0;31m---------------------------------------------------------------------------\u001b[0m",
      "\u001b[0;31mAttributeError\u001b[0m                            Traceback (most recent call last)",
      "\u001b[0;32m/var/folders/9f/m35pbwgx13n2j29rjhpkcyg40000gn/T/ipykernel_23598/1244937512.py\u001b[0m in \u001b[0;36m<module>\u001b[0;34m\u001b[0m\n\u001b[0;32m----> 1\u001b[0;31m \u001b[0mpredicted_df\u001b[0m \u001b[0;34m=\u001b[0m \u001b[0mktr\u001b[0m\u001b[0;34m.\u001b[0m\u001b[0mpredict\u001b[0m\u001b[0;34m(\u001b[0m\u001b[0mdf\u001b[0m\u001b[0;34m=\u001b[0m\u001b[0mdf\u001b[0m\u001b[0;34m,\u001b[0m \u001b[0mdecompose\u001b[0m\u001b[0;34m=\u001b[0m\u001b[0;32mTrue\u001b[0m\u001b[0;34m)\u001b[0m\u001b[0;34m\u001b[0m\u001b[0;34m\u001b[0m\u001b[0m\n\u001b[0m\u001b[1;32m      2\u001b[0m \u001b[0mpredicted_df\u001b[0m\u001b[0;34m.\u001b[0m\u001b[0mhead\u001b[0m\u001b[0;34m(\u001b[0m\u001b[0;34m)\u001b[0m\u001b[0;34m\u001b[0m\u001b[0;34m\u001b[0m\u001b[0m\n",
      "\u001b[0;32m~/work/orbit-super/orbit/orbit/forecaster/svi.py\u001b[0m in \u001b[0;36mpredict\u001b[0;34m(self, df, decompose, store_prediction_array, **kwargs)\u001b[0m\n\u001b[1;32m     91\u001b[0m                 \u001b[0mprediction_meta\u001b[0m\u001b[0;34m=\u001b[0m\u001b[0mprediction_meta\u001b[0m\u001b[0;34m,\u001b[0m\u001b[0;34m\u001b[0m\u001b[0;34m\u001b[0m\u001b[0m\n\u001b[1;32m     92\u001b[0m                 \u001b[0minclude_error\u001b[0m\u001b[0;34m=\u001b[0m\u001b[0;32mTrue\u001b[0m\u001b[0;34m,\u001b[0m\u001b[0;34m\u001b[0m\u001b[0;34m\u001b[0m\u001b[0m\n\u001b[0;32m---> 93\u001b[0;31m                 \u001b[0;34m**\u001b[0m\u001b[0mkwargs\u001b[0m\u001b[0;34m\u001b[0m\u001b[0;34m\u001b[0m\u001b[0m\n\u001b[0m\u001b[1;32m     94\u001b[0m             )\n\u001b[1;32m     95\u001b[0m \u001b[0;34m\u001b[0m\u001b[0m\n",
      "\u001b[0;32m~/work/orbit-super/orbit/orbit/template/ktr.py\u001b[0m in \u001b[0;36mpredict\u001b[0;34m(self, posterior_estimates, df, training_meta, prediction_meta, include_error, store_prediction_array, **kwargs)\u001b[0m\n\u001b[1;32m    891\u001b[0m         \u001b[0mobs_scale\u001b[0m \u001b[0;34m=\u001b[0m \u001b[0mobs_scale\u001b[0m\u001b[0;34m.\u001b[0m\u001b[0mreshape\u001b[0m\u001b[0;34m(\u001b[0m\u001b[0;34m-\u001b[0m\u001b[0;36m1\u001b[0m\u001b[0;34m,\u001b[0m \u001b[0;36m1\u001b[0m\u001b[0;34m)\u001b[0m\u001b[0;34m\u001b[0m\u001b[0;34m\u001b[0m\u001b[0m\n\u001b[1;32m    892\u001b[0m \u001b[0;34m\u001b[0m\u001b[0m\n\u001b[0;32m--> 893\u001b[0;31m         \u001b[0;32mif\u001b[0m \u001b[0mself\u001b[0m\u001b[0;34m.\u001b[0m\u001b[0m_seasonal_knots_input\u001b[0m \u001b[0;32mis\u001b[0m \u001b[0;32mnot\u001b[0m \u001b[0;32mNone\u001b[0m\u001b[0;34m:\u001b[0m\u001b[0;34m\u001b[0m\u001b[0;34m\u001b[0m\u001b[0m\n\u001b[0m\u001b[1;32m    894\u001b[0m             seas = self._generate_seas(df, training_meta,\n\u001b[1;32m    895\u001b[0m                                        \u001b[0mself\u001b[0m\u001b[0;34m.\u001b[0m\u001b[0m_seasonal_knots_input\u001b[0m\u001b[0;34m[\u001b[0m\u001b[0;34m'_seas_coef_knot_dates'\u001b[0m\u001b[0;34m]\u001b[0m\u001b[0;34m,\u001b[0m\u001b[0;34m\u001b[0m\u001b[0;34m\u001b[0m\u001b[0m\n",
      "\u001b[0;31mAttributeError\u001b[0m: 'KTRModel' object has no attribute '_seasonal_knots_input'"
     ]
    }
   ],
   "source": [
    "predicted_df = ktr.predict(df=df, decompose=True)\n",
    "predicted_df.head()"
   ]
  },
  {
   "cell_type": "code",
   "execution_count": null,
   "id": "345a7211",
   "metadata": {},
   "outputs": [],
   "source": []
  },
  {
   "cell_type": "code",
   "execution_count": 70,
   "id": "d0d6d362",
   "metadata": {},
   "outputs": [
    {
     "name": "stdout",
     "output_type": "stream",
     "text": [
      "Initial log joint probability = -201428\n",
      "    Iter      log prob        ||dx||      ||grad||       alpha      alpha0  # evals  Notes \n",
      "      19       2647.66      0.236088       8256.96      0.8004      0.8004       26   \n",
      "    Iter      log prob        ||dx||      ||grad||       alpha      alpha0  # evals  Notes \n",
      "      39       5335.13     0.0164116        1109.3           1           1       49   \n",
      "    Iter      log prob        ||dx||      ||grad||       alpha      alpha0  # evals  Notes \n",
      "      59       5452.79     0.0762313       2206.01           1           1       71   \n",
      "    Iter      log prob        ||dx||      ||grad||       alpha      alpha0  # evals  Notes \n",
      "      79       5481.77     0.0550008       1584.78           1           1       93   \n",
      "    Iter      log prob        ||dx||      ||grad||       alpha      alpha0  # evals  Notes \n",
      "      99       5489.75    0.00656456       204.963           1           1      115   \n",
      "    Iter      log prob        ||dx||      ||grad||       alpha      alpha0  # evals  Notes \n",
      "     119       5491.26    0.00928491       114.801           1           1      137   \n",
      "    Iter      log prob        ||dx||      ||grad||       alpha      alpha0  # evals  Notes \n",
      "     139       5494.36      0.105664       405.615           1           1      161   \n",
      "    Iter      log prob        ||dx||      ||grad||       alpha      alpha0  # evals  Notes \n",
      "     159       6276.13     0.0590782       5227.78           1           1      195   \n",
      "    Iter      log prob        ||dx||      ||grad||       alpha      alpha0  # evals  Notes \n",
      "     179       7069.95     0.0315208       3572.85       2.891      0.2891      219   \n",
      "    Iter      log prob        ||dx||      ||grad||       alpha      alpha0  # evals  Notes \n",
      "     199       7690.45     0.0183982       3401.45           1           1      240   \n",
      "    Iter      log prob        ||dx||      ||grad||       alpha      alpha0  # evals  Notes \n",
      "     219       8058.58     0.0119945       3264.68           1           1      263   \n",
      "    Iter      log prob        ||dx||      ||grad||       alpha      alpha0  # evals  Notes \n",
      "     239       8161.56    0.00406654       2717.03           1           1      285   \n",
      "    Iter      log prob        ||dx||      ||grad||       alpha      alpha0  # evals  Notes \n",
      "     259       8218.91     0.0141983       3654.42           1           1      307   \n",
      "    Iter      log prob        ||dx||      ||grad||       alpha      alpha0  # evals  Notes \n",
      "     279       8239.74    0.00339626       937.467           1           1      327   \n",
      "    Iter      log prob        ||dx||      ||grad||       alpha      alpha0  # evals  Notes \n",
      "     299       8248.73     0.0116416       2784.29           1           1      349   \n",
      "    Iter      log prob        ||dx||      ||grad||       alpha      alpha0  # evals  Notes \n",
      "     319       8261.95     0.0367342       687.217           1           1      371   \n",
      "    Iter      log prob        ||dx||      ||grad||       alpha      alpha0  # evals  Notes \n",
      "     339       8277.94    0.00299821       934.792           1           1      393   \n",
      "    Iter      log prob        ||dx||      ||grad||       alpha      alpha0  # evals  Notes \n",
      "     359       8290.56    0.00111583       824.235           1           1      416   \n",
      "    Iter      log prob        ||dx||      ||grad||       alpha      alpha0  # evals  Notes \n",
      "     379        8297.6    0.00127186       1027.45           1           1      438   \n",
      "    Iter      log prob        ||dx||      ||grad||       alpha      alpha0  # evals  Notes \n",
      "     399       8301.17   0.000627781       818.197      0.6689      0.6689      459   \n",
      "    Iter      log prob        ||dx||      ||grad||       alpha      alpha0  # evals  Notes \n",
      "     419       8305.06   0.000553056       296.777      0.9842     0.09842      484   \n",
      "    Iter      log prob        ||dx||      ||grad||       alpha      alpha0  # evals  Notes \n",
      "     439       8305.75   0.000615082       139.576      0.3522      0.3522      508   \n",
      "    Iter      log prob        ||dx||      ||grad||       alpha      alpha0  # evals  Notes \n",
      "     459       8305.81   7.93223e-05       48.6882           1           1      528   \n",
      "    Iter      log prob        ||dx||      ||grad||       alpha      alpha0  # evals  Notes \n",
      "     479       8305.83   6.59545e-05       27.0206           1           1      551   \n",
      "    Iter      log prob        ||dx||      ||grad||       alpha      alpha0  # evals  Notes \n",
      "     499       8305.85   5.78099e-05        45.433      0.5435      0.5435      573   \n",
      "    Iter      log prob        ||dx||      ||grad||       alpha      alpha0  # evals  Notes \n",
      "     519       8305.85   2.96845e-05       18.5174           1           1      597   \n",
      "    Iter      log prob        ||dx||      ||grad||       alpha      alpha0  # evals  Notes \n",
      "     539       8305.86   4.76284e-05       74.9014      0.9516      0.9516      623   \n",
      "    Iter      log prob        ||dx||      ||grad||       alpha      alpha0  # evals  Notes \n",
      "     559       8305.86   1.32099e-05       15.1235      0.8248      0.8248      645   \n",
      "    Iter      log prob        ||dx||      ||grad||       alpha      alpha0  # evals  Notes \n",
      "     579       8305.87    0.00036393       27.4203           1           1      665   \n",
      "    Iter      log prob        ||dx||      ||grad||       alpha      alpha0  # evals  Notes \n",
      "     599       8305.88   9.68427e-05       18.3178           1           1      692   \n",
      "    Iter      log prob        ||dx||      ||grad||       alpha      alpha0  # evals  Notes \n",
      "     619       8305.88   0.000241097       28.6804           1           1      713   \n",
      "    Iter      log prob        ||dx||      ||grad||       alpha      alpha0  # evals  Notes \n",
      "     639       8305.88   0.000239823       25.6823           1           1      738   \n",
      "    Iter      log prob        ||dx||      ||grad||       alpha      alpha0  # evals  Notes \n",
      "     642       8305.88   1.05751e-05       3.54119           1           1      742   \n",
      "Optimization terminated normally: \n",
      "  Convergence detected: relative gradient magnitude is below tolerance\n"
     ]
    },
    {
     "data": {
      "image/png": "[encoded data removed]",
      "text/plain": [
       "<Figure size 1152x576 with 1 Axes>"
      ]
     },
     "metadata": {
      "needs_background": "light"
     },
     "output_type": "display_data"
    },
    {
     "data": {
      "text/plain": [
       "<AxesSubplot:>"
      ]
     },
     "execution_count": 70,
     "metadata": {},
     "output_type": "execute_result"
    }
   ],
   "source": [
    "ktr_lite = KTRLite(response_col='electricity',\n",
    "                      date_col='date',\n",
    "    seasonality=[7, 365.25],\n",
    "    seasonality_fs_order=[2, 5],\n",
    "    level_knot_scale=.1,\n",
    "    span_level=.05,\n",
    "    span_coefficients=.5,\n",
    "                      estimator='stan-map')\n",
    "ktr_lite.fit(df)\n",
    "ktr_lite.get_level_knots()\n",
    "ktr_lite.plot_lev_knots()"
   ]
  },
  {
   "cell_type": "markdown",
   "id": "a0f82260-b821-4f08-83d9-80a57f7c3d32",
   "metadata": {},
   "source": [
    "# A Simulation Study for Time-varying coefficients"
   ]
  },
  {
   "cell_type": "code",
   "execution_count": null,
   "id": "speaking-david",
   "metadata": {
    "ExecuteTime": {
     "end_time": "2021-07-13T22:43:01.042279Z",
     "start_time": "2021-07-13T22:42:58.809567Z"
    }
   },
   "outputs": [],
   "source": [
    "import math\n",
    "from math import pi\n",
    "import time\n",
    "\n",
    "import pandas as pd\n",
    "import numpy as np\n",
    "import matplotlib.pyplot as plt\n",
    "from scipy import stats\n",
    "from scipy.spatial.distance import cdist\n",
    "\n",
    "from orbit.estimators.pyro_estimator import PyroEstimatorVI\n",
    "from orbit.estimators.stan_estimator import StanEstimatorMAP\n",
    "from orbit.diagnostics.metrics import smape\n",
    "from orbit.utils.features import make_fourier_series_df, make_fourier_series\n",
    "from orbit.diagnostics.plot import plot_predicted_data\n",
    "\n",
    "plt.style.use('fivethirtyeight')\n",
    "\n",
    "%load_ext autoreload\n",
    "%autoreload 2"
   ]
  },
  {
   "cell_type": "markdown",
   "id": "coordinated-flour",
   "metadata": {},
   "source": [
    "# Data Simulation Modules"
   ]
  },
  {
   "cell_type": "code",
   "execution_count": 2,
   "id": "completed-marriage",
   "metadata": {
    "ExecuteTime": {
     "end_time": "2021-07-13T22:43:01.086726Z",
     "start_time": "2021-07-13T22:43:01.044630Z"
    }
   },
   "outputs": [],
   "source": [
    "def sim_data_seasonal(n, RS):\n",
    "    \"\"\" coefficients curve are sine-cosine like\n",
    "    \"\"\"\n",
    "    np.random.seed(RS)\n",
    "    # make the time varing coefs  \n",
    "    tau = np.arange(1, n+1)/n\n",
    "    data = pd.DataFrame({\n",
    "        'tau': tau,\n",
    "        'date': pd.date_range(start='1/1/2018', periods=n),\n",
    "        'beta1': 2 * tau,\n",
    "        'beta2': 1.01 + np.sin(2*pi*tau),\n",
    "        'beta3': 1.01 + np.sin(4*pi*(tau-1/8)),\n",
    "#         'x1': stats.chi2.rvs(4, size=n),\n",
    "#         'x2': stats.t.rvs(2, size=n),\n",
    "#         'x3': stats.t.rvs(2, size=n),\n",
    "        'x1': np.random.normal(0, 10, size=n),\n",
    "        'x2': np.random.normal(0, 10, size=n),\n",
    "        'x3': np.random.normal(0, 10, size=n),\n",
    "        'trend': np.cumsum(np.concatenate((np.array([1]), np.random.normal(0, 0.1, n-1)))),\n",
    "        'error': np.random.normal(0, 1, size=n) #stats.t.rvs(30, size=n),#\n",
    "    })\n",
    "    \n",
    "    # add error to the data \n",
    "    #err_cov = np.exp(-cdist(data.tau.values.reshape(n, -1), data.tau.values.reshape(n, -1), 'euclid')/10)\n",
    "    #L = np.linalg.cholesky(err_cov).T\n",
    "    #data['error2'] = L.dot(stats.chi2.rvs(100, size=n))\n",
    "    \n",
    "    data['y'] = data.x1 * data.beta1 + data.x2 * data.beta2 + data.x3 * data.beta3 + data.error\n",
    "    #data['y2'] = data.x1 * data.beta1 + data.x2 * data.beta2 + data.x3 * data.beta3 + data.error2\n",
    "    #data['y3'] = data.trend + data.x1 * data.beta1 + data.x2 * data.beta2 + data.x3 * data.beta3 + data.error\n",
    "    return data\n",
    "\n",
    "def sim_data_rw(n, RS, p=3):\n",
    "    \"\"\" coefficients curve are sine-cosine like\n",
    "    \"\"\"\n",
    "    np.random.seed(RS)\n",
    "\n",
    "    # initializing coefficients at zeros, simulate all coefficient values\n",
    "    lev = np.cumsum(np.concatenate((np.array([5.0]), np.random.normal(0, 0.01, n-1))))\n",
    "    beta = np.concatenate(\n",
    "        [np.random.uniform(0.05, 0.12, size=(1,p)),\n",
    "         np.random.normal(0.0, 0.01, size=(n-1,p))], \n",
    "            axis=0)\n",
    "    beta = np.cumsum(beta, 0)\n",
    "\n",
    "    # simulate regressors\n",
    "    covariates = np.random.normal(0, 10, (n, p))\n",
    "\n",
    "    # observation with noise\n",
    "    y = lev + (covariates * beta).sum(-1) + 0.3 * np.random.normal(0, 1, n)\n",
    "\n",
    "    regressor_col = ['x{}'.format(pp) for pp in range(1, p+1)]\n",
    "    data = pd.DataFrame(covariates, columns=regressor_col)\n",
    "    beta_col = ['beta{}'.format(pp) for pp in range(1, p+1)]\n",
    "    beta_data = pd.DataFrame(beta, columns=beta_col)\n",
    "    data = pd.concat([data, beta_data], axis=1)\n",
    "        \n",
    "    data['y'] = y\n",
    "    data['date'] = pd.date_range(start='1/1/2018', periods=len(y))\n",
    "\n",
    "    return data"
   ]
  },
  {
   "cell_type": "code",
   "execution_count": 3,
   "id": "bacterial-genre",
   "metadata": {
    "ExecuteTime": {
     "end_time": "2021-07-13T22:43:01.153722Z",
     "start_time": "2021-07-13T22:43:01.089493Z"
    }
   },
   "outputs": [
    {
     "data": {
      "text/html": [
       "<div>\n",
       "<style scoped>\n",
       "    .dataframe tbody tr th:only-of-type {\n",
       "        vertical-align: middle;\n",
       "    }\n",
       "\n",
       "    .dataframe tbody tr th {\n",
       "        vertical-align: top;\n",
       "    }\n",
       "\n",
       "    .dataframe thead th {\n",
       "        text-align: right;\n",
       "    }\n",
       "</style>\n",
       "<table border=\"1\" class=\"dataframe\">\n",
       "  <thead>\n",
       "    <tr style=\"text-align: right;\">\n",
       "      <th></th>\n",
       "      <th>tau</th>\n",
       "      <th>date</th>\n",
       "      <th>beta1</th>\n",
       "      <th>beta2</th>\n",
       "      <th>beta3</th>\n",
       "      <th>x1</th>\n",
       "      <th>x2</th>\n",
       "      <th>x3</th>\n",
       "      <th>trend</th>\n",
       "      <th>error</th>\n",
       "      <th>y</th>\n",
       "    </tr>\n",
       "  </thead>\n",
       "  <tbody>\n",
       "    <tr>\n",
       "      <th>0</th>\n",
       "      <td>0.001</td>\n",
       "      <td>2018-01-01</td>\n",
       "      <td>0.002</td>\n",
       "      <td>1.016283</td>\n",
       "      <td>0.010079</td>\n",
       "      <td>-4.112205</td>\n",
       "      <td>6.235252</td>\n",
       "      <td>8.318071</td>\n",
       "      <td>1.000000</td>\n",
       "      <td>-0.772024</td>\n",
       "      <td>5.640371</td>\n",
       "    </tr>\n",
       "    <tr>\n",
       "      <th>1</th>\n",
       "      <td>0.002</td>\n",
       "      <td>2018-01-02</td>\n",
       "      <td>0.004</td>\n",
       "      <td>1.022566</td>\n",
       "      <td>0.010316</td>\n",
       "      <td>-0.499279</td>\n",
       "      <td>-14.816010</td>\n",
       "      <td>3.641032</td>\n",
       "      <td>1.075149</td>\n",
       "      <td>1.243571</td>\n",
       "      <td>-13.871215</td>\n",
       "    </tr>\n",
       "    <tr>\n",
       "      <th>2</th>\n",
       "      <td>0.003</td>\n",
       "      <td>2018-01-03</td>\n",
       "      <td>0.006</td>\n",
       "      <td>1.028848</td>\n",
       "      <td>0.010711</td>\n",
       "      <td>1.826034</td>\n",
       "      <td>-2.897783</td>\n",
       "      <td>-17.144133</td>\n",
       "      <td>1.278494</td>\n",
       "      <td>-0.352154</td>\n",
       "      <td>-3.506200</td>\n",
       "    </tr>\n",
       "    <tr>\n",
       "      <th>3</th>\n",
       "      <td>0.004</td>\n",
       "      <td>2018-01-04</td>\n",
       "      <td>0.008</td>\n",
       "      <td>1.035130</td>\n",
       "      <td>0.011263</td>\n",
       "      <td>24.874740</td>\n",
       "      <td>5.439502</td>\n",
       "      <td>6.055187</td>\n",
       "      <td>1.104741</td>\n",
       "      <td>-0.571943</td>\n",
       "      <td>5.325848</td>\n",
       "    </tr>\n",
       "    <tr>\n",
       "      <th>4</th>\n",
       "      <td>0.005</td>\n",
       "      <td>2018-01-05</td>\n",
       "      <td>0.010</td>\n",
       "      <td>1.041411</td>\n",
       "      <td>0.011973</td>\n",
       "      <td>1.734577</td>\n",
       "      <td>-16.383980</td>\n",
       "      <td>9.075009</td>\n",
       "      <td>1.059079</td>\n",
       "      <td>-0.218024</td>\n",
       "      <td>-17.154473</td>\n",
       "    </tr>\n",
       "    <tr>\n",
       "      <th>5</th>\n",
       "      <td>0.006</td>\n",
       "      <td>2018-01-06</td>\n",
       "      <td>0.012</td>\n",
       "      <td>1.047690</td>\n",
       "      <td>0.012841</td>\n",
       "      <td>-11.059695</td>\n",
       "      <td>12.494699</td>\n",
       "      <td>2.577940</td>\n",
       "      <td>1.088198</td>\n",
       "      <td>0.541397</td>\n",
       "      <td>13.532358</td>\n",
       "    </tr>\n",
       "    <tr>\n",
       "      <th>6</th>\n",
       "      <td>0.007</td>\n",
       "      <td>2018-01-07</td>\n",
       "      <td>0.014</td>\n",
       "      <td>1.053968</td>\n",
       "      <td>0.013866</td>\n",
       "      <td>-6.065916</td>\n",
       "      <td>4.606459</td>\n",
       "      <td>-9.182241</td>\n",
       "      <td>1.153368</td>\n",
       "      <td>0.474600</td>\n",
       "      <td>5.117413</td>\n",
       "    </tr>\n",
       "    <tr>\n",
       "      <th>7</th>\n",
       "      <td>0.008</td>\n",
       "      <td>2018-01-08</td>\n",
       "      <td>0.016</td>\n",
       "      <td>1.060244</td>\n",
       "      <td>0.015049</td>\n",
       "      <td>0.945238</td>\n",
       "      <td>3.450288</td>\n",
       "      <td>13.376691</td>\n",
       "      <td>1.244678</td>\n",
       "      <td>2.122431</td>\n",
       "      <td>5.997009</td>\n",
       "    </tr>\n",
       "    <tr>\n",
       "      <th>8</th>\n",
       "      <td>0.009</td>\n",
       "      <td>2018-01-09</td>\n",
       "      <td>0.018</td>\n",
       "      <td>1.066519</td>\n",
       "      <td>0.016389</td>\n",
       "      <td>11.628231</td>\n",
       "      <td>11.262647</td>\n",
       "      <td>16.722551</td>\n",
       "      <td>1.167512</td>\n",
       "      <td>0.439053</td>\n",
       "      <td>12.934243</td>\n",
       "    </tr>\n",
       "    <tr>\n",
       "      <th>9</th>\n",
       "      <td>0.010</td>\n",
       "      <td>2018-01-10</td>\n",
       "      <td>0.020</td>\n",
       "      <td>1.072791</td>\n",
       "      <td>0.017885</td>\n",
       "      <td>2.740874</td>\n",
       "      <td>2.271040</td>\n",
       "      <td>-17.405263</td>\n",
       "      <td>1.352738</td>\n",
       "      <td>0.496264</td>\n",
       "      <td>2.676133</td>\n",
       "    </tr>\n",
       "  </tbody>\n",
       "</table>\n",
       "</div>"
      ],
      "text/plain": [
       "     tau       date  beta1     beta2     beta3         x1         x2  \\\n",
       "0  0.001 2018-01-01  0.002  1.016283  0.010079  -4.112205   6.235252   \n",
       "1  0.002 2018-01-02  0.004  1.022566  0.010316  -0.499279 -14.816010   \n",
       "2  0.003 2018-01-03  0.006  1.028848  0.010711   1.826034  -2.897783   \n",
       "3  0.004 2018-01-04  0.008  1.035130  0.011263  24.874740   5.439502   \n",
       "4  0.005 2018-01-05  0.010  1.041411  0.011973   1.734577 -16.383980   \n",
       "5  0.006 2018-01-06  0.012  1.047690  0.012841 -11.059695  12.494699   \n",
       "6  0.007 2018-01-07  0.014  1.053968  0.013866  -6.065916   4.606459   \n",
       "7  0.008 2018-01-08  0.016  1.060244  0.015049   0.945238   3.450288   \n",
       "8  0.009 2018-01-09  0.018  1.066519  0.016389  11.628231  11.262647   \n",
       "9  0.010 2018-01-10  0.020  1.072791  0.017885   2.740874   2.271040   \n",
       "\n",
       "          x3     trend     error          y  \n",
       "0   8.318071  1.000000 -0.772024   5.640371  \n",
       "1   3.641032  1.075149  1.243571 -13.871215  \n",
       "2 -17.144133  1.278494 -0.352154  -3.506200  \n",
       "3   6.055187  1.104741 -0.571943   5.325848  \n",
       "4   9.075009  1.059079 -0.218024 -17.154473  \n",
       "5   2.577940  1.088198  0.541397  13.532358  \n",
       "6  -9.182241  1.153368  0.474600   5.117413  \n",
       "7  13.376691  1.244678  2.122431   5.997009  \n",
       "8  16.722551  1.167512  0.439053  12.934243  \n",
       "9 -17.405263  1.352738  0.496264   2.676133  "
      ]
     },
     "execution_count": 3,
     "metadata": {},
     "output_type": "execute_result"
    }
   ],
   "source": [
    "seas_data = sim_data_seasonal(n=1000, RS=8888)\n",
    "seas_data.head(10)"
   ]
  },
  {
   "cell_type": "code",
   "execution_count": 4,
   "id": "abef99fc-5ddb-45ed-a9d5-30c14fc87f48",
   "metadata": {
    "ExecuteTime": {
     "end_time": "2021-07-13T22:43:01.205354Z",
     "start_time": "2021-07-13T22:43:01.156204Z"
    }
   },
   "outputs": [
    {
     "data": {
      "text/html": [
       "<div>\n",
       "<style scoped>\n",
       "    .dataframe tbody tr th:only-of-type {\n",
       "        vertical-align: middle;\n",
       "    }\n",
       "\n",
       "    .dataframe tbody tr th {\n",
       "        vertical-align: top;\n",
       "    }\n",
       "\n",
       "    .dataframe thead th {\n",
       "        text-align: right;\n",
       "    }\n",
       "</style>\n",
       "<table border=\"1\" class=\"dataframe\">\n",
       "  <thead>\n",
       "    <tr style=\"text-align: right;\">\n",
       "      <th></th>\n",
       "      <th>x1</th>\n",
       "      <th>x2</th>\n",
       "      <th>x3</th>\n",
       "      <th>beta1</th>\n",
       "      <th>beta2</th>\n",
       "      <th>beta3</th>\n",
       "      <th>y</th>\n",
       "      <th>date</th>\n",
       "    </tr>\n",
       "  </thead>\n",
       "  <tbody>\n",
       "    <tr>\n",
       "      <th>0</th>\n",
       "      <td>1.118687</td>\n",
       "      <td>12.579436</td>\n",
       "      <td>-18.705481</td>\n",
       "      <td>0.083833</td>\n",
       "      <td>0.118039</td>\n",
       "      <td>0.106882</td>\n",
       "      <td>4.238243</td>\n",
       "      <td>2018-01-01</td>\n",
       "    </tr>\n",
       "    <tr>\n",
       "      <th>1</th>\n",
       "      <td>0.251493</td>\n",
       "      <td>5.300673</td>\n",
       "      <td>8.974563</td>\n",
       "      <td>0.081579</td>\n",
       "      <td>0.116649</td>\n",
       "      <td>0.116075</td>\n",
       "      <td>6.762299</td>\n",
       "      <td>2018-01-02</td>\n",
       "    </tr>\n",
       "    <tr>\n",
       "      <th>2</th>\n",
       "      <td>-12.535904</td>\n",
       "      <td>2.134341</td>\n",
       "      <td>4.224095</td>\n",
       "      <td>0.083838</td>\n",
       "      <td>0.112736</td>\n",
       "      <td>0.121694</td>\n",
       "      <td>4.576347</td>\n",
       "      <td>2018-01-03</td>\n",
       "    </tr>\n",
       "    <tr>\n",
       "      <th>3</th>\n",
       "      <td>-6.830381</td>\n",
       "      <td>3.094571</td>\n",
       "      <td>-1.926185</td>\n",
       "      <td>0.067788</td>\n",
       "      <td>0.111347</td>\n",
       "      <td>0.126284</td>\n",
       "      <td>4.497561</td>\n",
       "      <td>2018-01-04</td>\n",
       "    </tr>\n",
       "    <tr>\n",
       "      <th>4</th>\n",
       "      <td>-3.370150</td>\n",
       "      <td>3.899625</td>\n",
       "      <td>-3.083105</td>\n",
       "      <td>0.086333</td>\n",
       "      <td>0.099882</td>\n",
       "      <td>0.138985</td>\n",
       "      <td>5.230371</td>\n",
       "      <td>2018-01-05</td>\n",
       "    </tr>\n",
       "    <tr>\n",
       "      <th>5</th>\n",
       "      <td>-3.364463</td>\n",
       "      <td>-4.186151</td>\n",
       "      <td>13.149254</td>\n",
       "      <td>0.076195</td>\n",
       "      <td>0.108590</td>\n",
       "      <td>0.142555</td>\n",
       "      <td>6.102766</td>\n",
       "      <td>2018-01-06</td>\n",
       "    </tr>\n",
       "    <tr>\n",
       "      <th>6</th>\n",
       "      <td>-3.663559</td>\n",
       "      <td>-14.795409</td>\n",
       "      <td>-1.731279</td>\n",
       "      <td>0.091534</td>\n",
       "      <td>0.099006</td>\n",
       "      <td>0.156208</td>\n",
       "      <td>3.284992</td>\n",
       "      <td>2018-01-07</td>\n",
       "    </tr>\n",
       "    <tr>\n",
       "      <th>7</th>\n",
       "      <td>7.205991</td>\n",
       "      <td>-5.623366</td>\n",
       "      <td>-11.806551</td>\n",
       "      <td>0.100954</td>\n",
       "      <td>0.099507</td>\n",
       "      <td>0.160083</td>\n",
       "      <td>2.529016</td>\n",
       "      <td>2018-01-08</td>\n",
       "    </tr>\n",
       "    <tr>\n",
       "      <th>8</th>\n",
       "      <td>-3.643661</td>\n",
       "      <td>3.799626</td>\n",
       "      <td>-1.398166</td>\n",
       "      <td>0.100640</td>\n",
       "      <td>0.087954</td>\n",
       "      <td>0.163894</td>\n",
       "      <td>4.908982</td>\n",
       "      <td>2018-01-09</td>\n",
       "    </tr>\n",
       "    <tr>\n",
       "      <th>9</th>\n",
       "      <td>9.222329</td>\n",
       "      <td>1.695171</td>\n",
       "      <td>-0.896493</td>\n",
       "      <td>0.098496</td>\n",
       "      <td>0.085971</td>\n",
       "      <td>0.172410</td>\n",
       "      <td>5.529784</td>\n",
       "      <td>2018-01-10</td>\n",
       "    </tr>\n",
       "  </tbody>\n",
       "</table>\n",
       "</div>"
      ],
      "text/plain": [
       "          x1         x2         x3     beta1     beta2     beta3         y  \\\n",
       "0   1.118687  12.579436 -18.705481  0.083833  0.118039  0.106882  4.238243   \n",
       "1   0.251493   5.300673   8.974563  0.081579  0.116649  0.116075  6.762299   \n",
       "2 -12.535904   2.134341   4.224095  0.083838  0.112736  0.121694  4.576347   \n",
       "3  -6.830381   3.094571  -1.926185  0.067788  0.111347  0.126284  4.497561   \n",
       "4  -3.370150   3.899625  -3.083105  0.086333  0.099882  0.138985  5.230371   \n",
       "5  -3.364463  -4.186151  13.149254  0.076195  0.108590  0.142555  6.102766   \n",
       "6  -3.663559 -14.795409  -1.731279  0.091534  0.099006  0.156208  3.284992   \n",
       "7   7.205991  -5.623366 -11.806551  0.100954  0.099507  0.160083  2.529016   \n",
       "8  -3.643661   3.799626  -1.398166  0.100640  0.087954  0.163894  4.908982   \n",
       "9   9.222329   1.695171  -0.896493  0.098496  0.085971  0.172410  5.529784   \n",
       "\n",
       "        date  \n",
       "0 2018-01-01  \n",
       "1 2018-01-02  \n",
       "2 2018-01-03  \n",
       "3 2018-01-04  \n",
       "4 2018-01-05  \n",
       "5 2018-01-06  \n",
       "6 2018-01-07  \n",
       "7 2018-01-08  \n",
       "8 2018-01-09  \n",
       "9 2018-01-10  "
      ]
     },
     "execution_count": 4,
     "metadata": {},
     "output_type": "execute_result"
    }
   ],
   "source": [
    "rw_data = sim_data_rw(n=300, RS=8888, p=3)\n",
    "rw_data.head(10)"
   ]
  },
  {
   "cell_type": "markdown",
   "id": "2659cc38-f459-4e04-916c-dffa71c3ce7b",
   "metadata": {},
   "source": [
    "In following section, let's start with random walk type of simulation."
   ]
  },
  {
   "cell_type": "markdown",
   "id": "5887ed1e",
   "metadata": {},
   "source": [
    "## Test on how knots and segements interact"
   ]
  },
  {
   "cell_type": "code",
   "execution_count": 82,
   "id": "1e6d38f6",
   "metadata": {},
   "outputs": [],
   "source": [
    "from orbit.utils.knots import get_knot_idx_by_dist, get_knot_idx, get_knot_dates"
   ]
  },
  {
   "cell_type": "code",
   "execution_count": 60,
   "id": "ca59f92c",
   "metadata": {},
   "outputs": [
    {
     "data": {
      "text/plain": [
       "array([ -1,  39,  79, 119, 159, 199, 239, 279, 319, 359, 399])"
      ]
     },
     "execution_count": 60,
     "metadata": {},
     "output_type": "execute_result"
    }
   ],
   "source": [
    "knot_idx = get_knot_idx(num_of_obs=400, num_of_segments=10)\n",
    "knot_idx"
   ]
  },
  {
   "cell_type": "code",
   "execution_count": 61,
   "id": "d86bd460",
   "metadata": {},
   "outputs": [
    {
     "data": {
      "text/plain": [
       "array([ -1,   9,  19,  29,  39,  49,  59,  69,  79,  89,  99, 109, 119,\n",
       "       129, 139, 149, 159, 169, 179, 189, 199, 209, 219, 229, 239, 249])"
      ]
     },
     "execution_count": 61,
     "metadata": {},
     "output_type": "execute_result"
    }
   ],
   "source": [
    "knot_idx = get_knot_idx(num_of_obs=250, knot_distance=10)\n",
    "knot_idx"
   ]
  },
  {
   "cell_type": "code",
   "execution_count": 62,
   "id": "f053fe8e",
   "metadata": {},
   "outputs": [
    {
     "data": {
      "text/plain": [
       "dtype('<M8[ns]')"
      ]
     },
     "execution_count": 62,
     "metadata": {},
     "output_type": "execute_result"
    }
   ],
   "source": [
    "date_array = rw_data['date'].values\n",
    "date_array.dtype"
   ]
  },
  {
   "cell_type": "code",
   "execution_count": 63,
   "id": "d533c6d5",
   "metadata": {},
   "outputs": [
    {
     "data": {
      "text/plain": [
       "array(['2018-01-01T00:00:00.000000000', '2018-01-02T00:00:00.000000000',\n",
       "       '2018-01-03T00:00:00.000000000', '2018-01-04T00:00:00.000000000',\n",
       "       '2018-01-05T00:00:00.000000000'], dtype='datetime64[ns]')"
      ]
     },
     "execution_count": 63,
     "metadata": {},
     "output_type": "execute_result"
    }
   ],
   "source": [
    "date_array[:5]"
   ]
  },
  {
   "cell_type": "code",
   "execution_count": 64,
   "id": "196bccb6",
   "metadata": {
    "scrolled": true
   },
   "outputs": [
    {
     "data": {
      "text/plain": [
       "array(['2018-01-01', '2018-07-01', '2018-09-09'], dtype='datetime64[D]')"
      ]
     },
     "execution_count": 64,
     "metadata": {},
     "output_type": "execute_result"
    }
   ],
   "source": [
    "knot_dates=['2018-01-01','2018-07-01','2018-09-09']\n",
    "knot_dates = np.array(knot_dates, dtype='datetime64')\n",
    "knot_dates[:5]"
   ]
  },
  {
   "cell_type": "code",
   "execution_count": 65,
   "id": "a1d4840c",
   "metadata": {},
   "outputs": [
    {
     "data": {
      "text/plain": [
       "array([  0, 181, 251])"
      ]
     },
     "execution_count": 65,
     "metadata": {},
     "output_type": "execute_result"
    }
   ],
   "source": [
    "knot_idx = get_knot_idx(date_array=date_array, knot_dates=knot_dates)\n",
    "knot_idx"
   ]
  },
  {
   "cell_type": "code",
   "execution_count": 66,
   "id": "c2443482",
   "metadata": {},
   "outputs": [],
   "source": [
    "infer_freq = pd.infer_freq(date_array)"
   ]
  },
  {
   "cell_type": "code",
   "execution_count": 79,
   "id": "4046478c",
   "metadata": {},
   "outputs": [
    {
     "data": {
      "text/plain": [
       "array(['2018-01-01T00:00:00.000000000', '2018-07-01T00:00:00.000000000',\n",
       "       '2018-09-09T00:00:00.000000000'], dtype='datetime64[ns]')"
      ]
     },
     "execution_count": 79,
     "metadata": {},
     "output_type": "execute_result"
    }
   ],
   "source": [
    "knot_idx * np.timedelta64(1, infer_freq)  + date_array[0]"
   ]
  },
  {
   "cell_type": "code",
   "execution_count": 83,
   "id": "388d84e1",
   "metadata": {},
   "outputs": [
    {
     "data": {
      "text/plain": [
       "array(['2018-01-01T00:00:00.000000000', '2018-07-01T00:00:00.000000000',\n",
       "       '2018-09-09T00:00:00.000000000'], dtype='datetime64[ns]')"
      ]
     },
     "execution_count": 83,
     "metadata": {},
     "output_type": "execute_result"
    }
   ],
   "source": [
    "get_knot_dates(date_array[0], knot_idx, infer_freq)"
   ]
  },
  {
   "cell_type": "markdown",
   "id": "0b58e6e6-262e-4679-a58a-7ed96b57d107",
   "metadata": {},
   "source": [
    "## KTRLite\n",
    "\n",
    "**KTRLite** is used to learn the trend.  We will use a default to do that."
   ]
  },
  {
   "cell_type": "code",
   "execution_count": 84,
   "id": "1ec5776b",
   "metadata": {},
   "outputs": [],
   "source": [
    "from orbit.models import KTRLite"
   ]
  },
  {
   "cell_type": "code",
   "execution_count": 85,
   "id": "a7688580-2498-418c-a1c0-48d06df460b6",
   "metadata": {
    "ExecuteTime": {
     "end_time": "2021-07-13T22:43:01.245445Z",
     "start_time": "2021-07-13T22:43:01.207700Z"
    }
   },
   "outputs": [],
   "source": [
    "p = 3"
   ]
  },
  {
   "cell_type": "code",
   "execution_count": 89,
   "id": "naughty-advertising",
   "metadata": {
    "ExecuteTime": {
     "end_time": "2021-07-13T22:43:01.551369Z",
     "start_time": "2021-07-13T22:43:01.247752Z"
    },
    "scrolled": false
   },
   "outputs": [
    {
     "name": "stdout",
     "output_type": "stream",
     "text": [
      "Initial log joint probability = -679.991\n",
      "    Iter      log prob        ||dx||      ||grad||       alpha      alpha0  # evals  Notes \n",
      "      19      -508.305    0.00796006       6.52894       0.187       0.187       27   \n",
      "    Iter      log prob        ||dx||      ||grad||       alpha      alpha0  # evals  Notes \n",
      "      35      -508.218   0.000288255       5.66264   5.147e-05       0.001       90  LS failed, Hessian reset \n",
      "      39      -508.215   0.000311543       5.41597           1           1       95   \n",
      "    Iter      log prob        ||dx||      ||grad||       alpha      alpha0  # evals  Notes \n",
      "      59      -508.214   4.68231e-07       6.24471     0.06139           1      125   \n",
      "    Iter      log prob        ||dx||      ||grad||       alpha      alpha0  # evals  Notes \n",
      "      66      -508.214   3.90368e-07       6.00677           1           1      140   \n",
      "Optimization terminated normally: \n",
      "  Convergence detected: relative gradient magnitude is below tolerance\n"
     ]
    }
   ],
   "source": [
    "# define independent and response variabel\n",
    "regressor_col = ['x{}'.format(pp) for pp in range(1, p + 1)]\n",
    "response_col = 'y'\n",
    "\n",
    "# run the model \n",
    "# run lite first \n",
    "ktr_lite = KTRLite(response_col=response_col,\n",
    "                      date_col='date',\n",
    "                      seed=2020,\n",
    "                      estimator='stan-map')\n",
    "\n",
    "ktr_lite.fit(df=rw_data)\n",
    "\n",
    "level_knot_scale = ktr_lite._model.level_knot_scale\n",
    "level_knot_dates = ktr_lite._model._level_knot_dates\n",
    "# just because we know the intercept is zero\n",
    "# level_knots_stan = np.squeeze(\n",
    "#     ktr_lite.get_point_posteriors()['lev_knot'], 0)\n",
    "level_knots_stan = np.array([0] * len(level_knot_dates))"
   ]
  },
  {
   "cell_type": "code",
   "execution_count": 8,
   "id": "ccd8f102",
   "metadata": {},
   "outputs": [
    {
     "data": {
      "text/plain": [
       "array([[5.10183113, 5.10179934, 5.10172334, 5.10172314, 5.10172331,\n",
       "        5.10170916, 5.10170911, 5.21477709, 5.2147771 , 5.21477273]])"
      ]
     },
     "execution_count": 8,
     "metadata": {},
     "output_type": "execute_result"
    }
   ],
   "source": [
    "ktr_lite.get_point_posteriors()['lev_knot']"
   ]
  },
  {
   "cell_type": "markdown",
   "id": "04f3850d-c728-4870-bf44-88314fb4adc9",
   "metadata": {},
   "source": [
    "## Hierarchical structure with neutral sign assumption\n",
    "\n",
    "Each coefficient follow Normal dist. with a latent mean which also follows a Normal dist."
   ]
  },
  {
   "cell_type": "code",
   "execution_count": 93,
   "id": "b671b470",
   "metadata": {},
   "outputs": [],
   "source": [
    "from orbit.template.ktrx import KTRXModel\n",
    "from orbit.models import KTRX\n",
    "from orbit.template.ktr import KTRModel"
   ]
  },
  {
   "cell_type": "code",
   "execution_count": 94,
   "id": "5384d166",
   "metadata": {},
   "outputs": [],
   "source": [
    "from orbit.forecaster import SVIForecaster"
   ]
  },
  {
   "cell_type": "code",
   "execution_count": 95,
   "id": "06b6e75b",
   "metadata": {},
   "outputs": [],
   "source": [
    "ktr_template = KTRModel(\n",
    "\n",
    "    level_knot_scale=0.1,\n",
    "    regressor_col=regressor_col,\n",
    "    regressor_init_knot_loc=[0] * len(regressor_col),\n",
    "    regressor_init_knot_scale=[1.0] * len(regressor_col),\n",
    "    regressor_knot_scale=[0.5] * len(regressor_col),\n",
    "    regression_segments=5,\n",
    "\n",
    "    span_coefficients=0.1,\n",
    "    rho_coefficients=0.05,\n",
    "    prediction_percentiles=[2.5, 97.5],\n",
    "    seed=2020,\n",
    "    num_steps=501,\n",
    "    num_sample=1000,\n",
    "    learning_rate=0.2,\n",
    "    learning_rate_total_decay=0.05,\n",
    "    verbose=True,\n",
    "    message=50,\n",
    "\n",
    "    flat_multiplier=True,\n",
    "    min_residuals_sd=1.0\n",
    ")\n",
    "ktr = SVIForecaster(\n",
    "    response_col=response_col,\n",
    "    date_col='date',\n",
    "    model=ktr_template,\n",
    "    verbose=True,\n",
    "    n_bootstrap_draws=-1,\n",
    "    estimator_type=PyroEstimatorVI,\n",
    ")"
   ]
  },
  {
   "cell_type": "code",
   "execution_count": 96,
   "id": "93b6e994",
   "metadata": {},
   "outputs": [
    {
     "name": "stderr",
     "output_type": "stream",
     "text": [
      "INFO:root:Guessed max_plate_nesting = 1\n"
     ]
    },
    {
     "name": "stdout",
     "output_type": "stream",
     "text": [
      "Initial log joint probability = -1753.98\n",
      "    Iter      log prob        ||dx||      ||grad||       alpha      alpha0  # evals  Notes \n",
      "      19      -508.435     0.0198358       6.54518      0.5129      0.5129       29   \n",
      "    Iter      log prob        ||dx||      ||grad||       alpha      alpha0  # evals  Notes \n",
      "      32      -508.385    0.00109752       5.93291   0.0001911       0.001       79  LS failed, Hessian reset \n",
      "      39       -508.38   6.75609e-05       6.20416      0.3187      0.3187       90   \n",
      "    Iter      log prob        ||dx||      ||grad||       alpha      alpha0  # evals  Notes \n",
      "      59      -508.379   3.77296e-06       5.89604           1           1      119   \n",
      "    Iter      log prob        ||dx||      ||grad||       alpha      alpha0  # evals  Notes \n",
      "      68      -508.379    2.6496e-07       6.35696      0.1381      0.7526      133   \n",
      "Optimization terminated normally: \n",
      "  Convergence detected: relative gradient magnitude is below tolerance\n",
      "step    0 loss = 815.03, scale = 0.090072\n",
      "step  100 loss = 672.81, scale = 0.32916\n",
      "step  200 loss = 672.9, scale = 0.33899\n",
      "step  300 loss = 673.32, scale = 0.33138\n",
      "step  400 loss = 672.95, scale = 0.33438\n",
      "step  500 loss = 672.81, scale = 0.33237\n",
      "step  600 loss = 672.83, scale = 0.33236\n",
      "step  700 loss = 674.41, scale = 0.33976\n",
      "step  800 loss = 673.05, scale = 0.3297\n",
      "step  900 loss = 673.65, scale = 0.34162\n",
      "step 1000 loss = 672.96, scale = 0.35245\n"
     ]
    }
   ],
   "source": [
    "ktr.fit(df=rw_data)  "
   ]
  },
  {
   "cell_type": "code",
   "execution_count": 18,
   "id": "973fd2a3",
   "metadata": {},
   "outputs": [],
   "source": [
    "# ktr = KTRX(\n",
    "    \n",
    "#     response_col=response_col,\n",
    "#     date_col='date',\n",
    "#     n_bootstrap_draws=-1,\n",
    "#     estimator='pyro-svi',\n",
    "    \n",
    "#     level_knot_scale=level_knot_scale,\n",
    "#     level_knot_dates=level_knot_dates,\n",
    "#     level_knots=level_knots_stan,\n",
    "\n",
    "#     regressor_col=regressor_col,\n",
    "#     regressor_init_knot_loc=[0] * len(regressor_col),\n",
    "#     regressor_init_knot_scale=[1.0] * len(regressor_col),\n",
    "#     regressor_knot_scale=[0.5] * len(regressor_col),\n",
    "\n",
    "#     span_coefficients=0.1,\n",
    "#     rho_coefficients=0.05,\n",
    "#     prediction_percentiles=[2.5, 97.5],\n",
    "#     seed=2020,\n",
    "#     num_steps=501,\n",
    "#     num_sample=1000,\n",
    "#     learning_rate=0.2,\n",
    "#     learning_rate_total_decay=0.05,\n",
    "#     verbose=True,\n",
    "#     message=50,\n",
    "\n",
    "#     # new setting we want to test\n",
    "#     mvn=0,\n",
    "#     flat_multiplier=True,\n",
    "#     geometric_walk=False,\n",
    "#     min_residuals_sd=1.0\n",
    "# )"
   ]
  },
  {
   "cell_type": "code",
   "execution_count": 39,
   "id": "021d1c47",
   "metadata": {},
   "outputs": [
    {
     "name": "stdout",
     "output_type": "stream",
     "text": [
      "Initial log joint probability = -2509.51\n",
      "    Iter      log prob        ||dx||      ||grad||       alpha      alpha0  # evals  Notes \n",
      "      19      -508.388     0.0151679       6.48119      0.9793     0.09793       28   \n",
      "    Iter      log prob        ||dx||      ||grad||       alpha      alpha0  # evals  Notes \n",
      "      39      -508.305    0.00612031       5.58729      0.5975           1       58   \n",
      "    Iter      log prob        ||dx||      ||grad||       alpha      alpha0  # evals  Notes \n",
      "      40      -508.302    0.00146712       5.20724   0.0002626       0.001       94  LS failed, Hessian reset \n",
      "      59      -508.298   7.57975e-05        4.3271           1           1      131   \n",
      "    Iter      log prob        ||dx||      ||grad||       alpha      alpha0  # evals  Notes \n",
      "      73      -508.298   5.03007e-07       4.74129      0.1018           1      158   \n",
      "Optimization terminated normally: \n",
      "  Convergence detected: relative gradient magnitude is below tolerance\n"
     ]
    },
    {
     "ename": "ValueError",
     "evalue": "at site \"rr_knot\", invalid log_prob shape\n  Expected [], actual [3]\n  Try one of the following fixes:\n  - enclose the batched tensor in a with pyro.plate(...): context\n  - .to_event(...) the distribution being sampled\n  - .permute() data dimensions",
     "output_type": "error",
     "traceback": [
      "\u001b[0;31m---------------------------------------------------------------------------\u001b[0m",
      "\u001b[0;31mValueError\u001b[0m                                Traceback (most recent call last)",
      "\u001b[0;32m<timed eval>\u001b[0m in \u001b[0;36m<module>\u001b[0;34m\u001b[0m\n",
      "\u001b[0;32m~/work/orbit-super/orbit/orbit/forecaster/svi.py\u001b[0m in \u001b[0;36mfit\u001b[0;34m(self, df, point_method, keep_samples)\u001b[0m\n\u001b[1;32m     23\u001b[0m \u001b[0;34m\u001b[0m\u001b[0m\n\u001b[1;32m     24\u001b[0m     \u001b[0;32mdef\u001b[0m \u001b[0mfit\u001b[0m\u001b[0;34m(\u001b[0m\u001b[0mself\u001b[0m\u001b[0;34m,\u001b[0m \u001b[0mdf\u001b[0m\u001b[0;34m,\u001b[0m \u001b[0mpoint_method\u001b[0m\u001b[0;34m=\u001b[0m\u001b[0;32mNone\u001b[0m\u001b[0;34m,\u001b[0m \u001b[0mkeep_samples\u001b[0m\u001b[0;34m=\u001b[0m\u001b[0;32mTrue\u001b[0m\u001b[0;34m)\u001b[0m\u001b[0;34m:\u001b[0m\u001b[0;34m\u001b[0m\u001b[0;34m\u001b[0m\u001b[0m\n\u001b[0;32m---> 25\u001b[0;31m         \u001b[0msuper\u001b[0m\u001b[0;34m(\u001b[0m\u001b[0;34m)\u001b[0m\u001b[0;34m.\u001b[0m\u001b[0mfit\u001b[0m\u001b[0;34m(\u001b[0m\u001b[0mdf\u001b[0m\u001b[0;34m)\u001b[0m\u001b[0;34m\u001b[0m\u001b[0;34m\u001b[0m\u001b[0m\n\u001b[0m\u001b[1;32m     26\u001b[0m         \u001b[0mself\u001b[0m\u001b[0;34m.\u001b[0m\u001b[0m_point_method\u001b[0m \u001b[0;34m=\u001b[0m \u001b[0mpoint_method\u001b[0m\u001b[0;34m\u001b[0m\u001b[0;34m\u001b[0m\u001b[0m\n\u001b[1;32m     27\u001b[0m \u001b[0;34m\u001b[0m\u001b[0m\n",
      "\u001b[0;32m~/work/orbit-super/orbit/orbit/forecaster/forecaster.py\u001b[0m in \u001b[0;36mfit\u001b[0;34m(self, df)\u001b[0m\n\u001b[1;32m    137\u001b[0m             \u001b[0mdata_input\u001b[0m\u001b[0;34m=\u001b[0m\u001b[0mdata_input\u001b[0m\u001b[0;34m,\u001b[0m\u001b[0;34m\u001b[0m\u001b[0;34m\u001b[0m\u001b[0m\n\u001b[1;32m    138\u001b[0m             \u001b[0mfitter\u001b[0m\u001b[0;34m=\u001b[0m\u001b[0mself\u001b[0m\u001b[0;34m.\u001b[0m\u001b[0m_model\u001b[0m\u001b[0;34m.\u001b[0m\u001b[0mget_fitter\u001b[0m\u001b[0;34m(\u001b[0m\u001b[0;34m)\u001b[0m\u001b[0;34m,\u001b[0m\u001b[0;34m\u001b[0m\u001b[0;34m\u001b[0m\u001b[0m\n\u001b[0;32m--> 139\u001b[0;31m             \u001b[0minit_values\u001b[0m\u001b[0;34m=\u001b[0m\u001b[0minit_values\u001b[0m\u001b[0;34m\u001b[0m\u001b[0;34m\u001b[0m\u001b[0m\n\u001b[0m\u001b[1;32m    140\u001b[0m         )\n\u001b[1;32m    141\u001b[0m \u001b[0;34m\u001b[0m\u001b[0m\n",
      "\u001b[0;32m~/work/orbit-super/orbit/orbit/estimators/pyro_estimator.py\u001b[0m in \u001b[0;36mfit\u001b[0;34m(self, model_name, model_param_names, data_input, fitter, init_values)\u001b[0m\n\u001b[1;32m     95\u001b[0m         \u001b[0msvi\u001b[0m \u001b[0;34m=\u001b[0m \u001b[0mSVI\u001b[0m\u001b[0;34m(\u001b[0m\u001b[0mmodel\u001b[0m\u001b[0;34m,\u001b[0m \u001b[0mguide\u001b[0m\u001b[0;34m,\u001b[0m \u001b[0moptim\u001b[0m\u001b[0;34m,\u001b[0m \u001b[0melbo\u001b[0m\u001b[0;34m)\u001b[0m\u001b[0;34m\u001b[0m\u001b[0;34m\u001b[0m\u001b[0m\n\u001b[1;32m     96\u001b[0m         \u001b[0;32mfor\u001b[0m \u001b[0mstep\u001b[0m \u001b[0;32min\u001b[0m \u001b[0mrange\u001b[0m\u001b[0;34m(\u001b[0m\u001b[0mnum_steps\u001b[0m\u001b[0;34m)\u001b[0m\u001b[0;34m:\u001b[0m\u001b[0;34m\u001b[0m\u001b[0;34m\u001b[0m\u001b[0m\n\u001b[0;32m---> 97\u001b[0;31m             \u001b[0mloss\u001b[0m \u001b[0;34m=\u001b[0m \u001b[0msvi\u001b[0m\u001b[0;34m.\u001b[0m\u001b[0mstep\u001b[0m\u001b[0;34m(\u001b[0m\u001b[0;34m)\u001b[0m\u001b[0;34m\u001b[0m\u001b[0;34m\u001b[0m\u001b[0m\n\u001b[0m\u001b[1;32m     98\u001b[0m             \u001b[0mloss_elbo\u001b[0m\u001b[0;34m.\u001b[0m\u001b[0mappend\u001b[0m\u001b[0;34m(\u001b[0m\u001b[0mloss\u001b[0m\u001b[0;34m)\u001b[0m\u001b[0;34m\u001b[0m\u001b[0;34m\u001b[0m\u001b[0m\n\u001b[1;32m     99\u001b[0m             \u001b[0;32mif\u001b[0m \u001b[0mverbose\u001b[0m \u001b[0;32mand\u001b[0m \u001b[0mstep\u001b[0m \u001b[0;34m%\u001b[0m \u001b[0mmessage\u001b[0m \u001b[0;34m==\u001b[0m \u001b[0;36m0\u001b[0m\u001b[0;34m:\u001b[0m\u001b[0;34m\u001b[0m\u001b[0;34m\u001b[0m\u001b[0m\n",
      "\u001b[0;32m~/work/venv/orbit37/lib/python3.7/site-packages/pyro/infer/svi.py\u001b[0m in \u001b[0;36mstep\u001b[0;34m(self, *args, **kwargs)\u001b[0m\n\u001b[1;32m    143\u001b[0m         \u001b[0;31m# get loss and compute gradients\u001b[0m\u001b[0;34m\u001b[0m\u001b[0;34m\u001b[0m\u001b[0;34m\u001b[0m\u001b[0m\n\u001b[1;32m    144\u001b[0m         \u001b[0;32mwith\u001b[0m \u001b[0mpoutine\u001b[0m\u001b[0;34m.\u001b[0m\u001b[0mtrace\u001b[0m\u001b[0;34m(\u001b[0m\u001b[0mparam_only\u001b[0m\u001b[0;34m=\u001b[0m\u001b[0;32mTrue\u001b[0m\u001b[0;34m)\u001b[0m \u001b[0;32mas\u001b[0m \u001b[0mparam_capture\u001b[0m\u001b[0;34m:\u001b[0m\u001b[0;34m\u001b[0m\u001b[0;34m\u001b[0m\u001b[0m\n\u001b[0;32m--> 145\u001b[0;31m             \u001b[0mloss\u001b[0m \u001b[0;34m=\u001b[0m \u001b[0mself\u001b[0m\u001b[0;34m.\u001b[0m\u001b[0mloss_and_grads\u001b[0m\u001b[0;34m(\u001b[0m\u001b[0mself\u001b[0m\u001b[0;34m.\u001b[0m\u001b[0mmodel\u001b[0m\u001b[0;34m,\u001b[0m \u001b[0mself\u001b[0m\u001b[0;34m.\u001b[0m\u001b[0mguide\u001b[0m\u001b[0;34m,\u001b[0m \u001b[0;34m*\u001b[0m\u001b[0margs\u001b[0m\u001b[0;34m,\u001b[0m \u001b[0;34m**\u001b[0m\u001b[0mkwargs\u001b[0m\u001b[0;34m)\u001b[0m\u001b[0;34m\u001b[0m\u001b[0;34m\u001b[0m\u001b[0m\n\u001b[0m\u001b[1;32m    146\u001b[0m \u001b[0;34m\u001b[0m\u001b[0m\n\u001b[1;32m    147\u001b[0m         params = set(\n",
      "\u001b[0;32m~/work/venv/orbit37/lib/python3.7/site-packages/pyro/infer/trace_elbo.py\u001b[0m in \u001b[0;36mloss_and_grads\u001b[0;34m(self, model, guide, *args, **kwargs)\u001b[0m\n\u001b[1;32m    138\u001b[0m         \u001b[0mloss\u001b[0m \u001b[0;34m=\u001b[0m \u001b[0;36m0.0\u001b[0m\u001b[0;34m\u001b[0m\u001b[0;34m\u001b[0m\u001b[0m\n\u001b[1;32m    139\u001b[0m         \u001b[0;31m# grab a trace from the generator\u001b[0m\u001b[0;34m\u001b[0m\u001b[0;34m\u001b[0m\u001b[0;34m\u001b[0m\u001b[0m\n\u001b[0;32m--> 140\u001b[0;31m         \u001b[0;32mfor\u001b[0m \u001b[0mmodel_trace\u001b[0m\u001b[0;34m,\u001b[0m \u001b[0mguide_trace\u001b[0m \u001b[0;32min\u001b[0m \u001b[0mself\u001b[0m\u001b[0;34m.\u001b[0m\u001b[0m_get_traces\u001b[0m\u001b[0;34m(\u001b[0m\u001b[0mmodel\u001b[0m\u001b[0;34m,\u001b[0m \u001b[0mguide\u001b[0m\u001b[0;34m,\u001b[0m \u001b[0margs\u001b[0m\u001b[0;34m,\u001b[0m \u001b[0mkwargs\u001b[0m\u001b[0;34m)\u001b[0m\u001b[0;34m:\u001b[0m\u001b[0;34m\u001b[0m\u001b[0;34m\u001b[0m\u001b[0m\n\u001b[0m\u001b[1;32m    141\u001b[0m             loss_particle, surrogate_loss_particle = self._differentiable_loss_particle(\n\u001b[1;32m    142\u001b[0m                 \u001b[0mmodel_trace\u001b[0m\u001b[0;34m,\u001b[0m \u001b[0mguide_trace\u001b[0m\u001b[0;34m\u001b[0m\u001b[0;34m\u001b[0m\u001b[0m\n",
      "\u001b[0;32m~/work/venv/orbit37/lib/python3.7/site-packages/pyro/infer/elbo.py\u001b[0m in \u001b[0;36m_get_traces\u001b[0;34m(self, model, guide, args, kwargs)\u001b[0m\n\u001b[1;32m    180\u001b[0m         \u001b[0;32mif\u001b[0m \u001b[0mself\u001b[0m\u001b[0;34m.\u001b[0m\u001b[0mvectorize_particles\u001b[0m\u001b[0;34m:\u001b[0m\u001b[0;34m\u001b[0m\u001b[0;34m\u001b[0m\u001b[0m\n\u001b[1;32m    181\u001b[0m             \u001b[0;32mif\u001b[0m \u001b[0mself\u001b[0m\u001b[0;34m.\u001b[0m\u001b[0mmax_plate_nesting\u001b[0m \u001b[0;34m==\u001b[0m \u001b[0mfloat\u001b[0m\u001b[0;34m(\u001b[0m\u001b[0;34m\"inf\"\u001b[0m\u001b[0;34m)\u001b[0m\u001b[0;34m:\u001b[0m\u001b[0;34m\u001b[0m\u001b[0;34m\u001b[0m\u001b[0m\n\u001b[0;32m--> 182\u001b[0;31m                 \u001b[0mself\u001b[0m\u001b[0;34m.\u001b[0m\u001b[0m_guess_max_plate_nesting\u001b[0m\u001b[0;34m(\u001b[0m\u001b[0mmodel\u001b[0m\u001b[0;34m,\u001b[0m \u001b[0mguide\u001b[0m\u001b[0;34m,\u001b[0m \u001b[0margs\u001b[0m\u001b[0;34m,\u001b[0m \u001b[0mkwargs\u001b[0m\u001b[0;34m)\u001b[0m\u001b[0;34m\u001b[0m\u001b[0;34m\u001b[0m\u001b[0m\n\u001b[0m\u001b[1;32m    183\u001b[0m             \u001b[0;32myield\u001b[0m \u001b[0mself\u001b[0m\u001b[0;34m.\u001b[0m\u001b[0m_get_vectorized_trace\u001b[0m\u001b[0;34m(\u001b[0m\u001b[0mmodel\u001b[0m\u001b[0;34m,\u001b[0m \u001b[0mguide\u001b[0m\u001b[0;34m,\u001b[0m \u001b[0margs\u001b[0m\u001b[0;34m,\u001b[0m \u001b[0mkwargs\u001b[0m\u001b[0;34m)\u001b[0m\u001b[0;34m\u001b[0m\u001b[0;34m\u001b[0m\u001b[0m\n\u001b[1;32m    184\u001b[0m         \u001b[0;32melse\u001b[0m\u001b[0;34m:\u001b[0m\u001b[0;34m\u001b[0m\u001b[0;34m\u001b[0m\u001b[0m\n",
      "\u001b[0;32m~/work/venv/orbit37/lib/python3.7/site-packages/pyro/infer/elbo.py\u001b[0m in \u001b[0;36m_guess_max_plate_nesting\u001b[0;34m(self, model, guide, args, kwargs)\u001b[0m\n\u001b[1;32m    116\u001b[0m             \u001b[0mmodel_trace\u001b[0m\u001b[0;34m.\u001b[0m\u001b[0mcompute_log_prob\u001b[0m\u001b[0;34m(\u001b[0m\u001b[0;34m)\u001b[0m\u001b[0;34m\u001b[0m\u001b[0;34m\u001b[0m\u001b[0m\n\u001b[1;32m    117\u001b[0m             \u001b[0;32mfor\u001b[0m \u001b[0msite\u001b[0m \u001b[0;32min\u001b[0m \u001b[0msites\u001b[0m\u001b[0;34m:\u001b[0m\u001b[0;34m\u001b[0m\u001b[0;34m\u001b[0m\u001b[0m\n\u001b[0;32m--> 118\u001b[0;31m                 \u001b[0mcheck_site_shape\u001b[0m\u001b[0;34m(\u001b[0m\u001b[0msite\u001b[0m\u001b[0;34m,\u001b[0m \u001b[0mmax_plate_nesting\u001b[0m\u001b[0;34m=\u001b[0m\u001b[0mfloat\u001b[0m\u001b[0;34m(\u001b[0m\u001b[0;34m\"inf\"\u001b[0m\u001b[0;34m)\u001b[0m\u001b[0;34m)\u001b[0m\u001b[0;34m\u001b[0m\u001b[0;34m\u001b[0m\u001b[0m\n\u001b[0m\u001b[1;32m    119\u001b[0m \u001b[0;34m\u001b[0m\u001b[0m\n\u001b[1;32m    120\u001b[0m         dims = [\n",
      "\u001b[0;32m~/work/venv/orbit37/lib/python3.7/site-packages/pyro/util.py\u001b[0m in \u001b[0;36mcheck_site_shape\u001b[0;34m(site, max_plate_nesting)\u001b[0m\n\u001b[1;32m    421\u001b[0m                         \u001b[0;34m\"- enclose the batched tensor in a with pyro.plate(...): context\"\u001b[0m\u001b[0;34m,\u001b[0m\u001b[0;34m\u001b[0m\u001b[0;34m\u001b[0m\u001b[0m\n\u001b[1;32m    422\u001b[0m                         \u001b[0;34m\"- .to_event(...) the distribution being sampled\"\u001b[0m\u001b[0;34m,\u001b[0m\u001b[0;34m\u001b[0m\u001b[0;34m\u001b[0m\u001b[0m\n\u001b[0;32m--> 423\u001b[0;31m                         \u001b[0;34m\"- .permute() data dimensions\"\u001b[0m\u001b[0;34m,\u001b[0m\u001b[0;34m\u001b[0m\u001b[0;34m\u001b[0m\u001b[0m\n\u001b[0m\u001b[1;32m    424\u001b[0m                     ]\n\u001b[1;32m    425\u001b[0m                 )\n",
      "\u001b[0;31mValueError\u001b[0m: at site \"rr_knot\", invalid log_prob shape\n  Expected [], actual [3]\n  Try one of the following fixes:\n  - enclose the batched tensor in a with pyro.plate(...): context\n  - .to_event(...) the distribution being sampled\n  - .permute() data dimensions"
     ]
    }
   ],
   "source": [
    "# %%time\n",
    "# ktr.fit(df=rw_data)  "
   ]
  },
  {
   "cell_type": "code",
   "execution_count": 42,
   "id": "1116d3c3",
   "metadata": {
    "scrolled": true
   },
   "outputs": [
    {
     "data": {
      "text/plain": [
       "['get_regression_coefs']"
      ]
     },
     "execution_count": 42,
     "metadata": {},
     "output_type": "execute_result"
    }
   ],
   "source": [
    "ktr.extra_methods"
   ]
  },
  {
   "cell_type": "code",
   "execution_count": 43,
   "id": "9ba12f13",
   "metadata": {},
   "outputs": [
    {
     "data": {
      "text/plain": [
       "3"
      ]
     },
     "execution_count": 43,
     "metadata": {},
     "output_type": "execute_result"
    }
   ],
   "source": [
    "ktr._model._num_of_regressors"
   ]
  },
  {
   "cell_type": "code",
   "execution_count": 44,
   "id": "4f15699a",
   "metadata": {},
   "outputs": [
    {
     "data": {
      "text/plain": [
       "['lev_knot', 'lev', 'yhat', 'obs_scale', 'coef_knot', 'coef_init_knot', 'coef']"
      ]
     },
     "execution_count": 44,
     "metadata": {},
     "output_type": "execute_result"
    }
   ],
   "source": [
    "ktr._model.get_model_param_names()"
   ]
  },
  {
   "cell_type": "code",
   "execution_count": 49,
   "id": "73e07047",
   "metadata": {},
   "outputs": [
    {
     "data": {
      "text/plain": [
       "{'lev_knot': array([[5.01419431, 5.09620549, 5.23622669, 5.26790073, 5.09482679,\n",
       "         5.02260748, 5.05407869, 5.05682644, 5.15583557, 5.15932798],\n",
       "        [5.1523982 , 5.16309743, 4.95956318, 5.1988801 , 4.96587882,\n",
       "         5.02415611, 5.21355213, 5.13180847, 5.30463839, 5.1756956 ],\n",
       "        [4.9452224 , 5.17026166, 5.22953021, 5.2310575 , 5.13795691,\n",
       "         5.08964045, 5.31928101, 5.25696695, 5.24184112, 5.08807279],\n",
       "        [5.10549721, 5.08815222, 4.9148479 , 5.07165778, 5.13257868,\n",
       "         5.09887534, 5.08722606, 5.20422023, 5.22467093, 5.26111448],\n",
       "        [4.91336407, 5.07224377, 5.38781033, 4.95356827, 5.05831815,\n",
       "         4.93825716, 5.18019296, 5.17808784, 5.25429652, 5.34027439],\n",
       "        [5.26404823, 5.06195759, 5.10481859, 5.13802161, 5.21375954,\n",
       "         5.0236434 , 5.08371914, 5.25973197, 5.12430923, 5.01604426],\n",
       "        [5.03999704, 5.08420794, 4.95081849, 4.96506002, 5.15651453,\n",
       "         5.00964997, 5.19191339, 5.16435909, 5.15265772, 5.11810277],\n",
       "        [4.96790455, 5.24547924, 5.23488064, 4.94837832, 5.16325769,\n",
       "         5.07314963, 5.04269963, 5.09658747, 5.17221532, 5.00253684],\n",
       "        [5.00756386, 5.18775263, 5.02024719, 5.14928549, 5.00810011,\n",
       "         5.05929759, 5.07887319, 5.22272293, 5.26564977, 5.19761639],\n",
       "        [5.02944221, 5.2554979 , 5.04290247, 5.16936698, 5.22440287,\n",
       "         5.12920958, 5.11531016, 5.16749559, 5.12816938, 5.04002411],\n",
       "        [5.12821858, 5.25027408, 5.16597016, 5.19133046, 5.05749446,\n",
       "         5.1555744 , 5.39644399, 5.08210293, 5.22752734, 5.22440388],\n",
       "        [4.98369938, 5.17676769, 4.9665956 , 5.02780024, 5.25406362,\n",
       "         5.2513026 , 5.06136616, 5.18285338, 5.38230239, 5.17519643],\n",
       "        [4.95046968, 5.05981946, 5.14869498, 5.1296735 , 5.22392218,\n",
       "         4.84217735, 5.29144105, 5.03325707, 5.21679725, 5.22984528],\n",
       "        [5.00618578, 5.20712564, 5.17572646, 5.02713019, 5.11691052,\n",
       "         5.0119169 , 5.26188339, 5.23935222, 5.28746256, 5.08978076],\n",
       "        [5.11556872, 5.19058244, 5.11576396, 5.00656215, 5.2256681 ,\n",
       "         5.08997426, 5.22954849, 5.20699785, 5.39580206, 5.20347172],\n",
       "        [5.02995594, 4.96160333, 5.1003375 , 5.04484656, 5.09925307,\n",
       "         4.86856276, 5.12840957, 5.29379338, 5.27866645, 5.08642361],\n",
       "        [5.11632836, 5.10196779, 5.14458707, 4.9838933 , 5.17447179,\n",
       "         5.00716162, 5.19096752, 5.41222203, 5.17846051, 5.05722246],\n",
       "        [4.93315267, 5.15852851, 5.04666008, 5.31884903, 5.20344587,\n",
       "         4.96128046, 5.19762497, 5.16497566, 5.19988953, 5.11042825],\n",
       "        [5.32042303, 5.14495231, 5.20023022, 5.13327446, 5.02355842,\n",
       "         5.08526902, 5.15310208, 5.36194979, 4.99174846, 5.24531677],\n",
       "        [4.71366368, 5.09742568, 5.05302896, 5.04675417, 4.92024525,\n",
       "         5.10688618, 5.00930449, 5.16603679, 5.40841088, 5.03353296],\n",
       "        [5.00078956, 5.19452132, 5.22633033, 4.8577611 , 5.24801728,\n",
       "         5.09527067, 5.12564431, 5.36945519, 5.04004625, 5.03987581],\n",
       "        [5.07893481, 5.23932899, 5.0229295 , 5.23183474, 5.02517669,\n",
       "         5.11046342, 5.2087944 , 5.01935644, 5.12660996, 5.10194254],\n",
       "        [4.9560056 , 5.13856154, 5.07815091, 5.0137385 , 5.09246787,\n",
       "         4.98366545, 5.22474434, 5.28691161, 5.16958023, 5.26958175],\n",
       "        [4.96394035, 5.03550495, 4.97851982, 5.12948794, 5.29901001,\n",
       "         4.96223113, 5.16072498, 5.18002773, 5.11237492, 5.13025513],\n",
       "        [4.94492478, 5.07373469, 4.99241246, 5.20191109, 5.19178188,\n",
       "         4.94847723, 5.11916585, 5.30678562, 5.17685654, 5.16461239],\n",
       "        [5.09795621, 5.14210791, 5.03153989, 5.13601458, 5.13480659,\n",
       "         4.87931952, 5.33792293, 5.39492333, 5.09964887, 5.34061739],\n",
       "        [5.11608474, 5.08651845, 5.06570931, 4.97810118, 5.13594761,\n",
       "         5.0289429 , 5.17196318, 5.3523417 , 5.22398727, 5.31371742],\n",
       "        [5.18123059, 5.16456155, 5.10425976, 5.20297981, 5.1037277 ,\n",
       "         4.98802481, 5.09730413, 5.18375028, 5.14142129, 5.10333899],\n",
       "        [5.19960163, 4.93033888, 4.87316914, 5.13521413, 5.20525431,\n",
       "         4.96465715, 5.39245242, 5.26547814, 5.02900856, 5.20366579],\n",
       "        [5.02228938, 5.13300682, 5.07665633, 5.09533429, 5.06442934,\n",
       "         5.00904282, 5.03435304, 5.23356609, 5.22375242, 4.95439699],\n",
       "        [4.97100073, 5.22237222, 5.14537511, 5.06489345, 5.08060195,\n",
       "         4.92815188, 5.12303972, 5.13996256, 5.17041045, 5.16317672],\n",
       "        [5.2462055 , 5.23215174, 4.99793722, 4.99152911, 5.02492712,\n",
       "         5.06516073, 5.06268289, 5.18499163, 5.26707167, 5.06327972],\n",
       "        [5.08845012, 5.2367583 , 5.12955954, 5.19469184, 5.18048121,\n",
       "         5.0852121 , 5.14490169, 5.04884357, 5.15581157, 5.26053582],\n",
       "        [5.02492229, 5.1014537 , 5.19896154, 5.01457356, 5.09132617,\n",
       "         4.89616674, 5.01248755, 5.27815008, 5.27646834, 5.27236246],\n",
       "        [5.37383399, 5.22842168, 5.20068218, 5.02720943, 5.28170644,\n",
       "         5.06749398, 5.18864161, 5.26621968, 5.35578318, 5.24020555],\n",
       "        [5.09692725, 5.02326623, 5.14332944, 5.05721449, 5.06565069,\n",
       "         4.96677055, 5.07200329, 5.15691777, 5.25102425, 4.93859702],\n",
       "        [5.21021192, 5.17850697, 5.21431637, 5.01321838, 5.10931524,\n",
       "         4.91513086, 5.20438587, 4.91199679, 5.25412244, 5.17489455],\n",
       "        [5.17033473, 5.23893641, 5.05982667, 4.94079138, 5.20155621,\n",
       "         4.98797353, 5.0966928 , 5.18986529, 5.09478517, 5.10051451],\n",
       "        [4.97615961, 4.99354682, 4.98882127, 5.07321166, 5.05356997,\n",
       "         4.90527748, 5.08453918, 5.14999838, 5.19547433, 5.21736367],\n",
       "        [5.04301954, 5.16730496, 5.30065205, 5.12879985, 5.27248894,\n",
       "         4.86894361, 5.21832569, 5.37350114, 5.27119389, 5.3007435 ],\n",
       "        [5.34614747, 5.00038826, 5.21817132, 5.11158991, 5.12308902,\n",
       "         4.91848905, 5.23564337, 5.27419165, 5.19001748, 5.11758848],\n",
       "        [5.07930163, 5.18854964, 5.22687055, 5.12623448, 4.99093297,\n",
       "         4.98553107, 5.31087841, 5.18133097, 5.14283404, 5.12509586],\n",
       "        [4.94067759, 5.17827979, 5.14711583, 5.08634978, 5.24685452,\n",
       "         4.99811357, 5.27681535, 5.15005775, 5.1389222 , 5.3186083 ],\n",
       "        [5.07110294, 5.04037451, 4.83716767, 5.10208371, 5.03333408,\n",
       "         4.99284758, 5.18817997, 5.20752174, 5.20724262, 5.1648868 ],\n",
       "        [5.06724354, 5.12776885, 5.24080415, 5.04876131, 5.18938742,\n",
       "         5.03831441, 5.13721962, 5.1470565 , 5.08786177, 5.09155543],\n",
       "        [5.07199723, 5.08878059, 5.21217567, 5.08938165, 5.2938492 ,\n",
       "         5.02479251, 5.14127939, 5.13953352, 5.20634561, 5.20432893],\n",
       "        [5.19972087, 5.16004213, 4.94900311, 5.19916004, 5.10085672,\n",
       "         5.15285201, 4.96724374, 5.32966136, 5.2666219 , 5.28409386],\n",
       "        [5.06973705, 4.88027533, 5.05341116, 5.07103625, 5.00027352,\n",
       "         4.96899245, 5.08914211, 5.03720273, 5.11861997, 5.18965527],\n",
       "        [4.98314287, 5.0207737 , 5.02027329, 5.108741  , 4.86740847,\n",
       "         5.03287732, 5.19676929, 5.28730232, 5.17570901, 5.31995748],\n",
       "        [5.13231502, 4.98942698, 5.0454847 , 4.96411379, 5.27682273,\n",
       "         5.02120194, 5.0211477 , 5.12271448, 5.13589949, 5.20808509],\n",
       "        [5.16587691, 5.26934312, 4.98087377, 5.17218177, 5.12414809,\n",
       "         4.98885012, 5.18231926, 5.15994223, 5.20314558, 5.45374585],\n",
       "        [5.16696252, 5.09211962, 5.22815571, 5.10360112, 4.99363824,\n",
       "         4.7956605 , 4.9719132 , 5.45708137, 5.11882261, 5.08579327],\n",
       "        [5.24817629, 5.05229349, 4.81553225, 5.19302509, 5.06616451,\n",
       "         5.28612073, 5.15058524, 5.31903428, 5.23165696, 5.36150247],\n",
       "        [5.04398405, 5.28726257, 5.15123782, 5.17854487, 5.10703297,\n",
       "         5.06766018, 5.10058119, 5.2106771 , 5.25570301, 5.22203207],\n",
       "        [5.07481926, 5.15311711, 5.05732081, 4.97082622, 5.10980078,\n",
       "         4.94047083, 5.10390169, 5.12991098, 5.0680566 , 5.14944842],\n",
       "        [5.01572224, 5.2326972 , 5.12411135, 5.03251866, 5.09698696,\n",
       "         4.98246881, 5.20191085, 5.21214013, 5.15425497, 5.10068983],\n",
       "        [5.16539192, 5.08632936, 5.32304259, 5.1469632 , 5.16880993,\n",
       "         5.01982306, 5.04738132, 5.17378187, 5.23259173, 5.26410127],\n",
       "        [5.00593526, 5.16168262, 5.03420929, 5.13123356, 4.93622797,\n",
       "         4.94931998, 5.17709293, 5.15404697, 5.27280235, 5.18346141],\n",
       "        [5.19977305, 5.02006006, 5.13452503, 4.97255995, 5.16211378,\n",
       "         4.89741325, 5.10763441, 5.20492036, 5.28012245, 5.11738909],\n",
       "        [5.04882473, 5.1346281 , 5.19055203, 5.08794546, 5.22914457,\n",
       "         5.07220021, 5.27472269, 5.13042362, 5.30902167, 5.24027064],\n",
       "        [5.06996556, 5.09730163, 5.22599295, 5.07094451, 5.09530218,\n",
       "         5.07244815, 5.24873903, 5.23717158, 5.1762876 , 5.2856531 ],\n",
       "        [5.00126745, 5.01403653, 5.2379087 , 4.95556489, 4.9932546 ,\n",
       "         4.9523993 , 5.17162251, 5.21072915, 5.03623157, 5.34606321],\n",
       "        [4.97310795, 5.02666967, 5.22688951, 5.1493853 , 5.0957544 ,\n",
       "         5.16075263, 5.17089854, 5.09576472, 5.00075518, 5.20782625],\n",
       "        [5.06548491, 5.18075016, 5.03819472, 5.07032364, 5.12925462,\n",
       "         4.84884051, 5.25760689, 5.54415794, 5.17891264, 5.19806102],\n",
       "        [4.98688314, 5.15173187, 4.98280459, 5.08224303, 5.04587765,\n",
       "         5.26578948, 5.24775895, 5.26574615, 5.29551421, 5.05552403],\n",
       "        [5.17472546, 5.24751461, 5.02105109, 5.03063874, 5.29489575,\n",
       "         4.98142416, 5.21449275, 5.04464169, 5.08683148, 5.10463623],\n",
       "        [5.17368707, 5.05111595, 5.23066205, 5.10531208, 5.23406722,\n",
       "         5.10633876, 5.11519147, 5.19260504, 5.09827001, 5.20932489],\n",
       "        [4.88453162, 4.88381444, 5.05255835, 5.05171201, 5.12511143,\n",
       "         4.8781387 , 5.14976023, 5.24429434, 5.29774839, 5.23140984],\n",
       "        [5.2556271 , 5.18922268, 5.19832206, 5.04905582, 5.20140391,\n",
       "         5.27081312, 5.204499  , 5.2131181 , 5.09123014, 5.12436489],\n",
       "        [5.05522603, 5.28954219, 5.19510322, 4.89651797, 5.22504037,\n",
       "         4.78548227, 5.08862655, 5.24855287, 5.34068675, 5.40022938],\n",
       "        [5.05695745, 5.22107649, 4.90806893, 5.13892576, 4.98170944,\n",
       "         5.12984914, 5.07192777, 5.35639324, 5.36013627, 5.21939516],\n",
       "        [5.09182473, 5.15644027, 5.01432141, 5.00414013, 4.97113934,\n",
       "         4.95786624, 5.21599921, 5.36061916, 5.38907138, 5.10425053],\n",
       "        [5.22475833, 5.1829545 , 4.86767   , 4.97154604, 5.06457738,\n",
       "         5.0756394 , 5.39062296, 5.0952288 , 5.15956932, 4.96728226],\n",
       "        [5.04571787, 4.99234224, 5.22690752, 5.22134675, 5.044028  ,\n",
       "         4.87486496, 5.15354327, 5.23096949, 5.27827123, 5.21916653],\n",
       "        [5.35184033, 5.23183772, 5.18754449, 5.21129704, 5.00923605,\n",
       "         4.81065174, 5.35868591, 5.14126987, 5.09161094, 5.11404658],\n",
       "        [5.21996026, 5.19366849, 5.07353199, 5.12748007, 5.06597183,\n",
       "         4.92990979, 5.16145923, 5.35862092, 5.29348124, 5.16934349],\n",
       "        [4.95035549, 5.0352724 , 5.0071322 , 4.94261569, 5.14587154,\n",
       "         4.98517446, 5.21198571, 5.39482011, 5.22565423, 5.37343371],\n",
       "        [5.01770811, 5.31101565, 4.95502961, 5.12052103, 5.05647192,\n",
       "         4.75667252, 5.02792365, 5.27042516, 5.22951397, 5.24611883],\n",
       "        [5.24049036, 5.08651131, 5.09201709, 5.00606422, 4.95612863,\n",
       "         5.07080885, 5.13620114, 5.0363594 , 5.15296386, 5.09399825],\n",
       "        [4.99190017, 5.10390539, 5.04348186, 5.05178503, 5.06663971,\n",
       "         5.00414524, 5.42987404, 5.22399786, 5.04856196, 5.2582483 ],\n",
       "        [5.05296823, 5.11797832, 5.04552865, 4.99014131, 5.17153396,\n",
       "         4.88737555, 5.24570976, 5.15722825, 5.35174044, 5.31150035],\n",
       "        [5.03476535, 5.23810353, 5.1562318 , 5.0959088 , 5.00428435,\n",
       "         5.01813713, 5.28176531, 5.20239034, 5.3251293 , 5.2725078 ],\n",
       "        [4.92750489, 5.31270034, 5.10480602, 5.05377887, 5.1914838 ,\n",
       "         5.07382904, 5.14769867, 5.22885566, 5.18673501, 5.20186677],\n",
       "        [4.9980128 , 5.04078666, 5.03762942, 5.13372875, 5.10295944,\n",
       "         4.8783272 , 5.09464743, 5.16081024, 5.08594805, 5.2409647 ],\n",
       "        [5.12534897, 5.30085152, 5.21230798, 4.97669   , 5.24686766,\n",
       "         4.9968812 , 5.15604295, 5.16632983, 5.36760069, 5.11239464],\n",
       "        [5.1255913 , 5.10220699, 5.15609227, 5.0334226 , 5.19152333,\n",
       "         5.03160437, 4.848206  , 5.31094703, 4.96426101, 5.11885952],\n",
       "        [5.12877494, 5.04808267, 5.20031142, 5.31780114, 5.11191747,\n",
       "         4.8802773 , 5.2185856 , 5.02644353, 5.28110901, 5.07501821],\n",
       "        [4.9504015 , 5.21833585, 5.06447708, 5.10594148, 5.00106748,\n",
       "         4.9131909 , 5.21137346, 5.35020868, 5.29575262, 5.3270388 ],\n",
       "        [5.14552862, 5.14497993, 5.0336056 , 5.05462781, 5.0123076 ,\n",
       "         5.0238326 , 5.01393572, 5.31836263, 5.06887563, 5.11412318],\n",
       "        [5.1843659 , 5.14906625, 4.9941729 , 5.14875971, 5.21776723,\n",
       "         5.02394499, 5.31544371, 5.35034057, 5.37658872, 5.20986775],\n",
       "        [4.99860308, 5.13445552, 5.15892268, 4.97862023, 5.11279873,\n",
       "         4.76869292, 5.3143011 , 5.31250515, 5.05815056, 5.21766934],\n",
       "        [5.12585184, 5.10061574, 5.24717964, 5.12869894, 5.01050344,\n",
       "         5.14100906, 5.14693162, 5.18332536, 5.22485747, 5.28902642],\n",
       "        [4.8812601 , 5.19334864, 5.19802189, 4.86813305, 5.16004936,\n",
       "         5.07157041, 5.08847699, 5.13991007, 5.26789133, 5.04241481],\n",
       "        [5.16515852, 5.26441706, 5.14222238, 5.1595958 , 5.12127974,\n",
       "         5.10036714, 5.27203702, 5.09616514, 5.09296943, 5.11729297],\n",
       "        [4.91311078, 4.96927495, 5.07530683, 5.04959519, 5.16008086,\n",
       "         4.99142878, 5.13558697, 5.28430298, 5.20085146, 5.09691113],\n",
       "        [5.283912  , 5.0489794 , 5.10586321, 5.12311906, 5.12555027,\n",
       "         4.92392328, 5.1259403 , 5.19640112, 5.18313951, 5.20157887],\n",
       "        [5.09415243, 4.92428491, 5.22277288, 5.0120179 , 5.17882689,\n",
       "         5.03319216, 5.02142725, 5.1340677 , 5.17988708, 5.0240507 ],\n",
       "        [5.07157811, 5.31368552, 4.95562228, 5.25420859, 5.01212691,\n",
       "         5.03409869, 5.07399363, 5.07391057, 5.24907371, 5.20249001],\n",
       "        [5.12725819, 4.97624063, 4.96591632, 5.16889106, 5.27033472,\n",
       "         5.17985384, 5.25353922, 5.36909365, 5.1266108 , 5.15204192],\n",
       "        [5.36106894, 4.93140221, 5.30058758, 5.08446615, 5.183043  ,\n",
       "         5.01024212, 5.03861643, 5.12369179, 5.25370646, 5.13830618]]),\n",
       " 'lev': array([[5.01419431, 5.01419431, 5.01419431, ..., 5.15909516, 5.15921157,\n",
       "         5.15932798],\n",
       "        [5.1523982 , 5.1523982 , 5.1523982 , ..., 5.18429179, 5.1799937 ,\n",
       "         5.1756956 ],\n",
       "        [4.9452224 , 4.9452224 , 4.9452224 , ..., 5.09832401, 5.0931984 ,\n",
       "         5.08807279],\n",
       "        ...,\n",
       "        [5.07157811, 5.07157811, 5.07157811, ..., 5.20559559, 5.2040428 ,\n",
       "         5.20249001],\n",
       "        [5.12725819, 5.12725819, 5.12725819, ..., 5.15034652, 5.15119422,\n",
       "         5.15204192],\n",
       "        [5.36106894, 5.36106894, 5.36106894, ..., 5.14599953, 5.14215286,\n",
       "         5.13830618]]),\n",
       " 'yhat': array([[1.43064075, 6.95010897, 3.19453582, ..., 4.6007334 , 3.29314832,\n",
       "         6.25528485],\n",
       "        [1.57985402, 6.97318249, 3.63050741, ..., 4.73209357, 3.46290099,\n",
       "         6.17559344],\n",
       "        [0.92891572, 7.49816091, 3.01650268, ..., 3.97295334, 3.0245877 ,\n",
       "         6.68876495],\n",
       "        ...,\n",
       "        [1.59134881, 7.31082707, 3.52933796, ..., 4.18096823, 3.46922443,\n",
       "         6.62084498],\n",
       "        [1.47240619, 7.12178921, 2.9338852 , ..., 4.59484793, 3.09039779,\n",
       "         6.27512415],\n",
       "        [1.29894404, 7.28039092, 3.2187171 , ..., 4.87174414, 3.01041078,\n",
       "         6.11327995]]),\n",
       " 'obs_scale': array([3.34313109, 3.34313109, 3.34313109, 3.34313109, 3.34313109,\n",
       "        3.34313109, 3.34313109, 3.34313109, 3.34313109, 3.34313109,\n",
       "        3.34313109, 3.34313109, 3.34313109, 3.34313109, 3.34313109,\n",
       "        3.34313109, 3.34313109, 3.34313109, 3.34313109, 3.34313109,\n",
       "        3.34313109, 3.34313109, 3.34313109, 3.34313109, 3.34313109,\n",
       "        3.34313109, 3.34313109, 3.34313109, 3.34313109, 3.34313109,\n",
       "        3.34313109, 3.34313109, 3.34313109, 3.34313109, 3.34313109,\n",
       "        3.34313109, 3.34313109, 3.34313109, 3.34313109, 3.34313109,\n",
       "        3.34313109, 3.34313109, 3.34313109, 3.34313109, 3.34313109,\n",
       "        3.34313109, 3.34313109, 3.34313109, 3.34313109, 3.34313109,\n",
       "        3.34313109, 3.34313109, 3.34313109, 3.34313109, 3.34313109,\n",
       "        3.34313109, 3.34313109, 3.34313109, 3.34313109, 3.34313109,\n",
       "        3.34313109, 3.34313109, 3.34313109, 3.34313109, 3.34313109,\n",
       "        3.34313109, 3.34313109, 3.34313109, 3.34313109, 3.34313109,\n",
       "        3.34313109, 3.34313109, 3.34313109, 3.34313109, 3.34313109,\n",
       "        3.34313109, 3.34313109, 3.34313109, 3.34313109, 3.34313109,\n",
       "        3.34313109, 3.34313109, 3.34313109, 3.34313109, 3.34313109,\n",
       "        3.34313109, 3.34313109, 3.34313109, 3.34313109, 3.34313109,\n",
       "        3.34313109, 3.34313109, 3.34313109, 3.34313109, 3.34313109,\n",
       "        3.34313109, 3.34313109, 3.34313109, 3.34313109, 3.34313109]),\n",
       " 'coef_knot': array([[ 2.15686953e-01,  4.10897806e-03,  2.07240236e-01],\n",
       "        [ 1.88095129e-01, -3.66266426e-03,  1.99775105e-01],\n",
       "        [ 2.46287244e-01,  3.80957872e-02,  2.55061521e-01],\n",
       "        [ 2.17932295e-01, -3.02538841e-03,  2.19438595e-01],\n",
       "        [ 2.21645108e-01, -3.68747354e-03,  2.26285990e-01],\n",
       "        [ 2.40371722e-01, -1.68193497e-02,  2.40278129e-01],\n",
       "        [ 2.34812506e-01, -1.66371896e-02,  2.39568282e-01],\n",
       "        [ 2.22990191e-01,  1.34834769e-02,  2.15051913e-01],\n",
       "        [ 2.42334207e-01,  1.69720365e-02,  2.26841306e-01],\n",
       "        [ 2.50573928e-01, -6.09202888e-02,  2.32869874e-01],\n",
       "        [ 2.14730353e-01,  1.24817054e-02,  2.33324223e-01],\n",
       "        [ 2.17138910e-01, -3.76548081e-02,  2.16820494e-01],\n",
       "        [ 2.37447667e-01,  2.07755414e-02,  2.40370638e-01],\n",
       "        [ 2.44712550e-01,  5.29010187e-02,  2.11830020e-01],\n",
       "        [ 2.12331588e-01, -2.89155470e-04,  1.96633759e-01],\n",
       "        [ 2.22315479e-01, -1.07132530e-02,  2.19687164e-01],\n",
       "        [ 2.09044637e-01,  1.77311687e-03,  2.08709303e-01],\n",
       "        [ 2.30350442e-01,  1.22695083e-02,  2.04900904e-01],\n",
       "        [ 2.08107753e-01,  2.83099316e-02,  2.24739474e-01],\n",
       "        [ 2.50353355e-01,  1.44385472e-03,  2.20194500e-01],\n",
       "        [ 2.07361786e-01,  2.04043072e-03,  2.10295857e-01],\n",
       "        [ 2.15200791e-01,  3.51235583e-02,  1.96855541e-01],\n",
       "        [ 2.33047838e-01,  2.22631923e-02,  1.93906989e-01],\n",
       "        [ 1.84023046e-01,  2.14041233e-02,  2.15222347e-01],\n",
       "        [ 2.08526920e-01,  2.23821826e-02,  2.07260267e-01],\n",
       "        [ 2.11233677e-01, -1.77906120e-02,  2.17415250e-01],\n",
       "        [ 2.12405839e-01,  1.96448501e-02,  1.83953875e-01],\n",
       "        [ 2.53652951e-01,  1.45107459e-02,  2.10468984e-01],\n",
       "        [ 2.00734898e-01,  1.98438450e-02,  2.29328853e-01],\n",
       "        [ 2.41525484e-01,  1.56027542e-02,  2.09308745e-01],\n",
       "        [ 2.30369778e-01,  8.07913404e-03,  1.88141492e-01],\n",
       "        [ 1.93687962e-01,  6.36178285e-03,  2.04662084e-01],\n",
       "        [ 2.18513314e-01, -1.04226610e-02,  1.93697831e-01],\n",
       "        [ 2.05518515e-01, -2.24232899e-02,  2.24262168e-01],\n",
       "        [ 2.11365111e-01, -2.50719777e-02,  2.15240695e-01],\n",
       "        [ 2.26762368e-01, -2.54531344e-02,  2.14801054e-01],\n",
       "        [ 2.60511041e-01,  1.42437336e-02,  1.74582491e-01],\n",
       "        [ 2.63362889e-01, -7.20147033e-03,  1.74532931e-01],\n",
       "        [ 1.85870906e-01,  5.12530470e-03,  2.60775166e-01],\n",
       "        [ 2.31493912e-01, -1.94722733e-02,  2.57545821e-01],\n",
       "        [ 2.18534571e-01,  7.84490716e-03,  1.98642468e-01],\n",
       "        [ 2.19265369e-01, -1.25337039e-02,  1.88684473e-01],\n",
       "        [ 1.88907000e-01, -2.54479169e-02,  2.27364188e-01],\n",
       "        [ 2.36886220e-01,  3.67649339e-03,  2.13462533e-01],\n",
       "        [ 2.15573433e-01,  2.29658084e-02,  2.64361518e-01],\n",
       "        [ 1.98144727e-01, -1.43161964e-02,  2.04192042e-01],\n",
       "        [ 1.94276252e-01,  1.31367066e-02,  2.39646493e-01],\n",
       "        [ 2.06548541e-01, -1.41834639e-02,  2.39925124e-01],\n",
       "        [ 1.94979997e-01,  7.39751206e-04,  2.06882782e-01],\n",
       "        [ 2.22239756e-01,  2.67452058e-03,  1.93594034e-01],\n",
       "        [ 1.92391125e-01, -1.64466410e-02,  1.97347479e-01],\n",
       "        [ 2.67725725e-01, -1.82355044e-02,  2.42566726e-01],\n",
       "        [ 2.41424379e-01,  2.55868618e-03,  2.05440409e-01],\n",
       "        [ 2.51090915e-01, -1.61551475e-03,  2.40687318e-01],\n",
       "        [ 2.27325954e-01, -1.12226726e-02,  2.34326483e-01],\n",
       "        [ 2.00430545e-01,  7.17016820e-05,  2.26545880e-01],\n",
       "        [ 2.51331412e-01,  2.50055892e-02,  2.25979599e-01],\n",
       "        [ 2.24417232e-01, -1.39275939e-02,  2.24683000e-01],\n",
       "        [ 2.39500286e-01,  1.57713540e-02,  2.03054472e-01],\n",
       "        [ 2.10827442e-01, -6.87892439e-02,  1.98018960e-01],\n",
       "        [ 2.37833941e-01,  1.22403662e-02,  1.94316683e-01],\n",
       "        [ 2.26375575e-01,  2.26932030e-02,  2.17014927e-01],\n",
       "        [ 2.29709411e-01,  2.13312425e-02,  2.49782882e-01],\n",
       "        [ 2.31494813e-01,  1.17479877e-03,  2.12136969e-01],\n",
       "        [ 1.81138178e-01, -1.78657949e-02,  2.30266080e-01],\n",
       "        [ 2.05657568e-01, -1.40101783e-02,  2.09642521e-01],\n",
       "        [ 2.22098773e-01, -2.51860032e-02,  2.32498062e-01],\n",
       "        [ 2.59273801e-01,  2.00409050e-02,  2.01018009e-01],\n",
       "        [ 1.95748585e-01,  3.19319545e-03,  2.14888662e-01],\n",
       "        [ 1.88144166e-01, -2.64815599e-03,  2.28099074e-01],\n",
       "        [ 2.27377345e-01,  1.42634669e-02,  2.01888118e-01],\n",
       "        [ 1.93965267e-01,  2.64203409e-03,  2.17315831e-01],\n",
       "        [ 2.24705943e-01,  3.46163990e-02,  2.31463629e-01],\n",
       "        [ 1.94150881e-01, -1.03102446e-02,  2.07768314e-01],\n",
       "        [ 2.60199424e-01,  2.09344691e-03,  2.10310932e-01],\n",
       "        [ 2.10737169e-01,  1.19628684e-02,  1.96294604e-01],\n",
       "        [ 2.28869392e-01, -2.10571750e-02,  2.43009134e-01],\n",
       "        [ 1.82785127e-01, -2.85347676e-02,  1.96674346e-01],\n",
       "        [ 2.37686987e-01,  8.68045223e-03,  2.04165419e-01],\n",
       "        [ 2.40947330e-01,  3.65473573e-02,  2.03365776e-01],\n",
       "        [ 2.37706424e-01, -1.91360537e-02,  2.10914701e-01],\n",
       "        [ 2.39772282e-01,  2.02585336e-02,  2.32991314e-01],\n",
       "        [ 1.97448688e-01,  8.93848790e-03,  2.20362841e-01],\n",
       "        [ 1.88398694e-01, -2.08961138e-02,  2.06119978e-01],\n",
       "        [ 2.09151607e-01,  1.00882564e-02,  2.26824775e-01],\n",
       "        [ 2.10212964e-01, -2.09274407e-02,  2.34080892e-01],\n",
       "        [ 2.12673193e-01,  4.48747151e-03,  1.79490943e-01],\n",
       "        [ 2.33940680e-01,  2.15234323e-02,  2.41906222e-01],\n",
       "        [ 2.53314303e-01, -2.19072562e-03,  2.01068731e-01],\n",
       "        [ 2.26440440e-01, -5.79826772e-03,  2.11017138e-01],\n",
       "        [ 2.32053621e-01,  1.21707439e-02,  1.90496972e-01],\n",
       "        [ 2.08750601e-01,  1.61068590e-02,  2.13422602e-01],\n",
       "        [ 1.99346226e-01,  1.48415732e-02,  2.35179030e-01],\n",
       "        [ 2.23915567e-01, -1.81380248e-02,  2.20490581e-01],\n",
       "        [ 2.08149576e-01, -4.32277095e-02,  2.04035491e-01],\n",
       "        [ 2.10765294e-01,  2.12291789e-02,  2.21997953e-01],\n",
       "        [ 2.14179291e-01, -1.86587089e-03,  2.61544955e-01],\n",
       "        [ 2.04136653e-01,  3.60434808e-02,  2.22501677e-01],\n",
       "        [ 2.47401328e-01,  4.05699672e-03,  2.12913600e-01],\n",
       "        [ 2.41239962e-01, -1.93863161e-02,  2.18552407e-01]]),\n",
       " 'coef_init_knot': array([[ 1.10084289e+00, -9.94113792e-01, -2.22536210e-01],\n",
       "        [-6.57847541e-01,  4.49694100e-01, -4.38470301e-01],\n",
       "        [-1.20764382e-01, -5.82734647e-02,  7.18486183e-01],\n",
       "        [-1.76196464e-02, -2.94168701e-01, -1.81581791e-01],\n",
       "        [-2.57067808e-01, -2.65389865e-01, -8.05162221e-04],\n",
       "        [ 7.89228868e-01,  4.02655522e-01,  3.85336423e-02],\n",
       "        [ 3.21416144e-01, -2.08402017e-01,  6.12317997e-01],\n",
       "        [-6.24619286e-02, -1.21171348e+00,  1.34937821e-01],\n",
       "        [ 3.02310983e-01, -2.87831537e-01,  1.35081642e-01],\n",
       "        [ 6.35486125e-02,  4.64647413e-01,  7.80085569e-02],\n",
       "        [ 5.33211252e-01,  7.52770442e-02, -2.57756700e-03],\n",
       "        [ 4.20844406e-01, -1.67383255e-01, -5.88852168e-01],\n",
       "        [-6.22839349e-01,  3.87339644e-01,  2.38255987e-01],\n",
       "        [ 7.65273431e-01, -1.67769564e-02,  3.57807612e-02],\n",
       "        [ 1.45723823e-01,  2.36505606e-01,  3.00332820e-01],\n",
       "        [-2.11591209e-01, -4.46083496e-01,  8.69767246e-01],\n",
       "        [-4.96560904e-03, -3.86280836e-01, -1.66099102e-01],\n",
       "        [ 2.90827646e-01,  3.26909123e-01,  2.68376156e-01],\n",
       "        [-4.68072994e-01, -6.59423592e-02, -5.19837960e-01],\n",
       "        [-5.00185755e-01,  2.40155880e-01,  4.54124619e-01],\n",
       "        [-1.65281562e-01, -2.63578626e-01,  1.45149817e-01],\n",
       "        [ 1.45693670e-01, -4.29031142e-01,  8.49121529e-01],\n",
       "        [ 4.86624314e-01,  7.46705206e-01,  6.79704951e-01],\n",
       "        [ 2.35977367e-02,  8.30557090e-02,  9.15296265e-02],\n",
       "        [ 4.48424594e-01,  1.96815173e-01,  8.36237518e-01],\n",
       "        [ 4.38224903e-01, -1.16839699e-01, -2.52004355e-01],\n",
       "        [ 2.05065626e-02,  1.91892380e-01,  6.98382303e-01],\n",
       "        [ 3.66546909e-01, -7.10715017e-02, -2.07967684e-01],\n",
       "        [ 2.12509501e-01, -4.12372637e-01,  1.02390926e+00],\n",
       "        [-2.51806915e-01, -4.45860731e-01,  1.28039623e-01],\n",
       "        [ 1.10095029e+00,  9.65864358e-01, -2.14010203e-01],\n",
       "        [-1.09678463e+00,  2.50214523e-01,  2.40026156e-01],\n",
       "        [-7.48834857e-01, -1.36062532e-01,  6.29054262e-01],\n",
       "        [-2.03690389e-01, -9.06521234e-01, -1.43730301e-01],\n",
       "        [ 2.09582288e-01,  2.57576837e-01,  6.59484606e-01],\n",
       "        [ 3.15387787e-01, -7.40997871e-01,  2.05413085e-02],\n",
       "        [-1.33480893e-01, -5.16466941e-02,  5.66370617e-01],\n",
       "        [-1.69236513e-01, -1.01655670e+00, -3.81108030e-02],\n",
       "        [-6.21536565e-01, -1.67686853e-01,  8.12263636e-02],\n",
       "        [-6.82462569e-01, -3.28884777e-02,  1.32644870e+00],\n",
       "        [-1.30600732e-01, -1.27698830e+00,  4.54630544e-02],\n",
       "        [ 2.53976360e-01,  3.36252081e-01, -2.64754812e-01],\n",
       "        [ 4.71832503e-01, -6.67183922e-02,  6.06455364e-01],\n",
       "        [-1.54100975e-01,  2.03361864e-01,  7.42222569e-01],\n",
       "        [-2.52183093e-01,  1.29618545e-01,  7.02303381e-01],\n",
       "        [ 3.01126917e-01, -1.23214061e-01,  3.66853408e-02],\n",
       "        [ 3.98909113e-01,  6.69205164e-01,  6.56001881e-01],\n",
       "        [ 3.91883287e-01,  6.40427907e-01,  4.68947628e-01],\n",
       "        [-3.02811636e-01, -5.19053396e-01,  4.89243380e-01],\n",
       "        [-1.12149841e-01,  5.79279959e-01, -6.66878793e-02],\n",
       "        [ 5.90268604e-01,  9.97594556e-01,  3.32287584e-01],\n",
       "        [-1.78503463e-01, -9.77823534e-02,  1.88912623e-02],\n",
       "        [-1.05249502e+00, -3.24510297e-01,  2.92058354e-01],\n",
       "        [ 1.43499456e-01,  5.29886189e-01,  3.52155046e-01],\n",
       "        [ 7.84366133e-01,  6.95522741e-01,  5.15517761e-01],\n",
       "        [ 5.72795713e-01,  5.25265407e-02,  9.14444095e-02],\n",
       "        [-4.30769975e-01, -2.10283785e-01,  4.60306706e-01],\n",
       "        [ 2.80632808e-01,  8.13026939e-02, -4.67917593e-01],\n",
       "        [ 6.08232543e-01, -4.47026756e-01, -7.44342543e-03],\n",
       "        [-5.04820598e-02,  5.05215393e-01,  1.80638649e-01],\n",
       "        [-8.49032993e-02,  2.90255480e-01,  2.46321659e-01],\n",
       "        [-3.59133524e-01,  1.01043613e-02, -3.12305017e-01],\n",
       "        [ 6.76650154e-01, -1.35301011e+00, -1.67702205e-01],\n",
       "        [ 3.02092846e-01, -1.23178543e+00,  1.01190844e+00],\n",
       "        [ 2.16684665e-01,  3.73728155e-01, -8.27005605e-02],\n",
       "        [ 4.38726834e-01, -1.54533961e-01,  4.42035437e-01],\n",
       "        [-6.82217105e-01,  5.12472493e-01, -2.14100907e-02],\n",
       "        [ 5.04969465e-01, -9.02261122e-02, -3.39573916e-01],\n",
       "        [ 6.81958419e-01, -1.29658986e-01,  1.24729481e-01],\n",
       "        [ 6.28370596e-01,  7.34545423e-01, -6.57790616e-02],\n",
       "        [-2.60655979e-01,  8.88808929e-02,  4.52877208e-01],\n",
       "        [ 1.11922678e-01, -4.88574620e-02, -1.18845289e-01],\n",
       "        [-2.29746944e-01, -2.40012902e-01, -5.17304755e-01],\n",
       "        [ 2.84564784e-01,  4.62878067e-01, -2.38461892e-01],\n",
       "        [ 1.29522280e-01, -3.43521398e-01, -9.50506731e-01],\n",
       "        [-1.03325757e-01, -4.96575536e-01,  8.52362453e-02],\n",
       "        [ 8.65461060e-02, -1.98749796e-01,  6.39059188e-01],\n",
       "        [ 4.28336478e-01,  2.84867242e-01,  5.45065295e-01],\n",
       "        [ 4.04443960e-01,  3.88927654e-01, -8.01932698e-02],\n",
       "        [-6.41742673e-02, -1.44664704e-03,  4.51795283e-01],\n",
       "        [ 3.10466148e-01, -1.44360028e-01, -7.81711837e-02],\n",
       "        [ 1.43809847e-01, -3.05018216e-01,  9.89836532e-01],\n",
       "        [ 5.53839693e-01,  2.47119529e-02,  6.41577463e-01],\n",
       "        [ 1.92934015e-01,  3.12506554e-01,  1.22951699e+00],\n",
       "        [ 9.49735551e-02, -5.55857573e-01,  6.99501070e-01],\n",
       "        [-4.59211760e-01, -4.77161582e-01, -3.91452885e-02],\n",
       "        [ 4.12077479e-01,  1.78946503e-01, -6.02587789e-01],\n",
       "        [-1.62040390e-01, -1.38465366e-01, -1.42951512e-01],\n",
       "        [ 3.81049597e-01, -1.13119201e+00, -2.20874824e-02],\n",
       "        [ 4.62703424e-01,  2.43381697e-01, -1.61908885e-01],\n",
       "        [ 5.14033332e-01, -3.21028689e-01, -3.01734018e-01],\n",
       "        [-5.21746145e-01, -1.09134416e+00,  7.61158148e-01],\n",
       "        [ 3.08889450e-01,  3.50444229e-01, -2.03902290e-01],\n",
       "        [-2.20883467e-01,  3.37521272e-01,  4.32929839e-01],\n",
       "        [-1.01666416e+00,  2.62895229e-02,  1.34561535e-01],\n",
       "        [-4.85088895e-01, -2.77512245e-01,  2.88427635e-01],\n",
       "        [ 1.56943812e-01,  3.38250258e-01, -8.96255506e-02],\n",
       "        [ 8.52517667e-01,  3.90003767e-01,  1.86414752e-01],\n",
       "        [ 3.14885329e-01,  3.47369381e-01,  9.53010756e-01],\n",
       "        [-1.99397563e-01, -1.43307570e-01,  4.65924446e-02]]),\n",
       " 'coef': array([[[ 0.21568695,  0.00410898,  0.20724024],\n",
       "         [ 0.21568695,  0.00410898,  0.20724024],\n",
       "         [ 0.21568695,  0.00410898,  0.20724024],\n",
       "         ...,\n",
       "         [ 0.21568695,  0.00410898,  0.20724024],\n",
       "         [ 0.21568695,  0.00410898,  0.20724024],\n",
       "         [ 0.21568695,  0.00410898,  0.20724024]],\n",
       " \n",
       "        [[ 0.18809513, -0.00366266,  0.19977511],\n",
       "         [ 0.18809513, -0.00366266,  0.19977511],\n",
       "         [ 0.18809513, -0.00366266,  0.19977511],\n",
       "         ...,\n",
       "         [ 0.18809513, -0.00366266,  0.19977511],\n",
       "         [ 0.18809513, -0.00366266,  0.19977511],\n",
       "         [ 0.18809513, -0.00366266,  0.19977511]],\n",
       " \n",
       "        [[ 0.24628724,  0.03809579,  0.25506152],\n",
       "         [ 0.24628724,  0.03809579,  0.25506152],\n",
       "         [ 0.24628724,  0.03809579,  0.25506152],\n",
       "         ...,\n",
       "         [ 0.24628724,  0.03809579,  0.25506152],\n",
       "         [ 0.24628724,  0.03809579,  0.25506152],\n",
       "         [ 0.24628724,  0.03809579,  0.25506152]],\n",
       " \n",
       "        ...,\n",
       " \n",
       "        [[ 0.20413665,  0.03604348,  0.22250168],\n",
       "         [ 0.20413665,  0.03604348,  0.22250168],\n",
       "         [ 0.20413665,  0.03604348,  0.22250168],\n",
       "         ...,\n",
       "         [ 0.20413665,  0.03604348,  0.22250168],\n",
       "         [ 0.20413665,  0.03604348,  0.22250168],\n",
       "         [ 0.20413665,  0.03604348,  0.22250168]],\n",
       " \n",
       "        [[ 0.24740133,  0.004057  ,  0.2129136 ],\n",
       "         [ 0.24740133,  0.004057  ,  0.2129136 ],\n",
       "         [ 0.24740133,  0.004057  ,  0.2129136 ],\n",
       "         ...,\n",
       "         [ 0.24740133,  0.004057  ,  0.2129136 ],\n",
       "         [ 0.24740133,  0.004057  ,  0.2129136 ],\n",
       "         [ 0.24740133,  0.004057  ,  0.2129136 ]],\n",
       " \n",
       "        [[ 0.24123996, -0.01938632,  0.21855241],\n",
       "         [ 0.24123996, -0.01938632,  0.21855241],\n",
       "         [ 0.24123996, -0.01938632,  0.21855241],\n",
       "         ...,\n",
       "         [ 0.24123996, -0.01938632,  0.21855241],\n",
       "         [ 0.24123996, -0.01938632,  0.21855241],\n",
       "         [ 0.24123996, -0.01938632,  0.21855241]]])}"
      ]
     },
     "execution_count": 49,
     "metadata": {},
     "output_type": "execute_result"
    }
   ],
   "source": [
    "ktr.get_posterior_samples()"
   ]
  },
  {
   "cell_type": "code",
   "execution_count": 52,
   "id": "697f7244",
   "metadata": {},
   "outputs": [
    {
     "data": {
      "text/plain": [
       "array([0.50333333])"
      ]
     },
     "execution_count": 52,
     "metadata": {},
     "output_type": "execute_result"
    }
   ],
   "source": [
    "ktr._model._knots_tp_coefficients"
   ]
  },
  {
   "cell_type": "code",
   "execution_count": 50,
   "id": "510cf95a",
   "metadata": {},
   "outputs": [
    {
     "data": {
      "text/plain": [
       "array([[1.],\n",
       "       [1.],\n",
       "       [1.],\n",
       "       [1.],\n",
       "       [1.],\n",
       "       [1.],\n",
       "       [1.],\n",
       "       [1.],\n",
       "       [1.],\n",
       "       [1.],\n",
       "       [1.],\n",
       "       [1.],\n",
       "       [1.],\n",
       "       [1.],\n",
       "       [1.],\n",
       "       [1.],\n",
       "       [1.],\n",
       "       [1.],\n",
       "       [1.],\n",
       "       [1.],\n",
       "       [1.],\n",
       "       [1.],\n",
       "       [1.],\n",
       "       [1.],\n",
       "       [1.],\n",
       "       [1.],\n",
       "       [1.],\n",
       "       [1.],\n",
       "       [1.],\n",
       "       [1.],\n",
       "       [1.],\n",
       "       [1.],\n",
       "       [1.],\n",
       "       [1.],\n",
       "       [1.],\n",
       "       [1.],\n",
       "       [1.],\n",
       "       [1.],\n",
       "       [1.],\n",
       "       [1.],\n",
       "       [1.],\n",
       "       [1.],\n",
       "       [1.],\n",
       "       [1.],\n",
       "       [1.],\n",
       "       [1.],\n",
       "       [1.],\n",
       "       [1.],\n",
       "       [1.],\n",
       "       [1.],\n",
       "       [1.],\n",
       "       [1.],\n",
       "       [1.],\n",
       "       [1.],\n",
       "       [1.],\n",
       "       [1.],\n",
       "       [1.],\n",
       "       [1.],\n",
       "       [1.],\n",
       "       [1.],\n",
       "       [1.],\n",
       "       [1.],\n",
       "       [1.],\n",
       "       [1.],\n",
       "       [1.],\n",
       "       [1.],\n",
       "       [1.],\n",
       "       [1.],\n",
       "       [1.],\n",
       "       [1.],\n",
       "       [1.],\n",
       "       [1.],\n",
       "       [1.],\n",
       "       [1.],\n",
       "       [1.],\n",
       "       [1.],\n",
       "       [1.],\n",
       "       [1.],\n",
       "       [1.],\n",
       "       [1.],\n",
       "       [1.],\n",
       "       [1.],\n",
       "       [1.],\n",
       "       [1.],\n",
       "       [1.],\n",
       "       [1.],\n",
       "       [1.],\n",
       "       [1.],\n",
       "       [1.],\n",
       "       [1.],\n",
       "       [1.],\n",
       "       [1.],\n",
       "       [1.],\n",
       "       [1.],\n",
       "       [1.],\n",
       "       [1.],\n",
       "       [1.],\n",
       "       [1.],\n",
       "       [1.],\n",
       "       [1.],\n",
       "       [1.],\n",
       "       [1.],\n",
       "       [1.],\n",
       "       [1.],\n",
       "       [1.],\n",
       "       [1.],\n",
       "       [1.],\n",
       "       [1.],\n",
       "       [1.],\n",
       "       [1.],\n",
       "       [1.],\n",
       "       [1.],\n",
       "       [1.],\n",
       "       [1.],\n",
       "       [1.],\n",
       "       [1.],\n",
       "       [1.],\n",
       "       [1.],\n",
       "       [1.],\n",
       "       [1.],\n",
       "       [1.],\n",
       "       [1.],\n",
       "       [1.],\n",
       "       [1.],\n",
       "       [1.],\n",
       "       [1.],\n",
       "       [1.],\n",
       "       [1.],\n",
       "       [1.],\n",
       "       [1.],\n",
       "       [1.],\n",
       "       [1.],\n",
       "       [1.],\n",
       "       [1.],\n",
       "       [1.],\n",
       "       [1.],\n",
       "       [1.],\n",
       "       [1.],\n",
       "       [1.],\n",
       "       [1.],\n",
       "       [1.],\n",
       "       [1.],\n",
       "       [1.],\n",
       "       [1.],\n",
       "       [1.],\n",
       "       [1.],\n",
       "       [1.],\n",
       "       [1.],\n",
       "       [1.],\n",
       "       [1.],\n",
       "       [1.],\n",
       "       [1.],\n",
       "       [1.],\n",
       "       [1.],\n",
       "       [1.],\n",
       "       [1.],\n",
       "       [1.],\n",
       "       [1.],\n",
       "       [1.],\n",
       "       [1.],\n",
       "       [1.],\n",
       "       [1.],\n",
       "       [1.],\n",
       "       [1.],\n",
       "       [1.],\n",
       "       [1.],\n",
       "       [1.],\n",
       "       [1.],\n",
       "       [1.],\n",
       "       [1.],\n",
       "       [1.],\n",
       "       [1.],\n",
       "       [1.],\n",
       "       [1.],\n",
       "       [1.],\n",
       "       [1.],\n",
       "       [1.],\n",
       "       [1.],\n",
       "       [1.],\n",
       "       [1.],\n",
       "       [1.],\n",
       "       [1.],\n",
       "       [1.],\n",
       "       [1.],\n",
       "       [1.],\n",
       "       [1.],\n",
       "       [1.],\n",
       "       [1.],\n",
       "       [1.],\n",
       "       [1.],\n",
       "       [1.],\n",
       "       [1.],\n",
       "       [1.],\n",
       "       [1.],\n",
       "       [1.],\n",
       "       [1.],\n",
       "       [1.],\n",
       "       [1.],\n",
       "       [1.],\n",
       "       [1.],\n",
       "       [1.],\n",
       "       [1.],\n",
       "       [1.],\n",
       "       [1.],\n",
       "       [1.],\n",
       "       [1.],\n",
       "       [1.],\n",
       "       [1.],\n",
       "       [1.],\n",
       "       [1.],\n",
       "       [1.],\n",
       "       [1.],\n",
       "       [1.],\n",
       "       [1.],\n",
       "       [1.],\n",
       "       [1.],\n",
       "       [1.],\n",
       "       [1.],\n",
       "       [1.],\n",
       "       [1.],\n",
       "       [1.],\n",
       "       [1.],\n",
       "       [1.],\n",
       "       [1.],\n",
       "       [1.],\n",
       "       [1.],\n",
       "       [1.],\n",
       "       [1.],\n",
       "       [1.],\n",
       "       [1.],\n",
       "       [1.],\n",
       "       [1.],\n",
       "       [1.],\n",
       "       [1.],\n",
       "       [1.],\n",
       "       [1.],\n",
       "       [1.],\n",
       "       [1.],\n",
       "       [1.],\n",
       "       [1.],\n",
       "       [1.],\n",
       "       [1.],\n",
       "       [1.],\n",
       "       [1.],\n",
       "       [1.],\n",
       "       [1.],\n",
       "       [1.],\n",
       "       [1.],\n",
       "       [1.],\n",
       "       [1.],\n",
       "       [1.],\n",
       "       [1.],\n",
       "       [1.],\n",
       "       [1.],\n",
       "       [1.],\n",
       "       [1.],\n",
       "       [1.],\n",
       "       [1.],\n",
       "       [1.],\n",
       "       [1.],\n",
       "       [1.],\n",
       "       [1.],\n",
       "       [1.],\n",
       "       [1.],\n",
       "       [1.],\n",
       "       [1.],\n",
       "       [1.],\n",
       "       [1.],\n",
       "       [1.],\n",
       "       [1.],\n",
       "       [1.],\n",
       "       [1.],\n",
       "       [1.],\n",
       "       [1.],\n",
       "       [1.],\n",
       "       [1.],\n",
       "       [1.],\n",
       "       [1.],\n",
       "       [1.],\n",
       "       [1.],\n",
       "       [1.],\n",
       "       [1.],\n",
       "       [1.],\n",
       "       [1.],\n",
       "       [1.],\n",
       "       [1.],\n",
       "       [1.],\n",
       "       [1.],\n",
       "       [1.],\n",
       "       [1.],\n",
       "       [1.],\n",
       "       [1.],\n",
       "       [1.],\n",
       "       [1.],\n",
       "       [1.],\n",
       "       [1.],\n",
       "       [1.],\n",
       "       [1.],\n",
       "       [1.],\n",
       "       [1.]])"
      ]
     },
     "execution_count": 50,
     "metadata": {},
     "output_type": "execute_result"
    }
   ],
   "source": [
    "ktr._model._kernel_coefficients"
   ]
  },
  {
   "cell_type": "code",
   "execution_count": 46,
   "id": "547805d9-9a53-4291-becc-60dd0880b24b",
   "metadata": {
    "ExecuteTime": {
     "end_time": "2021-07-13T22:43:06.707252Z",
     "start_time": "2021-07-13T22:43:06.676990Z"
    }
   },
   "outputs": [],
   "source": [
    "idx = 3"
   ]
  },
  {
   "cell_type": "code",
   "execution_count": 47,
   "id": "32a2ebae-23e0-48f3-94e1-5b58120e543c",
   "metadata": {
    "ExecuteTime": {
     "end_time": "2021-07-13T22:43:07.049257Z",
     "start_time": "2021-07-13T22:43:06.710888Z"
    },
    "scrolled": true
   },
   "outputs": [
    {
     "ename": "ValueError",
     "evalue": "matmul: Input operand 1 has a mismatch in its core dimension 0, with gufunc signature (n?,k),(k,m?)->(n?,m?) (size 1 is different from 3)",
     "output_type": "error",
     "traceback": [
      "\u001b[0;31m---------------------------------------------------------------------------\u001b[0m",
      "\u001b[0;31mValueError\u001b[0m                                Traceback (most recent call last)",
      "\u001b[0;32m/var/folders/9f/m35pbwgx13n2j29rjhpkcyg40000gn/T/ipykernel_14330/1344162696.py\u001b[0m in \u001b[0;36m<module>\u001b[0;34m\u001b[0m\n\u001b[1;32m      1\u001b[0m \u001b[0;31m# coef_mid, coef_lower, coef_upper  = ktrx_neutral.get_regression_coefs(include_ci=True, coefficient_method='empirical')\u001b[0m\u001b[0;34m\u001b[0m\u001b[0;34m\u001b[0m\u001b[0;34m\u001b[0m\u001b[0m\n\u001b[0;32m----> 2\u001b[0;31m \u001b[0mcoef_mid\u001b[0m  \u001b[0;34m=\u001b[0m \u001b[0mktr\u001b[0m\u001b[0;34m.\u001b[0m\u001b[0mget_regression_coefs\u001b[0m\u001b[0;34m(\u001b[0m\u001b[0;34m)\u001b[0m\u001b[0;34m\u001b[0m\u001b[0;34m\u001b[0m\u001b[0m\n\u001b[0m\u001b[1;32m      3\u001b[0m \u001b[0;34m\u001b[0m\u001b[0m\n\u001b[1;32m      4\u001b[0m \u001b[0mx\u001b[0m \u001b[0;34m=\u001b[0m \u001b[0mnp\u001b[0m\u001b[0;34m.\u001b[0m\u001b[0marange\u001b[0m\u001b[0;34m(\u001b[0m\u001b[0mcoef_mid\u001b[0m\u001b[0;34m.\u001b[0m\u001b[0mshape\u001b[0m\u001b[0;34m[\u001b[0m\u001b[0;36m0\u001b[0m\u001b[0;34m]\u001b[0m\u001b[0;34m)\u001b[0m\u001b[0;34m\u001b[0m\u001b[0;34m\u001b[0m\u001b[0m\n\u001b[1;32m      5\u001b[0m \u001b[0;34m\u001b[0m\u001b[0m\n",
      "\u001b[0;32m~/work/orbit-super/orbit/orbit/template/ktr.py\u001b[0m in \u001b[0;36mget_regression_coefs\u001b[0;34m(self, training_meta, point_method, point_posteriors, date_array)\u001b[0m\n\u001b[1;32m   1103\u001b[0m             \u001b[0mpoint_posteriors\u001b[0m\u001b[0;34m=\u001b[0m\u001b[0mpoint_posteriors\u001b[0m\u001b[0;34m,\u001b[0m\u001b[0;34m\u001b[0m\u001b[0;34m\u001b[0m\u001b[0m\n\u001b[1;32m   1104\u001b[0m             \u001b[0;31m# coefficient_method=coefficient_method,\u001b[0m\u001b[0;34m\u001b[0m\u001b[0;34m\u001b[0m\u001b[0;34m\u001b[0m\u001b[0m\n\u001b[0;32m-> 1105\u001b[0;31m             \u001b[0mdate_array\u001b[0m\u001b[0;34m=\u001b[0m\u001b[0mdate_array\u001b[0m\u001b[0;34m,\u001b[0m\u001b[0;34m\u001b[0m\u001b[0;34m\u001b[0m\u001b[0m\n\u001b[0m\u001b[1;32m   1106\u001b[0m             \u001b[0;31m# include_ci=include_ci,\u001b[0m\u001b[0;34m\u001b[0m\u001b[0;34m\u001b[0m\u001b[0;34m\u001b[0m\u001b[0m\n\u001b[1;32m   1107\u001b[0m             \u001b[0;31m# lower=lower, upper=upper\u001b[0m\u001b[0;34m\u001b[0m\u001b[0;34m\u001b[0m\u001b[0;34m\u001b[0m\u001b[0m\n",
      "\u001b[0;32m~/work/orbit-super/orbit/orbit/template/ktr.py\u001b[0m in \u001b[0;36m_get_regression_coefs\u001b[0;34m(self, training_meta, point_method, point_posteriors, date_array)\u001b[0m\n\u001b[1;32m   1033\u001b[0m             \u001b[0;31m# TODO: recover this later\u001b[0m\u001b[0;34m\u001b[0m\u001b[0;34m\u001b[0m\u001b[0;34m\u001b[0m\u001b[0m\n\u001b[1;32m   1034\u001b[0m             \u001b[0;31m# coefficient_method=coefficient_method,\u001b[0m\u001b[0;34m\u001b[0m\u001b[0;34m\u001b[0m\u001b[0;34m\u001b[0m\u001b[0m\n\u001b[0;32m-> 1035\u001b[0;31m             date_array=date_array)\n\u001b[0m\u001b[1;32m   1036\u001b[0m         )\n\u001b[1;32m   1037\u001b[0m         \u001b[0;32mif\u001b[0m \u001b[0mlen\u001b[0m\u001b[0;34m(\u001b[0m\u001b[0mcoefs\u001b[0m\u001b[0;34m.\u001b[0m\u001b[0mshape\u001b[0m\u001b[0;34m)\u001b[0m \u001b[0;34m==\u001b[0m \u001b[0;36m1\u001b[0m\u001b[0;34m:\u001b[0m\u001b[0;34m\u001b[0m\u001b[0;34m\u001b[0m\u001b[0m\n",
      "\u001b[0;32m~/work/orbit-super/orbit/orbit/template/ktr.py\u001b[0m in \u001b[0;36m_get_regression_coefs_matrix\u001b[0;34m(self, training_meta, posteriors, date_array)\u001b[0m\n\u001b[1;32m    963\u001b[0m             \u001b[0;31m# if date_array not specified, dynamic coefficients in the training perior will be retrieved\u001b[0m\u001b[0;34m\u001b[0m\u001b[0;34m\u001b[0m\u001b[0;34m\u001b[0m\u001b[0m\n\u001b[1;32m    964\u001b[0m             \u001b[0mcoef_knots\u001b[0m \u001b[0;34m=\u001b[0m \u001b[0mposteriors\u001b[0m\u001b[0;34m.\u001b[0m\u001b[0mget\u001b[0m\u001b[0;34m(\u001b[0m\u001b[0mRegressionSamplingParameters\u001b[0m\u001b[0;34m.\u001b[0m\u001b[0mCOEFFICIENTS_KNOT\u001b[0m\u001b[0;34m.\u001b[0m\u001b[0mvalue\u001b[0m\u001b[0;34m)\u001b[0m\u001b[0;34m\u001b[0m\u001b[0;34m\u001b[0m\u001b[0m\n\u001b[0;32m--> 965\u001b[0;31m             \u001b[0mregressor_betas\u001b[0m \u001b[0;34m=\u001b[0m \u001b[0mnp\u001b[0m\u001b[0;34m.\u001b[0m\u001b[0mmatmul\u001b[0m\u001b[0;34m(\u001b[0m\u001b[0mcoef_knots\u001b[0m\u001b[0;34m,\u001b[0m \u001b[0mself\u001b[0m\u001b[0;34m.\u001b[0m\u001b[0m_kernel_coefficients\u001b[0m\u001b[0;34m.\u001b[0m\u001b[0mtranspose\u001b[0m\u001b[0;34m(\u001b[0m\u001b[0;34m(\u001b[0m\u001b[0;36m1\u001b[0m\u001b[0;34m,\u001b[0m \u001b[0;36m0\u001b[0m\u001b[0;34m)\u001b[0m\u001b[0;34m)\u001b[0m\u001b[0;34m)\u001b[0m\u001b[0;34m\u001b[0m\u001b[0;34m\u001b[0m\u001b[0m\n\u001b[0m\u001b[1;32m    966\u001b[0m             \u001b[0;31m# back to batch x time step x regressor columns shape\u001b[0m\u001b[0;34m\u001b[0m\u001b[0;34m\u001b[0m\u001b[0;34m\u001b[0m\u001b[0m\n\u001b[1;32m    967\u001b[0m             \u001b[0mregressor_betas\u001b[0m \u001b[0;34m=\u001b[0m \u001b[0mregressor_betas\u001b[0m\u001b[0;34m.\u001b[0m\u001b[0mtranspose\u001b[0m\u001b[0;34m(\u001b[0m\u001b[0;34m(\u001b[0m\u001b[0;36m0\u001b[0m\u001b[0;34m,\u001b[0m \u001b[0;36m2\u001b[0m\u001b[0;34m,\u001b[0m \u001b[0;36m1\u001b[0m\u001b[0;34m)\u001b[0m\u001b[0;34m)\u001b[0m\u001b[0;34m\u001b[0m\u001b[0;34m\u001b[0m\u001b[0m\n",
      "\u001b[0;31mValueError\u001b[0m: matmul: Input operand 1 has a mismatch in its core dimension 0, with gufunc signature (n?,k),(k,m?)->(n?,m?) (size 1 is different from 3)"
     ]
    }
   ],
   "source": [
    "# coef_mid, coef_lower, coef_upper  = ktrx_neutral.get_regression_coefs(include_ci=True, coefficient_method='empirical')\n",
    "coef_mid  = ktr.get_regression_coefs()\n",
    "\n",
    "x = np.arange(coef_mid.shape[0])\n",
    "\n",
    "plt.plot(x, coef_mid['x{}'.format(idx)], label='est', alpha=0.5)\n",
    "# plt.fill_between(x, coef_lower['x{}'.format(idx)], coef_upper['x{}'.format(idx)], label='est', alpha=0.5)\n",
    "plt.scatter(x, rw_data['beta{}'.format(idx)], label='truth', s=10, alpha=0.5)\n",
    "plt.legend();"
   ]
  },
  {
   "cell_type": "code",
   "execution_count": 53,
   "id": "35abe5d6",
   "metadata": {},
   "outputs": [
    {
     "name": "stdout",
     "output_type": "stream",
     "text": [
      "> \u001b[0;32m/Users/edwinng/work/orbit-super/orbit/orbit/template/ktr.py\u001b[0m(965)\u001b[0;36m_get_regression_coefs_matrix\u001b[0;34m()\u001b[0m\n",
      "\u001b[0;32m    963 \u001b[0;31m            \u001b[0;31m# if date_array not specified, dynamic coefficients in the training perior will be retrieved\u001b[0m\u001b[0;34m\u001b[0m\u001b[0;34m\u001b[0m\u001b[0;34m\u001b[0m\u001b[0m\n",
      "\u001b[0m\u001b[0;32m    964 \u001b[0;31m            \u001b[0mcoef_knots\u001b[0m \u001b[0;34m=\u001b[0m \u001b[0mposteriors\u001b[0m\u001b[0;34m.\u001b[0m\u001b[0mget\u001b[0m\u001b[0;34m(\u001b[0m\u001b[0mRegressionSamplingParameters\u001b[0m\u001b[0;34m.\u001b[0m\u001b[0mCOEFFICIENTS_KNOT\u001b[0m\u001b[0;34m.\u001b[0m\u001b[0mvalue\u001b[0m\u001b[0;34m)\u001b[0m\u001b[0;34m\u001b[0m\u001b[0;34m\u001b[0m\u001b[0m\n",
      "\u001b[0m\u001b[0;32m--> 965 \u001b[0;31m            \u001b[0mregressor_betas\u001b[0m \u001b[0;34m=\u001b[0m \u001b[0mnp\u001b[0m\u001b[0;34m.\u001b[0m\u001b[0mmatmul\u001b[0m\u001b[0;34m(\u001b[0m\u001b[0mcoef_knots\u001b[0m\u001b[0;34m,\u001b[0m \u001b[0mself\u001b[0m\u001b[0;34m.\u001b[0m\u001b[0m_kernel_coefficients\u001b[0m\u001b[0;34m.\u001b[0m\u001b[0mtranspose\u001b[0m\u001b[0;34m(\u001b[0m\u001b[0;34m(\u001b[0m\u001b[0;36m1\u001b[0m\u001b[0;34m,\u001b[0m \u001b[0;36m0\u001b[0m\u001b[0;34m)\u001b[0m\u001b[0;34m)\u001b[0m\u001b[0;34m)\u001b[0m\u001b[0;34m\u001b[0m\u001b[0;34m\u001b[0m\u001b[0m\n",
      "\u001b[0m\u001b[0;32m    966 \u001b[0;31m            \u001b[0;31m# back to batch x time step x regressor columns shape\u001b[0m\u001b[0;34m\u001b[0m\u001b[0;34m\u001b[0m\u001b[0;34m\u001b[0m\u001b[0m\n",
      "\u001b[0m\u001b[0;32m    967 \u001b[0;31m            \u001b[0mregressor_betas\u001b[0m \u001b[0;34m=\u001b[0m \u001b[0mregressor_betas\u001b[0m\u001b[0;34m.\u001b[0m\u001b[0mtranspose\u001b[0m\u001b[0;34m(\u001b[0m\u001b[0;34m(\u001b[0m\u001b[0;36m0\u001b[0m\u001b[0;34m,\u001b[0m \u001b[0;36m2\u001b[0m\u001b[0;34m,\u001b[0m \u001b[0;36m1\u001b[0m\u001b[0;34m)\u001b[0m\u001b[0;34m)\u001b[0m\u001b[0;34m\u001b[0m\u001b[0;34m\u001b[0m\u001b[0m\n",
      "\u001b[0m\n",
      "ipdb> self._kernel_coefficients.transpose((1, 0)).shape\n",
      "(1, 300)\n",
      "ipdb> coef_knots\n",
      "array([[0.22045524, 0.00260036, 0.21497029]])\n",
      "ipdb> q\n"
     ]
    }
   ],
   "source": [
    "%debug"
   ]
  },
  {
   "cell_type": "code",
   "execution_count": 27,
   "id": "72170d1c",
   "metadata": {},
   "outputs": [
    {
     "data": {
      "text/html": [
       "<div>\n",
       "<style scoped>\n",
       "    .dataframe tbody tr th:only-of-type {\n",
       "        vertical-align: middle;\n",
       "    }\n",
       "\n",
       "    .dataframe tbody tr th {\n",
       "        vertical-align: top;\n",
       "    }\n",
       "\n",
       "    .dataframe thead th {\n",
       "        text-align: right;\n",
       "    }\n",
       "</style>\n",
       "<table border=\"1\" class=\"dataframe\">\n",
       "  <thead>\n",
       "    <tr style=\"text-align: right;\">\n",
       "      <th></th>\n",
       "      <th>date</th>\n",
       "      <th>x1</th>\n",
       "      <th>x2</th>\n",
       "      <th>x3</th>\n",
       "    </tr>\n",
       "  </thead>\n",
       "  <tbody>\n",
       "    <tr>\n",
       "      <th>0</th>\n",
       "      <td>2018-01-01</td>\n",
       "      <td>0.142030</td>\n",
       "      <td>0.176172</td>\n",
       "      <td>0.125388</td>\n",
       "    </tr>\n",
       "    <tr>\n",
       "      <th>1</th>\n",
       "      <td>2018-01-02</td>\n",
       "      <td>0.141898</td>\n",
       "      <td>0.175481</td>\n",
       "      <td>0.125978</td>\n",
       "    </tr>\n",
       "    <tr>\n",
       "      <th>2</th>\n",
       "      <td>2018-01-03</td>\n",
       "      <td>0.141748</td>\n",
       "      <td>0.174695</td>\n",
       "      <td>0.126648</td>\n",
       "    </tr>\n",
       "    <tr>\n",
       "      <th>3</th>\n",
       "      <td>2018-01-04</td>\n",
       "      <td>0.141578</td>\n",
       "      <td>0.173802</td>\n",
       "      <td>0.127409</td>\n",
       "    </tr>\n",
       "    <tr>\n",
       "      <th>4</th>\n",
       "      <td>2018-01-05</td>\n",
       "      <td>0.141385</td>\n",
       "      <td>0.172789</td>\n",
       "      <td>0.128273</td>\n",
       "    </tr>\n",
       "    <tr>\n",
       "      <th>...</th>\n",
       "      <td>...</td>\n",
       "      <td>...</td>\n",
       "      <td>...</td>\n",
       "      <td>...</td>\n",
       "    </tr>\n",
       "    <tr>\n",
       "      <th>295</th>\n",
       "      <td>2018-10-23</td>\n",
       "      <td>0.382932</td>\n",
       "      <td>0.068329</td>\n",
       "      <td>0.146698</td>\n",
       "    </tr>\n",
       "    <tr>\n",
       "      <th>296</th>\n",
       "      <td>2018-10-24</td>\n",
       "      <td>0.383032</td>\n",
       "      <td>0.068792</td>\n",
       "      <td>0.145926</td>\n",
       "    </tr>\n",
       "    <tr>\n",
       "      <th>297</th>\n",
       "      <td>2018-10-25</td>\n",
       "      <td>0.383121</td>\n",
       "      <td>0.069201</td>\n",
       "      <td>0.145245</td>\n",
       "    </tr>\n",
       "    <tr>\n",
       "      <th>298</th>\n",
       "      <td>2018-10-26</td>\n",
       "      <td>0.383199</td>\n",
       "      <td>0.069561</td>\n",
       "      <td>0.144644</td>\n",
       "    </tr>\n",
       "    <tr>\n",
       "      <th>299</th>\n",
       "      <td>2018-10-27</td>\n",
       "      <td>0.383268</td>\n",
       "      <td>0.069878</td>\n",
       "      <td>0.144116</td>\n",
       "    </tr>\n",
       "  </tbody>\n",
       "</table>\n",
       "<p>300 rows × 4 columns</p>\n",
       "</div>"
      ],
      "text/plain": [
       "          date        x1        x2        x3\n",
       "0   2018-01-01  0.142030  0.176172  0.125388\n",
       "1   2018-01-02  0.141898  0.175481  0.125978\n",
       "2   2018-01-03  0.141748  0.174695  0.126648\n",
       "3   2018-01-04  0.141578  0.173802  0.127409\n",
       "4   2018-01-05  0.141385  0.172789  0.128273\n",
       "..         ...       ...       ...       ...\n",
       "295 2018-10-23  0.382932  0.068329  0.146698\n",
       "296 2018-10-24  0.383032  0.068792  0.145926\n",
       "297 2018-10-25  0.383121  0.069201  0.145245\n",
       "298 2018-10-26  0.383199  0.069561  0.144644\n",
       "299 2018-10-27  0.383268  0.069878  0.144116\n",
       "\n",
       "[300 rows x 4 columns]"
      ]
     },
     "execution_count": 27,
     "metadata": {},
     "output_type": "execute_result"
    }
   ],
   "source": [
    "coef_mid"
   ]
  },
  {
   "cell_type": "code",
   "execution_count": 28,
   "id": "b71dd77e-49a4-4cca-9720-6eed9e4f1ea0",
   "metadata": {
    "ExecuteTime": {
     "end_time": "2021-07-13T22:43:07.652011Z",
     "start_time": "2021-07-13T22:43:07.050649Z"
    }
   },
   "outputs": [
    {
     "ename": "NameError",
     "evalue": "name 'ktrx_neutral' is not defined",
     "output_type": "error",
     "traceback": [
      "\u001b[0;31m---------------------------------------------------------------------------\u001b[0m",
      "\u001b[0;31mNameError\u001b[0m                                 Traceback (most recent call last)",
      "\u001b[0;32m/var/folders/9f/m35pbwgx13n2j29rjhpkcyg40000gn/T/ipykernel_96816/123765082.py\u001b[0m in \u001b[0;36m<module>\u001b[0;34m\u001b[0m\n\u001b[0;32m----> 1\u001b[0;31m \u001b[0m_\u001b[0m \u001b[0;34m=\u001b[0m \u001b[0mktrx_neutral\u001b[0m\u001b[0;34m.\u001b[0m\u001b[0mplot_regression_coefs\u001b[0m\u001b[0;34m(\u001b[0m\u001b[0mwith_knot\u001b[0m\u001b[0;34m=\u001b[0m\u001b[0;32mTrue\u001b[0m\u001b[0;34m,\u001b[0m \u001b[0mfigsize\u001b[0m\u001b[0;34m=\u001b[0m\u001b[0;34m(\u001b[0m\u001b[0;36m16\u001b[0m\u001b[0;34m,\u001b[0m \u001b[0;36m8\u001b[0m\u001b[0;34m)\u001b[0m\u001b[0;34m)\u001b[0m\u001b[0;34m\u001b[0m\u001b[0;34m\u001b[0m\u001b[0m\n\u001b[0m",
      "\u001b[0;31mNameError\u001b[0m: name 'ktrx_neutral' is not defined"
     ]
    }
   ],
   "source": [
    "_ = ktrx_neutral.plot_regression_coefs(with_knot=True, figsize=(16, 8))"
   ]
  },
  {
   "cell_type": "markdown",
   "id": "1a40cc8e-c8c5-47b3-a552-9ab351695570",
   "metadata": {},
   "source": [
    "## Hierarchical structure with positive sign assumption\n",
    "\n",
    "Most of setting are similar to previous setting.  However, this time we turn on sign as positive which implies all coefficient distribution are replaced by folded normal."
   ]
  },
  {
   "cell_type": "code",
   "execution_count": null,
   "id": "941ce180-94d0-43d3-a654-207983fd71d5",
   "metadata": {
    "ExecuteTime": {
     "end_time": "2021-07-13T22:43:13.225735Z",
     "start_time": "2021-07-13T22:43:07.653406Z"
    }
   },
   "outputs": [],
   "source": [
    "%%time\n",
    "ktrx_pos = KTRXFull(response_col=response_col,\n",
    "                    date_col='date',\n",
    "                    level_knot_scale=level_knot_scale,\n",
    "                    level_knot_dates=level_knot_dates,\n",
    "                    level_knots=level_knots_stan,\n",
    "\n",
    "                    regressor_col=regressor_col,\n",
    "                    regressor_init_knot_loc=[0] * len(regressor_col),\n",
    "                    regressor_init_knot_scale=[1.0] * len(regressor_col),\n",
    "                    regressor_knot_scale=[0.5] * len(regressor_col),\n",
    "                    # this is the only change fromp previous setting\n",
    "                    regressor_sign=['+'] * len(regressor_col),\n",
    "\n",
    "                    span_coefficients=0.1,\n",
    "                    rho_coefficients=0.05, \n",
    "                    prediction_percentiles=[2.5, 97.5],\n",
    "                    seed=2020,\n",
    "                    num_steps=501,\n",
    "                    num_sample=1000,\n",
    "                    learning_rate=0.2,\n",
    "                    learning_rate_total_decay=0.05,\n",
    "                    verbose=True,\n",
    "                    message=50,\n",
    "                    n_bootstrap_draws=-1,\n",
    "                    estimator_type=PyroEstimatorVI, \n",
    "    \n",
    "                    # new setting we want to test\n",
    "                    mvn=0,\n",
    "                    flat_multiplier=True,\n",
    "                    geometric_walk=False,\n",
    "                    min_residuals_sd=1.0)\n",
    "\n",
    "ktrx_pos.fit(df=rw_data)                                  "
   ]
  },
  {
   "cell_type": "code",
   "execution_count": null,
   "id": "434c702d-df65-4a22-928e-45757097d138",
   "metadata": {
    "ExecuteTime": {
     "end_time": "2021-07-13T22:43:13.259345Z",
     "start_time": "2021-07-13T22:43:13.227303Z"
    }
   },
   "outputs": [],
   "source": [
    "idx = 3"
   ]
  },
  {
   "cell_type": "code",
   "execution_count": null,
   "id": "09addef4-b5cd-4acf-bace-985ce4045bef",
   "metadata": {
    "ExecuteTime": {
     "end_time": "2021-07-13T22:43:13.569138Z",
     "start_time": "2021-07-13T22:43:13.261096Z"
    }
   },
   "outputs": [],
   "source": [
    "coef_mid, coef_lower, coef_upper  = ktrx_pos.get_regression_coefs(include_ci=True, coefficient_method='empirical')\n",
    "\n",
    "x = np.arange(coef_mid.shape[0])\n",
    "\n",
    "plt.plot(x, coef_mid['x{}'.format(idx)], label='est', alpha=0.5)\n",
    "plt.fill_between(x, coef_lower['x{}'.format(idx)], coef_upper['x{}'.format(idx)], label='est', alpha=0.5)\n",
    "plt.scatter(x, rw_data['beta{}'.format(idx)], label='truth', s=10, alpha=0.5)\n",
    "plt.legend();"
   ]
  },
  {
   "cell_type": "code",
   "execution_count": null,
   "id": "60661136-8f8b-445c-8c41-0a4124abddf9",
   "metadata": {
    "ExecuteTime": {
     "end_time": "2021-07-13T22:43:14.150033Z",
     "start_time": "2021-07-13T22:43:13.570520Z"
    }
   },
   "outputs": [],
   "source": [
    "_ = ktrx_pos.plot_regression_coefs(with_knot=True, figsize=(16, 8))"
   ]
  },
  {
   "cell_type": "markdown",
   "id": "47927935-b2d3-47cd-ac9a-f84de8ad9f7a",
   "metadata": {},
   "source": [
    "## Gemetric random walk structure with positive sign assumption and \n",
    "\n",
    "Most of setting are similar to previous setting.  However, this time we turn on sign as positive which implies all coefficient distribution are replaced by folded normal."
   ]
  },
  {
   "cell_type": "code",
   "execution_count": null,
   "id": "327bcb9e-fb59-48d5-ba11-0497c36f2307",
   "metadata": {
    "ExecuteTime": {
     "end_time": "2021-07-13T22:43:19.995908Z",
     "start_time": "2021-07-13T22:43:14.151705Z"
    }
   },
   "outputs": [],
   "source": [
    "%%time\n",
    "ktrx_grw = KTRXFull(response_col=response_col,\n",
    "                    date_col='date',\n",
    "                    level_knot_scale=level_knot_scale,\n",
    "                    level_knot_dates=level_knot_dates,\n",
    "                    level_knots=level_knots_stan,\n",
    "\n",
    "                    regressor_col=regressor_col,\n",
    "                    regressor_init_knot_loc=[0] * len(regressor_col),\n",
    "    \n",
    "                    # since we turn geometric_walk to true, this setting also need to be changed from previous\n",
    "                    # i.e. scale parameter is interpreted differently\n",
    "                    regressor_init_knot_scale=[1.0] * len(regressor_col),\n",
    "                    regressor_knot_scale=[0.5] * len(regressor_col),\n",
    "                    regressor_sign=['+'] * len(regressor_col),\n",
    "\n",
    "                    span_coefficients=0.1,\n",
    "                    rho_coefficients=0.05, \n",
    "                    prediction_percentiles=[2.5, 97.5],\n",
    "                    seed=2020,\n",
    "                    num_steps=501,\n",
    "                    num_sample=1000,\n",
    "                    learning_rate=0.2,\n",
    "                    learning_rate_total_decay=0.05,\n",
    "                    verbose=True,\n",
    "                    message=50,\n",
    "                    n_bootstrap_draws=-1,\n",
    "                    estimator_type=PyroEstimatorVI, \n",
    "    \n",
    "                    # new setting we want to test\n",
    "                    mvn=0,\n",
    "                    flat_multiplier=True,\n",
    "                    geometric_walk=True,\n",
    "                    min_residuals_sd=1.0)\n",
    "\n",
    "ktrx_grw.fit(df=rw_data)                                  "
   ]
  },
  {
   "cell_type": "code",
   "execution_count": null,
   "id": "ed2f6d46-afcb-4e53-9c28-29308d8e6c29",
   "metadata": {
    "ExecuteTime": {
     "end_time": "2021-07-13T22:43:20.029786Z",
     "start_time": "2021-07-13T22:43:19.997628Z"
    }
   },
   "outputs": [],
   "source": [
    "idx = 3"
   ]
  },
  {
   "cell_type": "code",
   "execution_count": null,
   "id": "dab4aa76-f734-40fb-a2bd-bb8b4a03184b",
   "metadata": {
    "ExecuteTime": {
     "end_time": "2021-07-13T22:43:20.372463Z",
     "start_time": "2021-07-13T22:43:20.031821Z"
    }
   },
   "outputs": [],
   "source": [
    "coef_mid, coef_lower, coef_upper  = ktrx_grw.get_regression_coefs(include_ci=True, coefficient_method='empirical')\n",
    "\n",
    "x = np.arange(coef_mid.shape[0])\n",
    "\n",
    "plt.plot(x, coef_mid['x{}'.format(idx)], label='est', alpha=0.5)\n",
    "plt.fill_between(x, coef_lower['x{}'.format(idx)], coef_upper['x{}'.format(idx)], label='est', alpha=0.5)\n",
    "plt.scatter(x, rw_data['beta{}'.format(idx)], label='truth', s=10, alpha=0.5)\n",
    "plt.legend();"
   ]
  },
  {
   "cell_type": "code",
   "execution_count": null,
   "id": "inclusive-replication",
   "metadata": {
    "ExecuteTime": {
     "end_time": "2021-07-13T22:43:21.003286Z",
     "start_time": "2021-07-13T22:43:20.373983Z"
    }
   },
   "outputs": [],
   "source": [
    "_ = ktrx_grw.plot_regression_coefs(with_knot=True, figsize=(16, 8))"
   ]
  },
  {
   "cell_type": "markdown",
   "id": "3d8ca5a0-5c85-4a58-be87-d3a393e15718",
   "metadata": {},
   "source": [
    "# Sine-cosine coefficients Simulation Study"
   ]
  },
  {
   "cell_type": "markdown",
   "id": "e6d14b0c-eeef-422e-8a47-fc6a855511c6",
   "metadata": {},
   "source": [
    "## KTRLite\n",
    "\n",
    "**KTRLite** is used to learn the trend.  We will use a default to do that."
   ]
  },
  {
   "cell_type": "code",
   "execution_count": null,
   "id": "9b4efe19-4e2d-45fa-a866-b7be98c4421e",
   "metadata": {
    "ExecuteTime": {
     "end_time": "2021-07-13T22:43:21.070068Z",
     "start_time": "2021-07-13T22:43:21.004923Z"
    }
   },
   "outputs": [],
   "source": [
    "p = 3\n",
    "# define independent and response variables\n",
    "regressor_col = ['x{}'.format(pp) for pp in range(1, p+1)]\n",
    "response_col = 'y'\n",
    "\n",
    "\n",
    "# run the model \n",
    "# run lite first \n",
    "ktr_lite = KTRLiteMAP(response_col=response_col,\n",
    "                      date_col='date',\n",
    "                      seed=2020,\n",
    "                      estimator_type=StanEstimatorMAP)\n",
    "\n",
    "ktr_lite.fit(df=seas_data)\n",
    "\n",
    "level_knot_scale = ktr_lite.level_knot_scale\n",
    "level_knots_stan = ktr_lite._aggregate_posteriors['map']['lev_knot'][0]\n",
    "level_knot_dates = ktr_lite._level_knot_dates\n",
    "level_knots_stan = np.array([0] * len(level_knot_dates))"
   ]
  },
  {
   "cell_type": "markdown",
   "id": "c3917d97-b049-482f-b311-93c06f25c60d",
   "metadata": {},
   "source": [
    "## Hierarchical structure with neutral sign assumption\n",
    "\n",
    "Each coefficient follow Normal dist. with a latent mean which also follows a Normal dist."
   ]
  },
  {
   "cell_type": "code",
   "execution_count": null,
   "id": "fc4d7ee4-0ce8-4e83-a7c0-05aaf08016cc",
   "metadata": {
    "ExecuteTime": {
     "end_time": "2021-07-13T22:43:31.748852Z",
     "start_time": "2021-07-13T22:43:21.072460Z"
    }
   },
   "outputs": [],
   "source": [
    "%%time\n",
    "ktrx_neutral = KTRXFull(response_col=response_col,\n",
    "                        date_col='date',\n",
    "                        level_knot_scale=level_knot_scale,\n",
    "                        level_knot_dates=level_knot_dates,\n",
    "                        level_knots=level_knots_stan,\n",
    "\n",
    "                        regressor_col=regressor_col,\n",
    "                        regressor_init_knot_loc=[0] * len(regressor_col),\n",
    "                        regressor_init_knot_scale=[10.0] * len(regressor_col),\n",
    "                        regressor_knot_scale=[2.0] * len(regressor_col),\n",
    "\n",
    "                        span_coefficients=0.1,\n",
    "                        rho_coefficients=0.05, \n",
    "                        prediction_percentiles=[2.5, 97.5],\n",
    "                        seed=2020,\n",
    "                        num_steps=501,\n",
    "                        num_sample=1000,\n",
    "                        learning_rate=0.2,\n",
    "                        learning_rate_total_decay=0.05,\n",
    "                        verbose=True,\n",
    "                        message=50,\n",
    "                        n_bootstrap_draws=-1,\n",
    "                        estimator_type=PyroEstimatorVI, \n",
    "    \n",
    "                        # new setting we want to test\n",
    "                        mvn=0,\n",
    "                        flat_multiplier=True,\n",
    "                        geometric_walk=False,\n",
    "                        min_residuals_sd=1.0)\n",
    "\n",
    "ktrx_neutral.fit(df=seas_data)                                  "
   ]
  },
  {
   "cell_type": "code",
   "execution_count": null,
   "id": "02faea11-6721-440a-b3d5-185863b6e3a9",
   "metadata": {
    "ExecuteTime": {
     "end_time": "2021-07-13T22:43:31.785969Z",
     "start_time": "2021-07-13T22:43:31.750745Z"
    }
   },
   "outputs": [],
   "source": [
    "idx = 3"
   ]
  },
  {
   "cell_type": "code",
   "execution_count": null,
   "id": "e5430ac2-6752-41f5-8dc1-96ff764661e6",
   "metadata": {
    "ExecuteTime": {
     "end_time": "2021-07-13T22:43:32.277405Z",
     "start_time": "2021-07-13T22:43:31.788261Z"
    }
   },
   "outputs": [],
   "source": [
    "coef_mid, coef_lower, coef_upper  = ktrx_neutral.get_regression_coefs(include_ci=True, coefficient_method='empirical')\n",
    "\n",
    "x = np.arange(coef_mid.shape[0])\n",
    "\n",
    "plt.plot(x, coef_mid['x{}'.format(idx)], label='est', alpha=0.5)\n",
    "plt.fill_between(x, coef_lower['x{}'.format(idx)], coef_upper['x{}'.format(idx)], label='est', alpha=0.5)\n",
    "plt.scatter(x, seas_data['beta{}'.format(idx)], label='truth', s=10, alpha=0.5)\n",
    "plt.legend();"
   ]
  },
  {
   "cell_type": "code",
   "execution_count": null,
   "id": "2b71431a-b79a-4718-94b3-ef294974ff48",
   "metadata": {
    "ExecuteTime": {
     "end_time": "2021-07-13T22:43:33.076168Z",
     "start_time": "2021-07-13T22:43:32.282806Z"
    }
   },
   "outputs": [],
   "source": [
    "_ = ktrx_neutral.plot_regression_coefs(with_knot=True, figsize=(16, 8))"
   ]
  },
  {
   "cell_type": "markdown",
   "id": "8b9917cf-17f5-45c0-adf4-4e9b3ea152b1",
   "metadata": {},
   "source": [
    "## Hierarchical structure with positive sign assumption\n",
    "\n",
    "Most of setting are similar to previous setting.  However, this time we turn on sign as positive which implies all coefficient distribution are replaced by folded normal."
   ]
  },
  {
   "cell_type": "code",
   "execution_count": null,
   "id": "9d2b4e7e-b269-4c69-8843-74a3d2ca27f0",
   "metadata": {
    "ExecuteTime": {
     "end_time": "2021-07-13T22:43:44.331287Z",
     "start_time": "2021-07-13T22:43:33.078617Z"
    }
   },
   "outputs": [],
   "source": [
    "%%time\n",
    "ktrx_pos = KTRXFull(response_col=response_col,\n",
    "                    date_col='date',\n",
    "                    level_knot_scale=level_knot_scale,\n",
    "                    level_knot_dates=level_knot_dates,\n",
    "                    level_knots=level_knots_stan,\n",
    "\n",
    "                    regressor_col=regressor_col,\n",
    "                    regressor_init_knot_loc=[0] * len(regressor_col),\n",
    "                    regressor_init_knot_scale=[10.0] * len(regressor_col),\n",
    "                    regressor_knot_scale=[2.0] * len(regressor_col),\n",
    "                    # this is the only change fromp previous setting\n",
    "                    regressor_sign=['+'] * len(regressor_col),\n",
    "\n",
    "                    span_coefficients=0.1,\n",
    "                    rho_coefficients=0.05, \n",
    "                    prediction_percentiles=[2.5, 97.5],\n",
    "                    seed=2020,\n",
    "                    num_steps=501,\n",
    "                    num_sample=1000,\n",
    "                    learning_rate=0.2,\n",
    "                    learning_rate_total_decay=0.05,\n",
    "                    verbose=True,\n",
    "                    message=50,\n",
    "                    n_bootstrap_draws=-1,\n",
    "                    estimator_type=PyroEstimatorVI, \n",
    "    \n",
    "                    # new setting we want to test\n",
    "                    mvn=0,\n",
    "                    flat_multiplier=True,\n",
    "                    geometric_walk=False,\n",
    "                    min_residuals_sd=1.0)\n",
    "\n",
    "ktrx_pos.fit(df=seas_data)                                  "
   ]
  },
  {
   "cell_type": "code",
   "execution_count": null,
   "id": "4f3d0153-751e-4ab4-943b-15676aa3dc4b",
   "metadata": {
    "ExecuteTime": {
     "end_time": "2021-07-13T22:43:44.368186Z",
     "start_time": "2021-07-13T22:43:44.333240Z"
    }
   },
   "outputs": [],
   "source": [
    "idx = 3"
   ]
  },
  {
   "cell_type": "code",
   "execution_count": null,
   "id": "00c06923-4296-4fde-9589-1aa2f11e9a6f",
   "metadata": {
    "ExecuteTime": {
     "end_time": "2021-07-13T22:43:44.804620Z",
     "start_time": "2021-07-13T22:43:44.370258Z"
    }
   },
   "outputs": [],
   "source": [
    "coef_mid, coef_lower, coef_upper  = ktrx_pos.get_regression_coefs(include_ci=True, coefficient_method='empirical')\n",
    "\n",
    "x = np.arange(coef_mid.shape[0])\n",
    "\n",
    "plt.plot(x, coef_mid['x{}'.format(idx)], label='est', alpha=0.5)\n",
    "plt.fill_between(x, coef_lower['x{}'.format(idx)], coef_upper['x{}'.format(idx)], label='est', alpha=0.5)\n",
    "plt.scatter(x, seas_data['beta{}'.format(idx)], label='truth', s=10, alpha=0.5)\n",
    "plt.legend();"
   ]
  },
  {
   "cell_type": "code",
   "execution_count": null,
   "id": "2745e014-3687-4e07-a134-b82152cf3bfc",
   "metadata": {
    "ExecuteTime": {
     "end_time": "2021-07-13T22:43:45.503004Z",
     "start_time": "2021-07-13T22:43:44.806021Z"
    }
   },
   "outputs": [],
   "source": [
    "_ = ktrx_pos.plot_regression_coefs(with_knot=True, figsize=(16, 8))"
   ]
  },
  {
   "cell_type": "markdown",
   "id": "cc6b5b10-cfe0-4acf-bc2d-4aef3b0867e5",
   "metadata": {},
   "source": [
    "## Gemetric random walk structure with positive sign assumption and \n",
    "\n",
    "Most of setting are similar to previous setting.  However, this time we turn on sign as positive which implies all coefficient distribution are replaced by folded normal."
   ]
  },
  {
   "cell_type": "code",
   "execution_count": null,
   "id": "73e40bf2-071e-4cda-a28c-addc82183a7d",
   "metadata": {
    "ExecuteTime": {
     "end_time": "2021-07-13T22:43:55.427654Z",
     "start_time": "2021-07-13T22:43:45.504455Z"
    }
   },
   "outputs": [],
   "source": [
    "%%time\n",
    "ktrx_grw = KTRXFull(response_col=response_col,\n",
    "                    date_col='date',\n",
    "                    level_knot_scale=level_knot_scale,\n",
    "                    level_knot_dates=level_knot_dates,\n",
    "                    level_knots=level_knots_stan,\n",
    "\n",
    "                    regressor_col=regressor_col,\n",
    "                    regressor_init_knot_loc=[0] * len(regressor_col),\n",
    "    \n",
    "                    # since we turn geometric_walk to true, this setting also need to be changed from previous\n",
    "                    # i.e. scale parameter is interpreted differently\n",
    "                    regressor_init_knot_scale=[10.0] * len(regressor_col),\n",
    "                    regressor_knot_scale=[0.2] * len(regressor_col),\n",
    "                    regressor_sign=['+'] * len(regressor_col),\n",
    "    \n",
    "                    span_coefficients=0.1,\n",
    "                    rho_coefficients=0.05, \n",
    "                    prediction_percentiles=[2.5, 97.5],\n",
    "                    seed=2020,\n",
    "                    num_steps=501,\n",
    "                    num_sample=1000,\n",
    "                    learning_rate=0.2,\n",
    "                    learning_rate_total_decay=0.05,\n",
    "                    verbose=True,\n",
    "                    message=50,\n",
    "                    n_bootstrap_draws=-1,\n",
    "                    estimator_type=PyroEstimatorVI, \n",
    "    \n",
    "                    # new setting we want to test\n",
    "                    mvn=0,\n",
    "                    flat_multiplier=True,\n",
    "                    geometric_walk=True,\n",
    "                    min_residuals_sd=1.0)\n",
    "\n",
    "ktrx_grw.fit(df=seas_data)                                  "
   ]
  },
  {
   "cell_type": "code",
   "execution_count": null,
   "id": "ca56660c-89f7-4526-9ceb-d1f0c8f81306",
   "metadata": {
    "ExecuteTime": {
     "end_time": "2021-07-13T22:43:55.465383Z",
     "start_time": "2021-07-13T22:43:55.429774Z"
    }
   },
   "outputs": [],
   "source": [
    "idx = 3"
   ]
  },
  {
   "cell_type": "code",
   "execution_count": null,
   "id": "823109b2-1c8d-4d3b-886f-55babf78578a",
   "metadata": {
    "ExecuteTime": {
     "end_time": "2021-07-13T22:43:55.956264Z",
     "start_time": "2021-07-13T22:43:55.467422Z"
    }
   },
   "outputs": [],
   "source": [
    "coef_mid, coef_lower, coef_upper  = ktrx_grw.get_regression_coefs(include_ci=True, coefficient_method='empirical')\n",
    "\n",
    "x = np.arange(coef_mid.shape[0])\n",
    "\n",
    "plt.plot(x, coef_mid['x{}'.format(idx)], label='est', alpha=0.5)\n",
    "plt.fill_between(x, coef_lower['x{}'.format(idx)], coef_upper['x{}'.format(idx)], label='est', alpha=0.5)\n",
    "plt.scatter(x, seas_data['beta{}'.format(idx)], label='truth', s=10, alpha=0.5)\n",
    "plt.legend();"
   ]
  },
  {
   "cell_type": "code",
   "execution_count": null,
   "id": "6403dd5d-049b-4ad9-8ef0-060dc60338ae",
   "metadata": {
    "ExecuteTime": {
     "end_time": "2021-07-13T22:43:56.727443Z",
     "start_time": "2021-07-13T22:43:55.958001Z"
    }
   },
   "outputs": [],
   "source": [
    "_ = ktrx_grw.plot_regression_coefs(with_knot=True, figsize=(16, 8))"
   ]
  },
  {
   "cell_type": "code",
   "execution_count": null,
   "id": "close-sandwich",
   "metadata": {
    "ExecuteTime": {
     "end_time": "2021-07-13T22:43:56.764993Z",
     "start_time": "2021-07-13T22:43:56.729263Z"
    }
   },
   "outputs": [],
   "source": [
    "# def multiple_test(N, n, sim_type):\n",
    "#     out = pd.DataFrame()\n",
    "#     out['index'] = range(0, N)\n",
    "#     # for hte model fit \n",
    "#     out['time_1'] = 0.0\n",
    "#     out['time_2'] = 0.0\n",
    "    \n",
    "#     out['SSE_1'] = 0.0\n",
    "#     out['SSE_2'] = 0.0\n",
    "#     out['RMSE_1'] = 0.0\n",
    "#     out['RMSE_2'] = 0.0\n",
    "#     out['max_error_1'] = 0.0\n",
    "#     out['max_error_2'] = 0.0\n",
    "    \n",
    "#     # for the true values \n",
    "#     out['SSE_beta1_1'] = 0.0\n",
    "#     out['SSE_beta1_2'] = 0.0 \n",
    "#     out['SSE_beta2_1'] = 0.0   \n",
    "#     out['SSE_beta2_2'] = 0.0\n",
    "#     out['SSE_beta3_1'] = 0.0\n",
    "#     out['SSE_beta3_2'] = 0.0\n",
    "\n",
    "    \n",
    "#     for i in range(0, N):\n",
    "#         # simulate the data \n",
    "#         if sim_type == 'sea':\n",
    "#             data = sim_data_seasonal(n = n, RS = 1000+i)\n",
    "       \n",
    "#         if sim_type == 'rw':\n",
    "#             data = sim_data_rw(n = n, RS = 1000+i, p=3)    \n",
    "    \n",
    "#         #print(data.head())\n",
    "    \n",
    "#         # define stuff \n",
    "#         regressor_col=['x1', 'x2', 'x3']\n",
    "#         response_col = 'y'\n",
    "#         # run the model \n",
    "#         # run lite first \n",
    "#         ktr_lite = KTRLiteMAP(\n",
    "#             response_col=response_col,\n",
    "#             date_col='date',\n",
    "#             level_knot_scale=1,\n",
    "#             seed=2000+i,\n",
    "#             span_level= .1, \n",
    "#             estimator_type=StanEstimatorMAP,\n",
    "#         )\n",
    "#         ktr_lite.fit(df=data)\n",
    "#         level_knot_scale = ktr_lite.level_knot_scale\n",
    "#         level_knots_stan = ktr_lite._aggregate_posteriors['map']['lev_knot'][0]\n",
    "#         level_knot_dates = ktr_lite._level_knot_dates\n",
    "#         level_knots_stan = np.array([0] * len(level_knot_dates))\n",
    "        \n",
    "#         ktrx1 = KTRXFull(\n",
    "#             response_col=response_col,\n",
    "#             date_col='date',\n",
    "\n",
    "#             degree_of_freedom=30,\n",
    "#             level_knot_scale=level_knot_scale,\n",
    "#             level_knot_dates=level_knot_dates,\n",
    "#             level_knots=level_knots_stan,\n",
    "\n",
    "#             regressor_col=regressor_col,\n",
    "#             regressor_knot_pooling_loc=[0] * len(regressor_col),\n",
    "#             regressor_knot_pooling_scale=[1] * len(regressor_col),\n",
    "# #             regressor_knot_scale=[1.0] * len(regressor_col),\n",
    "\n",
    "#             span_coefficients=0.1,\n",
    "#             rho_coefficients=0.1, \n",
    "#             prediction_percentiles=[2.5, 97.5],\n",
    "#             seed=2000+i,\n",
    "#             num_steps=1000,\n",
    "#             num_sample=3000,\n",
    "#             verbose=False,\n",
    "#             message=100,\n",
    "#             n_bootstrap_draws=-1,\n",
    "#             estimator_type=PyroEstimatorVI,\n",
    "#             mvn=1\n",
    "#         )\n",
    "\n",
    "#         ktrx2 = KTRXFull(\n",
    "#             response_col=response_col,\n",
    "#             date_col='date',\n",
    "\n",
    "#             degree_of_freedom=30,\n",
    "#             level_knot_scale=level_knot_scale,\n",
    "#             level_knot_dates=level_knot_dates,\n",
    "#             level_knots=level_knots_stan,\n",
    "\n",
    "#             regressor_col=regressor_col,\n",
    "#             regressor_knot_pooling_loc=[0] * len(regressor_col),\n",
    "#             regressor_knot_pooling_scale=[1] * len(regressor_col),\n",
    "#             regressor_knot_scale=[1.0] * len(regressor_col),\n",
    "\n",
    "#             span_coefficients=0.1,\n",
    "#             rho_coefficients=0.1, \n",
    "#             prediction_percentiles=[2.5, 97.5],\n",
    "#             seed=2000+i,\n",
    "#             num_steps=1000,\n",
    "#             num_sample=3000,\n",
    "#             verbose=False,\n",
    "#             message=100,\n",
    "#             n_bootstrap_draws=-1,\n",
    "#             estimator_type=PyroEstimatorVI,\n",
    "#         )\n",
    "        \n",
    "#         # fit the models and recod the times\n",
    "#         start_time = time.time()\n",
    "#         ktrx1.fit(df=data)\n",
    "#         time_1 = time.time() - start_time\n",
    "        \n",
    "#         start_time = time.time()\n",
    "#         ktrx2.fit(df=data)\n",
    "#         time_2 = time.time() - start_time\n",
    "        \n",
    "#         # get the predictions \n",
    "#         predicted_df_1 = ktrx1.predict(df=data)\n",
    "#         predicted_df_2 = ktrx2.predict(df=data)\n",
    "            \n",
    "#         # compare to observations  \n",
    "#         SSE_1 = sum((predicted_df_1['prediction'] - data['y'])**2.0 )\n",
    "#         SSE_2 = sum((predicted_df_2['prediction'] - data['y'])**2.0 )\n",
    "        \n",
    "#         max_misfit_1 = max(abs(predicted_df_1['prediction'] - data['y']) )\n",
    "#         max_misfit_2 = max(abs(predicted_df_2['prediction'] - data['y']) )\n",
    "    \n",
    "#         out.at[i, 'time_1'] = time_1 \n",
    "#         out.at[i, 'time_2'] = time_2 \n",
    "    \n",
    "#         out.at[i, 'SSE_1'] = SSE_1 \n",
    "#         out.at[i, 'SSE_2'] = SSE_2 \n",
    "        \n",
    "#         out.at[i, 'RMSE_1'] = (SSE_1/n)**(0.5) \n",
    "#         out.at[i, 'RMSE_2'] = (SSE_2/n)**(0.5) \n",
    "        \n",
    "        \n",
    "#         out.at[i, 'max_error_1'] = max_misfit_1\n",
    "#         out.at[i, 'max_error_2'] = max_misfit_2\n",
    "        \n",
    "#         #compare to true values \n",
    "#         coef_df_1= ktrx1.get_regression_coefs(\n",
    "#         aggregate_method='median',\n",
    "#         include_ci=False)\n",
    "        \n",
    "#         coef_df_2= ktrx2.get_regression_coefs(\n",
    "#         aggregate_method='median',\n",
    "#         include_ci=False)\n",
    "        \n",
    "#         SSE_beta1_1 = sum((coef_df_1['x1']-data['beta1'])**2.0)\n",
    "#         SSE_beta2_1 = sum((coef_df_1['x2']-data['beta2'])**2.0)\n",
    "#         SSE_beta3_1 = sum((coef_df_1['x3']-data['beta3'])**2.0)\n",
    "#         SSE_beta1_2 = sum((coef_df_2['x1']-data['beta1'])**2.0)\n",
    "#         SSE_beta2_2 = sum((coef_df_2['x2']-data['beta2'])**2.0)\n",
    "#         SSE_beta3_2 = sum((coef_df_2['x3']-data['beta3'])**2.0)    \n",
    "        \n",
    "#         out.at[i,'SSE_beta1_1'] = SSE_beta1_1\n",
    "#         out.at[i,'SSE_beta2_1'] = SSE_beta2_1\n",
    "#         out.at[i,'SSE_beta3_1'] = SSE_beta3_1\n",
    "#         out.at[i,'SSE_beta1_2'] = SSE_beta1_2\n",
    "#         out.at[i,'SSE_beta2_2'] = SSE_beta2_2\n",
    "#         out.at[i,'SSE_beta3_2'] = SSE_beta3_2\n",
    "        \n",
    "#     return out\n"
   ]
  },
  {
   "cell_type": "code",
   "execution_count": null,
   "id": "noted-needle",
   "metadata": {
    "ExecuteTime": {
     "end_time": "2021-07-13T22:43:56.803994Z",
     "start_time": "2021-07-13T22:43:56.767382Z"
    }
   },
   "outputs": [],
   "source": [
    "# out = multiple_test(N=2, n=300, sim_type='sea')"
   ]
  },
  {
   "cell_type": "code",
   "execution_count": null,
   "id": "excellent-batch",
   "metadata": {
    "ExecuteTime": {
     "end_time": "2021-07-13T22:43:56.840823Z",
     "start_time": "2021-07-13T22:43:56.806169Z"
    }
   },
   "outputs": [],
   "source": [
    "# multiple_test(N=3, n=300, sim_type='rw')"
   ]
  }
 ],
 "metadata": {
  "kernelspec": {
   "display_name": "Python 3",
   "language": "python",
   "name": "python3"
  },
  "language_info": {
   "codemirror_mode": {
    "name": "ipython",
    "version": 3
   },
   "file_extension": ".py",
   "mimetype": "text/x-python",
   "name": "python",
   "nbconvert_exporter": "python",
   "pygments_lexer": "ipython3",
   "version": "3.7.8"
  },
  "toc": {
   "base_numbering": 1,
   "nav_menu": {},
   "number_sections": true,
   "sideBar": true,
   "skip_h1_title": false,
   "title_cell": "Table of Contents",
   "title_sidebar": "Contents",
   "toc_cell": false,
   "toc_position": {},
   "toc_section_display": true,
   "toc_window_display": true
  }
 },
 "nbformat": 4,
 "nbformat_minor": 5
}
