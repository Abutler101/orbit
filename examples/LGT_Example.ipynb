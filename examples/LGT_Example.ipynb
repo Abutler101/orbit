{
 "cells": [
  {
   "cell_type": "markdown",
   "metadata": {},
   "source": [
    "# Local-Global-Trend(LGT) Example"
   ]
  },
  {
   "cell_type": "code",
   "execution_count": 70,
   "metadata": {
    "ExecuteTime": {
     "end_time": "2020-01-26T14:24:21.968167Z",
     "start_time": "2020-01-26T14:24:21.929452Z"
    }
   },
   "outputs": [],
   "source": [
    "import pandas as pd\n",
    "import numpy as np\n",
    "from orbit.lgt import LGT\n",
    "from orbit.utils.utils import plot_predicted_data"
   ]
  },
  {
   "cell_type": "markdown",
   "metadata": {},
   "source": [
    "## Data"
   ]
  },
  {
   "cell_type": "code",
   "execution_count": 71,
   "metadata": {
    "ExecuteTime": {
     "end_time": "2020-01-26T14:24:22.531832Z",
     "start_time": "2020-01-26T14:24:22.528603Z"
    }
   },
   "outputs": [],
   "source": [
    "DATA_FILE = \"./data/iclaims.example.csv\"\n",
    "DATA_FILE = \"./data/problem_data.csv\""
   ]
  },
  {
   "cell_type": "code",
   "execution_count": 72,
   "metadata": {
    "ExecuteTime": {
     "end_time": "2020-01-26T14:24:22.965284Z",
     "start_time": "2020-01-26T14:24:22.904769Z"
    }
   },
   "outputs": [],
   "source": [
    "raw_df = pd.read_csv(DATA_FILE, parse_dates=['date'])"
   ]
  },
  {
   "cell_type": "code",
   "execution_count": 73,
   "metadata": {
    "ExecuteTime": {
     "end_time": "2020-01-26T14:24:23.281505Z",
     "start_time": "2020-01-26T14:24:23.266466Z"
    }
   },
   "outputs": [
    {
     "data": {
      "text/plain": [
       "key                 object\n",
       "week_num             int64\n",
       "value              float64\n",
       "date        datetime64[ns]\n",
       "dtype: object"
      ]
     },
     "execution_count": 73,
     "metadata": {},
     "output_type": "execute_result"
    }
   ],
   "source": [
    "raw_df.dtypes"
   ]
  },
  {
   "cell_type": "code",
   "execution_count": 74,
   "metadata": {
    "ExecuteTime": {
     "end_time": "2020-01-26T14:24:23.707215Z",
     "start_time": "2020-01-26T14:24:23.684256Z"
    }
   },
   "outputs": [
    {
     "data": {
      "text/html": [
       "<div>\n",
       "<style scoped>\n",
       "    .dataframe tbody tr th:only-of-type {\n",
       "        vertical-align: middle;\n",
       "    }\n",
       "\n",
       "    .dataframe tbody tr th {\n",
       "        vertical-align: top;\n",
       "    }\n",
       "\n",
       "    .dataframe thead th {\n",
       "        text-align: right;\n",
       "    }\n",
       "</style>\n",
       "<table border=\"1\" class=\"dataframe\">\n",
       "  <thead>\n",
       "    <tr style=\"text-align: right;\">\n",
       "      <th></th>\n",
       "      <th>key</th>\n",
       "      <th>week_num</th>\n",
       "      <th>value</th>\n",
       "      <th>date</th>\n",
       "    </tr>\n",
       "  </thead>\n",
       "  <tbody>\n",
       "    <tr>\n",
       "      <th>0</th>\n",
       "      <td>W10</td>\n",
       "      <td>2</td>\n",
       "      <td>246.98</td>\n",
       "      <td>1970-01-05</td>\n",
       "    </tr>\n",
       "    <tr>\n",
       "      <th>1</th>\n",
       "      <td>W10</td>\n",
       "      <td>3</td>\n",
       "      <td>222.30</td>\n",
       "      <td>1970-01-12</td>\n",
       "    </tr>\n",
       "    <tr>\n",
       "      <th>2</th>\n",
       "      <td>W10</td>\n",
       "      <td>4</td>\n",
       "      <td>449.98</td>\n",
       "      <td>1970-01-19</td>\n",
       "    </tr>\n",
       "    <tr>\n",
       "      <th>3</th>\n",
       "      <td>W10</td>\n",
       "      <td>5</td>\n",
       "      <td>449.98</td>\n",
       "      <td>1970-01-26</td>\n",
       "    </tr>\n",
       "    <tr>\n",
       "      <th>4</th>\n",
       "      <td>W10</td>\n",
       "      <td>6</td>\n",
       "      <td>449.98</td>\n",
       "      <td>1970-02-02</td>\n",
       "    </tr>\n",
       "  </tbody>\n",
       "</table>\n",
       "</div>"
      ],
      "text/plain": [
       "   key  week_num   value       date\n",
       "0  W10         2  246.98 1970-01-05\n",
       "1  W10         3  222.30 1970-01-12\n",
       "2  W10         4  449.98 1970-01-19\n",
       "3  W10         5  449.98 1970-01-26\n",
       "4  W10         6  449.98 1970-02-02"
      ]
     },
     "execution_count": 74,
     "metadata": {},
     "output_type": "execute_result"
    }
   ],
   "source": [
    "raw_df.head(5)"
   ]
  },
  {
   "cell_type": "code",
   "execution_count": 75,
   "metadata": {
    "ExecuteTime": {
     "end_time": "2020-01-26T14:24:24.166372Z",
     "start_time": "2020-01-26T14:24:24.163532Z"
    }
   },
   "outputs": [],
   "source": [
    "DATE_COL=\"date\"\n",
    "RESPONSE_COL=\"value\""
   ]
  },
  {
   "cell_type": "markdown",
   "metadata": {},
   "source": [
    "### Data Transformation"
   ]
  },
  {
   "cell_type": "code",
   "execution_count": 76,
   "metadata": {
    "ExecuteTime": {
     "end_time": "2020-01-26T14:24:25.034692Z",
     "start_time": "2020-01-26T14:24:25.032122Z"
    }
   },
   "outputs": [],
   "source": [
    "# df=raw_df.copy()\n",
    "# df2=raw_df.copy()\n",
    "# df[['claims', 'trend.unemploy', 'trend.filling', 'trend.job']] = \\\n",
    "#     df[['claims', 'trend.unemploy', 'trend.filling', 'trend.job']].apply(np.log, axis=1)\n",
    "# df.head(5)"
   ]
  },
  {
   "cell_type": "code",
   "execution_count": 77,
   "metadata": {
    "ExecuteTime": {
     "end_time": "2020-01-26T14:24:25.322690Z",
     "start_time": "2020-01-26T14:24:25.297113Z"
    }
   },
   "outputs": [
    {
     "data": {
      "text/html": [
       "<div>\n",
       "<style scoped>\n",
       "    .dataframe tbody tr th:only-of-type {\n",
       "        vertical-align: middle;\n",
       "    }\n",
       "\n",
       "    .dataframe tbody tr th {\n",
       "        vertical-align: top;\n",
       "    }\n",
       "\n",
       "    .dataframe thead th {\n",
       "        text-align: right;\n",
       "    }\n",
       "</style>\n",
       "<table border=\"1\" class=\"dataframe\">\n",
       "  <thead>\n",
       "    <tr style=\"text-align: right;\">\n",
       "      <th></th>\n",
       "      <th>key</th>\n",
       "      <th>week_num</th>\n",
       "      <th>value</th>\n",
       "      <th>date</th>\n",
       "    </tr>\n",
       "  </thead>\n",
       "  <tbody>\n",
       "    <tr>\n",
       "      <th>0</th>\n",
       "      <td>W10</td>\n",
       "      <td>2</td>\n",
       "      <td>5.509307</td>\n",
       "      <td>1970-01-05</td>\n",
       "    </tr>\n",
       "    <tr>\n",
       "      <th>1</th>\n",
       "      <td>W10</td>\n",
       "      <td>3</td>\n",
       "      <td>5.404028</td>\n",
       "      <td>1970-01-12</td>\n",
       "    </tr>\n",
       "    <tr>\n",
       "      <th>2</th>\n",
       "      <td>W10</td>\n",
       "      <td>4</td>\n",
       "      <td>6.109203</td>\n",
       "      <td>1970-01-19</td>\n",
       "    </tr>\n",
       "    <tr>\n",
       "      <th>3</th>\n",
       "      <td>W10</td>\n",
       "      <td>5</td>\n",
       "      <td>6.109203</td>\n",
       "      <td>1970-01-26</td>\n",
       "    </tr>\n",
       "    <tr>\n",
       "      <th>4</th>\n",
       "      <td>W10</td>\n",
       "      <td>6</td>\n",
       "      <td>6.109203</td>\n",
       "      <td>1970-02-02</td>\n",
       "    </tr>\n",
       "  </tbody>\n",
       "</table>\n",
       "</div>"
      ],
      "text/plain": [
       "   key  week_num     value       date\n",
       "0  W10         2  5.509307 1970-01-05\n",
       "1  W10         3  5.404028 1970-01-12\n",
       "2  W10         4  6.109203 1970-01-19\n",
       "3  W10         5  6.109203 1970-01-26\n",
       "4  W10         6  6.109203 1970-02-02"
      ]
     },
     "execution_count": 77,
     "metadata": {},
     "output_type": "execute_result"
    }
   ],
   "source": [
    "df=raw_df.copy()\n",
    "df2=raw_df.copy()\n",
    "df[['value']] = \\\n",
    "    df[['value']].apply(np.log, axis=1)\n",
    "df.head(5)"
   ]
  },
  {
   "cell_type": "markdown",
   "metadata": {},
   "source": [
    "### Train / Test Split"
   ]
  },
  {
   "cell_type": "code",
   "execution_count": 53,
   "metadata": {
    "ExecuteTime": {
     "end_time": "2020-01-26T05:18:35.398229Z",
     "start_time": "2020-01-26T05:18:35.395030Z"
    }
   },
   "outputs": [],
   "source": [
    "test_size=13\n",
    "train_df=df[:-test_size]\n",
    "\n",
    "# in uTS we make assertion that test dates need to be between train start/end\n",
    "test_df=df[-test_size:]"
   ]
  },
  {
   "cell_type": "code",
   "execution_count": 78,
   "metadata": {
    "ExecuteTime": {
     "end_time": "2020-01-26T14:24:32.929170Z",
     "start_time": "2020-01-26T14:24:32.923389Z"
    }
   },
   "outputs": [],
   "source": [
    "test_size=13\n",
    "train_df2=df2[:-test_size]\n",
    "\n",
    "# in uTS we make assertion that test dates need to be between train start/end\n",
    "test_df2=df2[-test_size:]"
   ]
  },
  {
   "cell_type": "code",
   "execution_count": 79,
   "metadata": {
    "ExecuteTime": {
     "end_time": "2020-01-26T14:24:33.384404Z",
     "start_time": "2020-01-26T14:24:33.372191Z"
    }
   },
   "outputs": [
    {
     "data": {
      "text/html": [
       "<div>\n",
       "<style scoped>\n",
       "    .dataframe tbody tr th:only-of-type {\n",
       "        vertical-align: middle;\n",
       "    }\n",
       "\n",
       "    .dataframe tbody tr th {\n",
       "        vertical-align: top;\n",
       "    }\n",
       "\n",
       "    .dataframe thead th {\n",
       "        text-align: right;\n",
       "    }\n",
       "</style>\n",
       "<table border=\"1\" class=\"dataframe\">\n",
       "  <thead>\n",
       "    <tr style=\"text-align: right;\">\n",
       "      <th></th>\n",
       "      <th>key</th>\n",
       "      <th>week_num</th>\n",
       "      <th>value</th>\n",
       "      <th>date</th>\n",
       "    </tr>\n",
       "  </thead>\n",
       "  <tbody>\n",
       "    <tr>\n",
       "      <th>0</th>\n",
       "      <td>W10</td>\n",
       "      <td>2</td>\n",
       "      <td>246.98</td>\n",
       "      <td>1970-01-05</td>\n",
       "    </tr>\n",
       "    <tr>\n",
       "      <th>1</th>\n",
       "      <td>W10</td>\n",
       "      <td>3</td>\n",
       "      <td>222.30</td>\n",
       "      <td>1970-01-12</td>\n",
       "    </tr>\n",
       "    <tr>\n",
       "      <th>2</th>\n",
       "      <td>W10</td>\n",
       "      <td>4</td>\n",
       "      <td>449.98</td>\n",
       "      <td>1970-01-19</td>\n",
       "    </tr>\n",
       "    <tr>\n",
       "      <th>3</th>\n",
       "      <td>W10</td>\n",
       "      <td>5</td>\n",
       "      <td>449.98</td>\n",
       "      <td>1970-01-26</td>\n",
       "    </tr>\n",
       "    <tr>\n",
       "      <th>4</th>\n",
       "      <td>W10</td>\n",
       "      <td>6</td>\n",
       "      <td>449.98</td>\n",
       "      <td>1970-02-02</td>\n",
       "    </tr>\n",
       "  </tbody>\n",
       "</table>\n",
       "</div>"
      ],
      "text/plain": [
       "   key  week_num   value       date\n",
       "0  W10         2  246.98 1970-01-05\n",
       "1  W10         3  222.30 1970-01-12\n",
       "2  W10         4  449.98 1970-01-19\n",
       "3  W10         5  449.98 1970-01-26\n",
       "4  W10         6  449.98 1970-02-02"
      ]
     },
     "execution_count": 79,
     "metadata": {},
     "output_type": "execute_result"
    }
   ],
   "source": [
    "train_df2.head(5)"
   ]
  },
  {
   "cell_type": "code",
   "execution_count": 80,
   "metadata": {
    "ExecuteTime": {
     "end_time": "2020-01-26T14:24:36.765819Z",
     "start_time": "2020-01-26T14:24:36.755125Z"
    }
   },
   "outputs": [
    {
     "data": {
      "text/html": [
       "<div>\n",
       "<style scoped>\n",
       "    .dataframe tbody tr th:only-of-type {\n",
       "        vertical-align: middle;\n",
       "    }\n",
       "\n",
       "    .dataframe tbody tr th {\n",
       "        vertical-align: top;\n",
       "    }\n",
       "\n",
       "    .dataframe thead th {\n",
       "        text-align: right;\n",
       "    }\n",
       "</style>\n",
       "<table border=\"1\" class=\"dataframe\">\n",
       "  <thead>\n",
       "    <tr style=\"text-align: right;\">\n",
       "      <th></th>\n",
       "      <th>key</th>\n",
       "      <th>week_num</th>\n",
       "      <th>value</th>\n",
       "      <th>date</th>\n",
       "    </tr>\n",
       "  </thead>\n",
       "  <tbody>\n",
       "    <tr>\n",
       "      <th>929</th>\n",
       "      <td>W10</td>\n",
       "      <td>931</td>\n",
       "      <td>5137.97</td>\n",
       "      <td>1987-10-26</td>\n",
       "    </tr>\n",
       "    <tr>\n",
       "      <th>930</th>\n",
       "      <td>W10</td>\n",
       "      <td>932</td>\n",
       "      <td>5122.14</td>\n",
       "      <td>1987-11-02</td>\n",
       "    </tr>\n",
       "    <tr>\n",
       "      <th>931</th>\n",
       "      <td>W10</td>\n",
       "      <td>933</td>\n",
       "      <td>5122.14</td>\n",
       "      <td>1987-11-09</td>\n",
       "    </tr>\n",
       "    <tr>\n",
       "      <th>932</th>\n",
       "      <td>W10</td>\n",
       "      <td>934</td>\n",
       "      <td>5122.14</td>\n",
       "      <td>1987-11-16</td>\n",
       "    </tr>\n",
       "    <tr>\n",
       "      <th>933</th>\n",
       "      <td>W10</td>\n",
       "      <td>935</td>\n",
       "      <td>5122.14</td>\n",
       "      <td>1987-11-23</td>\n",
       "    </tr>\n",
       "  </tbody>\n",
       "</table>\n",
       "</div>"
      ],
      "text/plain": [
       "     key  week_num    value       date\n",
       "929  W10       931  5137.97 1987-10-26\n",
       "930  W10       932  5122.14 1987-11-02\n",
       "931  W10       933  5122.14 1987-11-09\n",
       "932  W10       934  5122.14 1987-11-16\n",
       "933  W10       935  5122.14 1987-11-23"
      ]
     },
     "execution_count": 80,
     "metadata": {},
     "output_type": "execute_result"
    }
   ],
   "source": [
    "test_df2.tail(5)"
   ]
  },
  {
   "cell_type": "code",
   "execution_count": 57,
   "metadata": {
    "ExecuteTime": {
     "end_time": "2020-01-26T05:18:37.226398Z",
     "start_time": "2020-01-26T05:18:37.214495Z"
    }
   },
   "outputs": [
    {
     "data": {
      "text/html": [
       "<div>\n",
       "<style scoped>\n",
       "    .dataframe tbody tr th:only-of-type {\n",
       "        vertical-align: middle;\n",
       "    }\n",
       "\n",
       "    .dataframe tbody tr th {\n",
       "        vertical-align: top;\n",
       "    }\n",
       "\n",
       "    .dataframe thead th {\n",
       "        text-align: right;\n",
       "    }\n",
       "</style>\n",
       "<table border=\"1\" class=\"dataframe\">\n",
       "  <thead>\n",
       "    <tr style=\"text-align: right;\">\n",
       "      <th></th>\n",
       "      <th>key</th>\n",
       "      <th>week_num</th>\n",
       "      <th>value</th>\n",
       "      <th>date</th>\n",
       "    </tr>\n",
       "  </thead>\n",
       "  <tbody>\n",
       "    <tr>\n",
       "      <th>0</th>\n",
       "      <td>W10</td>\n",
       "      <td>2</td>\n",
       "      <td>5.509307</td>\n",
       "      <td>1970-01-05</td>\n",
       "    </tr>\n",
       "    <tr>\n",
       "      <th>1</th>\n",
       "      <td>W10</td>\n",
       "      <td>3</td>\n",
       "      <td>5.404028</td>\n",
       "      <td>1970-01-12</td>\n",
       "    </tr>\n",
       "    <tr>\n",
       "      <th>2</th>\n",
       "      <td>W10</td>\n",
       "      <td>4</td>\n",
       "      <td>6.109203</td>\n",
       "      <td>1970-01-19</td>\n",
       "    </tr>\n",
       "    <tr>\n",
       "      <th>3</th>\n",
       "      <td>W10</td>\n",
       "      <td>5</td>\n",
       "      <td>6.109203</td>\n",
       "      <td>1970-01-26</td>\n",
       "    </tr>\n",
       "    <tr>\n",
       "      <th>4</th>\n",
       "      <td>W10</td>\n",
       "      <td>6</td>\n",
       "      <td>6.109203</td>\n",
       "      <td>1970-02-02</td>\n",
       "    </tr>\n",
       "  </tbody>\n",
       "</table>\n",
       "</div>"
      ],
      "text/plain": [
       "   key  week_num     value       date\n",
       "0  W10         2  5.509307 1970-01-05\n",
       "1  W10         3  5.404028 1970-01-12\n",
       "2  W10         4  6.109203 1970-01-19\n",
       "3  W10         5  6.109203 1970-01-26\n",
       "4  W10         6  6.109203 1970-02-02"
      ]
     },
     "execution_count": 57,
     "metadata": {},
     "output_type": "execute_result"
    }
   ],
   "source": [
    "train_df.head(5)"
   ]
  },
  {
   "cell_type": "markdown",
   "metadata": {},
   "source": [
    "## MAP Fit and Predict"
   ]
  },
  {
   "cell_type": "code",
   "execution_count": 58,
   "metadata": {
    "ExecuteTime": {
     "end_time": "2020-01-26T05:18:38.176716Z",
     "start_time": "2020-01-26T05:18:38.172786Z"
    }
   },
   "outputs": [],
   "source": [
    "lgt_map=LGT(\n",
    "    response_col=RESPONSE_COL,\n",
    "    date_col=DATE_COL,\n",
    "    seasonality=52,\n",
    "    seed=8888,\n",
    "    predict_method='map',\n",
    "    is_rescale=False,\n",
    "    is_multiplicative=False\n",
    ")"
   ]
  },
  {
   "cell_type": "code",
   "execution_count": 59,
   "metadata": {
    "ExecuteTime": {
     "end_time": "2020-01-26T05:18:38.598676Z",
     "start_time": "2020-01-26T05:18:38.594918Z"
    }
   },
   "outputs": [],
   "source": [
    "lgt_map2=LGT(\n",
    "    response_col=RESPONSE_COL,\n",
    "    date_col=DATE_COL,\n",
    "    seasonality=52,\n",
    "    seed=8888,\n",
    "    predict_method='map',\n",
    "    is_rescale=False\n",
    ")"
   ]
  },
  {
   "cell_type": "code",
   "execution_count": 60,
   "metadata": {
    "ExecuteTime": {
     "end_time": "2020-01-26T05:18:39.713454Z",
     "start_time": "2020-01-26T05:18:39.097360Z"
    }
   },
   "outputs": [],
   "source": [
    "lgt_map.fit(df=train_df)"
   ]
  },
  {
   "cell_type": "code",
   "execution_count": 61,
   "metadata": {
    "ExecuteTime": {
     "end_time": "2020-01-26T05:18:40.350679Z",
     "start_time": "2020-01-26T05:18:39.714750Z"
    }
   },
   "outputs": [],
   "source": [
    "lgt_map2.fit(df=train_df2)"
   ]
  },
  {
   "cell_type": "code",
   "execution_count": 62,
   "metadata": {
    "ExecuteTime": {
     "end_time": "2020-01-26T05:18:40.362791Z",
     "start_time": "2020-01-26T05:18:40.352592Z"
    }
   },
   "outputs": [
    {
     "data": {
      "text/html": [
       "<div>\n",
       "<style scoped>\n",
       "    .dataframe tbody tr th:only-of-type {\n",
       "        vertical-align: middle;\n",
       "    }\n",
       "\n",
       "    .dataframe tbody tr th {\n",
       "        vertical-align: top;\n",
       "    }\n",
       "\n",
       "    .dataframe thead th {\n",
       "        text-align: right;\n",
       "    }\n",
       "</style>\n",
       "<table border=\"1\" class=\"dataframe\">\n",
       "  <thead>\n",
       "    <tr style=\"text-align: right;\">\n",
       "      <th></th>\n",
       "      <th>key</th>\n",
       "      <th>week_num</th>\n",
       "      <th>value</th>\n",
       "      <th>date</th>\n",
       "    </tr>\n",
       "  </thead>\n",
       "  <tbody>\n",
       "    <tr>\n",
       "      <th>0</th>\n",
       "      <td>W10</td>\n",
       "      <td>2</td>\n",
       "      <td>5.509307</td>\n",
       "      <td>1970-01-05</td>\n",
       "    </tr>\n",
       "    <tr>\n",
       "      <th>1</th>\n",
       "      <td>W10</td>\n",
       "      <td>3</td>\n",
       "      <td>5.404028</td>\n",
       "      <td>1970-01-12</td>\n",
       "    </tr>\n",
       "    <tr>\n",
       "      <th>2</th>\n",
       "      <td>W10</td>\n",
       "      <td>4</td>\n",
       "      <td>6.109203</td>\n",
       "      <td>1970-01-19</td>\n",
       "    </tr>\n",
       "    <tr>\n",
       "      <th>3</th>\n",
       "      <td>W10</td>\n",
       "      <td>5</td>\n",
       "      <td>6.109203</td>\n",
       "      <td>1970-01-26</td>\n",
       "    </tr>\n",
       "    <tr>\n",
       "      <th>4</th>\n",
       "      <td>W10</td>\n",
       "      <td>6</td>\n",
       "      <td>6.109203</td>\n",
       "      <td>1970-02-02</td>\n",
       "    </tr>\n",
       "  </tbody>\n",
       "</table>\n",
       "</div>"
      ],
      "text/plain": [
       "   key  week_num     value       date\n",
       "0  W10         2  5.509307 1970-01-05\n",
       "1  W10         3  5.404028 1970-01-12\n",
       "2  W10         4  6.109203 1970-01-19\n",
       "3  W10         5  6.109203 1970-01-26\n",
       "4  W10         6  6.109203 1970-02-02"
      ]
     },
     "execution_count": 62,
     "metadata": {},
     "output_type": "execute_result"
    }
   ],
   "source": [
    "lgt_map.df.head(5)"
   ]
  },
  {
   "cell_type": "code",
   "execution_count": 63,
   "metadata": {
    "ExecuteTime": {
     "end_time": "2020-01-26T05:18:40.657044Z",
     "start_time": "2020-01-26T05:18:40.645237Z"
    }
   },
   "outputs": [
    {
     "data": {
      "text/html": [
       "<div>\n",
       "<style scoped>\n",
       "    .dataframe tbody tr th:only-of-type {\n",
       "        vertical-align: middle;\n",
       "    }\n",
       "\n",
       "    .dataframe tbody tr th {\n",
       "        vertical-align: top;\n",
       "    }\n",
       "\n",
       "    .dataframe thead th {\n",
       "        text-align: right;\n",
       "    }\n",
       "</style>\n",
       "<table border=\"1\" class=\"dataframe\">\n",
       "  <thead>\n",
       "    <tr style=\"text-align: right;\">\n",
       "      <th></th>\n",
       "      <th>key</th>\n",
       "      <th>week_num</th>\n",
       "      <th>value</th>\n",
       "      <th>date</th>\n",
       "    </tr>\n",
       "  </thead>\n",
       "  <tbody>\n",
       "    <tr>\n",
       "      <th>0</th>\n",
       "      <td>W10</td>\n",
       "      <td>2</td>\n",
       "      <td>5.509307</td>\n",
       "      <td>1970-01-05</td>\n",
       "    </tr>\n",
       "    <tr>\n",
       "      <th>1</th>\n",
       "      <td>W10</td>\n",
       "      <td>3</td>\n",
       "      <td>5.404028</td>\n",
       "      <td>1970-01-12</td>\n",
       "    </tr>\n",
       "    <tr>\n",
       "      <th>2</th>\n",
       "      <td>W10</td>\n",
       "      <td>4</td>\n",
       "      <td>6.109203</td>\n",
       "      <td>1970-01-19</td>\n",
       "    </tr>\n",
       "    <tr>\n",
       "      <th>3</th>\n",
       "      <td>W10</td>\n",
       "      <td>5</td>\n",
       "      <td>6.109203</td>\n",
       "      <td>1970-01-26</td>\n",
       "    </tr>\n",
       "    <tr>\n",
       "      <th>4</th>\n",
       "      <td>W10</td>\n",
       "      <td>6</td>\n",
       "      <td>6.109203</td>\n",
       "      <td>1970-02-02</td>\n",
       "    </tr>\n",
       "  </tbody>\n",
       "</table>\n",
       "</div>"
      ],
      "text/plain": [
       "   key  week_num     value       date\n",
       "0  W10         2  5.509307 1970-01-05\n",
       "1  W10         3  5.404028 1970-01-12\n",
       "2  W10         4  6.109203 1970-01-19\n",
       "3  W10         5  6.109203 1970-01-26\n",
       "4  W10         6  6.109203 1970-02-02"
      ]
     },
     "execution_count": 63,
     "metadata": {},
     "output_type": "execute_result"
    }
   ],
   "source": [
    "lgt_map2.df.head(5)"
   ]
  },
  {
   "cell_type": "code",
   "execution_count": 64,
   "metadata": {
    "ExecuteTime": {
     "end_time": "2020-01-26T05:18:42.420801Z",
     "start_time": "2020-01-26T05:18:42.412166Z"
    }
   },
   "outputs": [],
   "source": [
    "predicted_df = lgt_map.predict(df=test_df)"
   ]
  },
  {
   "cell_type": "code",
   "execution_count": 65,
   "metadata": {
    "ExecuteTime": {
     "end_time": "2020-01-26T05:18:43.212935Z",
     "start_time": "2020-01-26T05:18:43.155681Z"
    },
    "scrolled": true
   },
   "outputs": [
    {
     "data": {
      "text/html": [
       "<div>\n",
       "<style scoped>\n",
       "    .dataframe tbody tr th:only-of-type {\n",
       "        vertical-align: middle;\n",
       "    }\n",
       "\n",
       "    .dataframe tbody tr th {\n",
       "        vertical-align: top;\n",
       "    }\n",
       "\n",
       "    .dataframe thead th {\n",
       "        text-align: right;\n",
       "    }\n",
       "</style>\n",
       "<table border=\"1\" class=\"dataframe\">\n",
       "  <thead>\n",
       "    <tr style=\"text-align: right;\">\n",
       "      <th></th>\n",
       "      <th>date</th>\n",
       "      <th>prediction</th>\n",
       "    </tr>\n",
       "  </thead>\n",
       "  <tbody>\n",
       "    <tr>\n",
       "      <th>0</th>\n",
       "      <td>1987-08-31</td>\n",
       "      <td>4837.289455</td>\n",
       "    </tr>\n",
       "    <tr>\n",
       "      <th>1</th>\n",
       "      <td>1987-09-07</td>\n",
       "      <td>4831.801959</td>\n",
       "    </tr>\n",
       "    <tr>\n",
       "      <th>2</th>\n",
       "      <td>1987-09-14</td>\n",
       "      <td>4819.337734</td>\n",
       "    </tr>\n",
       "    <tr>\n",
       "      <th>3</th>\n",
       "      <td>1987-09-21</td>\n",
       "      <td>4817.598294</td>\n",
       "    </tr>\n",
       "    <tr>\n",
       "      <th>4</th>\n",
       "      <td>1987-09-28</td>\n",
       "      <td>4816.137576</td>\n",
       "    </tr>\n",
       "  </tbody>\n",
       "</table>\n",
       "</div>"
      ],
      "text/plain": [
       "        date   prediction\n",
       "0 1987-08-31  4837.289455\n",
       "1 1987-09-07  4831.801959\n",
       "2 1987-09-14  4819.337734\n",
       "3 1987-09-21  4817.598294\n",
       "4 1987-09-28  4816.137576"
      ]
     },
     "execution_count": 65,
     "metadata": {},
     "output_type": "execute_result"
    }
   ],
   "source": [
    "predicted_df['prediction']=predicted_df['prediction'].apply(np.exp)\n",
    "predicted_df.head(5)"
   ]
  },
  {
   "cell_type": "code",
   "execution_count": 66,
   "metadata": {
    "ExecuteTime": {
     "end_time": "2020-01-26T05:18:46.664880Z",
     "start_time": "2020-01-26T05:18:46.648024Z"
    }
   },
   "outputs": [
    {
     "data": {
      "text/html": [
       "<div>\n",
       "<style scoped>\n",
       "    .dataframe tbody tr th:only-of-type {\n",
       "        vertical-align: middle;\n",
       "    }\n",
       "\n",
       "    .dataframe tbody tr th {\n",
       "        vertical-align: top;\n",
       "    }\n",
       "\n",
       "    .dataframe thead th {\n",
       "        text-align: right;\n",
       "    }\n",
       "</style>\n",
       "<table border=\"1\" class=\"dataframe\">\n",
       "  <thead>\n",
       "    <tr style=\"text-align: right;\">\n",
       "      <th></th>\n",
       "      <th>date</th>\n",
       "      <th>prediction</th>\n",
       "    </tr>\n",
       "  </thead>\n",
       "  <tbody>\n",
       "    <tr>\n",
       "      <th>0</th>\n",
       "      <td>1987-08-31</td>\n",
       "      <td>4837.289455</td>\n",
       "    </tr>\n",
       "    <tr>\n",
       "      <th>1</th>\n",
       "      <td>1987-09-07</td>\n",
       "      <td>4831.801959</td>\n",
       "    </tr>\n",
       "    <tr>\n",
       "      <th>2</th>\n",
       "      <td>1987-09-14</td>\n",
       "      <td>4819.337734</td>\n",
       "    </tr>\n",
       "    <tr>\n",
       "      <th>3</th>\n",
       "      <td>1987-09-21</td>\n",
       "      <td>4817.598294</td>\n",
       "    </tr>\n",
       "    <tr>\n",
       "      <th>4</th>\n",
       "      <td>1987-09-28</td>\n",
       "      <td>4816.137576</td>\n",
       "    </tr>\n",
       "  </tbody>\n",
       "</table>\n",
       "</div>"
      ],
      "text/plain": [
       "        date   prediction\n",
       "0 1987-08-31  4837.289455\n",
       "1 1987-09-07  4831.801959\n",
       "2 1987-09-14  4819.337734\n",
       "3 1987-09-21  4817.598294\n",
       "4 1987-09-28  4816.137576"
      ]
     },
     "execution_count": 66,
     "metadata": {},
     "output_type": "execute_result"
    }
   ],
   "source": [
    "predicted_df2 = lgt_map2.predict(df=test_df2)\n",
    "predicted_df2.head(5)"
   ]
  },
  {
   "cell_type": "code",
   "execution_count": 69,
   "metadata": {
    "ExecuteTime": {
     "end_time": "2020-01-26T05:20:33.541089Z",
     "start_time": "2020-01-26T05:20:33.235595Z"
    }
   },
   "outputs": [
    {
     "data": {
      "image/png": "[encoded data removed]",
      "text/plain": [
       "<Figure size 1152x576 with 1 Axes>"
      ]
     },
     "metadata": {
      "needs_background": "light"
     },
     "output_type": "display_data"
    }
   ],
   "source": [
    "plot_predicted_data(training_actual_df=train_df, predicted_df=predicted_df, \n",
    "                    date_col=lgt_map.date_col, actual_col=lgt_map.response_col, pred_col='prediction', \n",
    "                    test_actual_df=test_df)"
   ]
  },
  {
   "cell_type": "code",
   "execution_count": null,
   "metadata": {
    "ExecuteTime": {
     "end_time": "2020-01-26T02:17:57.224609Z",
     "start_time": "2020-01-26T02:17:57.214779Z"
    }
   },
   "outputs": [],
   "source": [
    "test_df.head(5)"
   ]
  },
  {
   "cell_type": "markdown",
   "metadata": {},
   "source": [
    "## MCMC Fit and Predict"
   ]
  },
  {
   "cell_type": "code",
   "execution_count": null,
   "metadata": {
    "ExecuteTime": {
     "end_time": "2020-01-26T02:17:57.985223Z",
     "start_time": "2020-01-26T02:17:57.981177Z"
    }
   },
   "outputs": [],
   "source": [
    "lgt_mcmc = LGT(\n",
    "    response_col='claims',\n",
    "    date_col='week',\n",
    "    seasonality=52,\n",
    "    num_warmup=4000, \n",
    "    num_sample=500,\n",
    "    sample_method='mcmc',\n",
    "    predict_method='full',\n",
    "    n_bootstrap_draws=500\n",
    ")"
   ]
  },
  {
   "cell_type": "code",
   "execution_count": null,
   "metadata": {
    "ExecuteTime": {
     "end_time": "2020-01-26T02:18:10.696049Z",
     "start_time": "2020-01-26T02:17:58.384021Z"
    }
   },
   "outputs": [],
   "source": [
    "lgt_mcmc.fit(df=train_df)"
   ]
  },
  {
   "cell_type": "code",
   "execution_count": null,
   "metadata": {
    "ExecuteTime": {
     "end_time": "2020-01-26T02:18:10.780447Z",
     "start_time": "2020-01-26T02:18:10.699274Z"
    }
   },
   "outputs": [],
   "source": [
    "predicted_df = lgt_mcmc.predict(df=test_df)"
   ]
  },
  {
   "cell_type": "code",
   "execution_count": null,
   "metadata": {
    "ExecuteTime": {
     "end_time": "2020-01-26T02:18:10.802611Z",
     "start_time": "2020-01-26T02:18:10.783673Z"
    },
    "scrolled": true
   },
   "outputs": [],
   "source": [
    "predicted_df.tail(5)"
   ]
  },
  {
   "cell_type": "code",
   "execution_count": null,
   "metadata": {
    "ExecuteTime": {
     "end_time": "2020-01-26T02:18:11.266613Z",
     "start_time": "2020-01-26T02:18:10.805908Z"
    }
   },
   "outputs": [],
   "source": [
    "plot_predicted_data(training_actual_df=train_df, predicted_df=predicted_df, \n",
    "                    date_col=lgt_mcmc.date_col, actual_col=lgt_mcmc.response_col, pred_col=50, \n",
    "                    pred_quantiles_col=[5,95], test_actual_df=test_df)"
   ]
  },
  {
   "cell_type": "markdown",
   "metadata": {},
   "source": [
    "## Mean Fit and Predict Decomp"
   ]
  },
  {
   "cell_type": "code",
   "execution_count": null,
   "metadata": {
    "ExecuteTime": {
     "end_time": "2020-01-26T02:18:11.273154Z",
     "start_time": "2020-01-26T02:18:11.269041Z"
    }
   },
   "outputs": [],
   "source": [
    "lgt_mean=LGT(\n",
    "    response_col='claims',\n",
    "    date_col='week',\n",
    "    seasonality=52,\n",
    "    seed=8888,\n",
    "    predict_method='mean'\n",
    ")"
   ]
  },
  {
   "cell_type": "code",
   "execution_count": null,
   "metadata": {
    "ExecuteTime": {
     "end_time": "2020-01-26T02:18:16.624053Z",
     "start_time": "2020-01-26T02:18:11.274987Z"
    }
   },
   "outputs": [],
   "source": [
    "lgt_mean.fit(df=train_df)"
   ]
  },
  {
   "cell_type": "code",
   "execution_count": null,
   "metadata": {
    "ExecuteTime": {
     "end_time": "2020-01-26T02:18:16.646856Z",
     "start_time": "2020-01-26T02:18:16.625728Z"
    }
   },
   "outputs": [],
   "source": [
    "predicted_df = lgt_mean.predict(df=test_df, decompose=True)"
   ]
  },
  {
   "cell_type": "code",
   "execution_count": null,
   "metadata": {
    "ExecuteTime": {
     "end_time": "2020-01-26T02:18:16.661258Z",
     "start_time": "2020-01-26T02:18:16.649180Z"
    },
    "scrolled": true
   },
   "outputs": [],
   "source": [
    "predicted_df.head(5)"
   ]
  },
  {
   "cell_type": "code",
   "execution_count": null,
   "metadata": {
    "ExecuteTime": {
     "end_time": "2020-01-26T02:18:16.984649Z",
     "start_time": "2020-01-26T02:18:16.663328Z"
    }
   },
   "outputs": [],
   "source": [
    "plot_predicted_data(training_actual_df=train_df, predicted_df=predicted_df, \n",
    "                    date_col=lgt_mean.date_col, actual_col=lgt_mean.response_col, pred_col='prediction', \n",
    "                    test_actual_df=test_df)"
   ]
  },
  {
   "cell_type": "markdown",
   "metadata": {},
   "source": [
    "## MAP Fit and Decomp with Regression"
   ]
  },
  {
   "cell_type": "code",
   "execution_count": null,
   "metadata": {
    "ExecuteTime": {
     "end_time": "2020-01-26T02:18:16.990851Z",
     "start_time": "2020-01-26T02:18:16.987171Z"
    }
   },
   "outputs": [],
   "source": [
    "lgt_reg=LGT(\n",
    "    response_col='claims',\n",
    "    regressor_col=['trend.unemploy', 'trend.filling'],\n",
    "    date_col='week',\n",
    "    seasonality=52,\n",
    "    seed=8888,\n",
    "    predict_method='map'\n",
    ")"
   ]
  },
  {
   "cell_type": "code",
   "execution_count": null,
   "metadata": {
    "ExecuteTime": {
     "end_time": "2020-01-26T02:18:17.211278Z",
     "start_time": "2020-01-26T02:18:16.992701Z"
    }
   },
   "outputs": [],
   "source": [
    "lgt_reg.fit(df=train_df)"
   ]
  },
  {
   "cell_type": "code",
   "execution_count": null,
   "metadata": {
    "ExecuteTime": {
     "end_time": "2020-01-26T02:18:17.230079Z",
     "start_time": "2020-01-26T02:18:17.212964Z"
    }
   },
   "outputs": [],
   "source": [
    "predicted_df = lgt_reg.predict(df=test_df, decompose=True)"
   ]
  },
  {
   "cell_type": "code",
   "execution_count": null,
   "metadata": {
    "ExecuteTime": {
     "end_time": "2020-01-26T02:18:17.241787Z",
     "start_time": "2020-01-26T02:18:17.231796Z"
    },
    "scrolled": true
   },
   "outputs": [],
   "source": [
    "predicted_df.head(5)"
   ]
  }
 ],
 "metadata": {
  "kernelspec": {
   "display_name": "Python 3",
   "language": "python",
   "name": "python3"
  },
  "language_info": {
   "codemirror_mode": {
    "name": "ipython",
    "version": 3
   },
   "file_extension": ".py",
   "mimetype": "text/x-python",
   "name": "python",
   "nbconvert_exporter": "python",
   "pygments_lexer": "ipython3",
   "version": "3.6.8"
  },
  "toc": {
   "base_numbering": 1,
   "nav_menu": {},
   "number_sections": true,
   "sideBar": true,
   "skip_h1_title": true,
   "title_cell": "Table of Contents",
   "title_sidebar": "Contents",
   "toc_cell": false,
   "toc_position": {},
   "toc_section_display": true,
   "toc_window_display": true
  }
 },
 "nbformat": 4,
 "nbformat_minor": 2
}
