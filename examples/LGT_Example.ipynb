{
 "cells": [
  {
   "cell_type": "markdown",
   "metadata": {},
   "source": [
    "# Local-Global-Trend(LGT) Example"
   ]
  },
  {
   "cell_type": "code",
   "execution_count": 1,
   "metadata": {
    "ExecuteTime": {
     "end_time": "2020-02-27T02:41:32.118559Z",
     "start_time": "2020-02-27T02:41:29.941472Z"
    }
   },
   "outputs": [],
   "source": [
    "import pandas as pd\n",
    "import numpy as np\n",
    "from orbit.lgt import LGT\n",
    "from orbit.utils.utils import plot_predicted_data"
   ]
  },
  {
   "cell_type": "markdown",
   "metadata": {},
   "source": [
    "## Data"
   ]
  },
  {
   "cell_type": "code",
   "execution_count": 2,
   "metadata": {
    "ExecuteTime": {
     "end_time": "2020-02-27T02:41:32.124103Z",
     "start_time": "2020-02-27T02:41:32.121002Z"
    }
   },
   "outputs": [],
   "source": [
    "DATA_FILE = \"./data/iclaims.example.csv\""
   ]
  },
  {
   "cell_type": "code",
   "execution_count": 3,
   "metadata": {
    "ExecuteTime": {
     "end_time": "2020-02-27T02:41:32.142297Z",
     "start_time": "2020-02-27T02:41:32.127546Z"
    }
   },
   "outputs": [],
   "source": [
    "raw_df = pd.read_csv(DATA_FILE, parse_dates=['week'])"
   ]
  },
  {
   "cell_type": "code",
   "execution_count": 4,
   "metadata": {
    "ExecuteTime": {
     "end_time": "2020-02-27T02:41:32.155078Z",
     "start_time": "2020-02-27T02:41:32.145468Z"
    }
   },
   "outputs": [
    {
     "data": {
      "text/plain": [
       "week              datetime64[ns]\n",
       "claims                     int64\n",
       "trend.unemploy           float64\n",
       "trend.filling            float64\n",
       "trend.job                float64\n",
       "dtype: object"
      ]
     },
     "execution_count": 4,
     "metadata": {},
     "output_type": "execute_result"
    }
   ],
   "source": [
    "raw_df.dtypes"
   ]
  },
  {
   "cell_type": "code",
   "execution_count": 5,
   "metadata": {
    "ExecuteTime": {
     "end_time": "2020-02-27T02:41:32.173724Z",
     "start_time": "2020-02-27T02:41:32.157916Z"
    }
   },
   "outputs": [
    {
     "data": {
      "text/html": [
       "<div>\n",
       "<style scoped>\n",
       "    .dataframe tbody tr th:only-of-type {\n",
       "        vertical-align: middle;\n",
       "    }\n",
       "\n",
       "    .dataframe tbody tr th {\n",
       "        vertical-align: top;\n",
       "    }\n",
       "\n",
       "    .dataframe thead th {\n",
       "        text-align: right;\n",
       "    }\n",
       "</style>\n",
       "<table border=\"1\" class=\"dataframe\">\n",
       "  <thead>\n",
       "    <tr style=\"text-align: right;\">\n",
       "      <th></th>\n",
       "      <th>week</th>\n",
       "      <th>claims</th>\n",
       "      <th>trend.unemploy</th>\n",
       "      <th>trend.filling</th>\n",
       "      <th>trend.job</th>\n",
       "    </tr>\n",
       "  </thead>\n",
       "  <tbody>\n",
       "    <tr>\n",
       "      <th>0</th>\n",
       "      <td>2010-01-03</td>\n",
       "      <td>651215</td>\n",
       "      <td>1.183973</td>\n",
       "      <td>0.720140</td>\n",
       "      <td>1.119669</td>\n",
       "    </tr>\n",
       "    <tr>\n",
       "      <th>1</th>\n",
       "      <td>2010-01-10</td>\n",
       "      <td>825891</td>\n",
       "      <td>1.183973</td>\n",
       "      <td>0.814896</td>\n",
       "      <td>1.178599</td>\n",
       "    </tr>\n",
       "    <tr>\n",
       "      <th>2</th>\n",
       "      <td>2010-01-17</td>\n",
       "      <td>659173</td>\n",
       "      <td>1.203382</td>\n",
       "      <td>0.739091</td>\n",
       "      <td>1.119669</td>\n",
       "    </tr>\n",
       "    <tr>\n",
       "      <th>3</th>\n",
       "      <td>2010-01-24</td>\n",
       "      <td>507651</td>\n",
       "      <td>1.164564</td>\n",
       "      <td>0.814896</td>\n",
       "      <td>1.107883</td>\n",
       "    </tr>\n",
       "    <tr>\n",
       "      <th>4</th>\n",
       "      <td>2010-01-31</td>\n",
       "      <td>538617</td>\n",
       "      <td>1.086926</td>\n",
       "      <td>0.776993</td>\n",
       "      <td>1.072525</td>\n",
       "    </tr>\n",
       "  </tbody>\n",
       "</table>\n",
       "</div>"
      ],
      "text/plain": [
       "        week  claims  trend.unemploy  trend.filling  trend.job\n",
       "0 2010-01-03  651215        1.183973       0.720140   1.119669\n",
       "1 2010-01-10  825891        1.183973       0.814896   1.178599\n",
       "2 2010-01-17  659173        1.203382       0.739091   1.119669\n",
       "3 2010-01-24  507651        1.164564       0.814896   1.107883\n",
       "4 2010-01-31  538617        1.086926       0.776993   1.072525"
      ]
     },
     "execution_count": 5,
     "metadata": {},
     "output_type": "execute_result"
    }
   ],
   "source": [
    "raw_df.head(5)"
   ]
  },
  {
   "cell_type": "markdown",
   "metadata": {},
   "source": [
    "### Train / Test Split"
   ]
  },
  {
   "cell_type": "code",
   "execution_count": 6,
   "metadata": {
    "ExecuteTime": {
     "end_time": "2020-02-27T02:41:32.181351Z",
     "start_time": "2020-02-27T02:41:32.176482Z"
    }
   },
   "outputs": [],
   "source": [
    "df=raw_df.copy()\n",
    "test_size=52\n",
    "train_df=df[:-test_size]\n",
    "\n",
    "# in uTS we make assertion that test dates need to be between train start/end\n",
    "test_df=df[-test_size:]"
   ]
  },
  {
   "cell_type": "code",
   "execution_count": 7,
   "metadata": {
    "ExecuteTime": {
     "end_time": "2020-02-27T02:41:32.195363Z",
     "start_time": "2020-02-27T02:41:32.183948Z"
    }
   },
   "outputs": [
    {
     "data": {
      "text/html": [
       "<div>\n",
       "<style scoped>\n",
       "    .dataframe tbody tr th:only-of-type {\n",
       "        vertical-align: middle;\n",
       "    }\n",
       "\n",
       "    .dataframe tbody tr th {\n",
       "        vertical-align: top;\n",
       "    }\n",
       "\n",
       "    .dataframe thead th {\n",
       "        text-align: right;\n",
       "    }\n",
       "</style>\n",
       "<table border=\"1\" class=\"dataframe\">\n",
       "  <thead>\n",
       "    <tr style=\"text-align: right;\">\n",
       "      <th></th>\n",
       "      <th>week</th>\n",
       "      <th>claims</th>\n",
       "      <th>trend.unemploy</th>\n",
       "      <th>trend.filling</th>\n",
       "      <th>trend.job</th>\n",
       "    </tr>\n",
       "  </thead>\n",
       "  <tbody>\n",
       "    <tr>\n",
       "      <th>0</th>\n",
       "      <td>2010-01-03</td>\n",
       "      <td>651215</td>\n",
       "      <td>1.183973</td>\n",
       "      <td>0.720140</td>\n",
       "      <td>1.119669</td>\n",
       "    </tr>\n",
       "    <tr>\n",
       "      <th>1</th>\n",
       "      <td>2010-01-10</td>\n",
       "      <td>825891</td>\n",
       "      <td>1.183973</td>\n",
       "      <td>0.814896</td>\n",
       "      <td>1.178599</td>\n",
       "    </tr>\n",
       "    <tr>\n",
       "      <th>2</th>\n",
       "      <td>2010-01-17</td>\n",
       "      <td>659173</td>\n",
       "      <td>1.203382</td>\n",
       "      <td>0.739091</td>\n",
       "      <td>1.119669</td>\n",
       "    </tr>\n",
       "    <tr>\n",
       "      <th>3</th>\n",
       "      <td>2010-01-24</td>\n",
       "      <td>507651</td>\n",
       "      <td>1.164564</td>\n",
       "      <td>0.814896</td>\n",
       "      <td>1.107883</td>\n",
       "    </tr>\n",
       "    <tr>\n",
       "      <th>4</th>\n",
       "      <td>2010-01-31</td>\n",
       "      <td>538617</td>\n",
       "      <td>1.086926</td>\n",
       "      <td>0.776993</td>\n",
       "      <td>1.072525</td>\n",
       "    </tr>\n",
       "  </tbody>\n",
       "</table>\n",
       "</div>"
      ],
      "text/plain": [
       "        week  claims  trend.unemploy  trend.filling  trend.job\n",
       "0 2010-01-03  651215        1.183973       0.720140   1.119669\n",
       "1 2010-01-10  825891        1.183973       0.814896   1.178599\n",
       "2 2010-01-17  659173        1.203382       0.739091   1.119669\n",
       "3 2010-01-24  507651        1.164564       0.814896   1.107883\n",
       "4 2010-01-31  538617        1.086926       0.776993   1.072525"
      ]
     },
     "execution_count": 7,
     "metadata": {},
     "output_type": "execute_result"
    }
   ],
   "source": [
    "train_df.head(5)"
   ]
  },
  {
   "cell_type": "markdown",
   "metadata": {},
   "source": [
    "## MAP Fit and Predict"
   ]
  },
  {
   "cell_type": "code",
   "execution_count": 8,
   "metadata": {
    "ExecuteTime": {
     "end_time": "2020-02-27T02:41:32.204281Z",
     "start_time": "2020-02-27T02:41:32.200378Z"
    }
   },
   "outputs": [],
   "source": [
    "lgt_map=LGT(\n",
    "    response_col=\"claims\",\n",
    "    date_col=\"week\",\n",
    "    seasonality=52,\n",
    "    seed=8888,\n",
    "    predict_method='map',\n",
    "    auto_scale=False,\n",
    "    is_multiplicative=True\n",
    ")"
   ]
  },
  {
   "cell_type": "code",
   "execution_count": 9,
   "metadata": {
    "ExecuteTime": {
     "end_time": "2020-02-27T02:41:32.211313Z",
     "start_time": "2020-02-27T02:41:32.207019Z"
    }
   },
   "outputs": [
    {
     "name": "stdout",
     "output_type": "stream",
     "text": [
      "NUM_OF_OBSERVATIONS\n",
      "RESPONSE\n",
      "SEASONALITY\n",
      "SEASONALITY_MIN\n",
      "SEASONALITY_MAX\n",
      "SEASONALITY_SMOOTHING_MIN\n",
      "SEASONALITY_SMOOTHING_MAX\n",
      "GLOBAL_TREND_COEF_MIN\n",
      "GLOBAL_TREND_COEF_MAX\n",
      "GLOBAL_TREND_POW_MIN\n",
      "GLOBAL_TREND_POW_MAX\n",
      "LOCAL_TREND_COEF_MIN\n",
      "LOCAL_TREND_COEF_MAX\n",
      "LEVEL_SMOOTHING_MIN\n",
      "LEVEL_SMOOTHING_MAX\n",
      "SLOPE_SMOOTHING_MIN\n",
      "SLOPE_SMOOTHING_MAX\n",
      "MIN_NU\n",
      "MAX_NU\n",
      "CAUCHY_SD\n",
      "FIX_REGRESSION_COEF_SD\n",
      "REGRESSOR_SIGMA_SD\n",
      "REGRESSION_COEF_MAX\n",
      "NUM_OF_POSITIVE_REGRESSORS\n",
      "POSITIVE_REGRESSOR_MATRIX\n",
      "POSITIVE_REGRESSOR_BETA_PRIOR\n",
      "POSITIVE_REGRESSOR_SIGMA_PRIOR\n",
      "NUM_OF_REGULAR_REGRESSORS\n",
      "REGULAR_REGRESSOR_MATRIX\n",
      "REGULAR_REGRESSOR_BETA_PRIOR\n",
      "REGULAR_REGRESSOR_SIGMA_PRIOR\n"
     ]
    }
   ],
   "source": [
    "# for x in lgt_map._stan_input_mapper:\n",
    "#     print(x)\n",
    "#     print(x.value)\n",
    "#     print(lgt_map._stan_input_mapper[x])\n",
    "\n",
    "# gg = lgt_map._stan_input_mapper\n",
    "# dict(lgt_map._stan_input_mapper)\n",
    "for key in lgt_map._stan_input_mapper.__members__.keys():\n",
    "    print(key)\n"
   ]
  },
  {
   "cell_type": "code",
   "execution_count": 10,
   "metadata": {
    "ExecuteTime": {
     "end_time": "2020-02-27T02:41:32.267828Z",
     "start_time": "2020-02-27T02:41:32.213825Z"
    }
   },
   "outputs": [
    {
     "ename": "ValueError",
     "evalue": "The truth value of an array with more than one element is ambiguous. Use a.any() or a.all()",
     "output_type": "error",
     "traceback": [
      "\u001b[0;31m---------------------------------------------------------------------------\u001b[0m",
      "\u001b[0;31mValueError\u001b[0m                                Traceback (most recent call last)",
      "\u001b[0;32m<ipython-input-10-89da16a0c9b9>\u001b[0m in \u001b[0;36m<module>\u001b[0;34m\u001b[0m\n\u001b[0;32m----> 1\u001b[0;31m \u001b[0mlgt_map\u001b[0m\u001b[0;34m.\u001b[0m\u001b[0mfit\u001b[0m\u001b[0;34m(\u001b[0m\u001b[0mdf\u001b[0m\u001b[0;34m=\u001b[0m\u001b[0mtrain_df\u001b[0m\u001b[0;34m)\u001b[0m\u001b[0;34m\u001b[0m\u001b[0;34m\u001b[0m\u001b[0m\n\u001b[0m",
      "\u001b[0;32m~/work/orbit-super/orbit/orbit/estimator.py\u001b[0m in \u001b[0;36mfit\u001b[0;34m(self, df)\u001b[0m\n\u001b[1;32m    283\u001b[0m         \u001b[0mself\u001b[0m\u001b[0;34m.\u001b[0m\u001b[0m_validate_params\u001b[0m\u001b[0;34m(\u001b[0m\u001b[0;34m)\u001b[0m\u001b[0;34m\u001b[0m\u001b[0;34m\u001b[0m\u001b[0m\n\u001b[1;32m    284\u001b[0m \u001b[0;34m\u001b[0m\u001b[0m\n\u001b[0;32m--> 285\u001b[0;31m         \u001b[0mself\u001b[0m\u001b[0;34m.\u001b[0m\u001b[0m_convert_to_stan_inputs\u001b[0m\u001b[0;34m(\u001b[0m\u001b[0;34m)\u001b[0m\u001b[0;34m\u001b[0m\u001b[0;34m\u001b[0m\u001b[0m\n\u001b[0m\u001b[1;32m    286\u001b[0m \u001b[0;34m\u001b[0m\u001b[0m\n\u001b[1;32m    287\u001b[0m         \u001b[0;31m# stan model parameters\u001b[0m\u001b[0;34m\u001b[0m\u001b[0;34m\u001b[0m\u001b[0;34m\u001b[0m\u001b[0m\n",
      "\u001b[0;32m~/work/orbit-super/orbit/orbit/estimator.py\u001b[0m in \u001b[0;36m_convert_to_stan_inputs\u001b[0;34m(self)\u001b[0m\n\u001b[1;32m    635\u001b[0m             \u001b[0mkey_lower\u001b[0m \u001b[0;34m=\u001b[0m \u001b[0mkey\u001b[0m\u001b[0;34m.\u001b[0m\u001b[0mlower\u001b[0m\u001b[0;34m(\u001b[0m\u001b[0;34m)\u001b[0m\u001b[0;34m\u001b[0m\u001b[0;34m\u001b[0m\u001b[0m\n\u001b[1;32m    636\u001b[0m             \u001b[0minput_value\u001b[0m \u001b[0;34m=\u001b[0m \u001b[0mgetattr\u001b[0m\u001b[0;34m(\u001b[0m\u001b[0mself\u001b[0m\u001b[0;34m,\u001b[0m \u001b[0mkey\u001b[0m\u001b[0;34m.\u001b[0m\u001b[0mlower\u001b[0m\u001b[0;34m(\u001b[0m\u001b[0;34m)\u001b[0m\u001b[0;34m,\u001b[0m \u001b[0;32mNone\u001b[0m\u001b[0;34m)\u001b[0m\u001b[0;34m\u001b[0m\u001b[0;34m\u001b[0m\u001b[0m\n\u001b[0;32m--> 637\u001b[0;31m             \u001b[0;32mif\u001b[0m \u001b[0;32mnot\u001b[0m \u001b[0minput_value\u001b[0m\u001b[0;34m:\u001b[0m\u001b[0;34m\u001b[0m\u001b[0;34m\u001b[0m\u001b[0m\n\u001b[0m\u001b[1;32m    638\u001b[0m                 \u001b[0;32mraise\u001b[0m \u001b[0mIllegalArgument\u001b[0m\u001b[0;34m(\u001b[0m\u001b[0;34m'Argument {} is not found in inputs'\u001b[0m\u001b[0;34m.\u001b[0m\u001b[0mformat\u001b[0m\u001b[0;34m(\u001b[0m\u001b[0mkey_lower\u001b[0m\u001b[0;34m)\u001b[0m\u001b[0;34m)\u001b[0m\u001b[0;34m\u001b[0m\u001b[0;34m\u001b[0m\u001b[0m\n\u001b[1;32m    639\u001b[0m             \u001b[0mstan_inputs\u001b[0m\u001b[0;34m[\u001b[0m\u001b[0mself\u001b[0m\u001b[0;34m.\u001b[0m\u001b[0m_stan_input_mapper\u001b[0m\u001b[0;34m[\u001b[0m\u001b[0mkey\u001b[0m\u001b[0;34m]\u001b[0m\u001b[0;34m.\u001b[0m\u001b[0mvalue\u001b[0m\u001b[0;34m]\u001b[0m \u001b[0;34m=\u001b[0m \u001b[0minput_value\u001b[0m\u001b[0;34m\u001b[0m\u001b[0;34m\u001b[0m\u001b[0m\n",
      "\u001b[0;31mValueError\u001b[0m: The truth value of an array with more than one element is ambiguous. Use a.any() or a.all()"
     ]
    }
   ],
   "source": [
    "lgt_map.fit(df=train_df)"
   ]
  },
  {
   "cell_type": "code",
   "execution_count": null,
   "metadata": {
    "ExecuteTime": {
     "end_time": "2020-02-27T02:41:32.270729Z",
     "start_time": "2020-02-27T02:41:32.142Z"
    }
   },
   "outputs": [],
   "source": [
    "predicted_df = lgt_map.predict(df=test_df)"
   ]
  },
  {
   "cell_type": "code",
   "execution_count": 11,
   "metadata": {
    "ExecuteTime": {
     "end_time": "2020-02-27T02:41:32.692591Z",
     "start_time": "2020-02-27T02:41:32.679237Z"
    }
   },
   "outputs": [
    {
     "ename": "NameError",
     "evalue": "name 'predicted_df' is not defined",
     "output_type": "error",
     "traceback": [
      "\u001b[0;31m---------------------------------------------------------------------------\u001b[0m",
      "\u001b[0;31mNameError\u001b[0m                                 Traceback (most recent call last)",
      "\u001b[0;32m<ipython-input-11-fe94dcb6d011>\u001b[0m in \u001b[0;36m<module>\u001b[0;34m\u001b[0m\n\u001b[0;32m----> 1\u001b[0;31m plot_predicted_data(training_actual_df=train_df, predicted_df=predicted_df, \n\u001b[0m\u001b[1;32m      2\u001b[0m                     \u001b[0mdate_col\u001b[0m\u001b[0;34m=\u001b[0m\u001b[0mlgt_map\u001b[0m\u001b[0;34m.\u001b[0m\u001b[0mdate_col\u001b[0m\u001b[0;34m,\u001b[0m \u001b[0mactual_col\u001b[0m\u001b[0;34m=\u001b[0m\u001b[0mlgt_map\u001b[0m\u001b[0;34m.\u001b[0m\u001b[0mresponse_col\u001b[0m\u001b[0;34m,\u001b[0m \u001b[0mpred_col\u001b[0m\u001b[0;34m=\u001b[0m\u001b[0;34m'prediction'\u001b[0m\u001b[0;34m,\u001b[0m\u001b[0;34m\u001b[0m\u001b[0;34m\u001b[0m\u001b[0m\n\u001b[1;32m      3\u001b[0m                     test_actual_df=test_df)\n",
      "\u001b[0;31mNameError\u001b[0m: name 'predicted_df' is not defined"
     ]
    }
   ],
   "source": [
    "plot_predicted_data(training_actual_df=train_df, predicted_df=predicted_df, \n",
    "                    date_col=lgt_map.date_col, actual_col=lgt_map.response_col, pred_col='prediction', \n",
    "                    test_actual_df=test_df)"
   ]
  },
  {
   "cell_type": "code",
   "execution_count": 12,
   "metadata": {
    "ExecuteTime": {
     "end_time": "2020-02-27T02:41:33.462075Z",
     "start_time": "2020-02-27T02:41:33.450906Z"
    }
   },
   "outputs": [
    {
     "data": {
      "text/html": [
       "<div>\n",
       "<style scoped>\n",
       "    .dataframe tbody tr th:only-of-type {\n",
       "        vertical-align: middle;\n",
       "    }\n",
       "\n",
       "    .dataframe tbody tr th {\n",
       "        vertical-align: top;\n",
       "    }\n",
       "\n",
       "    .dataframe thead th {\n",
       "        text-align: right;\n",
       "    }\n",
       "</style>\n",
       "<table border=\"1\" class=\"dataframe\">\n",
       "  <thead>\n",
       "    <tr style=\"text-align: right;\">\n",
       "      <th></th>\n",
       "      <th>week</th>\n",
       "      <th>claims</th>\n",
       "      <th>trend.unemploy</th>\n",
       "      <th>trend.filling</th>\n",
       "      <th>trend.job</th>\n",
       "    </tr>\n",
       "  </thead>\n",
       "  <tbody>\n",
       "    <tr>\n",
       "      <th>391</th>\n",
       "      <td>2017-07-02</td>\n",
       "      <td>252886</td>\n",
       "      <td>1.183973</td>\n",
       "      <td>1.099162</td>\n",
       "      <td>0.919307</td>\n",
       "    </tr>\n",
       "    <tr>\n",
       "      <th>392</th>\n",
       "      <td>2017-07-09</td>\n",
       "      <td>284329</td>\n",
       "      <td>1.222792</td>\n",
       "      <td>1.023357</td>\n",
       "      <td>1.025381</td>\n",
       "    </tr>\n",
       "    <tr>\n",
       "      <th>393</th>\n",
       "      <td>2017-07-16</td>\n",
       "      <td>257763</td>\n",
       "      <td>1.145154</td>\n",
       "      <td>1.061259</td>\n",
       "      <td>0.990023</td>\n",
       "    </tr>\n",
       "    <tr>\n",
       "      <th>394</th>\n",
       "      <td>2017-07-23</td>\n",
       "      <td>220455</td>\n",
       "      <td>1.125745</td>\n",
       "      <td>1.023357</td>\n",
       "      <td>1.025381</td>\n",
       "    </tr>\n",
       "    <tr>\n",
       "      <th>395</th>\n",
       "      <td>2017-07-30</td>\n",
       "      <td>198776</td>\n",
       "      <td>1.145154</td>\n",
       "      <td>1.042308</td>\n",
       "      <td>1.048953</td>\n",
       "    </tr>\n",
       "  </tbody>\n",
       "</table>\n",
       "</div>"
      ],
      "text/plain": [
       "          week  claims  trend.unemploy  trend.filling  trend.job\n",
       "391 2017-07-02  252886        1.183973       1.099162   0.919307\n",
       "392 2017-07-09  284329        1.222792       1.023357   1.025381\n",
       "393 2017-07-16  257763        1.145154       1.061259   0.990023\n",
       "394 2017-07-23  220455        1.125745       1.023357   1.025381\n",
       "395 2017-07-30  198776        1.145154       1.042308   1.048953"
      ]
     },
     "execution_count": 12,
     "metadata": {},
     "output_type": "execute_result"
    }
   ],
   "source": [
    "test_df.head(5)"
   ]
  },
  {
   "cell_type": "markdown",
   "metadata": {},
   "source": [
    "## MCMC Fit and Predict"
   ]
  },
  {
   "cell_type": "code",
   "execution_count": null,
   "metadata": {
    "ExecuteTime": {
     "end_time": "2020-02-26T05:27:02.871868Z",
     "start_time": "2020-02-26T05:27:02.867962Z"
    }
   },
   "outputs": [],
   "source": [
    "lgt_mcmc = LGT(\n",
    "    response_col='claims',\n",
    "    date_col='week',\n",
    "    seasonality=52,\n",
    "    num_warmup=4000, \n",
    "    num_sample=500,\n",
    "    sample_method='mcmc',\n",
    "    predict_method='full',\n",
    "    n_bootstrap_draws=500\n",
    ")"
   ]
  },
  {
   "cell_type": "code",
   "execution_count": null,
   "metadata": {
    "ExecuteTime": {
     "end_time": "2020-02-26T05:27:28.921494Z",
     "start_time": "2020-02-26T05:27:03.068816Z"
    }
   },
   "outputs": [],
   "source": [
    "lgt_mcmc.fit(df=train_df)"
   ]
  },
  {
   "cell_type": "code",
   "execution_count": null,
   "metadata": {
    "ExecuteTime": {
     "end_time": "2020-02-26T05:27:29.015242Z",
     "start_time": "2020-02-26T05:27:28.925687Z"
    }
   },
   "outputs": [],
   "source": [
    "predicted_df = lgt_mcmc.predict(df=test_df)"
   ]
  },
  {
   "cell_type": "code",
   "execution_count": null,
   "metadata": {
    "ExecuteTime": {
     "end_time": "2020-02-26T05:27:29.034365Z",
     "start_time": "2020-02-26T05:27:29.018825Z"
    },
    "scrolled": true
   },
   "outputs": [],
   "source": [
    "predicted_df.tail(5)"
   ]
  },
  {
   "cell_type": "code",
   "execution_count": null,
   "metadata": {
    "ExecuteTime": {
     "end_time": "2020-02-26T05:27:29.434344Z",
     "start_time": "2020-02-26T05:27:29.038081Z"
    }
   },
   "outputs": [],
   "source": [
    "plot_predicted_data(training_actual_df=train_df, predicted_df=predicted_df, \n",
    "                    date_col=lgt_mcmc.date_col, actual_col=lgt_mcmc.response_col, pred_col=50, \n",
    "                    pred_quantiles_col=[5,95], test_actual_df=test_df)"
   ]
  },
  {
   "cell_type": "markdown",
   "metadata": {},
   "source": [
    "## Mean Fit and Predict Decomp"
   ]
  },
  {
   "cell_type": "code",
   "execution_count": null,
   "metadata": {
    "ExecuteTime": {
     "end_time": "2020-02-26T05:27:29.439793Z",
     "start_time": "2020-02-26T05:27:29.436211Z"
    }
   },
   "outputs": [],
   "source": [
    "lgt_mean=LGT(\n",
    "    response_col='claims',\n",
    "    date_col='week',\n",
    "    seasonality=52,\n",
    "    seed=8888,\n",
    "    predict_method='mean'\n",
    ")"
   ]
  },
  {
   "cell_type": "code",
   "execution_count": null,
   "metadata": {
    "ExecuteTime": {
     "end_time": "2020-02-26T05:27:39.522479Z",
     "start_time": "2020-02-26T05:27:29.442456Z"
    }
   },
   "outputs": [],
   "source": [
    "lgt_mean.fit(df=train_df)"
   ]
  },
  {
   "cell_type": "code",
   "execution_count": null,
   "metadata": {
    "ExecuteTime": {
     "end_time": "2020-02-26T05:27:39.551262Z",
     "start_time": "2020-02-26T05:27:39.526026Z"
    }
   },
   "outputs": [],
   "source": [
    "predicted_df = lgt_mean.predict(df=test_df, decompose=True)"
   ]
  },
  {
   "cell_type": "code",
   "execution_count": null,
   "metadata": {
    "ExecuteTime": {
     "end_time": "2020-02-26T05:27:39.577047Z",
     "start_time": "2020-02-26T05:27:39.557612Z"
    },
    "scrolled": true
   },
   "outputs": [],
   "source": [
    "predicted_df.head(5)"
   ]
  },
  {
   "cell_type": "code",
   "execution_count": null,
   "metadata": {
    "ExecuteTime": {
     "end_time": "2020-02-26T05:27:39.979619Z",
     "start_time": "2020-02-26T05:27:39.580457Z"
    }
   },
   "outputs": [],
   "source": [
    "plot_predicted_data(training_actual_df=train_df, predicted_df=predicted_df, \n",
    "                    date_col=lgt_mean.date_col, actual_col=lgt_mean.response_col, pred_col='prediction', \n",
    "                    test_actual_df=test_df)"
   ]
  },
  {
   "cell_type": "markdown",
   "metadata": {},
   "source": [
    "## MAP Fit and Decomp with Regression"
   ]
  },
  {
   "cell_type": "code",
   "execution_count": null,
   "metadata": {
    "ExecuteTime": {
     "end_time": "2020-02-26T05:27:39.986246Z",
     "start_time": "2020-02-26T05:27:39.981815Z"
    }
   },
   "outputs": [],
   "source": [
    "lgt_reg=LGT(\n",
    "    response_col='claims',\n",
    "    regressor_col=['trend.unemploy', 'trend.filling'],\n",
    "    date_col='week',\n",
    "    seasonality=52,\n",
    "    seed=8888,\n",
    "    predict_method='map'\n",
    ")"
   ]
  },
  {
   "cell_type": "code",
   "execution_count": null,
   "metadata": {
    "ExecuteTime": {
     "end_time": "2020-02-26T05:27:40.307869Z",
     "start_time": "2020-02-26T05:27:39.989038Z"
    }
   },
   "outputs": [],
   "source": [
    "lgt_reg.fit(df=train_df)"
   ]
  },
  {
   "cell_type": "code",
   "execution_count": null,
   "metadata": {
    "ExecuteTime": {
     "end_time": "2020-02-26T05:27:40.329881Z",
     "start_time": "2020-02-26T05:27:40.309629Z"
    }
   },
   "outputs": [],
   "source": [
    "predicted_df = lgt_reg.predict(df=test_df, decompose=True)"
   ]
  },
  {
   "cell_type": "code",
   "execution_count": null,
   "metadata": {
    "ExecuteTime": {
     "end_time": "2020-02-26T05:27:40.344952Z",
     "start_time": "2020-02-26T05:27:40.331900Z"
    },
    "scrolled": true
   },
   "outputs": [],
   "source": [
    "predicted_df.head(5)"
   ]
  },
  {
   "cell_type": "code",
   "execution_count": null,
   "metadata": {},
   "outputs": [],
   "source": []
  }
 ],
 "metadata": {
  "kernelspec": {
   "display_name": "Python 3",
   "language": "python",
   "name": "python3"
  },
  "language_info": {
   "codemirror_mode": {
    "name": "ipython",
    "version": 3
   },
   "file_extension": ".py",
   "mimetype": "text/x-python",
   "name": "python",
   "nbconvert_exporter": "python",
   "pygments_lexer": "ipython3",
   "version": "3.6.8"
  },
  "toc": {
   "base_numbering": 1,
   "nav_menu": {},
   "number_sections": true,
   "sideBar": true,
   "skip_h1_title": true,
   "title_cell": "Table of Contents",
   "title_sidebar": "Contents",
   "toc_cell": false,
   "toc_position": {},
   "toc_section_display": true,
   "toc_window_display": true
  }
 },
 "nbformat": 4,
 "nbformat_minor": 2
}
